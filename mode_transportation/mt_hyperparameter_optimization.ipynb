{
 "cells": [
  {
   "cell_type": "markdown",
   "metadata": {
    "id": "FVsBlLTUqH4o"
   },
   "source": [
    "# Hyperparameter selection"
   ]
  },
  {
   "cell_type": "markdown",
   "metadata": {
    "id": "2dHmjEAJqSAm"
   },
   "source": [
    "## 0 Libraries, functions"
   ]
  },
  {
   "cell_type": "code",
   "execution_count": 24,
   "metadata": {
    "colab": {
     "base_uri": "https://localhost:8080/"
    },
    "executionInfo": {
     "elapsed": 7618,
     "status": "ok",
     "timestamp": 1694544709066,
     "user": {
      "displayName": "April Itriago",
      "userId": "10552117681411633732"
     },
     "user_tz": -120
    },
    "id": "lv9MBRz5KlOJ",
    "outputId": "857e6588-b7a1-4228-d740-9a8091409b3c"
   },
   "outputs": [
    {
     "name": "stdout",
     "output_type": "stream",
     "text": [
      "Requirement already satisfied: xgboost in /Library/Frameworks/Python.framework/Versions/3.11/lib/python3.11/site-packages (1.7.5)\n",
      "Requirement already satisfied: numpy in /Library/Frameworks/Python.framework/Versions/3.11/lib/python3.11/site-packages (from xgboost) (1.23.5)\n",
      "Requirement already satisfied: scipy in /Library/Frameworks/Python.framework/Versions/3.11/lib/python3.11/site-packages (from xgboost) (1.9.3)\n",
      "Requirement already satisfied: lightgbm in /Library/Frameworks/Python.framework/Versions/3.11/lib/python3.11/site-packages (3.3.5)\n",
      "Requirement already satisfied: wheel in /Library/Frameworks/Python.framework/Versions/3.11/lib/python3.11/site-packages (from lightgbm) (0.40.0)\n",
      "Requirement already satisfied: numpy in /Library/Frameworks/Python.framework/Versions/3.11/lib/python3.11/site-packages (from lightgbm) (1.23.5)\n",
      "Requirement already satisfied: scipy in /Library/Frameworks/Python.framework/Versions/3.11/lib/python3.11/site-packages (from lightgbm) (1.9.3)\n",
      "Requirement already satisfied: scikit-learn!=0.22.0 in /Library/Frameworks/Python.framework/Versions/3.11/lib/python3.11/site-packages (from lightgbm) (1.2.2)\n",
      "Requirement already satisfied: joblib>=1.1.1 in /Library/Frameworks/Python.framework/Versions/3.11/lib/python3.11/site-packages (from scikit-learn!=0.22.0->lightgbm) (1.1.1)\n",
      "Requirement already satisfied: threadpoolctl>=2.0.0 in /Library/Frameworks/Python.framework/Versions/3.11/lib/python3.11/site-packages (from scikit-learn!=0.22.0->lightgbm) (3.1.0)\n",
      "Requirement already satisfied: shap in /Library/Frameworks/Python.framework/Versions/3.11/lib/python3.11/site-packages (0.42.1)\n",
      "Requirement already satisfied: numpy in /Library/Frameworks/Python.framework/Versions/3.11/lib/python3.11/site-packages (from shap) (1.23.5)\n",
      "Requirement already satisfied: scipy in /Library/Frameworks/Python.framework/Versions/3.11/lib/python3.11/site-packages (from shap) (1.9.3)\n",
      "Requirement already satisfied: scikit-learn in /Library/Frameworks/Python.framework/Versions/3.11/lib/python3.11/site-packages (from shap) (1.2.2)\n",
      "Requirement already satisfied: pandas in /Library/Frameworks/Python.framework/Versions/3.11/lib/python3.11/site-packages (from shap) (1.5.3)\n",
      "Requirement already satisfied: tqdm>=4.27.0 in /Library/Frameworks/Python.framework/Versions/3.11/lib/python3.11/site-packages (from shap) (4.64.1)\n",
      "Requirement already satisfied: packaging>20.9 in /Library/Frameworks/Python.framework/Versions/3.11/lib/python3.11/site-packages (from shap) (23.0)\n",
      "Requirement already satisfied: slicer==0.0.7 in /Library/Frameworks/Python.framework/Versions/3.11/lib/python3.11/site-packages (from shap) (0.0.7)\n",
      "Requirement already satisfied: numba in /Library/Frameworks/Python.framework/Versions/3.11/lib/python3.11/site-packages (from shap) (0.57.1)\n",
      "Requirement already satisfied: cloudpickle in /Library/Frameworks/Python.framework/Versions/3.11/lib/python3.11/site-packages (from shap) (2.2.1)\n",
      "Requirement already satisfied: llvmlite<0.41,>=0.40.0dev0 in /Library/Frameworks/Python.framework/Versions/3.11/lib/python3.11/site-packages (from numba->shap) (0.40.1)\n",
      "Requirement already satisfied: python-dateutil>=2.8.1 in /Library/Frameworks/Python.framework/Versions/3.11/lib/python3.11/site-packages (from pandas->shap) (2.8.2)\n",
      "Requirement already satisfied: pytz>=2020.1 in /Library/Frameworks/Python.framework/Versions/3.11/lib/python3.11/site-packages (from pandas->shap) (2022.7.1)\n",
      "Requirement already satisfied: joblib>=1.1.1 in /Library/Frameworks/Python.framework/Versions/3.11/lib/python3.11/site-packages (from scikit-learn->shap) (1.1.1)\n",
      "Requirement already satisfied: threadpoolctl>=2.0.0 in /Library/Frameworks/Python.framework/Versions/3.11/lib/python3.11/site-packages (from scikit-learn->shap) (3.1.0)\n",
      "Requirement already satisfied: six>=1.5 in /Library/Frameworks/Python.framework/Versions/3.11/lib/python3.11/site-packages (from python-dateutil>=2.8.1->pandas->shap) (1.12.0)\n"
     ]
    }
   ],
   "source": [
    "! pip install xgboost\n",
    "! pip install lightgbm\n",
    "! pip install shap"
   ]
  },
  {
   "cell_type": "code",
   "execution_count": 25,
   "metadata": {
    "executionInfo": {
     "elapsed": 7,
     "status": "ok",
     "timestamp": 1694544716487,
     "user": {
      "displayName": "April Itriago",
      "userId": "10552117681411633732"
     },
     "user_tz": -120
    },
    "id": "FjeJ6osOo_8j"
   },
   "outputs": [],
   "source": [
    "import numpy as np\n",
    "import pandas as pd\n",
    "from scipy.special import comb\n",
    "\n",
    "# Feature importance\n",
    "#import shap\n",
    "\n",
    "from sklearn.datasets import load_breast_cancer\n",
    "from sklearn.linear_model import LogisticRegression\n",
    "from sklearn.metrics import accuracy_score, f1_score\n",
    "\n",
    "from sklearn.model_selection import (\n",
    "    StratifiedKFold,\n",
    "    train_test_split,\n",
    "    GridSearchCV,\n",
    "    cross_val_score,\n",
    "    cross_validate,\n",
    "    KFold,\n",
    ")\n",
    "\n",
    "# Models\n",
    "from sklearn.ensemble import ExtraTreesClassifier, RandomForestClassifier\n",
    "from sklearn.datasets import make_classification\n",
    "import xgboost as xgb\n",
    "import lightgbm as lgb\n",
    "from lightgbm import LGBMClassifier\n",
    "from sklearn.tree import DecisionTreeClassifier\n",
    "# for metrics\n",
    "from sklearn.metrics import (\n",
    "    precision_recall_fscore_support,\n",
    "    accuracy_score,\n",
    "    balanced_accuracy_score,\n",
    "    make_scorer, f1_score\n",
    ")\n",
    "\n",
    "#plot\n",
    "import matplotlib.pyplot as plt\n",
    "import plotly.graph_objects as go\n",
    "\n",
    "\n"
   ]
  },
  {
   "cell_type": "markdown",
   "metadata": {
    "id": "QzY6EGmsvuJg"
   },
   "source": [
    "### 0.2 Functions"
   ]
  },
  {
   "cell_type": "code",
   "execution_count": 26,
   "metadata": {
    "executionInfo": {
     "elapsed": 4,
     "status": "ok",
     "timestamp": 1694544720659,
     "user": {
      "displayName": "April Itriago",
      "userId": "10552117681411633732"
     },
     "user_tz": -120
    },
    "id": "yi0gyhTtv3fC"
   },
   "outputs": [],
   "source": [
    "title_color = '#7A8287'\n",
    "light_grey = '#D3D3D3'\n",
    "basic_grey = '#A1A1A1'\n",
    "\n",
    "# Aesthetic function use for all the plots\n",
    "def aesthetics(fig, title=None, title_size=None, xaxis_title=None, yaxis_title=None, title_x=None, title_y=None, width=None):\n",
    "    # Colors and other aesthetics\n",
    "    title_color = 'black'\n",
    "    basic_grey = '#A9A9A9'\n",
    "    light_grey = '#D3D3D3'\n",
    "\n",
    "    # Update layout\n",
    "    fig.update_layout(\n",
    "        title_text=title, title_font=dict(color=title_color, size=title_size),\n",
    "        title_x=title_x, title_y=title_y,\n",
    "        plot_bgcolor='rgba(255,255,255,1)', paper_bgcolor='rgba(255,255,255,1)',\n",
    "        font=dict(color=basic_grey),\n",
    "        xaxis_title=xaxis_title, yaxis_title=yaxis_title,\n",
    "        xaxis=dict(showgrid=False, zeroline=False, showline=True, linewidth=1, linecolor=light_grey, tickfont=dict(color=basic_grey)),\n",
    "        yaxis=dict(showgrid=False, zeroline=False, showline=True, linewidth=1, linecolor=light_grey, tickfont=dict(color=basic_grey)),\n",
    "        legend_title_text=None,\n",
    "        width=width\n",
    "    )\n",
    "\n",
    "    return fig\n"
   ]
  },
  {
   "cell_type": "markdown",
   "metadata": {
    "id": "t33ksWdzqgbO"
   },
   "source": [
    "### 0.3 Load dataset"
   ]
  },
  {
   "cell_type": "code",
   "execution_count": 3,
   "metadata": {
    "colab": {
     "base_uri": "https://localhost:8080/"
    },
    "executionInfo": {
     "elapsed": 326263,
     "status": "ok",
     "timestamp": 1694515136007,
     "user": {
      "displayName": "April Itriago",
      "userId": "10552117681411633732"
     },
     "user_tz": -120
    },
    "id": "ak8NOAXYqlHR",
    "outputId": "cdaafd90-e6af-4d1a-920d-3926d359ff67"
   },
   "outputs": [
    {
     "name": "stdout",
     "output_type": "stream",
     "text": [
      "Mounted at /content/drive\n"
     ]
    }
   ],
   "source": [
    "from google.colab import drive\n",
    "drive.mount('/content/drive')"
   ]
  },
  {
   "cell_type": "code",
   "execution_count": 4,
   "metadata": {
    "executionInfo": {
     "elapsed": 8241,
     "status": "ok",
     "timestamp": 1694515144246,
     "user": {
      "displayName": "April Itriago",
      "userId": "10552117681411633732"
     },
     "user_tz": -120
    },
    "id": "7cWN0Qr5uvT5"
   },
   "outputs": [],
   "source": [
    "# load dataset from drive\n",
    "data_dir = ('/content/drive/MyDrive/Colab Notebooks/tfm/data_fs/')\n",
    "\n",
    "X_train_p2= pd.read_csv(data_dir + 'X_train_p2.csv')\n",
    "X_test_p2= pd.read_csv(data_dir + 'X_test_p2.csv')\n",
    "y_train_p2= pd.read_csv(data_dir + 'y_train_p2.csv')\n",
    "y_test_p2= pd.read_csv(data_dir + 'y_test_p2.csv')\n",
    "\n",
    "X_train_p2a= pd.read_csv(data_dir + 'X_train_p2a.csv')\n",
    "X_test_p2a= pd.read_csv(data_dir + 'X_test_p2a.csv')\n",
    "y_train_p2a= pd.read_csv(data_dir + 'y_train_p2a.csv')\n",
    "y_test_p2a= pd.read_csv(data_dir + 'y_test_p2a.csv')\n",
    "\n",
    "X_train_v2a= pd.read_csv(data_dir + 'X_train_v2a.csv')\n",
    "X_test_v2a= pd.read_csv(data_dir + 'X_test_v2a.csv')\n",
    "y_train_v2a= pd.read_csv(data_dir + 'y_train_v2a.csv')\n",
    "y_test_v2a= pd.read_csv(data_dir + 'y_test_v2a.csv')"
   ]
  },
  {
   "cell_type": "code",
   "execution_count": 27,
   "metadata": {
    "executionInfo": {
     "elapsed": 2600,
     "status": "ok",
     "timestamp": 1694544728215,
     "user": {
      "displayName": "April Itriago",
      "userId": "10552117681411633732"
     },
     "user_tz": -120
    },
    "id": "OWb-IQZqb5gr"
   },
   "outputs": [],
   "source": [
    "# load dataset from pc\n",
    "data_dir = ('/Users/aprilm/Desktop/TFG/data_fs/')\n",
    "X_train_p2= pd.read_csv(data_dir + 'X_train_p2.csv')\n",
    "X_test_p2= pd.read_csv(data_dir + 'X_test_p2.csv')\n",
    "y_train_p2= pd.read_csv(data_dir + 'y_train_p2.csv')\n",
    "y_test_p2= pd.read_csv(data_dir + 'y_test_p2.csv')\n",
    "\n",
    "X_train_p2a= pd.read_csv(data_dir + 'X_train_p2a.csv')\n",
    "X_test_p2a= pd.read_csv(data_dir + 'X_test_p2a.csv')\n",
    "y_train_p2a= pd.read_csv(data_dir + 'y_train_p2a.csv')\n",
    "y_test_p2a= pd.read_csv(data_dir + 'y_test_p2a.csv')\n",
    "\n",
    "X_train_v2a= pd.read_csv(data_dir + 'X_train_v2a.csv')\n",
    "X_test_v2a= pd.read_csv(data_dir + 'X_test_v2a.csv')\n",
    "y_train_v2a= pd.read_csv(data_dir + 'y_train_v2a.csv')\n",
    "y_test_v2a= pd.read_csv(data_dir + 'y_test_v2a.csv')"
   ]
  },
  {
   "cell_type": "markdown",
   "metadata": {
    "id": "LBK4aAGKsEz-"
   },
   "source": [
    "## 1 Models best perfomace - F1 macro"
   ]
  },
  {
   "cell_type": "markdown",
   "metadata": {
    "id": "5gyZgMvCoyTg"
   },
   "source": [
    "### 1.1.1  Extra Trees Classifier"
   ]
  },
  {
   "cell_type": "markdown",
   "metadata": {
    "id": "Lmi_xPO9uQdR"
   },
   "source": [
    "Fist we are going to start with rt, Extra Trees Classifier"
   ]
  },
  {
   "cell_type": "markdown",
   "metadata": {
    "id": "VV6vW5MroCcc"
   },
   "source": [
    "Implement Stratified K-Fold Cross-Validation to ensure each fold is a good representative of the entire dataset, especially given your data imbalance."
   ]
  },
  {
   "cell_type": "code",
   "execution_count": null,
   "metadata": {
    "colab": {
     "base_uri": "https://localhost:8080/"
    },
    "executionInfo": {
     "elapsed": 111344,
     "status": "ok",
     "timestamp": 1693997659423,
     "user": {
      "displayName": "April Itriago",
      "userId": "10552117681411633732"
     },
     "user_tz": -120
    },
    "id": "4Y6Eu6FKmp1N",
    "outputId": "0304dd4b-5c8a-499d-e936-5cc23d05cc89"
   },
   "outputs": [
    {
     "name": "stdout",
     "output_type": "stream",
     "text": [
      "Average macro F1 Scores for 5 folds: [0.7484745  0.75103566 0.74612886 0.75684932 0.74248758]\n",
      "Average macro F1 Score: 0.7489951848010227\n"
     ]
    }
   ],
   "source": [
    "# Instantiate the model\n",
    "et = ExtraTreesClassifier(random_state=0)\n",
    "\n",
    "# Number of folds\n",
    "k = 5\n",
    "\n",
    "# Create StratifiedKFold object\n",
    "stratified_kfold = StratifiedKFold(n_splits=k, shuffle=True, random_state=0)\n",
    "\n",
    "# Calculate cross-validated F1 scores\n",
    "f1_scores = cross_val_score(et, X_train, y_train, cv=stratified_kfold, scoring='f1_macro', n_jobs=-1)\n",
    "\n",
    "# Print the F1 scores\n",
    "print(f\"Average macro F1 Scores for {k} folds: {f1_scores}\")\n",
    "print(f\"Average macro F1 Score: {f1_scores.mean()}\")\n"
   ]
  },
  {
   "cell_type": "markdown",
   "metadata": {
    "id": "ZJXj6VSZIHv1"
   },
   "source": [
    "### 1.1.2 Random Forest Classifier"
   ]
  },
  {
   "cell_type": "code",
   "execution_count": null,
   "metadata": {
    "colab": {
     "base_uri": "https://localhost:8080/"
    },
    "executionInfo": {
     "elapsed": 164184,
     "status": "ok",
     "timestamp": 1693998102513,
     "user": {
      "displayName": "April Itriago",
      "userId": "10552117681411633732"
     },
     "user_tz": -120
    },
    "id": "4hlGVyNUH9Nw",
    "outputId": "55794697-9ec2-4c81-990c-f2ed8594420e"
   },
   "outputs": [
    {
     "name": "stdout",
     "output_type": "stream",
     "text": [
      "Macro F1 Scores for 5 folds: [0.73251724 0.73476287 0.73340959 0.73324639 0.72798583]\n",
      "Average Macro F1 Score: 0.7323843821742978\n"
     ]
    }
   ],
   "source": [
    "# Instantiate the model\n",
    "rf = RandomForestClassifier(random_state=0)\n",
    "\n",
    "# Number of folds\n",
    "k = 5\n",
    "\n",
    "# Create StratifiedKFold object\n",
    "stratified_kfold = StratifiedKFold(n_splits=k, shuffle=True, random_state=0)\n",
    "\n",
    "# Ensure y_train is a 1D array\n",
    "y_train_1d = np.ravel(y_train)\n",
    "\n",
    "# Calculate cross-validated F1 scores\n",
    "f1_scores = cross_val_score(rf, X_train, y_train_1d, cv=stratified_kfold, scoring='f1_macro', n_jobs=-1)\n",
    "\n",
    "# Print the F1 scores\n",
    "print(f\"Macro F1 Scores for {k} folds: {f1_scores}\")\n",
    "print(f\"Average Macro F1 Score: {f1_scores.mean()}\")\n"
   ]
  },
  {
   "cell_type": "markdown",
   "metadata": {
    "id": "Zuf_bBI4JjxF"
   },
   "source": [
    "### 1.1.3 Extreme Gradient Boosting"
   ]
  },
  {
   "cell_type": "code",
   "execution_count": null,
   "metadata": {
    "colab": {
     "base_uri": "https://localhost:8080/"
    },
    "executionInfo": {
     "elapsed": 390230,
     "status": "ok",
     "timestamp": 1693998741711,
     "user": {
      "displayName": "April Itriago",
      "userId": "10552117681411633732"
     },
     "user_tz": -120
    },
    "id": "s1MPEk13J1Pi",
    "outputId": "35339632-7e3e-4293-d069-a5d6376b5564"
   },
   "outputs": [
    {
     "name": "stdout",
     "output_type": "stream",
     "text": [
      "Macro F1 Scores for 5 folds: [0.61849728 0.6281497  0.62584754 0.61526161 0.62275852]\n",
      "Average Macro F1 Score: 0.6221029293420465\n"
     ]
    }
   ],
   "source": [
    "# Instantiate the model\n",
    "clf = xgb.XGBClassifier()\n",
    "\n",
    "# Number of folds\n",
    "k = 5\n",
    "\n",
    "# Create StratifiedKFold object\n",
    "stratified_kfold = StratifiedKFold(n_splits=k, shuffle=True, random_state=0)\n",
    "\n",
    "# Ensure y_train is a 1D array\n",
    "y_train_1d = np.ravel(y_train)\n",
    "\n",
    "# Calculate cross-validated F1 scores\n",
    "f1_scores = cross_val_score(clf, X_train, y_train_1d, cv=stratified_kfold, scoring='f1_macro', n_jobs=-1)\n",
    "\n",
    "# Print the F1 scores\n",
    "print(f\"Macro F1 Scores for {k} folds: {f1_scores}\")\n",
    "print(f\"Average Macro F1 Score: {f1_scores.mean()}\")"
   ]
  },
  {
   "cell_type": "markdown",
   "metadata": {
    "id": "Y4VmFeGCK_jb"
   },
   "source": [
    "### 1.1.4 Light Gradient Boosting Machine"
   ]
  },
  {
   "cell_type": "code",
   "execution_count": null,
   "metadata": {
    "colab": {
     "base_uri": "https://localhost:8080/"
    },
    "executionInfo": {
     "elapsed": 35215,
     "status": "ok",
     "timestamp": 1693998785166,
     "user": {
      "displayName": "April Itriago",
      "userId": "10552117681411633732"
     },
     "user_tz": -120
    },
    "id": "eSPQV9KNLdJZ",
    "outputId": "15fcd398-da80-458b-d363-245befd0f2bd"
   },
   "outputs": [
    {
     "name": "stdout",
     "output_type": "stream",
     "text": [
      "Macro F1 Scores for 5 folds: [0.60164493 0.60892788 0.60664153 0.59406626 0.60432851]\n",
      "Average Macro F1 Score: 0.60312182257408\n"
     ]
    }
   ],
   "source": [
    "# Instantiate the model\n",
    "clf_lgbm = lgb.LGBMClassifier(random_state=0)\n",
    "\n",
    "# Number of folds\n",
    "k = 5\n",
    "\n",
    "# Create StratifiedKFold object\n",
    "stratified_kfold = StratifiedKFold(n_splits=k, shuffle=True, random_state=0)\n",
    "\n",
    "# Ensure y_train is a 1D array\n",
    "y_train_1d = np.ravel(y_train)\n",
    "\n",
    "# Calculate cross-validated F1 scores\n",
    "f1_scores = cross_val_score(clf_lgbm, X_train, y_train_1d, cv=stratified_kfold, scoring='f1_macro', n_jobs=-1)\n",
    "\n",
    "# Print the F1 scores\n",
    "print(f\"Macro F1 Scores for {k} folds: {f1_scores}\")\n",
    "print(f\"Average Macro F1 Score: {f1_scores.mean()}\")"
   ]
  },
  {
   "cell_type": "markdown",
   "metadata": {
    "id": "wyv7-zWEMxRc"
   },
   "source": [
    "### 1.1.5 Decision Tree Classifier"
   ]
  },
  {
   "cell_type": "code",
   "execution_count": null,
   "metadata": {
    "colab": {
     "base_uri": "https://localhost:8080/"
    },
    "executionInfo": {
     "elapsed": 31492,
     "status": "ok",
     "timestamp": 1693999046658,
     "user": {
      "displayName": "April Itriago",
      "userId": "10552117681411633732"
     },
     "user_tz": -120
    },
    "id": "k7WPFfYHM8xZ",
    "outputId": "6bbba881-c82f-4304-e7b5-556b30c6766c"
   },
   "outputs": [
    {
     "name": "stdout",
     "output_type": "stream",
     "text": [
      "Macro F1 Scores for 5 folds: [0.60164493 0.60892788 0.60664153 0.59406626 0.60432851]\n",
      "Average Macro F1 Score: 0.60312182257408\n"
     ]
    }
   ],
   "source": [
    "# Instantiate the model\n",
    "clf_dt = DecisionTreeClassifier(random_state=0)\n",
    "\n",
    "# Number of folds\n",
    "k = 5\n",
    "\n",
    "# Create StratifiedKFold object\n",
    "stratified_kfold = StratifiedKFold(n_splits=k, shuffle=True, random_state=0)\n",
    "\n",
    "# Ensure y_train is a 1D array\n",
    "y_train_1d = np.ravel(y_train)\n",
    "\n",
    "# Calculate cross-validated F1 scores\n",
    "f1_scores = cross_val_score(clf_lgbm, X_train, y_train_1d, cv=stratified_kfold, scoring='f1_macro', n_jobs=-1)\n",
    "\n",
    "# Print the F1 scores\n",
    "print(f\"Macro F1 Scores for {k} folds: {f1_scores}\")\n",
    "print(f\"Average Macro F1 Score: {f1_scores.mean()}\")"
   ]
  },
  {
   "cell_type": "markdown",
   "metadata": {
    "id": "fmDgS73JOyLe"
   },
   "source": [
    "### 1.1.6 Plot the perfomance"
   ]
  },
  {
   "cell_type": "code",
   "execution_count": null,
   "metadata": {
    "id": "hYIhbPBMO-A4"
   },
   "outputs": [],
   "source": [
    "# F1 Scores for each model\n",
    "f1_scores_et = [0.7484745, 0.75103566, 0.74612886, 0.75684932, 0.74248758]\n",
    "f1_scores_rf = [0.73251724, 0.73476287, 0.73340959, 0.73324639, 0.72798583]\n",
    "f1_scores_xgb = [0.61849728, 0.6281497, 0.62584754, 0.61526161, 0.62275852]\n",
    "f1_scores_lgbm = [0.60164493, 0.60892788, 0.60664153, 0.59406626, 0.60432851]\n",
    "f1_scores_dt = [0.60164493, 0.60892788, 0.60664153, 0.59406626, 0.60432851]"
   ]
  },
  {
   "cell_type": "code",
   "execution_count": null,
   "metadata": {
    "colab": {
     "base_uri": "https://localhost:8080/",
     "height": 537
    },
    "executionInfo": {
     "elapsed": 411,
     "status": "ok",
     "timestamp": 1694010524155,
     "user": {
      "displayName": "April Itriago",
      "userId": "10552117681411633732"
     },
     "user_tz": -120
    },
    "id": "OY2w9N4T2-XB",
    "outputId": "47f260b5-353e-4a50-f6a7-df2fdce3e9cf"
   },
   "outputs": [
    {
     "data": {
      "text/html": [
       "<html>\n",
       "<head><meta charset=\"utf-8\" /></head>\n",
       "<body>\n",
       "    <div>            <script src=\"https://cdnjs.cloudflare.com/ajax/libs/mathjax/2.7.5/MathJax.js?config=TeX-AMS-MML_SVG\"></script><script type=\"text/javascript\">if (window.MathJax && window.MathJax.Hub && window.MathJax.Hub.Config) {window.MathJax.Hub.Config({SVG: {font: \"STIX-Web\"}});}</script>                <script type=\"text/javascript\">window.PlotlyConfig = {MathJaxConfig: 'local'};</script>\n",
       "        <script charset=\"utf-8\" src=\"https://cdn.plot.ly/plotly-2.24.1.min.js\"></script>                <div id=\"6af1b586-3296-4242-833e-5bbad229a700\" class=\"plotly-graph-div\" style=\"height:500px; width:1000px;\"></div>            <script type=\"text/javascript\">                                    window.PLOTLYENV=window.PLOTLYENV || {};                                    if (document.getElementById(\"6af1b586-3296-4242-833e-5bbad229a700\")) {                    Plotly.newPlot(                        \"6af1b586-3296-4242-833e-5bbad229a700\",                        [{\"boxpoints\":\"all\",\"fillcolor\":\"#616161\",\"jitter\":0.3,\"line\":{\"color\":\"#616161\"},\"name\":\"ET\",\"pointpos\":-1.8,\"y\":[0.7484745,0.75103566,0.74612886,0.75684932,0.74248758],\"type\":\"box\"},{\"boxpoints\":\"all\",\"fillcolor\":\"#A1A1A1\",\"jitter\":0.3,\"line\":{\"color\":\"#A1A1A1\"},\"name\":\"RF\",\"pointpos\":-1.8,\"y\":[0.73251724,0.73476287,0.73340959,0.73324639,0.72798583],\"type\":\"box\"},{\"boxpoints\":\"all\",\"fillcolor\":\"#C0C0C0\",\"jitter\":0.3,\"line\":{\"color\":\"#C0C0C0\"},\"name\":\"XGB\",\"pointpos\":-1.8,\"y\":[0.61849728,0.6281497,0.62584754,0.61526161,0.62275852],\"type\":\"box\"},{\"boxpoints\":\"all\",\"fillcolor\":\"#D3D3D3\",\"jitter\":0.3,\"line\":{\"color\":\"#D3D3D3\"},\"name\":\"LGBM\",\"pointpos\":-1.8,\"y\":[0.60164493,0.60892788,0.60664153,0.59406626,0.60432851],\"type\":\"box\"},{\"boxpoints\":\"all\",\"fillcolor\":\"#E5E5E5\",\"jitter\":0.3,\"line\":{\"color\":\"#E5E5E5\"},\"name\":\"DT\",\"pointpos\":-1.8,\"y\":[0.60164493,0.60892788,0.60664153,0.59406626,0.60432851],\"type\":\"box\"}],                        {\"template\":{\"data\":{\"histogram2dcontour\":[{\"type\":\"histogram2dcontour\",\"colorbar\":{\"outlinewidth\":0,\"ticks\":\"\"},\"colorscale\":[[0.0,\"#0d0887\"],[0.1111111111111111,\"#46039f\"],[0.2222222222222222,\"#7201a8\"],[0.3333333333333333,\"#9c179e\"],[0.4444444444444444,\"#bd3786\"],[0.5555555555555556,\"#d8576b\"],[0.6666666666666666,\"#ed7953\"],[0.7777777777777778,\"#fb9f3a\"],[0.8888888888888888,\"#fdca26\"],[1.0,\"#f0f921\"]]}],\"choropleth\":[{\"type\":\"choropleth\",\"colorbar\":{\"outlinewidth\":0,\"ticks\":\"\"}}],\"histogram2d\":[{\"type\":\"histogram2d\",\"colorbar\":{\"outlinewidth\":0,\"ticks\":\"\"},\"colorscale\":[[0.0,\"#0d0887\"],[0.1111111111111111,\"#46039f\"],[0.2222222222222222,\"#7201a8\"],[0.3333333333333333,\"#9c179e\"],[0.4444444444444444,\"#bd3786\"],[0.5555555555555556,\"#d8576b\"],[0.6666666666666666,\"#ed7953\"],[0.7777777777777778,\"#fb9f3a\"],[0.8888888888888888,\"#fdca26\"],[1.0,\"#f0f921\"]]}],\"heatmap\":[{\"type\":\"heatmap\",\"colorbar\":{\"outlinewidth\":0,\"ticks\":\"\"},\"colorscale\":[[0.0,\"#0d0887\"],[0.1111111111111111,\"#46039f\"],[0.2222222222222222,\"#7201a8\"],[0.3333333333333333,\"#9c179e\"],[0.4444444444444444,\"#bd3786\"],[0.5555555555555556,\"#d8576b\"],[0.6666666666666666,\"#ed7953\"],[0.7777777777777778,\"#fb9f3a\"],[0.8888888888888888,\"#fdca26\"],[1.0,\"#f0f921\"]]}],\"heatmapgl\":[{\"type\":\"heatmapgl\",\"colorbar\":{\"outlinewidth\":0,\"ticks\":\"\"},\"colorscale\":[[0.0,\"#0d0887\"],[0.1111111111111111,\"#46039f\"],[0.2222222222222222,\"#7201a8\"],[0.3333333333333333,\"#9c179e\"],[0.4444444444444444,\"#bd3786\"],[0.5555555555555556,\"#d8576b\"],[0.6666666666666666,\"#ed7953\"],[0.7777777777777778,\"#fb9f3a\"],[0.8888888888888888,\"#fdca26\"],[1.0,\"#f0f921\"]]}],\"contourcarpet\":[{\"type\":\"contourcarpet\",\"colorbar\":{\"outlinewidth\":0,\"ticks\":\"\"}}],\"contour\":[{\"type\":\"contour\",\"colorbar\":{\"outlinewidth\":0,\"ticks\":\"\"},\"colorscale\":[[0.0,\"#0d0887\"],[0.1111111111111111,\"#46039f\"],[0.2222222222222222,\"#7201a8\"],[0.3333333333333333,\"#9c179e\"],[0.4444444444444444,\"#bd3786\"],[0.5555555555555556,\"#d8576b\"],[0.6666666666666666,\"#ed7953\"],[0.7777777777777778,\"#fb9f3a\"],[0.8888888888888888,\"#fdca26\"],[1.0,\"#f0f921\"]]}],\"surface\":[{\"type\":\"surface\",\"colorbar\":{\"outlinewidth\":0,\"ticks\":\"\"},\"colorscale\":[[0.0,\"#0d0887\"],[0.1111111111111111,\"#46039f\"],[0.2222222222222222,\"#7201a8\"],[0.3333333333333333,\"#9c179e\"],[0.4444444444444444,\"#bd3786\"],[0.5555555555555556,\"#d8576b\"],[0.6666666666666666,\"#ed7953\"],[0.7777777777777778,\"#fb9f3a\"],[0.8888888888888888,\"#fdca26\"],[1.0,\"#f0f921\"]]}],\"mesh3d\":[{\"type\":\"mesh3d\",\"colorbar\":{\"outlinewidth\":0,\"ticks\":\"\"}}],\"scatter\":[{\"fillpattern\":{\"fillmode\":\"overlay\",\"size\":10,\"solidity\":0.2},\"type\":\"scatter\"}],\"parcoords\":[{\"type\":\"parcoords\",\"line\":{\"colorbar\":{\"outlinewidth\":0,\"ticks\":\"\"}}}],\"scatterpolargl\":[{\"type\":\"scatterpolargl\",\"marker\":{\"colorbar\":{\"outlinewidth\":0,\"ticks\":\"\"}}}],\"bar\":[{\"error_x\":{\"color\":\"#2a3f5f\"},\"error_y\":{\"color\":\"#2a3f5f\"},\"marker\":{\"line\":{\"color\":\"#E5ECF6\",\"width\":0.5},\"pattern\":{\"fillmode\":\"overlay\",\"size\":10,\"solidity\":0.2}},\"type\":\"bar\"}],\"scattergeo\":[{\"type\":\"scattergeo\",\"marker\":{\"colorbar\":{\"outlinewidth\":0,\"ticks\":\"\"}}}],\"scatterpolar\":[{\"type\":\"scatterpolar\",\"marker\":{\"colorbar\":{\"outlinewidth\":0,\"ticks\":\"\"}}}],\"histogram\":[{\"marker\":{\"pattern\":{\"fillmode\":\"overlay\",\"size\":10,\"solidity\":0.2}},\"type\":\"histogram\"}],\"scattergl\":[{\"type\":\"scattergl\",\"marker\":{\"colorbar\":{\"outlinewidth\":0,\"ticks\":\"\"}}}],\"scatter3d\":[{\"type\":\"scatter3d\",\"line\":{\"colorbar\":{\"outlinewidth\":0,\"ticks\":\"\"}},\"marker\":{\"colorbar\":{\"outlinewidth\":0,\"ticks\":\"\"}}}],\"scattermapbox\":[{\"type\":\"scattermapbox\",\"marker\":{\"colorbar\":{\"outlinewidth\":0,\"ticks\":\"\"}}}],\"scatterternary\":[{\"type\":\"scatterternary\",\"marker\":{\"colorbar\":{\"outlinewidth\":0,\"ticks\":\"\"}}}],\"scattercarpet\":[{\"type\":\"scattercarpet\",\"marker\":{\"colorbar\":{\"outlinewidth\":0,\"ticks\":\"\"}}}],\"carpet\":[{\"aaxis\":{\"endlinecolor\":\"#2a3f5f\",\"gridcolor\":\"white\",\"linecolor\":\"white\",\"minorgridcolor\":\"white\",\"startlinecolor\":\"#2a3f5f\"},\"baxis\":{\"endlinecolor\":\"#2a3f5f\",\"gridcolor\":\"white\",\"linecolor\":\"white\",\"minorgridcolor\":\"white\",\"startlinecolor\":\"#2a3f5f\"},\"type\":\"carpet\"}],\"table\":[{\"cells\":{\"fill\":{\"color\":\"#EBF0F8\"},\"line\":{\"color\":\"white\"}},\"header\":{\"fill\":{\"color\":\"#C8D4E3\"},\"line\":{\"color\":\"white\"}},\"type\":\"table\"}],\"barpolar\":[{\"marker\":{\"line\":{\"color\":\"#E5ECF6\",\"width\":0.5},\"pattern\":{\"fillmode\":\"overlay\",\"size\":10,\"solidity\":0.2}},\"type\":\"barpolar\"}],\"pie\":[{\"automargin\":true,\"type\":\"pie\"}]},\"layout\":{\"autotypenumbers\":\"strict\",\"colorway\":[\"#636efa\",\"#EF553B\",\"#00cc96\",\"#ab63fa\",\"#FFA15A\",\"#19d3f3\",\"#FF6692\",\"#B6E880\",\"#FF97FF\",\"#FECB52\"],\"font\":{\"color\":\"#2a3f5f\"},\"hovermode\":\"closest\",\"hoverlabel\":{\"align\":\"left\"},\"paper_bgcolor\":\"white\",\"plot_bgcolor\":\"#E5ECF6\",\"polar\":{\"bgcolor\":\"#E5ECF6\",\"angularaxis\":{\"gridcolor\":\"white\",\"linecolor\":\"white\",\"ticks\":\"\"},\"radialaxis\":{\"gridcolor\":\"white\",\"linecolor\":\"white\",\"ticks\":\"\"}},\"ternary\":{\"bgcolor\":\"#E5ECF6\",\"aaxis\":{\"gridcolor\":\"white\",\"linecolor\":\"white\",\"ticks\":\"\"},\"baxis\":{\"gridcolor\":\"white\",\"linecolor\":\"white\",\"ticks\":\"\"},\"caxis\":{\"gridcolor\":\"white\",\"linecolor\":\"white\",\"ticks\":\"\"}},\"coloraxis\":{\"colorbar\":{\"outlinewidth\":0,\"ticks\":\"\"}},\"colorscale\":{\"sequential\":[[0.0,\"#0d0887\"],[0.1111111111111111,\"#46039f\"],[0.2222222222222222,\"#7201a8\"],[0.3333333333333333,\"#9c179e\"],[0.4444444444444444,\"#bd3786\"],[0.5555555555555556,\"#d8576b\"],[0.6666666666666666,\"#ed7953\"],[0.7777777777777778,\"#fb9f3a\"],[0.8888888888888888,\"#fdca26\"],[1.0,\"#f0f921\"]],\"sequentialminus\":[[0.0,\"#0d0887\"],[0.1111111111111111,\"#46039f\"],[0.2222222222222222,\"#7201a8\"],[0.3333333333333333,\"#9c179e\"],[0.4444444444444444,\"#bd3786\"],[0.5555555555555556,\"#d8576b\"],[0.6666666666666666,\"#ed7953\"],[0.7777777777777778,\"#fb9f3a\"],[0.8888888888888888,\"#fdca26\"],[1.0,\"#f0f921\"]],\"diverging\":[[0,\"#8e0152\"],[0.1,\"#c51b7d\"],[0.2,\"#de77ae\"],[0.3,\"#f1b6da\"],[0.4,\"#fde0ef\"],[0.5,\"#f7f7f7\"],[0.6,\"#e6f5d0\"],[0.7,\"#b8e186\"],[0.8,\"#7fbc41\"],[0.9,\"#4d9221\"],[1,\"#276419\"]]},\"xaxis\":{\"gridcolor\":\"white\",\"linecolor\":\"white\",\"ticks\":\"\",\"title\":{\"standoff\":15},\"zerolinecolor\":\"white\",\"automargin\":true,\"zerolinewidth\":2},\"yaxis\":{\"gridcolor\":\"white\",\"linecolor\":\"white\",\"ticks\":\"\",\"title\":{\"standoff\":15},\"zerolinecolor\":\"white\",\"automargin\":true,\"zerolinewidth\":2},\"scene\":{\"xaxis\":{\"backgroundcolor\":\"#E5ECF6\",\"gridcolor\":\"white\",\"linecolor\":\"white\",\"showbackground\":true,\"ticks\":\"\",\"zerolinecolor\":\"white\",\"gridwidth\":2},\"yaxis\":{\"backgroundcolor\":\"#E5ECF6\",\"gridcolor\":\"white\",\"linecolor\":\"white\",\"showbackground\":true,\"ticks\":\"\",\"zerolinecolor\":\"white\",\"gridwidth\":2},\"zaxis\":{\"backgroundcolor\":\"#E5ECF6\",\"gridcolor\":\"white\",\"linecolor\":\"white\",\"showbackground\":true,\"ticks\":\"\",\"zerolinecolor\":\"white\",\"gridwidth\":2}},\"shapedefaults\":{\"line\":{\"color\":\"#2a3f5f\"}},\"annotationdefaults\":{\"arrowcolor\":\"#2a3f5f\",\"arrowhead\":0,\"arrowwidth\":1},\"geo\":{\"bgcolor\":\"white\",\"landcolor\":\"#E5ECF6\",\"subunitcolor\":\"white\",\"showland\":true,\"showlakes\":true,\"lakecolor\":\"white\"},\"title\":{\"x\":0.05},\"mapbox\":{\"style\":\"light\"}}},\"title\":{\"text\":\"Model F1 Comparison\",\"font\":{\"color\":\"#7A8287\",\"size\":25}},\"xaxis\":{\"tickfont\":{\"color\":\"#A1A1A1\"},\"title\":{\"text\":\"Macro F1 Score\"},\"showgrid\":false,\"zeroline\":false,\"showline\":true,\"linewidth\":1,\"linecolor\":\"#D3D3D3\"},\"yaxis\":{\"tickfont\":{\"color\":\"#A1A1A1\"},\"title\":{\"text\":\"Model\"},\"showgrid\":false,\"zeroline\":false,\"showline\":true,\"linewidth\":1,\"linecolor\":\"#D3D3D3\"},\"plot_bgcolor\":\"rgba(255,255,255,1)\",\"paper_bgcolor\":\"rgba(255,255,255,1)\",\"width\":1000,\"height\":500},                        {\"responsive\": true}                    ).then(function(){\n",
       "                            \n",
       "var gd = document.getElementById('6af1b586-3296-4242-833e-5bbad229a700');\n",
       "var x = new MutationObserver(function (mutations, observer) {{\n",
       "        var display = window.getComputedStyle(gd).display;\n",
       "        if (!display || display === 'none') {{\n",
       "            console.log([gd, 'removed!']);\n",
       "            Plotly.purge(gd);\n",
       "            observer.disconnect();\n",
       "        }}\n",
       "}});\n",
       "\n",
       "// Listen for the removal of the full notebook cells\n",
       "var notebookContainer = gd.closest('#notebook-container');\n",
       "if (notebookContainer) {{\n",
       "    x.observe(notebookContainer, {childList: true});\n",
       "}}\n",
       "\n",
       "// Listen for the clearing of the current output cell\n",
       "var outputEl = gd.closest('.output');\n",
       "if (outputEl) {{\n",
       "    x.observe(outputEl, {childList: true});\n",
       "}}\n",
       "\n",
       "                        })                };                            </script>        </div>\n",
       "</body>\n",
       "</html>"
      ]
     },
     "metadata": {},
     "output_type": "display_data"
    }
   ],
   "source": [
    "import plotly.graph_objects as go\n",
    "\n",
    "# Define grayscale colors for the models\n",
    "gray_scale = {\n",
    "    'ET': '#616161',\n",
    "    'RF': '#A1A1A1',\n",
    "    'XGB': '#C0C0C0',\n",
    "    'LGBM': '#D3D3D3',\n",
    "    'DT': '#E5E5E5'\n",
    "}\n",
    "\n",
    "# Create boxplot with Plotly\n",
    "fig = go.Figure()\n",
    "\n",
    "# Add data\n",
    "for label, d in zip(labels, data):\n",
    "    fig.add_trace(go.Box(y=d, name=label, boxpoints='all', jitter=0.3, pointpos=-1.8, line_color=gray_scale[label], fillcolor=gray_scale[label]))\n",
    "\n",
    "# Aesthetics\n",
    "fig.update_layout(\n",
    "    title=\"Model F1 Comparison\", title_font=dict(color=title_color, size=25),\n",
    "    xaxis_title=\"Macro F1 Score\",\n",
    "    yaxis_title=\"Model\",\n",
    "    xaxis=dict(showgrid=False, zeroline=False, showline=True, linewidth=1, linecolor=light_grey, tickfont=dict(color=basic_grey)),\n",
    "    yaxis=dict(showgrid=False, zeroline=False, showline=True, linewidth=1, linecolor=light_grey, tickfont=dict(color=basic_grey)),\n",
    "    #xaxis=dict(showgrid=True, gridwidth=0.5, gridcolor='LightGray'),\n",
    "    plot_bgcolor='rgba(255,255,255,1)',\n",
    "    paper_bgcolor='rgba(255,255,255,1)',\n",
    "    width=1000,\n",
    "    height=500\n",
    ")\n",
    "\n",
    "fig.show()\n",
    "\n"
   ]
  },
  {
   "cell_type": "markdown",
   "metadata": {
    "id": "qs9uSm8SY3Gp"
   },
   "source": [
    "### 1.1.7  Peformace of the models in each class"
   ]
  },
  {
   "cell_type": "code",
   "execution_count": null,
   "metadata": {
    "id": "7JpkSBfeXNMX"
   },
   "outputs": [],
   "source": [
    "et = ExtraTreesClassifier(random_state=0)\n",
    "rf = RandomForestClassifier(random_state=0)\n",
    "clf = xgb.XGBClassifier()\n",
    "clf_lgbm = lgb.LGBMClassifier(random_state=0)\n",
    "clf_dt = DecisionTreeClassifier(random_state=0)\n"
   ]
  },
  {
   "cell_type": "code",
   "execution_count": null,
   "metadata": {
    "colab": {
     "base_uri": "https://localhost:8080/"
    },
    "executionInfo": {
     "elapsed": 176747,
     "status": "ok",
     "timestamp": 1694002318931,
     "user": {
      "displayName": "April Itriago",
      "userId": "10552117681411633732"
     },
     "user_tz": -120
    },
    "id": "tyhBlHjCZGRP",
    "outputId": "1c3f972d-f53f-46c1-e7d1-19c5a316d07e"
   },
   "outputs": [
    {
     "name": "stderr",
     "output_type": "stream",
     "text": [
      "<ipython-input-76-d5c8ee788bd7>:3: DataConversionWarning: A column-vector y was passed when a 1d array was expected. Please change the shape of y to (n_samples,), for example using ravel().\n",
      "  model.fit(X_train, y_train)\n"
     ]
    },
    {
     "name": "stdout",
     "output_type": "stream",
     "text": [
      "Model: ExtraTreesClassifier\n",
      "Precision:  [0.82240292 0.77899472 0.76533958 0.76873449]\n",
      "Recall:  [0.93169506 0.70825677 0.57938126 0.54929078]\n",
      "f score:  [0.87364417 0.7419435  0.65950255 0.64074457]\n",
      "Support:  [38211 16871 11281  2820]\n",
      "\n",
      "\n"
     ]
    },
    {
     "name": "stderr",
     "output_type": "stream",
     "text": [
      "<ipython-input-76-d5c8ee788bd7>:3: DataConversionWarning: A column-vector y was passed when a 1d array was expected. Please change the shape of y to (n_samples,), for example using ravel().\n",
      "  model.fit(X_train, y_train)\n"
     ]
    },
    {
     "name": "stdout",
     "output_type": "stream",
     "text": [
      "Model: RandomForestClassifier\n",
      "Precision:  [0.82303875 0.75468384 0.77696105 0.76589758]\n",
      "Recall:  [0.92444584 0.68762966 0.62778123 0.48262411]\n",
      "f score:  [0.87079995 0.71959805 0.69444989 0.5921253 ]\n",
      "Support:  [38211 16871 11281  2820]\n",
      "\n",
      "\n",
      "Model: XGBClassifier\n",
      "Precision:  [0.76877755 0.58967759 0.66175048 0.67593178]\n",
      "Recall:  [0.88100285 0.54312133 0.48524067 0.37943262]\n",
      "f score:  [0.82107317 0.56544276 0.55991408 0.48603225]\n",
      "Support:  [38211 16871 11281  2820]\n",
      "\n",
      "\n"
     ]
    },
    {
     "name": "stderr",
     "output_type": "stream",
     "text": [
      "/usr/local/lib/python3.10/dist-packages/sklearn/preprocessing/_label.py:99: DataConversionWarning: A column-vector y was passed when a 1d array was expected. Please change the shape of y to (n_samples, ), for example using ravel().\n",
      "  y = column_or_1d(y, warn=True)\n",
      "/usr/local/lib/python3.10/dist-packages/sklearn/preprocessing/_label.py:134: DataConversionWarning: A column-vector y was passed when a 1d array was expected. Please change the shape of y to (n_samples, ), for example using ravel().\n",
      "  y = column_or_1d(y, dtype=self.classes_.dtype, warn=True)\n"
     ]
    },
    {
     "name": "stdout",
     "output_type": "stream",
     "text": [
      "[LightGBM] [Warning] Auto-choosing row-wise multi-threading, the overhead of testing was 0.013996 seconds.\n",
      "You can set `force_row_wise=true` to remove the overhead.\n",
      "And if memory is not enough, you can set `force_col_wise=true`.\n",
      "[LightGBM] [Info] Total Bins 1789\n",
      "[LightGBM] [Info] Number of data points in the train set: 151621, number of used features: 17\n",
      "[LightGBM] [Info] Start training from score -0.572961\n",
      "[LightGBM] [Info] Start training from score -1.431966\n",
      "[LightGBM] [Info] Start training from score -1.867111\n",
      "[LightGBM] [Info] Start training from score -3.152663\n",
      "Model: LGBMClassifier\n",
      "Precision:  [0.76075153 0.57122283 0.6417694  0.64108911]\n",
      "Recall:  [0.87634451 0.5172189  0.47070295 0.36737589]\n",
      "f score:  [0.81446709 0.54288114 0.54308361 0.46708747]\n",
      "Support:  [38211 16871 11281  2820]\n",
      "\n",
      "\n",
      "Model: DecisionTreeClassifier\n",
      "Precision:  [0.81658481 0.64094782 0.63427328 0.457     ]\n",
      "Recall:  [0.82235482 0.65093948 0.59418491 0.48617021]\n",
      "f score:  [0.81945966 0.64590501 0.61357499 0.47113402]\n",
      "Support:  [38211 16871 11281  2820]\n",
      "\n",
      "\n"
     ]
    }
   ],
   "source": [
    "def model_class(model, X_train, y_train, X_test, y_test):\n",
    "    # Fit the model\n",
    "    model.fit(X_train, y_train)\n",
    "\n",
    "    # Predict on test data\n",
    "    y_pred = model.predict(X_test)\n",
    "\n",
    "    # Calculate metrics\n",
    "    p, r, f, s = precision_recall_fscore_support(\n",
    "        y_test,\n",
    "        y_pred,\n",
    "        labels=[0,1,2,3], # the labels for which we want the metrics determined\n",
    "        average=None # when None, returns a metric per label\n",
    "    )\n",
    "\n",
    "    # Print metrics\n",
    "    print('Model:', model.__class__.__name__)\n",
    "    print('Precision: ', p)\n",
    "    print('Recall: ', r)\n",
    "    print('f score: ', f)\n",
    "    print('Support: ', s)\n",
    "    print('\\n')\n",
    "\n",
    "# List of models\n",
    "models = [et, rf, clf, clf_lgbm, clf_dt]\n",
    "\n",
    "# Iterate over models, train and evaluate\n",
    "for model in models:\n",
    "    model_class(model, X_train, y_train, X_test, y_test)\n"
   ]
  },
  {
   "cell_type": "markdown",
   "metadata": {
    "id": "SLqljs6BbXYz"
   },
   "source": [
    "ExtraTreesClassifier (ETC):\n",
    "\n",
    "The F1 scores for the classes are relatively high, which suggests that the model is balanced in its ability to predict each class.\n",
    "It has the highest F1 score for the first class, which suggests it's particularly good at identifying this class.\n",
    "\n",
    "RandomForestClassifier (RF):\n",
    "\n",
    "The F1 scores are slightly lower than ETC but are still relatively high.\n",
    "Like the ETC, the RF is also particularly good at identifying the first class.\n",
    "The XGBClassifier, LGBMClassifier, and DecisionTreeClassifier have lower F1 scores compared to ETC and RF. This suggests that, for this particular dataset and problem, ensemble tree methods like ETC and RF are more effective than gradient boosting methods or a single decision tree."
   ]
  },
  {
   "cell_type": "markdown",
   "metadata": {
    "id": "4CTWmSRMcB6D"
   },
   "source": [
    "### 1.1.8 Plot perfomance of each class"
   ]
  },
  {
   "cell_type": "code",
   "execution_count": null,
   "metadata": {
    "colab": {
     "base_uri": "https://localhost:8080/",
     "height": 1000
    },
    "executionInfo": {
     "elapsed": 444,
     "status": "ok",
     "timestamp": 1694027590462,
     "user": {
      "displayName": "April Itriago",
      "userId": "10552117681411633732"
     },
     "user_tz": -120
    },
    "id": "Xm7b0yA_xNXH",
    "outputId": "a2f9cc2d-62cd-4a6d-e488-2a6e899ec8bd"
   },
   "outputs": [
    {
     "data": {
      "text/html": [
       "<html>\n",
       "<head><meta charset=\"utf-8\" /></head>\n",
       "<body>\n",
       "    <div>            <script src=\"https://cdnjs.cloudflare.com/ajax/libs/mathjax/2.7.5/MathJax.js?config=TeX-AMS-MML_SVG\"></script><script type=\"text/javascript\">if (window.MathJax && window.MathJax.Hub && window.MathJax.Hub.Config) {window.MathJax.Hub.Config({SVG: {font: \"STIX-Web\"}});}</script>                <script type=\"text/javascript\">window.PlotlyConfig = {MathJaxConfig: 'local'};</script>\n",
       "        <script charset=\"utf-8\" src=\"https://cdn.plot.ly/plotly-2.24.1.min.js\"></script>                <div id=\"fc38b93e-8a16-4836-a49e-323e16ad4d29\" class=\"plotly-graph-div\" style=\"height:525px; width:800px;\"></div>            <script type=\"text/javascript\">                                    window.PLOTLYENV=window.PLOTLYENV || {};                                    if (document.getElementById(\"fc38b93e-8a16-4836-a49e-323e16ad4d29\")) {                    Plotly.newPlot(                        \"fc38b93e-8a16-4836-a49e-323e16ad4d29\",                        [{\"marker\":{\"color\":\"#616161\"},\"name\":\"ExtraTreesClassifier\",\"x\":[\"car\",\"bike\",\"walk\",\"pt\"],\"y\":[0.8224,0.7789,0.7653,0.7687],\"type\":\"bar\"},{\"marker\":{\"color\":\"#787878\"},\"name\":\"RandomForestClassifier\",\"x\":[\"car\",\"bike\",\"walk\",\"pt\"],\"y\":[0.823,0.7546,0.7769,0.7658],\"type\":\"bar\"},{\"marker\":{\"color\":\"#8F8F8F\"},\"name\":\"XGBClassifier\",\"x\":[\"car\",\"bike\",\"walk\",\"pt\"],\"y\":[0.7687,0.58967759,0.66175048,0.67593178],\"type\":\"bar\"},{\"marker\":{\"color\":\"#A6A6A6\"},\"name\":\"LGBMClassifier\",\"x\":[\"car\",\"bike\",\"walk\",\"pt\"],\"y\":[0.76075153,0.57122283,0.6417694,0.64108911],\"type\":\"bar\"},{\"marker\":{\"color\":\"#BDBDBD\"},\"name\":\"DecisionTreeClassifier\",\"x\":[\"car\",\"bike\",\"walk\",\"pt\"],\"y\":[0.81658481,0.64094782,0.63427328,0.457],\"type\":\"bar\"}],                        {\"template\":{\"data\":{\"histogram2dcontour\":[{\"type\":\"histogram2dcontour\",\"colorbar\":{\"outlinewidth\":0,\"ticks\":\"\"},\"colorscale\":[[0.0,\"#0d0887\"],[0.1111111111111111,\"#46039f\"],[0.2222222222222222,\"#7201a8\"],[0.3333333333333333,\"#9c179e\"],[0.4444444444444444,\"#bd3786\"],[0.5555555555555556,\"#d8576b\"],[0.6666666666666666,\"#ed7953\"],[0.7777777777777778,\"#fb9f3a\"],[0.8888888888888888,\"#fdca26\"],[1.0,\"#f0f921\"]]}],\"choropleth\":[{\"type\":\"choropleth\",\"colorbar\":{\"outlinewidth\":0,\"ticks\":\"\"}}],\"histogram2d\":[{\"type\":\"histogram2d\",\"colorbar\":{\"outlinewidth\":0,\"ticks\":\"\"},\"colorscale\":[[0.0,\"#0d0887\"],[0.1111111111111111,\"#46039f\"],[0.2222222222222222,\"#7201a8\"],[0.3333333333333333,\"#9c179e\"],[0.4444444444444444,\"#bd3786\"],[0.5555555555555556,\"#d8576b\"],[0.6666666666666666,\"#ed7953\"],[0.7777777777777778,\"#fb9f3a\"],[0.8888888888888888,\"#fdca26\"],[1.0,\"#f0f921\"]]}],\"heatmap\":[{\"type\":\"heatmap\",\"colorbar\":{\"outlinewidth\":0,\"ticks\":\"\"},\"colorscale\":[[0.0,\"#0d0887\"],[0.1111111111111111,\"#46039f\"],[0.2222222222222222,\"#7201a8\"],[0.3333333333333333,\"#9c179e\"],[0.4444444444444444,\"#bd3786\"],[0.5555555555555556,\"#d8576b\"],[0.6666666666666666,\"#ed7953\"],[0.7777777777777778,\"#fb9f3a\"],[0.8888888888888888,\"#fdca26\"],[1.0,\"#f0f921\"]]}],\"heatmapgl\":[{\"type\":\"heatmapgl\",\"colorbar\":{\"outlinewidth\":0,\"ticks\":\"\"},\"colorscale\":[[0.0,\"#0d0887\"],[0.1111111111111111,\"#46039f\"],[0.2222222222222222,\"#7201a8\"],[0.3333333333333333,\"#9c179e\"],[0.4444444444444444,\"#bd3786\"],[0.5555555555555556,\"#d8576b\"],[0.6666666666666666,\"#ed7953\"],[0.7777777777777778,\"#fb9f3a\"],[0.8888888888888888,\"#fdca26\"],[1.0,\"#f0f921\"]]}],\"contourcarpet\":[{\"type\":\"contourcarpet\",\"colorbar\":{\"outlinewidth\":0,\"ticks\":\"\"}}],\"contour\":[{\"type\":\"contour\",\"colorbar\":{\"outlinewidth\":0,\"ticks\":\"\"},\"colorscale\":[[0.0,\"#0d0887\"],[0.1111111111111111,\"#46039f\"],[0.2222222222222222,\"#7201a8\"],[0.3333333333333333,\"#9c179e\"],[0.4444444444444444,\"#bd3786\"],[0.5555555555555556,\"#d8576b\"],[0.6666666666666666,\"#ed7953\"],[0.7777777777777778,\"#fb9f3a\"],[0.8888888888888888,\"#fdca26\"],[1.0,\"#f0f921\"]]}],\"surface\":[{\"type\":\"surface\",\"colorbar\":{\"outlinewidth\":0,\"ticks\":\"\"},\"colorscale\":[[0.0,\"#0d0887\"],[0.1111111111111111,\"#46039f\"],[0.2222222222222222,\"#7201a8\"],[0.3333333333333333,\"#9c179e\"],[0.4444444444444444,\"#bd3786\"],[0.5555555555555556,\"#d8576b\"],[0.6666666666666666,\"#ed7953\"],[0.7777777777777778,\"#fb9f3a\"],[0.8888888888888888,\"#fdca26\"],[1.0,\"#f0f921\"]]}],\"mesh3d\":[{\"type\":\"mesh3d\",\"colorbar\":{\"outlinewidth\":0,\"ticks\":\"\"}}],\"scatter\":[{\"fillpattern\":{\"fillmode\":\"overlay\",\"size\":10,\"solidity\":0.2},\"type\":\"scatter\"}],\"parcoords\":[{\"type\":\"parcoords\",\"line\":{\"colorbar\":{\"outlinewidth\":0,\"ticks\":\"\"}}}],\"scatterpolargl\":[{\"type\":\"scatterpolargl\",\"marker\":{\"colorbar\":{\"outlinewidth\":0,\"ticks\":\"\"}}}],\"bar\":[{\"error_x\":{\"color\":\"#2a3f5f\"},\"error_y\":{\"color\":\"#2a3f5f\"},\"marker\":{\"line\":{\"color\":\"#E5ECF6\",\"width\":0.5},\"pattern\":{\"fillmode\":\"overlay\",\"size\":10,\"solidity\":0.2}},\"type\":\"bar\"}],\"scattergeo\":[{\"type\":\"scattergeo\",\"marker\":{\"colorbar\":{\"outlinewidth\":0,\"ticks\":\"\"}}}],\"scatterpolar\":[{\"type\":\"scatterpolar\",\"marker\":{\"colorbar\":{\"outlinewidth\":0,\"ticks\":\"\"}}}],\"histogram\":[{\"marker\":{\"pattern\":{\"fillmode\":\"overlay\",\"size\":10,\"solidity\":0.2}},\"type\":\"histogram\"}],\"scattergl\":[{\"type\":\"scattergl\",\"marker\":{\"colorbar\":{\"outlinewidth\":0,\"ticks\":\"\"}}}],\"scatter3d\":[{\"type\":\"scatter3d\",\"line\":{\"colorbar\":{\"outlinewidth\":0,\"ticks\":\"\"}},\"marker\":{\"colorbar\":{\"outlinewidth\":0,\"ticks\":\"\"}}}],\"scattermapbox\":[{\"type\":\"scattermapbox\",\"marker\":{\"colorbar\":{\"outlinewidth\":0,\"ticks\":\"\"}}}],\"scatterternary\":[{\"type\":\"scatterternary\",\"marker\":{\"colorbar\":{\"outlinewidth\":0,\"ticks\":\"\"}}}],\"scattercarpet\":[{\"type\":\"scattercarpet\",\"marker\":{\"colorbar\":{\"outlinewidth\":0,\"ticks\":\"\"}}}],\"carpet\":[{\"aaxis\":{\"endlinecolor\":\"#2a3f5f\",\"gridcolor\":\"white\",\"linecolor\":\"white\",\"minorgridcolor\":\"white\",\"startlinecolor\":\"#2a3f5f\"},\"baxis\":{\"endlinecolor\":\"#2a3f5f\",\"gridcolor\":\"white\",\"linecolor\":\"white\",\"minorgridcolor\":\"white\",\"startlinecolor\":\"#2a3f5f\"},\"type\":\"carpet\"}],\"table\":[{\"cells\":{\"fill\":{\"color\":\"#EBF0F8\"},\"line\":{\"color\":\"white\"}},\"header\":{\"fill\":{\"color\":\"#C8D4E3\"},\"line\":{\"color\":\"white\"}},\"type\":\"table\"}],\"barpolar\":[{\"marker\":{\"line\":{\"color\":\"#E5ECF6\",\"width\":0.5},\"pattern\":{\"fillmode\":\"overlay\",\"size\":10,\"solidity\":0.2}},\"type\":\"barpolar\"}],\"pie\":[{\"automargin\":true,\"type\":\"pie\"}]},\"layout\":{\"autotypenumbers\":\"strict\",\"colorway\":[\"#636efa\",\"#EF553B\",\"#00cc96\",\"#ab63fa\",\"#FFA15A\",\"#19d3f3\",\"#FF6692\",\"#B6E880\",\"#FF97FF\",\"#FECB52\"],\"font\":{\"color\":\"#2a3f5f\"},\"hovermode\":\"closest\",\"hoverlabel\":{\"align\":\"left\"},\"paper_bgcolor\":\"white\",\"plot_bgcolor\":\"#E5ECF6\",\"polar\":{\"bgcolor\":\"#E5ECF6\",\"angularaxis\":{\"gridcolor\":\"white\",\"linecolor\":\"white\",\"ticks\":\"\"},\"radialaxis\":{\"gridcolor\":\"white\",\"linecolor\":\"white\",\"ticks\":\"\"}},\"ternary\":{\"bgcolor\":\"#E5ECF6\",\"aaxis\":{\"gridcolor\":\"white\",\"linecolor\":\"white\",\"ticks\":\"\"},\"baxis\":{\"gridcolor\":\"white\",\"linecolor\":\"white\",\"ticks\":\"\"},\"caxis\":{\"gridcolor\":\"white\",\"linecolor\":\"white\",\"ticks\":\"\"}},\"coloraxis\":{\"colorbar\":{\"outlinewidth\":0,\"ticks\":\"\"}},\"colorscale\":{\"sequential\":[[0.0,\"#0d0887\"],[0.1111111111111111,\"#46039f\"],[0.2222222222222222,\"#7201a8\"],[0.3333333333333333,\"#9c179e\"],[0.4444444444444444,\"#bd3786\"],[0.5555555555555556,\"#d8576b\"],[0.6666666666666666,\"#ed7953\"],[0.7777777777777778,\"#fb9f3a\"],[0.8888888888888888,\"#fdca26\"],[1.0,\"#f0f921\"]],\"sequentialminus\":[[0.0,\"#0d0887\"],[0.1111111111111111,\"#46039f\"],[0.2222222222222222,\"#7201a8\"],[0.3333333333333333,\"#9c179e\"],[0.4444444444444444,\"#bd3786\"],[0.5555555555555556,\"#d8576b\"],[0.6666666666666666,\"#ed7953\"],[0.7777777777777778,\"#fb9f3a\"],[0.8888888888888888,\"#fdca26\"],[1.0,\"#f0f921\"]],\"diverging\":[[0,\"#8e0152\"],[0.1,\"#c51b7d\"],[0.2,\"#de77ae\"],[0.3,\"#f1b6da\"],[0.4,\"#fde0ef\"],[0.5,\"#f7f7f7\"],[0.6,\"#e6f5d0\"],[0.7,\"#b8e186\"],[0.8,\"#7fbc41\"],[0.9,\"#4d9221\"],[1,\"#276419\"]]},\"xaxis\":{\"gridcolor\":\"white\",\"linecolor\":\"white\",\"ticks\":\"\",\"title\":{\"standoff\":15},\"zerolinecolor\":\"white\",\"automargin\":true,\"zerolinewidth\":2},\"yaxis\":{\"gridcolor\":\"white\",\"linecolor\":\"white\",\"ticks\":\"\",\"title\":{\"standoff\":15},\"zerolinecolor\":\"white\",\"automargin\":true,\"zerolinewidth\":2},\"scene\":{\"xaxis\":{\"backgroundcolor\":\"#E5ECF6\",\"gridcolor\":\"white\",\"linecolor\":\"white\",\"showbackground\":true,\"ticks\":\"\",\"zerolinecolor\":\"white\",\"gridwidth\":2},\"yaxis\":{\"backgroundcolor\":\"#E5ECF6\",\"gridcolor\":\"white\",\"linecolor\":\"white\",\"showbackground\":true,\"ticks\":\"\",\"zerolinecolor\":\"white\",\"gridwidth\":2},\"zaxis\":{\"backgroundcolor\":\"#E5ECF6\",\"gridcolor\":\"white\",\"linecolor\":\"white\",\"showbackground\":true,\"ticks\":\"\",\"zerolinecolor\":\"white\",\"gridwidth\":2}},\"shapedefaults\":{\"line\":{\"color\":\"#2a3f5f\"}},\"annotationdefaults\":{\"arrowcolor\":\"#2a3f5f\",\"arrowhead\":0,\"arrowwidth\":1},\"geo\":{\"bgcolor\":\"white\",\"landcolor\":\"#E5ECF6\",\"subunitcolor\":\"white\",\"showland\":true,\"showlakes\":true,\"lakecolor\":\"white\"},\"title\":{\"x\":0.05},\"mapbox\":{\"style\":\"light\"}}},\"barmode\":\"group\",\"title\":{\"font\":{\"color\":\"black\",\"size\":25},\"text\":\"Precision for Each Model by Class\"},\"font\":{\"color\":\"#A9A9A9\"},\"xaxis\":{\"tickfont\":{\"color\":\"#A9A9A9\"},\"title\":{\"text\":\"Class\"},\"showgrid\":false,\"zeroline\":false,\"showline\":true,\"linewidth\":1,\"linecolor\":\"#D3D3D3\"},\"yaxis\":{\"tickfont\":{\"color\":\"#A9A9A9\"},\"title\":{\"text\":\"Precision\"},\"showgrid\":false,\"zeroline\":false,\"showline\":true,\"linewidth\":1,\"linecolor\":\"#D3D3D3\"},\"plot_bgcolor\":\"rgba(255,255,255,1)\",\"paper_bgcolor\":\"rgba(255,255,255,1)\",\"width\":800},                        {\"responsive\": true}                    ).then(function(){\n",
       "                            \n",
       "var gd = document.getElementById('fc38b93e-8a16-4836-a49e-323e16ad4d29');\n",
       "var x = new MutationObserver(function (mutations, observer) {{\n",
       "        var display = window.getComputedStyle(gd).display;\n",
       "        if (!display || display === 'none') {{\n",
       "            console.log([gd, 'removed!']);\n",
       "            Plotly.purge(gd);\n",
       "            observer.disconnect();\n",
       "        }}\n",
       "}});\n",
       "\n",
       "// Listen for the removal of the full notebook cells\n",
       "var notebookContainer = gd.closest('#notebook-container');\n",
       "if (notebookContainer) {{\n",
       "    x.observe(notebookContainer, {childList: true});\n",
       "}}\n",
       "\n",
       "// Listen for the clearing of the current output cell\n",
       "var outputEl = gd.closest('.output');\n",
       "if (outputEl) {{\n",
       "    x.observe(outputEl, {childList: true});\n",
       "}}\n",
       "\n",
       "                        })                };                            </script>        </div>\n",
       "</body>\n",
       "</html>"
      ]
     },
     "metadata": {},
     "output_type": "display_data"
    },
    {
     "data": {
      "text/html": [
       "<html>\n",
       "<head><meta charset=\"utf-8\" /></head>\n",
       "<body>\n",
       "    <div>            <script src=\"https://cdnjs.cloudflare.com/ajax/libs/mathjax/2.7.5/MathJax.js?config=TeX-AMS-MML_SVG\"></script><script type=\"text/javascript\">if (window.MathJax && window.MathJax.Hub && window.MathJax.Hub.Config) {window.MathJax.Hub.Config({SVG: {font: \"STIX-Web\"}});}</script>                <script type=\"text/javascript\">window.PlotlyConfig = {MathJaxConfig: 'local'};</script>\n",
       "        <script charset=\"utf-8\" src=\"https://cdn.plot.ly/plotly-2.24.1.min.js\"></script>                <div id=\"e0d696ad-c09c-4ed8-a726-bcf88cf29806\" class=\"plotly-graph-div\" style=\"height:525px; width:800px;\"></div>            <script type=\"text/javascript\">                                    window.PLOTLYENV=window.PLOTLYENV || {};                                    if (document.getElementById(\"e0d696ad-c09c-4ed8-a726-bcf88cf29806\")) {                    Plotly.newPlot(                        \"e0d696ad-c09c-4ed8-a726-bcf88cf29806\",                        [{\"marker\":{\"color\":\"#616161\"},\"name\":\"ExtraTreesClassifier\",\"x\":[\"car\",\"bike\",\"walk\",\"pt\"],\"y\":[0.93169506,0.70825677,0.57938126,0.54929078],\"type\":\"bar\"},{\"marker\":{\"color\":\"#787878\"},\"name\":\"RandomForestClassifier\",\"x\":[\"car\",\"bike\",\"walk\",\"pt\"],\"y\":[0.92444584,0.68762966,0.62778123,0.48262411],\"type\":\"bar\"},{\"marker\":{\"color\":\"#8F8F8F\"},\"name\":\"XGBClassifier\",\"x\":[\"car\",\"bike\",\"walk\",\"pt\"],\"y\":[0.88100285,0.54312133,0.48524067,0.37943262],\"type\":\"bar\"},{\"marker\":{\"color\":\"#A6A6A6\"},\"name\":\"LGBMClassifier\",\"x\":[\"car\",\"bike\",\"walk\",\"pt\"],\"y\":[0.87634451,0.5172189,0.47070295,0.36737589],\"type\":\"bar\"},{\"marker\":{\"color\":\"#BDBDBD\"},\"name\":\"DecisionTreeClassifier\",\"x\":[\"car\",\"bike\",\"walk\",\"pt\"],\"y\":[0.82235482,0.65093948,0.59418491,0.48617021],\"type\":\"bar\"}],                        {\"template\":{\"data\":{\"histogram2dcontour\":[{\"type\":\"histogram2dcontour\",\"colorbar\":{\"outlinewidth\":0,\"ticks\":\"\"},\"colorscale\":[[0.0,\"#0d0887\"],[0.1111111111111111,\"#46039f\"],[0.2222222222222222,\"#7201a8\"],[0.3333333333333333,\"#9c179e\"],[0.4444444444444444,\"#bd3786\"],[0.5555555555555556,\"#d8576b\"],[0.6666666666666666,\"#ed7953\"],[0.7777777777777778,\"#fb9f3a\"],[0.8888888888888888,\"#fdca26\"],[1.0,\"#f0f921\"]]}],\"choropleth\":[{\"type\":\"choropleth\",\"colorbar\":{\"outlinewidth\":0,\"ticks\":\"\"}}],\"histogram2d\":[{\"type\":\"histogram2d\",\"colorbar\":{\"outlinewidth\":0,\"ticks\":\"\"},\"colorscale\":[[0.0,\"#0d0887\"],[0.1111111111111111,\"#46039f\"],[0.2222222222222222,\"#7201a8\"],[0.3333333333333333,\"#9c179e\"],[0.4444444444444444,\"#bd3786\"],[0.5555555555555556,\"#d8576b\"],[0.6666666666666666,\"#ed7953\"],[0.7777777777777778,\"#fb9f3a\"],[0.8888888888888888,\"#fdca26\"],[1.0,\"#f0f921\"]]}],\"heatmap\":[{\"type\":\"heatmap\",\"colorbar\":{\"outlinewidth\":0,\"ticks\":\"\"},\"colorscale\":[[0.0,\"#0d0887\"],[0.1111111111111111,\"#46039f\"],[0.2222222222222222,\"#7201a8\"],[0.3333333333333333,\"#9c179e\"],[0.4444444444444444,\"#bd3786\"],[0.5555555555555556,\"#d8576b\"],[0.6666666666666666,\"#ed7953\"],[0.7777777777777778,\"#fb9f3a\"],[0.8888888888888888,\"#fdca26\"],[1.0,\"#f0f921\"]]}],\"heatmapgl\":[{\"type\":\"heatmapgl\",\"colorbar\":{\"outlinewidth\":0,\"ticks\":\"\"},\"colorscale\":[[0.0,\"#0d0887\"],[0.1111111111111111,\"#46039f\"],[0.2222222222222222,\"#7201a8\"],[0.3333333333333333,\"#9c179e\"],[0.4444444444444444,\"#bd3786\"],[0.5555555555555556,\"#d8576b\"],[0.6666666666666666,\"#ed7953\"],[0.7777777777777778,\"#fb9f3a\"],[0.8888888888888888,\"#fdca26\"],[1.0,\"#f0f921\"]]}],\"contourcarpet\":[{\"type\":\"contourcarpet\",\"colorbar\":{\"outlinewidth\":0,\"ticks\":\"\"}}],\"contour\":[{\"type\":\"contour\",\"colorbar\":{\"outlinewidth\":0,\"ticks\":\"\"},\"colorscale\":[[0.0,\"#0d0887\"],[0.1111111111111111,\"#46039f\"],[0.2222222222222222,\"#7201a8\"],[0.3333333333333333,\"#9c179e\"],[0.4444444444444444,\"#bd3786\"],[0.5555555555555556,\"#d8576b\"],[0.6666666666666666,\"#ed7953\"],[0.7777777777777778,\"#fb9f3a\"],[0.8888888888888888,\"#fdca26\"],[1.0,\"#f0f921\"]]}],\"surface\":[{\"type\":\"surface\",\"colorbar\":{\"outlinewidth\":0,\"ticks\":\"\"},\"colorscale\":[[0.0,\"#0d0887\"],[0.1111111111111111,\"#46039f\"],[0.2222222222222222,\"#7201a8\"],[0.3333333333333333,\"#9c179e\"],[0.4444444444444444,\"#bd3786\"],[0.5555555555555556,\"#d8576b\"],[0.6666666666666666,\"#ed7953\"],[0.7777777777777778,\"#fb9f3a\"],[0.8888888888888888,\"#fdca26\"],[1.0,\"#f0f921\"]]}],\"mesh3d\":[{\"type\":\"mesh3d\",\"colorbar\":{\"outlinewidth\":0,\"ticks\":\"\"}}],\"scatter\":[{\"fillpattern\":{\"fillmode\":\"overlay\",\"size\":10,\"solidity\":0.2},\"type\":\"scatter\"}],\"parcoords\":[{\"type\":\"parcoords\",\"line\":{\"colorbar\":{\"outlinewidth\":0,\"ticks\":\"\"}}}],\"scatterpolargl\":[{\"type\":\"scatterpolargl\",\"marker\":{\"colorbar\":{\"outlinewidth\":0,\"ticks\":\"\"}}}],\"bar\":[{\"error_x\":{\"color\":\"#2a3f5f\"},\"error_y\":{\"color\":\"#2a3f5f\"},\"marker\":{\"line\":{\"color\":\"#E5ECF6\",\"width\":0.5},\"pattern\":{\"fillmode\":\"overlay\",\"size\":10,\"solidity\":0.2}},\"type\":\"bar\"}],\"scattergeo\":[{\"type\":\"scattergeo\",\"marker\":{\"colorbar\":{\"outlinewidth\":0,\"ticks\":\"\"}}}],\"scatterpolar\":[{\"type\":\"scatterpolar\",\"marker\":{\"colorbar\":{\"outlinewidth\":0,\"ticks\":\"\"}}}],\"histogram\":[{\"marker\":{\"pattern\":{\"fillmode\":\"overlay\",\"size\":10,\"solidity\":0.2}},\"type\":\"histogram\"}],\"scattergl\":[{\"type\":\"scattergl\",\"marker\":{\"colorbar\":{\"outlinewidth\":0,\"ticks\":\"\"}}}],\"scatter3d\":[{\"type\":\"scatter3d\",\"line\":{\"colorbar\":{\"outlinewidth\":0,\"ticks\":\"\"}},\"marker\":{\"colorbar\":{\"outlinewidth\":0,\"ticks\":\"\"}}}],\"scattermapbox\":[{\"type\":\"scattermapbox\",\"marker\":{\"colorbar\":{\"outlinewidth\":0,\"ticks\":\"\"}}}],\"scatterternary\":[{\"type\":\"scatterternary\",\"marker\":{\"colorbar\":{\"outlinewidth\":0,\"ticks\":\"\"}}}],\"scattercarpet\":[{\"type\":\"scattercarpet\",\"marker\":{\"colorbar\":{\"outlinewidth\":0,\"ticks\":\"\"}}}],\"carpet\":[{\"aaxis\":{\"endlinecolor\":\"#2a3f5f\",\"gridcolor\":\"white\",\"linecolor\":\"white\",\"minorgridcolor\":\"white\",\"startlinecolor\":\"#2a3f5f\"},\"baxis\":{\"endlinecolor\":\"#2a3f5f\",\"gridcolor\":\"white\",\"linecolor\":\"white\",\"minorgridcolor\":\"white\",\"startlinecolor\":\"#2a3f5f\"},\"type\":\"carpet\"}],\"table\":[{\"cells\":{\"fill\":{\"color\":\"#EBF0F8\"},\"line\":{\"color\":\"white\"}},\"header\":{\"fill\":{\"color\":\"#C8D4E3\"},\"line\":{\"color\":\"white\"}},\"type\":\"table\"}],\"barpolar\":[{\"marker\":{\"line\":{\"color\":\"#E5ECF6\",\"width\":0.5},\"pattern\":{\"fillmode\":\"overlay\",\"size\":10,\"solidity\":0.2}},\"type\":\"barpolar\"}],\"pie\":[{\"automargin\":true,\"type\":\"pie\"}]},\"layout\":{\"autotypenumbers\":\"strict\",\"colorway\":[\"#636efa\",\"#EF553B\",\"#00cc96\",\"#ab63fa\",\"#FFA15A\",\"#19d3f3\",\"#FF6692\",\"#B6E880\",\"#FF97FF\",\"#FECB52\"],\"font\":{\"color\":\"#2a3f5f\"},\"hovermode\":\"closest\",\"hoverlabel\":{\"align\":\"left\"},\"paper_bgcolor\":\"white\",\"plot_bgcolor\":\"#E5ECF6\",\"polar\":{\"bgcolor\":\"#E5ECF6\",\"angularaxis\":{\"gridcolor\":\"white\",\"linecolor\":\"white\",\"ticks\":\"\"},\"radialaxis\":{\"gridcolor\":\"white\",\"linecolor\":\"white\",\"ticks\":\"\"}},\"ternary\":{\"bgcolor\":\"#E5ECF6\",\"aaxis\":{\"gridcolor\":\"white\",\"linecolor\":\"white\",\"ticks\":\"\"},\"baxis\":{\"gridcolor\":\"white\",\"linecolor\":\"white\",\"ticks\":\"\"},\"caxis\":{\"gridcolor\":\"white\",\"linecolor\":\"white\",\"ticks\":\"\"}},\"coloraxis\":{\"colorbar\":{\"outlinewidth\":0,\"ticks\":\"\"}},\"colorscale\":{\"sequential\":[[0.0,\"#0d0887\"],[0.1111111111111111,\"#46039f\"],[0.2222222222222222,\"#7201a8\"],[0.3333333333333333,\"#9c179e\"],[0.4444444444444444,\"#bd3786\"],[0.5555555555555556,\"#d8576b\"],[0.6666666666666666,\"#ed7953\"],[0.7777777777777778,\"#fb9f3a\"],[0.8888888888888888,\"#fdca26\"],[1.0,\"#f0f921\"]],\"sequentialminus\":[[0.0,\"#0d0887\"],[0.1111111111111111,\"#46039f\"],[0.2222222222222222,\"#7201a8\"],[0.3333333333333333,\"#9c179e\"],[0.4444444444444444,\"#bd3786\"],[0.5555555555555556,\"#d8576b\"],[0.6666666666666666,\"#ed7953\"],[0.7777777777777778,\"#fb9f3a\"],[0.8888888888888888,\"#fdca26\"],[1.0,\"#f0f921\"]],\"diverging\":[[0,\"#8e0152\"],[0.1,\"#c51b7d\"],[0.2,\"#de77ae\"],[0.3,\"#f1b6da\"],[0.4,\"#fde0ef\"],[0.5,\"#f7f7f7\"],[0.6,\"#e6f5d0\"],[0.7,\"#b8e186\"],[0.8,\"#7fbc41\"],[0.9,\"#4d9221\"],[1,\"#276419\"]]},\"xaxis\":{\"gridcolor\":\"white\",\"linecolor\":\"white\",\"ticks\":\"\",\"title\":{\"standoff\":15},\"zerolinecolor\":\"white\",\"automargin\":true,\"zerolinewidth\":2},\"yaxis\":{\"gridcolor\":\"white\",\"linecolor\":\"white\",\"ticks\":\"\",\"title\":{\"standoff\":15},\"zerolinecolor\":\"white\",\"automargin\":true,\"zerolinewidth\":2},\"scene\":{\"xaxis\":{\"backgroundcolor\":\"#E5ECF6\",\"gridcolor\":\"white\",\"linecolor\":\"white\",\"showbackground\":true,\"ticks\":\"\",\"zerolinecolor\":\"white\",\"gridwidth\":2},\"yaxis\":{\"backgroundcolor\":\"#E5ECF6\",\"gridcolor\":\"white\",\"linecolor\":\"white\",\"showbackground\":true,\"ticks\":\"\",\"zerolinecolor\":\"white\",\"gridwidth\":2},\"zaxis\":{\"backgroundcolor\":\"#E5ECF6\",\"gridcolor\":\"white\",\"linecolor\":\"white\",\"showbackground\":true,\"ticks\":\"\",\"zerolinecolor\":\"white\",\"gridwidth\":2}},\"shapedefaults\":{\"line\":{\"color\":\"#2a3f5f\"}},\"annotationdefaults\":{\"arrowcolor\":\"#2a3f5f\",\"arrowhead\":0,\"arrowwidth\":1},\"geo\":{\"bgcolor\":\"white\",\"landcolor\":\"#E5ECF6\",\"subunitcolor\":\"white\",\"showland\":true,\"showlakes\":true,\"lakecolor\":\"white\"},\"title\":{\"x\":0.05},\"mapbox\":{\"style\":\"light\"}}},\"barmode\":\"group\",\"title\":{\"font\":{\"color\":\"black\",\"size\":25},\"text\":\"Recall for Each Model by Class\"},\"font\":{\"color\":\"#A9A9A9\"},\"xaxis\":{\"tickfont\":{\"color\":\"#A9A9A9\"},\"title\":{\"text\":\"Class\"},\"showgrid\":false,\"zeroline\":false,\"showline\":true,\"linewidth\":1,\"linecolor\":\"#D3D3D3\"},\"yaxis\":{\"tickfont\":{\"color\":\"#A9A9A9\"},\"title\":{\"text\":\"Recall\"},\"showgrid\":false,\"zeroline\":false,\"showline\":true,\"linewidth\":1,\"linecolor\":\"#D3D3D3\"},\"plot_bgcolor\":\"rgba(255,255,255,1)\",\"paper_bgcolor\":\"rgba(255,255,255,1)\",\"width\":800},                        {\"responsive\": true}                    ).then(function(){\n",
       "                            \n",
       "var gd = document.getElementById('e0d696ad-c09c-4ed8-a726-bcf88cf29806');\n",
       "var x = new MutationObserver(function (mutations, observer) {{\n",
       "        var display = window.getComputedStyle(gd).display;\n",
       "        if (!display || display === 'none') {{\n",
       "            console.log([gd, 'removed!']);\n",
       "            Plotly.purge(gd);\n",
       "            observer.disconnect();\n",
       "        }}\n",
       "}});\n",
       "\n",
       "// Listen for the removal of the full notebook cells\n",
       "var notebookContainer = gd.closest('#notebook-container');\n",
       "if (notebookContainer) {{\n",
       "    x.observe(notebookContainer, {childList: true});\n",
       "}}\n",
       "\n",
       "// Listen for the clearing of the current output cell\n",
       "var outputEl = gd.closest('.output');\n",
       "if (outputEl) {{\n",
       "    x.observe(outputEl, {childList: true});\n",
       "}}\n",
       "\n",
       "                        })                };                            </script>        </div>\n",
       "</body>\n",
       "</html>"
      ]
     },
     "metadata": {},
     "output_type": "display_data"
    },
    {
     "data": {
      "text/html": [
       "<html>\n",
       "<head><meta charset=\"utf-8\" /></head>\n",
       "<body>\n",
       "    <div>            <script src=\"https://cdnjs.cloudflare.com/ajax/libs/mathjax/2.7.5/MathJax.js?config=TeX-AMS-MML_SVG\"></script><script type=\"text/javascript\">if (window.MathJax && window.MathJax.Hub && window.MathJax.Hub.Config) {window.MathJax.Hub.Config({SVG: {font: \"STIX-Web\"}});}</script>                <script type=\"text/javascript\">window.PlotlyConfig = {MathJaxConfig: 'local'};</script>\n",
       "        <script charset=\"utf-8\" src=\"https://cdn.plot.ly/plotly-2.24.1.min.js\"></script>                <div id=\"81e662d3-cb14-452a-9045-96e534eed041\" class=\"plotly-graph-div\" style=\"height:525px; width:800px;\"></div>            <script type=\"text/javascript\">                                    window.PLOTLYENV=window.PLOTLYENV || {};                                    if (document.getElementById(\"81e662d3-cb14-452a-9045-96e534eed041\")) {                    Plotly.newPlot(                        \"81e662d3-cb14-452a-9045-96e534eed041\",                        [{\"marker\":{\"color\":\"#616161\"},\"name\":\"ExtraTreesClassifier\",\"x\":[\"car\",\"bike\",\"walk\",\"pt\"],\"y\":[0.87364417,0.7419435,0.65950255,0.64074457],\"type\":\"bar\"},{\"marker\":{\"color\":\"#787878\"},\"name\":\"RandomForestClassifier\",\"x\":[\"car\",\"bike\",\"walk\",\"pt\"],\"y\":[0.87079995,0.71959805,0.69444989,0.5921253],\"type\":\"bar\"},{\"marker\":{\"color\":\"#8F8F8F\"},\"name\":\"XGBClassifier\",\"x\":[\"car\",\"bike\",\"walk\",\"pt\"],\"y\":[0.82107317,0.56544276,0.55991408,0.48603225],\"type\":\"bar\"},{\"marker\":{\"color\":\"#A6A6A6\"},\"name\":\"LGBMClassifier\",\"x\":[\"car\",\"bike\",\"walk\",\"pt\"],\"y\":[0.81446709,0.54288114,0.54308361,0.46708747],\"type\":\"bar\"},{\"marker\":{\"color\":\"#BDBDBD\"},\"name\":\"DecisionTreeClassifier\",\"x\":[\"car\",\"bike\",\"walk\",\"pt\"],\"y\":[0.81945966,0.64590501,0.61357499,0.47113402],\"type\":\"bar\"}],                        {\"template\":{\"data\":{\"histogram2dcontour\":[{\"type\":\"histogram2dcontour\",\"colorbar\":{\"outlinewidth\":0,\"ticks\":\"\"},\"colorscale\":[[0.0,\"#0d0887\"],[0.1111111111111111,\"#46039f\"],[0.2222222222222222,\"#7201a8\"],[0.3333333333333333,\"#9c179e\"],[0.4444444444444444,\"#bd3786\"],[0.5555555555555556,\"#d8576b\"],[0.6666666666666666,\"#ed7953\"],[0.7777777777777778,\"#fb9f3a\"],[0.8888888888888888,\"#fdca26\"],[1.0,\"#f0f921\"]]}],\"choropleth\":[{\"type\":\"choropleth\",\"colorbar\":{\"outlinewidth\":0,\"ticks\":\"\"}}],\"histogram2d\":[{\"type\":\"histogram2d\",\"colorbar\":{\"outlinewidth\":0,\"ticks\":\"\"},\"colorscale\":[[0.0,\"#0d0887\"],[0.1111111111111111,\"#46039f\"],[0.2222222222222222,\"#7201a8\"],[0.3333333333333333,\"#9c179e\"],[0.4444444444444444,\"#bd3786\"],[0.5555555555555556,\"#d8576b\"],[0.6666666666666666,\"#ed7953\"],[0.7777777777777778,\"#fb9f3a\"],[0.8888888888888888,\"#fdca26\"],[1.0,\"#f0f921\"]]}],\"heatmap\":[{\"type\":\"heatmap\",\"colorbar\":{\"outlinewidth\":0,\"ticks\":\"\"},\"colorscale\":[[0.0,\"#0d0887\"],[0.1111111111111111,\"#46039f\"],[0.2222222222222222,\"#7201a8\"],[0.3333333333333333,\"#9c179e\"],[0.4444444444444444,\"#bd3786\"],[0.5555555555555556,\"#d8576b\"],[0.6666666666666666,\"#ed7953\"],[0.7777777777777778,\"#fb9f3a\"],[0.8888888888888888,\"#fdca26\"],[1.0,\"#f0f921\"]]}],\"heatmapgl\":[{\"type\":\"heatmapgl\",\"colorbar\":{\"outlinewidth\":0,\"ticks\":\"\"},\"colorscale\":[[0.0,\"#0d0887\"],[0.1111111111111111,\"#46039f\"],[0.2222222222222222,\"#7201a8\"],[0.3333333333333333,\"#9c179e\"],[0.4444444444444444,\"#bd3786\"],[0.5555555555555556,\"#d8576b\"],[0.6666666666666666,\"#ed7953\"],[0.7777777777777778,\"#fb9f3a\"],[0.8888888888888888,\"#fdca26\"],[1.0,\"#f0f921\"]]}],\"contourcarpet\":[{\"type\":\"contourcarpet\",\"colorbar\":{\"outlinewidth\":0,\"ticks\":\"\"}}],\"contour\":[{\"type\":\"contour\",\"colorbar\":{\"outlinewidth\":0,\"ticks\":\"\"},\"colorscale\":[[0.0,\"#0d0887\"],[0.1111111111111111,\"#46039f\"],[0.2222222222222222,\"#7201a8\"],[0.3333333333333333,\"#9c179e\"],[0.4444444444444444,\"#bd3786\"],[0.5555555555555556,\"#d8576b\"],[0.6666666666666666,\"#ed7953\"],[0.7777777777777778,\"#fb9f3a\"],[0.8888888888888888,\"#fdca26\"],[1.0,\"#f0f921\"]]}],\"surface\":[{\"type\":\"surface\",\"colorbar\":{\"outlinewidth\":0,\"ticks\":\"\"},\"colorscale\":[[0.0,\"#0d0887\"],[0.1111111111111111,\"#46039f\"],[0.2222222222222222,\"#7201a8\"],[0.3333333333333333,\"#9c179e\"],[0.4444444444444444,\"#bd3786\"],[0.5555555555555556,\"#d8576b\"],[0.6666666666666666,\"#ed7953\"],[0.7777777777777778,\"#fb9f3a\"],[0.8888888888888888,\"#fdca26\"],[1.0,\"#f0f921\"]]}],\"mesh3d\":[{\"type\":\"mesh3d\",\"colorbar\":{\"outlinewidth\":0,\"ticks\":\"\"}}],\"scatter\":[{\"fillpattern\":{\"fillmode\":\"overlay\",\"size\":10,\"solidity\":0.2},\"type\":\"scatter\"}],\"parcoords\":[{\"type\":\"parcoords\",\"line\":{\"colorbar\":{\"outlinewidth\":0,\"ticks\":\"\"}}}],\"scatterpolargl\":[{\"type\":\"scatterpolargl\",\"marker\":{\"colorbar\":{\"outlinewidth\":0,\"ticks\":\"\"}}}],\"bar\":[{\"error_x\":{\"color\":\"#2a3f5f\"},\"error_y\":{\"color\":\"#2a3f5f\"},\"marker\":{\"line\":{\"color\":\"#E5ECF6\",\"width\":0.5},\"pattern\":{\"fillmode\":\"overlay\",\"size\":10,\"solidity\":0.2}},\"type\":\"bar\"}],\"scattergeo\":[{\"type\":\"scattergeo\",\"marker\":{\"colorbar\":{\"outlinewidth\":0,\"ticks\":\"\"}}}],\"scatterpolar\":[{\"type\":\"scatterpolar\",\"marker\":{\"colorbar\":{\"outlinewidth\":0,\"ticks\":\"\"}}}],\"histogram\":[{\"marker\":{\"pattern\":{\"fillmode\":\"overlay\",\"size\":10,\"solidity\":0.2}},\"type\":\"histogram\"}],\"scattergl\":[{\"type\":\"scattergl\",\"marker\":{\"colorbar\":{\"outlinewidth\":0,\"ticks\":\"\"}}}],\"scatter3d\":[{\"type\":\"scatter3d\",\"line\":{\"colorbar\":{\"outlinewidth\":0,\"ticks\":\"\"}},\"marker\":{\"colorbar\":{\"outlinewidth\":0,\"ticks\":\"\"}}}],\"scattermapbox\":[{\"type\":\"scattermapbox\",\"marker\":{\"colorbar\":{\"outlinewidth\":0,\"ticks\":\"\"}}}],\"scatterternary\":[{\"type\":\"scatterternary\",\"marker\":{\"colorbar\":{\"outlinewidth\":0,\"ticks\":\"\"}}}],\"scattercarpet\":[{\"type\":\"scattercarpet\",\"marker\":{\"colorbar\":{\"outlinewidth\":0,\"ticks\":\"\"}}}],\"carpet\":[{\"aaxis\":{\"endlinecolor\":\"#2a3f5f\",\"gridcolor\":\"white\",\"linecolor\":\"white\",\"minorgridcolor\":\"white\",\"startlinecolor\":\"#2a3f5f\"},\"baxis\":{\"endlinecolor\":\"#2a3f5f\",\"gridcolor\":\"white\",\"linecolor\":\"white\",\"minorgridcolor\":\"white\",\"startlinecolor\":\"#2a3f5f\"},\"type\":\"carpet\"}],\"table\":[{\"cells\":{\"fill\":{\"color\":\"#EBF0F8\"},\"line\":{\"color\":\"white\"}},\"header\":{\"fill\":{\"color\":\"#C8D4E3\"},\"line\":{\"color\":\"white\"}},\"type\":\"table\"}],\"barpolar\":[{\"marker\":{\"line\":{\"color\":\"#E5ECF6\",\"width\":0.5},\"pattern\":{\"fillmode\":\"overlay\",\"size\":10,\"solidity\":0.2}},\"type\":\"barpolar\"}],\"pie\":[{\"automargin\":true,\"type\":\"pie\"}]},\"layout\":{\"autotypenumbers\":\"strict\",\"colorway\":[\"#636efa\",\"#EF553B\",\"#00cc96\",\"#ab63fa\",\"#FFA15A\",\"#19d3f3\",\"#FF6692\",\"#B6E880\",\"#FF97FF\",\"#FECB52\"],\"font\":{\"color\":\"#2a3f5f\"},\"hovermode\":\"closest\",\"hoverlabel\":{\"align\":\"left\"},\"paper_bgcolor\":\"white\",\"plot_bgcolor\":\"#E5ECF6\",\"polar\":{\"bgcolor\":\"#E5ECF6\",\"angularaxis\":{\"gridcolor\":\"white\",\"linecolor\":\"white\",\"ticks\":\"\"},\"radialaxis\":{\"gridcolor\":\"white\",\"linecolor\":\"white\",\"ticks\":\"\"}},\"ternary\":{\"bgcolor\":\"#E5ECF6\",\"aaxis\":{\"gridcolor\":\"white\",\"linecolor\":\"white\",\"ticks\":\"\"},\"baxis\":{\"gridcolor\":\"white\",\"linecolor\":\"white\",\"ticks\":\"\"},\"caxis\":{\"gridcolor\":\"white\",\"linecolor\":\"white\",\"ticks\":\"\"}},\"coloraxis\":{\"colorbar\":{\"outlinewidth\":0,\"ticks\":\"\"}},\"colorscale\":{\"sequential\":[[0.0,\"#0d0887\"],[0.1111111111111111,\"#46039f\"],[0.2222222222222222,\"#7201a8\"],[0.3333333333333333,\"#9c179e\"],[0.4444444444444444,\"#bd3786\"],[0.5555555555555556,\"#d8576b\"],[0.6666666666666666,\"#ed7953\"],[0.7777777777777778,\"#fb9f3a\"],[0.8888888888888888,\"#fdca26\"],[1.0,\"#f0f921\"]],\"sequentialminus\":[[0.0,\"#0d0887\"],[0.1111111111111111,\"#46039f\"],[0.2222222222222222,\"#7201a8\"],[0.3333333333333333,\"#9c179e\"],[0.4444444444444444,\"#bd3786\"],[0.5555555555555556,\"#d8576b\"],[0.6666666666666666,\"#ed7953\"],[0.7777777777777778,\"#fb9f3a\"],[0.8888888888888888,\"#fdca26\"],[1.0,\"#f0f921\"]],\"diverging\":[[0,\"#8e0152\"],[0.1,\"#c51b7d\"],[0.2,\"#de77ae\"],[0.3,\"#f1b6da\"],[0.4,\"#fde0ef\"],[0.5,\"#f7f7f7\"],[0.6,\"#e6f5d0\"],[0.7,\"#b8e186\"],[0.8,\"#7fbc41\"],[0.9,\"#4d9221\"],[1,\"#276419\"]]},\"xaxis\":{\"gridcolor\":\"white\",\"linecolor\":\"white\",\"ticks\":\"\",\"title\":{\"standoff\":15},\"zerolinecolor\":\"white\",\"automargin\":true,\"zerolinewidth\":2},\"yaxis\":{\"gridcolor\":\"white\",\"linecolor\":\"white\",\"ticks\":\"\",\"title\":{\"standoff\":15},\"zerolinecolor\":\"white\",\"automargin\":true,\"zerolinewidth\":2},\"scene\":{\"xaxis\":{\"backgroundcolor\":\"#E5ECF6\",\"gridcolor\":\"white\",\"linecolor\":\"white\",\"showbackground\":true,\"ticks\":\"\",\"zerolinecolor\":\"white\",\"gridwidth\":2},\"yaxis\":{\"backgroundcolor\":\"#E5ECF6\",\"gridcolor\":\"white\",\"linecolor\":\"white\",\"showbackground\":true,\"ticks\":\"\",\"zerolinecolor\":\"white\",\"gridwidth\":2},\"zaxis\":{\"backgroundcolor\":\"#E5ECF6\",\"gridcolor\":\"white\",\"linecolor\":\"white\",\"showbackground\":true,\"ticks\":\"\",\"zerolinecolor\":\"white\",\"gridwidth\":2}},\"shapedefaults\":{\"line\":{\"color\":\"#2a3f5f\"}},\"annotationdefaults\":{\"arrowcolor\":\"#2a3f5f\",\"arrowhead\":0,\"arrowwidth\":1},\"geo\":{\"bgcolor\":\"white\",\"landcolor\":\"#E5ECF6\",\"subunitcolor\":\"white\",\"showland\":true,\"showlakes\":true,\"lakecolor\":\"white\"},\"title\":{\"x\":0.05},\"mapbox\":{\"style\":\"light\"}}},\"barmode\":\"group\",\"title\":{\"font\":{\"color\":\"black\",\"size\":25},\"text\":\"F-Score for Each Model by Class\"},\"font\":{\"color\":\"#A9A9A9\"},\"xaxis\":{\"tickfont\":{\"color\":\"#A9A9A9\"},\"title\":{\"text\":\"Class\"},\"showgrid\":false,\"zeroline\":false,\"showline\":true,\"linewidth\":1,\"linecolor\":\"#D3D3D3\"},\"yaxis\":{\"tickfont\":{\"color\":\"#A9A9A9\"},\"title\":{\"text\":\"F-Score\"},\"showgrid\":false,\"zeroline\":false,\"showline\":true,\"linewidth\":1,\"linecolor\":\"#D3D3D3\"},\"plot_bgcolor\":\"rgba(255,255,255,1)\",\"paper_bgcolor\":\"rgba(255,255,255,1)\",\"width\":800},                        {\"responsive\": true}                    ).then(function(){\n",
       "                            \n",
       "var gd = document.getElementById('81e662d3-cb14-452a-9045-96e534eed041');\n",
       "var x = new MutationObserver(function (mutations, observer) {{\n",
       "        var display = window.getComputedStyle(gd).display;\n",
       "        if (!display || display === 'none') {{\n",
       "            console.log([gd, 'removed!']);\n",
       "            Plotly.purge(gd);\n",
       "            observer.disconnect();\n",
       "        }}\n",
       "}});\n",
       "\n",
       "// Listen for the removal of the full notebook cells\n",
       "var notebookContainer = gd.closest('#notebook-container');\n",
       "if (notebookContainer) {{\n",
       "    x.observe(notebookContainer, {childList: true});\n",
       "}}\n",
       "\n",
       "// Listen for the clearing of the current output cell\n",
       "var outputEl = gd.closest('.output');\n",
       "if (outputEl) {{\n",
       "    x.observe(outputEl, {childList: true});\n",
       "}}\n",
       "\n",
       "                        })                };                            </script>        </div>\n",
       "</body>\n",
       "</html>"
      ]
     },
     "metadata": {},
     "output_type": "display_data"
    }
   ],
   "source": [
    "import plotly.graph_objects as go\n",
    "\n",
    "gray_scale = {\n",
    "    'ExtraTreesClassifier': '#616161',\n",
    "    'RandomForestClassifier': '#787878',\n",
    "    'XGBClassifier': '#8F8F8F',\n",
    "    'LGBMClassifier': '#A6A6A6',\n",
    "    'DecisionTreeClassifier': '#BDBDBD'\n",
    "}\n",
    "\n",
    "# Metrics data\n",
    "models = ['ExtraTreesClassifier', 'RandomForestClassifier', 'XGBClassifier', 'LGBMClassifier', 'DecisionTreeClassifier']\n",
    "\n",
    "precision_data = [\n",
    "    [0.8224, 0.7789, 0.7653, 0.7687], #ETC\n",
    "    [0.8230, 0.7546, 0.7769, 0.7658],  #RF\n",
    "    [0.7687, 0.58967759, 0.66175048 ,0.67593178],#XGB\n",
    "     [0.76075153, 0.57122283, 0.6417694,  0.64108911], #LGBMClassifie\n",
    "    [0.81658481, 0.64094782, 0.63427328, 0.457     ] #DecisionTreeClassifier\n",
    "]\n",
    "\n",
    "recall_data = [\n",
    "   [0.93169506, 0.70825677, 0.57938126, 0.54929078],\n",
    "   [0.92444584, 0.68762966, 0.62778123, 0.48262411],\n",
    "   [0.88100285, 0.54312133, 0.48524067, 0.37943262],\n",
    "   [0.87634451, 0.5172189,  0.47070295, 0.36737589],\n",
    "   [0.82235482, 0.65093948, 0.59418491, 0.48617021]\n",
    "]\n",
    "\n",
    "fscore_data = [\n",
    "      [0.87364417, 0.7419435,  0.65950255, 0.64074457],\n",
    "       [0.87079995, 0.71959805, 0.69444989, 0.5921253 ],\n",
    "        [0.82107317, 0.56544276, 0.55991408, 0.48603225],\n",
    "         [0.81446709, 0.54288114, 0.54308361, 0.46708747],\n",
    "          [0.81945966, 0.64590501, 0.61357499, 0.47113402]\n",
    "]\n",
    "\n",
    "\n",
    "# Classes\n",
    "classes = ['car', 'bike', 'walk', 'pt']\n",
    "\n",
    "def plot_metric(data, metric_name):\n",
    "    fig = go.Figure()\n",
    "    for idx, model in enumerate(models):\n",
    "        fig.add_trace(go.Bar(\n",
    "            x=classes,\n",
    "            y=data[idx],\n",
    "            name=model,\n",
    "            marker_color=gray_scale[model]\n",
    "        ))\n",
    "    fig.update_layout(\n",
    "        barmode='group'\n",
    "    )\n",
    "\n",
    "    # Apply aesthetics\n",
    "    fig = aesthetics(fig, title=f'{metric_name} for Each Model by Class',\n",
    "                     xaxis_title='Class', yaxis_title=metric_name, title_size=25,width=800)\n",
    "    fig.show()\n",
    "\n",
    "# Plot precision, recall, and f-score\n",
    "plot_metric(precision_data, 'Precision')\n",
    "plot_metric(recall_data, 'Recall')\n",
    "plot_metric(fscore_data, 'F-Score')\n"
   ]
  },
  {
   "cell_type": "markdown",
   "metadata": {
    "id": "B3L-QeMI7Xzw"
   },
   "source": [
    "Upon evaluating the performance metrics of various models, the **ExtraTreesClassifier** emerges as the most promising, particularly in its ability to classify the minority class 'pt'. It achieves a F-score of 0.64 for 'pt', which is notably higher than most other models. Additionally, for the dominant class, the F-score is even more commendable at 0.87, underscoring the model's overall robustness.\n",
    "\n",
    "Following closely is the **RandomForestClassifier**, which also exhibits a respectable performance for the 'pt' class with an F-score of 0.59. Another model worth mentioning is the **DecisionTreeClassifier,** which ranks third in its ability to classify 'pt'.\n",
    "\n",
    "Given their performance, it's prudent to focus our hyperparameter optimization efforts on these three models: ExtraTreesClassifier, RandomForestClassifier, and DecisionTreeClassifier. By refining their configurations, we aim to further enhance their classification capabilities."
   ]
  },
  {
   "cell_type": "markdown",
   "metadata": {
    "id": "h9owZSB92E9A"
   },
   "source": [
    "## 2 Stratified K-Fold Cross- Validation for ExtraTreesClassifier, RandomForestClassifier,DecisionTreeClassifier"
   ]
  },
  {
   "cell_type": "code",
   "execution_count": null,
   "metadata": {
    "colab": {
     "base_uri": "https://localhost:8080/"
    },
    "executionInfo": {
     "elapsed": 354042,
     "status": "ok",
     "timestamp": 1694029020267,
     "user": {
      "displayName": "April Itriago",
      "userId": "10552117681411633732"
     },
     "user_tz": -120
    },
    "id": "WgAFIjbs91Ji",
    "outputId": "00df13db-11cb-47e0-8470-614765a02c34"
   },
   "outputs": [
    {
     "name": "stdout",
     "output_type": "stream",
     "text": [
      "Model: ExtraTreesClassifier\n",
      "Test accuracy: 0.8319494218689867\n",
      "Train accuracy: 0.9916485843532922\n",
      "----------------------------------------\n",
      "Model: RandomForestClassifier\n",
      "Test accuracy: 0.820387680269359\n",
      "Train accuracy: 0.9916370424355201\n",
      "----------------------------------------\n",
      "Model: DecisionTreeClassifier\n",
      "Test accuracy: 0.7400294324999813\n",
      "Train accuracy: 0.9916485843532922\n",
      "----------------------------------------\n"
     ]
    }
   ],
   "source": [
    "# Ensure y_train is a 1D array or Series\n",
    "y_train_1d = np.ravel(y_train)\n",
    "\n",
    "# Stratified K-Fold cross-validation\n",
    "skf = StratifiedKFold(n_splits=5, shuffle=True, random_state=4)\n",
    "\n",
    "# Models\n",
    "models = {\n",
    "    \"ExtraTreesClassifier\": ExtraTreesClassifier(random_state=4),\n",
    "    \"RandomForestClassifier\": RandomForestClassifier(random_state=4),\n",
    "    \"DecisionTreeClassifier\": DecisionTreeClassifier(random_state=4),\n",
    "\n",
    "}\n",
    "\n",
    "# Cross-validate each model\n",
    "for name, model in models.items():\n",
    "    clf = cross_validate(\n",
    "        model,\n",
    "        X_train,\n",
    "        y_train_1d,\n",
    "        scoring='accuracy',\n",
    "        return_train_score=True,\n",
    "        cv=skf  # k-fold\n",
    "    )\n",
    "\n",
    "    print(f\"Model: {name}\")\n",
    "    print(f\"Test accuracy: {clf['test_score'].mean()}\")\n",
    "    print(f\"Train accuracy: {clf['train_score'].mean()}\")\n",
    "    print(\"-\" * 40)\n"
   ]
  },
  {
   "cell_type": "code",
   "execution_count": null,
   "metadata": {
    "colab": {
     "base_uri": "https://localhost:8080/"
    },
    "executionInfo": {
     "elapsed": 309105,
     "status": "ok",
     "timestamp": 1694029495052,
     "user": {
      "displayName": "April Itriago",
      "userId": "10552117681411633732"
     },
     "user_tz": -120
    },
    "id": "fphztOZbAamY",
    "outputId": "0df76da7-11e0-417d-fb5f-058b2f654874"
   },
   "outputs": [
    {
     "name": "stdout",
     "output_type": "stream",
     "text": [
      "Model: ExtraTreesClassifier\n",
      "Test F1 (macro): 74.82%\n",
      "Train F1 (macro): 99.10%\n",
      "----------------------------------------\n",
      "Model: RandomForestClassifier\n",
      "Test F1 (macro): 73.18%\n",
      "Train F1 (macro): 99.10%\n",
      "----------------------------------------\n",
      "Model: DecisionTreeClassifier\n",
      "Test F1 (macro): 64.05%\n",
      "Train F1 (macro): 99.10%\n",
      "----------------------------------------\n"
     ]
    }
   ],
   "source": [
    "from sklearn.metrics import make_scorer, f1_score\n",
    "\n",
    "# Define your models\n",
    "models = {\n",
    "    'ExtraTreesClassifier': ExtraTreesClassifier(random_state=0),\n",
    "    'RandomForestClassifier': RandomForestClassifier(random_state=0),\n",
    "    'DecisionTreeClassifier': DecisionTreeClassifier(random_state=0)\n",
    "}\n",
    "\n",
    "# Stratified K-Fold Cross-Validation\n",
    "skf = StratifiedKFold(n_splits=5, shuffle=True, random_state=4)\n",
    "\n",
    "# Loop over your models\n",
    "for model_name, model in models.items():\n",
    "    # Estimate generalization F1 score\n",
    "    clf = cross_validate(\n",
    "        model,\n",
    "        X_train,\n",
    "        y_train,\n",
    "        scoring=make_scorer(f1_score, average='macro'),  # Change here\n",
    "        return_train_score=True,\n",
    "        cv=skf, # StratifiedKFold\n",
    "        n_jobs=-1  # Use all CPU cores\n",
    "    )\n",
    "\n",
    "    # Print results\n",
    "    print(f\"Model: {model_name}\")\n",
    "    print(f\"Test F1 (macro): {clf['test_score'].mean() * 100:.2f}%\")\n",
    "    print(f\"Train F1 (macro): {clf['train_score'].mean() * 100:.2f}%\")\n",
    "    print(\"----------------------------------------\")\n"
   ]
  },
  {
   "cell_type": "markdown",
   "metadata": {
    "id": "P3VGjFi7FxhI"
   },
   "source": [
    "The results indicate that all three models are likely overfitting the training data since there's a substantial difference between the training and test F1 scores.\n",
    "\n",
    "**ExtraTreesClassifier:**\n",
    "\n",
    "The highest F1 score on the test set among the three models.\n",
    "Like the other models, it achieves almost perfect scores on the training data, indicating overfitting.\n",
    "\n",
    "**RandomForestClassifier:**\n",
    "\n",
    "Performs slightly worse than ExtraTreesClassifier on the test set.\n",
    "Again, there's a significant gap between the training and test scores, suggesting overfitting.\n",
    "\n",
    "**DecisionTreeClassifier:**\n",
    "The F1 score on the test set is the lowest among the three models.\n",
    "As expected from a single decision tree, it's more prone to overfitting, especially if it's allowed to grow deep."
   ]
  },
  {
   "cell_type": "markdown",
   "metadata": {
    "id": "-MCJ3G5LU5Tr"
   },
   "source": [
    "## 3 Hyperparameter optimization - Extreme Gradient Boosting"
   ]
  },
  {
   "cell_type": "markdown",
   "metadata": {
    "id": "ZJFVPG2Qsee9"
   },
   "source": [
    "### 3.1 Grid search with Dataset perfomace_2"
   ]
  },
  {
   "cell_type": "markdown",
   "metadata": {
    "id": "DyFje4u4uFTw"
   },
   "source": [
    "We are going to made the grid search using the Dataset perfomance 2.After obtain the results we are going to apply the stratified k-fold-validation.\n",
    "When we have reacha optimus hyperparameter perfomance we will use the others to datasets."
   ]
  },
  {
   "cell_type": "code",
   "execution_count": null,
   "metadata": {
    "colab": {
     "base_uri": "https://localhost:8080/"
    },
    "executionInfo": {
     "elapsed": 25229371,
     "status": "ok",
     "timestamp": 1694452609989,
     "user": {
      "displayName": "April Itriago",
      "userId": "10552117681411633732"
     },
     "user_tz": -120
    },
    "id": "DxXrju-ouiqg",
    "outputId": "ca9bc679-754c-469e-fad9-11df6065a881"
   },
   "outputs": [
    {
     "name": "stdout",
     "output_type": "stream",
     "text": [
      "Fitting 3 folds for each of 50 candidates, totalling 150 fits\n"
     ]
    },
    {
     "name": "stderr",
     "output_type": "stream",
     "text": [
      "/opt/anaconda3/lib/python3.9/site-packages/xgboost/sklearn.py:835: UserWarning: `eval_metric` in `fit` method is deprecated for better compatibility with scikit-learn, use `eval_metric` in constructor or`set_params` instead.\n",
      "  warnings.warn(\n",
      "/opt/anaconda3/lib/python3.9/site-packages/xgboost/sklearn.py:835: UserWarning: `early_stopping_rounds` in `fit` method is deprecated for better compatibility with scikit-learn, use `early_stopping_rounds` in constructor or`set_params` instead.\n",
      "  warnings.warn(\n",
      "/opt/anaconda3/lib/python3.9/site-packages/xgboost/sklearn.py:835: UserWarning: `eval_metric` in `fit` method is deprecated for better compatibility with scikit-learn, use `eval_metric` in constructor or`set_params` instead.\n",
      "  warnings.warn(\n",
      "/opt/anaconda3/lib/python3.9/site-packages/xgboost/sklearn.py:835: UserWarning: `early_stopping_rounds` in `fit` method is deprecated for better compatibility with scikit-learn, use `early_stopping_rounds` in constructor or`set_params` instead.\n",
      "  warnings.warn(\n",
      "/opt/anaconda3/lib/python3.9/site-packages/xgboost/sklearn.py:835: UserWarning: `eval_metric` in `fit` method is deprecated for better compatibility with scikit-learn, use `eval_metric` in constructor or`set_params` instead.\n",
      "  warnings.warn(\n",
      "/opt/anaconda3/lib/python3.9/site-packages/xgboost/sklearn.py:835: UserWarning: `early_stopping_rounds` in `fit` method is deprecated for better compatibility with scikit-learn, use `early_stopping_rounds` in constructor or`set_params` instead.\n",
      "  warnings.warn(\n",
      "/opt/anaconda3/lib/python3.9/site-packages/xgboost/sklearn.py:835: UserWarning: `eval_metric` in `fit` method is deprecated for better compatibility with scikit-learn, use `eval_metric` in constructor or`set_params` instead.\n",
      "  warnings.warn(\n",
      "/opt/anaconda3/lib/python3.9/site-packages/xgboost/sklearn.py:835: UserWarning: `early_stopping_rounds` in `fit` method is deprecated for better compatibility with scikit-learn, use `early_stopping_rounds` in constructor or`set_params` instead.\n",
      "  warnings.warn(\n",
      "/opt/anaconda3/lib/python3.9/site-packages/xgboost/sklearn.py:835: UserWarning: `eval_metric` in `fit` method is deprecated for better compatibility with scikit-learn, use `eval_metric` in constructor or`set_params` instead.\n",
      "  warnings.warn(\n",
      "/opt/anaconda3/lib/python3.9/site-packages/xgboost/sklearn.py:835: UserWarning: `early_stopping_rounds` in `fit` method is deprecated for better compatibility with scikit-learn, use `early_stopping_rounds` in constructor or`set_params` instead.\n",
      "  warnings.warn(\n",
      "/opt/anaconda3/lib/python3.9/site-packages/xgboost/sklearn.py:835: UserWarning: `eval_metric` in `fit` method is deprecated for better compatibility with scikit-learn, use `eval_metric` in constructor or`set_params` instead.\n",
      "  warnings.warn(\n",
      "/opt/anaconda3/lib/python3.9/site-packages/xgboost/sklearn.py:835: UserWarning: `early_stopping_rounds` in `fit` method is deprecated for better compatibility with scikit-learn, use `early_stopping_rounds` in constructor or`set_params` instead.\n",
      "  warnings.warn(\n",
      "/opt/anaconda3/lib/python3.9/site-packages/xgboost/sklearn.py:835: UserWarning: `eval_metric` in `fit` method is deprecated for better compatibility with scikit-learn, use `eval_metric` in constructor or`set_params` instead.\n",
      "  warnings.warn(\n",
      "/opt/anaconda3/lib/python3.9/site-packages/xgboost/sklearn.py:835: UserWarning: `early_stopping_rounds` in `fit` method is deprecated for better compatibility with scikit-learn, use `early_stopping_rounds` in constructor or`set_params` instead.\n",
      "  warnings.warn(\n",
      "/opt/anaconda3/lib/python3.9/site-packages/xgboost/sklearn.py:835: UserWarning: `eval_metric` in `fit` method is deprecated for better compatibility with scikit-learn, use `eval_metric` in constructor or`set_params` instead.\n",
      "  warnings.warn(\n",
      "/opt/anaconda3/lib/python3.9/site-packages/xgboost/sklearn.py:835: UserWarning: `early_stopping_rounds` in `fit` method is deprecated for better compatibility with scikit-learn, use `early_stopping_rounds` in constructor or`set_params` instead.\n",
      "  warnings.warn(\n",
      "/opt/anaconda3/lib/python3.9/site-packages/xgboost/sklearn.py:835: UserWarning: `eval_metric` in `fit` method is deprecated for better compatibility with scikit-learn, use `eval_metric` in constructor or`set_params` instead.\n",
      "  warnings.warn(\n",
      "/opt/anaconda3/lib/python3.9/site-packages/xgboost/sklearn.py:835: UserWarning: `early_stopping_rounds` in `fit` method is deprecated for better compatibility with scikit-learn, use `early_stopping_rounds` in constructor or`set_params` instead.\n",
      "  warnings.warn(\n",
      "/opt/anaconda3/lib/python3.9/site-packages/xgboost/sklearn.py:835: UserWarning: `eval_metric` in `fit` method is deprecated for better compatibility with scikit-learn, use `eval_metric` in constructor or`set_params` instead.\n",
      "  warnings.warn(\n",
      "/opt/anaconda3/lib/python3.9/site-packages/xgboost/sklearn.py:835: UserWarning: `early_stopping_rounds` in `fit` method is deprecated for better compatibility with scikit-learn, use `early_stopping_rounds` in constructor or`set_params` instead.\n",
      "  warnings.warn(\n",
      "/opt/anaconda3/lib/python3.9/site-packages/xgboost/sklearn.py:835: UserWarning: `eval_metric` in `fit` method is deprecated for better compatibility with scikit-learn, use `eval_metric` in constructor or`set_params` instead.\n",
      "  warnings.warn(\n",
      "/opt/anaconda3/lib/python3.9/site-packages/xgboost/sklearn.py:835: UserWarning: `early_stopping_rounds` in `fit` method is deprecated for better compatibility with scikit-learn, use `early_stopping_rounds` in constructor or`set_params` instead.\n",
      "  warnings.warn(\n",
      "/opt/anaconda3/lib/python3.9/site-packages/xgboost/sklearn.py:835: UserWarning: `eval_metric` in `fit` method is deprecated for better compatibility with scikit-learn, use `eval_metric` in constructor or`set_params` instead.\n",
      "  warnings.warn(\n",
      "/opt/anaconda3/lib/python3.9/site-packages/xgboost/sklearn.py:835: UserWarning: `early_stopping_rounds` in `fit` method is deprecated for better compatibility with scikit-learn, use `early_stopping_rounds` in constructor or`set_params` instead.\n",
      "  warnings.warn(\n",
      "/opt/anaconda3/lib/python3.9/site-packages/xgboost/sklearn.py:835: UserWarning: `eval_metric` in `fit` method is deprecated for better compatibility with scikit-learn, use `eval_metric` in constructor or`set_params` instead.\n",
      "  warnings.warn(\n",
      "/opt/anaconda3/lib/python3.9/site-packages/xgboost/sklearn.py:835: UserWarning: `early_stopping_rounds` in `fit` method is deprecated for better compatibility with scikit-learn, use `early_stopping_rounds` in constructor or`set_params` instead.\n",
      "  warnings.warn(\n",
      "/opt/anaconda3/lib/python3.9/site-packages/xgboost/sklearn.py:835: UserWarning: `eval_metric` in `fit` method is deprecated for better compatibility with scikit-learn, use `eval_metric` in constructor or`set_params` instead.\n",
      "  warnings.warn(\n",
      "/opt/anaconda3/lib/python3.9/site-packages/xgboost/sklearn.py:835: UserWarning: `early_stopping_rounds` in `fit` method is deprecated for better compatibility with scikit-learn, use `early_stopping_rounds` in constructor or`set_params` instead.\n",
      "  warnings.warn(\n",
      "/opt/anaconda3/lib/python3.9/site-packages/xgboost/sklearn.py:835: UserWarning: `eval_metric` in `fit` method is deprecated for better compatibility with scikit-learn, use `eval_metric` in constructor or`set_params` instead.\n",
      "  warnings.warn(\n",
      "/opt/anaconda3/lib/python3.9/site-packages/xgboost/sklearn.py:835: UserWarning: `early_stopping_rounds` in `fit` method is deprecated for better compatibility with scikit-learn, use `early_stopping_rounds` in constructor or`set_params` instead.\n",
      "  warnings.warn(\n",
      "/opt/anaconda3/lib/python3.9/site-packages/xgboost/sklearn.py:835: UserWarning: `eval_metric` in `fit` method is deprecated for better compatibility with scikit-learn, use `eval_metric` in constructor or`set_params` instead.\n",
      "  warnings.warn(\n",
      "/opt/anaconda3/lib/python3.9/site-packages/xgboost/sklearn.py:835: UserWarning: `early_stopping_rounds` in `fit` method is deprecated for better compatibility with scikit-learn, use `early_stopping_rounds` in constructor or`set_params` instead.\n",
      "  warnings.warn(\n",
      "/opt/anaconda3/lib/python3.9/site-packages/xgboost/sklearn.py:835: UserWarning: `eval_metric` in `fit` method is deprecated for better compatibility with scikit-learn, use `eval_metric` in constructor or`set_params` instead.\n",
      "  warnings.warn(\n",
      "/opt/anaconda3/lib/python3.9/site-packages/xgboost/sklearn.py:835: UserWarning: `early_stopping_rounds` in `fit` method is deprecated for better compatibility with scikit-learn, use `early_stopping_rounds` in constructor or`set_params` instead.\n",
      "  warnings.warn(\n",
      "/opt/anaconda3/lib/python3.9/site-packages/xgboost/sklearn.py:835: UserWarning: `eval_metric` in `fit` method is deprecated for better compatibility with scikit-learn, use `eval_metric` in constructor or`set_params` instead.\n",
      "  warnings.warn(\n",
      "/opt/anaconda3/lib/python3.9/site-packages/xgboost/sklearn.py:835: UserWarning: `early_stopping_rounds` in `fit` method is deprecated for better compatibility with scikit-learn, use `early_stopping_rounds` in constructor or`set_params` instead.\n",
      "  warnings.warn(\n",
      "/opt/anaconda3/lib/python3.9/site-packages/xgboost/sklearn.py:835: UserWarning: `eval_metric` in `fit` method is deprecated for better compatibility with scikit-learn, use `eval_metric` in constructor or`set_params` instead.\n",
      "  warnings.warn(\n",
      "/opt/anaconda3/lib/python3.9/site-packages/xgboost/sklearn.py:835: UserWarning: `early_stopping_rounds` in `fit` method is deprecated for better compatibility with scikit-learn, use `early_stopping_rounds` in constructor or`set_params` instead.\n",
      "  warnings.warn(\n",
      "/opt/anaconda3/lib/python3.9/site-packages/xgboost/sklearn.py:835: UserWarning: `eval_metric` in `fit` method is deprecated for better compatibility with scikit-learn, use `eval_metric` in constructor or`set_params` instead.\n",
      "  warnings.warn(\n",
      "/opt/anaconda3/lib/python3.9/site-packages/xgboost/sklearn.py:835: UserWarning: `early_stopping_rounds` in `fit` method is deprecated for better compatibility with scikit-learn, use `early_stopping_rounds` in constructor or`set_params` instead.\n",
      "  warnings.warn(\n",
      "/opt/anaconda3/lib/python3.9/site-packages/xgboost/sklearn.py:835: UserWarning: `eval_metric` in `fit` method is deprecated for better compatibility with scikit-learn, use `eval_metric` in constructor or`set_params` instead.\n",
      "  warnings.warn(\n",
      "/opt/anaconda3/lib/python3.9/site-packages/xgboost/sklearn.py:835: UserWarning: `early_stopping_rounds` in `fit` method is deprecated for better compatibility with scikit-learn, use `early_stopping_rounds` in constructor or`set_params` instead.\n",
      "  warnings.warn(\n",
      "/opt/anaconda3/lib/python3.9/site-packages/xgboost/sklearn.py:835: UserWarning: `eval_metric` in `fit` method is deprecated for better compatibility with scikit-learn, use `eval_metric` in constructor or`set_params` instead.\n",
      "  warnings.warn(\n",
      "/opt/anaconda3/lib/python3.9/site-packages/xgboost/sklearn.py:835: UserWarning: `early_stopping_rounds` in `fit` method is deprecated for better compatibility with scikit-learn, use `early_stopping_rounds` in constructor or`set_params` instead.\n",
      "  warnings.warn(\n",
      "/opt/anaconda3/lib/python3.9/site-packages/xgboost/sklearn.py:835: UserWarning: `eval_metric` in `fit` method is deprecated for better compatibility with scikit-learn, use `eval_metric` in constructor or`set_params` instead.\n",
      "  warnings.warn(\n",
      "/opt/anaconda3/lib/python3.9/site-packages/xgboost/sklearn.py:835: UserWarning: `early_stopping_rounds` in `fit` method is deprecated for better compatibility with scikit-learn, use `early_stopping_rounds` in constructor or`set_params` instead.\n",
      "  warnings.warn(\n",
      "/opt/anaconda3/lib/python3.9/site-packages/xgboost/sklearn.py:835: UserWarning: `eval_metric` in `fit` method is deprecated for better compatibility with scikit-learn, use `eval_metric` in constructor or`set_params` instead.\n",
      "  warnings.warn(\n",
      "/opt/anaconda3/lib/python3.9/site-packages/xgboost/sklearn.py:835: UserWarning: `early_stopping_rounds` in `fit` method is deprecated for better compatibility with scikit-learn, use `early_stopping_rounds` in constructor or`set_params` instead.\n",
      "  warnings.warn(\n",
      "/opt/anaconda3/lib/python3.9/site-packages/xgboost/sklearn.py:835: UserWarning: `eval_metric` in `fit` method is deprecated for better compatibility with scikit-learn, use `eval_metric` in constructor or`set_params` instead.\n",
      "  warnings.warn(\n",
      "/opt/anaconda3/lib/python3.9/site-packages/xgboost/sklearn.py:835: UserWarning: `early_stopping_rounds` in `fit` method is deprecated for better compatibility with scikit-learn, use `early_stopping_rounds` in constructor or`set_params` instead.\n",
      "  warnings.warn(\n",
      "/opt/anaconda3/lib/python3.9/site-packages/xgboost/sklearn.py:835: UserWarning: `eval_metric` in `fit` method is deprecated for better compatibility with scikit-learn, use `eval_metric` in constructor or`set_params` instead.\n",
      "  warnings.warn(\n",
      "/opt/anaconda3/lib/python3.9/site-packages/xgboost/sklearn.py:835: UserWarning: `early_stopping_rounds` in `fit` method is deprecated for better compatibility with scikit-learn, use `early_stopping_rounds` in constructor or`set_params` instead.\n",
      "  warnings.warn(\n",
      "/opt/anaconda3/lib/python3.9/site-packages/xgboost/sklearn.py:835: UserWarning: `eval_metric` in `fit` method is deprecated for better compatibility with scikit-learn, use `eval_metric` in constructor or`set_params` instead.\n",
      "  warnings.warn(\n",
      "/opt/anaconda3/lib/python3.9/site-packages/xgboost/sklearn.py:835: UserWarning: `early_stopping_rounds` in `fit` method is deprecated for better compatibility with scikit-learn, use `early_stopping_rounds` in constructor or`set_params` instead.\n",
      "  warnings.warn(\n",
      "/opt/anaconda3/lib/python3.9/site-packages/xgboost/sklearn.py:835: UserWarning: `eval_metric` in `fit` method is deprecated for better compatibility with scikit-learn, use `eval_metric` in constructor or`set_params` instead.\n",
      "  warnings.warn(\n",
      "/opt/anaconda3/lib/python3.9/site-packages/xgboost/sklearn.py:835: UserWarning: `early_stopping_rounds` in `fit` method is deprecated for better compatibility with scikit-learn, use `early_stopping_rounds` in constructor or`set_params` instead.\n",
      "  warnings.warn(\n",
      "/opt/anaconda3/lib/python3.9/site-packages/xgboost/sklearn.py:835: UserWarning: `eval_metric` in `fit` method is deprecated for better compatibility with scikit-learn, use `eval_metric` in constructor or`set_params` instead.\n",
      "  warnings.warn(\n",
      "/opt/anaconda3/lib/python3.9/site-packages/xgboost/sklearn.py:835: UserWarning: `early_stopping_rounds` in `fit` method is deprecated for better compatibility with scikit-learn, use `early_stopping_rounds` in constructor or`set_params` instead.\n",
      "  warnings.warn(\n",
      "/opt/anaconda3/lib/python3.9/site-packages/xgboost/sklearn.py:835: UserWarning: `eval_metric` in `fit` method is deprecated for better compatibility with scikit-learn, use `eval_metric` in constructor or`set_params` instead.\n",
      "  warnings.warn(\n",
      "/opt/anaconda3/lib/python3.9/site-packages/xgboost/sklearn.py:835: UserWarning: `early_stopping_rounds` in `fit` method is deprecated for better compatibility with scikit-learn, use `early_stopping_rounds` in constructor or`set_params` instead.\n",
      "  warnings.warn(\n",
      "/opt/anaconda3/lib/python3.9/site-packages/xgboost/sklearn.py:835: UserWarning: `eval_metric` in `fit` method is deprecated for better compatibility with scikit-learn, use `eval_metric` in constructor or`set_params` instead.\n",
      "  warnings.warn(\n",
      "/opt/anaconda3/lib/python3.9/site-packages/xgboost/sklearn.py:835: UserWarning: `early_stopping_rounds` in `fit` method is deprecated for better compatibility with scikit-learn, use `early_stopping_rounds` in constructor or`set_params` instead.\n",
      "  warnings.warn(\n",
      "/opt/anaconda3/lib/python3.9/site-packages/xgboost/sklearn.py:835: UserWarning: `eval_metric` in `fit` method is deprecated for better compatibility with scikit-learn, use `eval_metric` in constructor or`set_params` instead.\n",
      "  warnings.warn(\n",
      "/opt/anaconda3/lib/python3.9/site-packages/xgboost/sklearn.py:835: UserWarning: `early_stopping_rounds` in `fit` method is deprecated for better compatibility with scikit-learn, use `early_stopping_rounds` in constructor or`set_params` instead.\n",
      "  warnings.warn(\n",
      "/opt/anaconda3/lib/python3.9/site-packages/xgboost/sklearn.py:835: UserWarning: `eval_metric` in `fit` method is deprecated for better compatibility with scikit-learn, use `eval_metric` in constructor or`set_params` instead.\n",
      "  warnings.warn(\n",
      "/opt/anaconda3/lib/python3.9/site-packages/xgboost/sklearn.py:835: UserWarning: `early_stopping_rounds` in `fit` method is deprecated for better compatibility with scikit-learn, use `early_stopping_rounds` in constructor or`set_params` instead.\n",
      "  warnings.warn(\n",
      "/opt/anaconda3/lib/python3.9/site-packages/xgboost/sklearn.py:835: UserWarning: `eval_metric` in `fit` method is deprecated for better compatibility with scikit-learn, use `eval_metric` in constructor or`set_params` instead.\n",
      "  warnings.warn(\n",
      "/opt/anaconda3/lib/python3.9/site-packages/xgboost/sklearn.py:835: UserWarning: `early_stopping_rounds` in `fit` method is deprecated for better compatibility with scikit-learn, use `early_stopping_rounds` in constructor or`set_params` instead.\n",
      "  warnings.warn(\n",
      "/opt/anaconda3/lib/python3.9/site-packages/xgboost/sklearn.py:835: UserWarning: `eval_metric` in `fit` method is deprecated for better compatibility with scikit-learn, use `eval_metric` in constructor or`set_params` instead.\n",
      "  warnings.warn(\n",
      "/opt/anaconda3/lib/python3.9/site-packages/xgboost/sklearn.py:835: UserWarning: `early_stopping_rounds` in `fit` method is deprecated for better compatibility with scikit-learn, use `early_stopping_rounds` in constructor or`set_params` instead.\n",
      "  warnings.warn(\n",
      "/opt/anaconda3/lib/python3.9/site-packages/xgboost/sklearn.py:835: UserWarning: `eval_metric` in `fit` method is deprecated for better compatibility with scikit-learn, use `eval_metric` in constructor or`set_params` instead.\n",
      "  warnings.warn(\n",
      "/opt/anaconda3/lib/python3.9/site-packages/xgboost/sklearn.py:835: UserWarning: `early_stopping_rounds` in `fit` method is deprecated for better compatibility with scikit-learn, use `early_stopping_rounds` in constructor or`set_params` instead.\n",
      "  warnings.warn(\n",
      "/opt/anaconda3/lib/python3.9/site-packages/xgboost/sklearn.py:835: UserWarning: `eval_metric` in `fit` method is deprecated for better compatibility with scikit-learn, use `eval_metric` in constructor or`set_params` instead.\n",
      "  warnings.warn(\n",
      "/opt/anaconda3/lib/python3.9/site-packages/xgboost/sklearn.py:835: UserWarning: `early_stopping_rounds` in `fit` method is deprecated for better compatibility with scikit-learn, use `early_stopping_rounds` in constructor or`set_params` instead.\n",
      "  warnings.warn(\n",
      "/opt/anaconda3/lib/python3.9/site-packages/xgboost/sklearn.py:835: UserWarning: `eval_metric` in `fit` method is deprecated for better compatibility with scikit-learn, use `eval_metric` in constructor or`set_params` instead.\n",
      "  warnings.warn(\n",
      "/opt/anaconda3/lib/python3.9/site-packages/xgboost/sklearn.py:835: UserWarning: `early_stopping_rounds` in `fit` method is deprecated for better compatibility with scikit-learn, use `early_stopping_rounds` in constructor or`set_params` instead.\n",
      "  warnings.warn(\n",
      "/opt/anaconda3/lib/python3.9/site-packages/xgboost/sklearn.py:835: UserWarning: `eval_metric` in `fit` method is deprecated for better compatibility with scikit-learn, use `eval_metric` in constructor or`set_params` instead.\n",
      "  warnings.warn(\n",
      "/opt/anaconda3/lib/python3.9/site-packages/xgboost/sklearn.py:835: UserWarning: `early_stopping_rounds` in `fit` method is deprecated for better compatibility with scikit-learn, use `early_stopping_rounds` in constructor or`set_params` instead.\n",
      "  warnings.warn(\n",
      "/opt/anaconda3/lib/python3.9/site-packages/xgboost/sklearn.py:835: UserWarning: `eval_metric` in `fit` method is deprecated for better compatibility with scikit-learn, use `eval_metric` in constructor or`set_params` instead.\n",
      "  warnings.warn(\n",
      "/opt/anaconda3/lib/python3.9/site-packages/xgboost/sklearn.py:835: UserWarning: `early_stopping_rounds` in `fit` method is deprecated for better compatibility with scikit-learn, use `early_stopping_rounds` in constructor or`set_params` instead.\n",
      "  warnings.warn(\n",
      "/opt/anaconda3/lib/python3.9/site-packages/xgboost/sklearn.py:835: UserWarning: `eval_metric` in `fit` method is deprecated for better compatibility with scikit-learn, use `eval_metric` in constructor or`set_params` instead.\n",
      "  warnings.warn(\n",
      "/opt/anaconda3/lib/python3.9/site-packages/xgboost/sklearn.py:835: UserWarning: `early_stopping_rounds` in `fit` method is deprecated for better compatibility with scikit-learn, use `early_stopping_rounds` in constructor or`set_params` instead.\n",
      "  warnings.warn(\n",
      "/opt/anaconda3/lib/python3.9/site-packages/xgboost/sklearn.py:835: UserWarning: `eval_metric` in `fit` method is deprecated for better compatibility with scikit-learn, use `eval_metric` in constructor or`set_params` instead.\n",
      "  warnings.warn(\n",
      "/opt/anaconda3/lib/python3.9/site-packages/xgboost/sklearn.py:835: UserWarning: `early_stopping_rounds` in `fit` method is deprecated for better compatibility with scikit-learn, use `early_stopping_rounds` in constructor or`set_params` instead.\n",
      "  warnings.warn(\n",
      "/opt/anaconda3/lib/python3.9/site-packages/xgboost/sklearn.py:835: UserWarning: `eval_metric` in `fit` method is deprecated for better compatibility with scikit-learn, use `eval_metric` in constructor or`set_params` instead.\n",
      "  warnings.warn(\n",
      "/opt/anaconda3/lib/python3.9/site-packages/xgboost/sklearn.py:835: UserWarning: `early_stopping_rounds` in `fit` method is deprecated for better compatibility with scikit-learn, use `early_stopping_rounds` in constructor or`set_params` instead.\n",
      "  warnings.warn(\n",
      "/opt/anaconda3/lib/python3.9/site-packages/xgboost/sklearn.py:835: UserWarning: `eval_metric` in `fit` method is deprecated for better compatibility with scikit-learn, use `eval_metric` in constructor or`set_params` instead.\n",
      "  warnings.warn(\n",
      "/opt/anaconda3/lib/python3.9/site-packages/xgboost/sklearn.py:835: UserWarning: `early_stopping_rounds` in `fit` method is deprecated for better compatibility with scikit-learn, use `early_stopping_rounds` in constructor or`set_params` instead.\n",
      "  warnings.warn(\n",
      "/opt/anaconda3/lib/python3.9/site-packages/xgboost/sklearn.py:835: UserWarning: `eval_metric` in `fit` method is deprecated for better compatibility with scikit-learn, use `eval_metric` in constructor or`set_params` instead.\n",
      "  warnings.warn(\n",
      "/opt/anaconda3/lib/python3.9/site-packages/xgboost/sklearn.py:835: UserWarning: `early_stopping_rounds` in `fit` method is deprecated for better compatibility with scikit-learn, use `early_stopping_rounds` in constructor or`set_params` instead.\n",
      "  warnings.warn(\n",
      "/opt/anaconda3/lib/python3.9/site-packages/xgboost/sklearn.py:835: UserWarning: `eval_metric` in `fit` method is deprecated for better compatibility with scikit-learn, use `eval_metric` in constructor or`set_params` instead.\n",
      "  warnings.warn(\n",
      "/opt/anaconda3/lib/python3.9/site-packages/xgboost/sklearn.py:835: UserWarning: `early_stopping_rounds` in `fit` method is deprecated for better compatibility with scikit-learn, use `early_stopping_rounds` in constructor or`set_params` instead.\n",
      "  warnings.warn(\n",
      "/opt/anaconda3/lib/python3.9/site-packages/xgboost/sklearn.py:835: UserWarning: `eval_metric` in `fit` method is deprecated for better compatibility with scikit-learn, use `eval_metric` in constructor or`set_params` instead.\n",
      "  warnings.warn(\n",
      "/opt/anaconda3/lib/python3.9/site-packages/xgboost/sklearn.py:835: UserWarning: `early_stopping_rounds` in `fit` method is deprecated for better compatibility with scikit-learn, use `early_stopping_rounds` in constructor or`set_params` instead.\n",
      "  warnings.warn(\n",
      "/opt/anaconda3/lib/python3.9/site-packages/xgboost/sklearn.py:835: UserWarning: `eval_metric` in `fit` method is deprecated for better compatibility with scikit-learn, use `eval_metric` in constructor or`set_params` instead.\n",
      "  warnings.warn(\n",
      "/opt/anaconda3/lib/python3.9/site-packages/xgboost/sklearn.py:835: UserWarning: `early_stopping_rounds` in `fit` method is deprecated for better compatibility with scikit-learn, use `early_stopping_rounds` in constructor or`set_params` instead.\n",
      "  warnings.warn(\n",
      "/opt/anaconda3/lib/python3.9/site-packages/xgboost/sklearn.py:835: UserWarning: `eval_metric` in `fit` method is deprecated for better compatibility with scikit-learn, use `eval_metric` in constructor or`set_params` instead.\n",
      "  warnings.warn(\n",
      "/opt/anaconda3/lib/python3.9/site-packages/xgboost/sklearn.py:835: UserWarning: `early_stopping_rounds` in `fit` method is deprecated for better compatibility with scikit-learn, use `early_stopping_rounds` in constructor or`set_params` instead.\n",
      "  warnings.warn(\n",
      "/opt/anaconda3/lib/python3.9/site-packages/xgboost/sklearn.py:835: UserWarning: `eval_metric` in `fit` method is deprecated for better compatibility with scikit-learn, use `eval_metric` in constructor or`set_params` instead.\n",
      "  warnings.warn(\n",
      "/opt/anaconda3/lib/python3.9/site-packages/xgboost/sklearn.py:835: UserWarning: `early_stopping_rounds` in `fit` method is deprecated for better compatibility with scikit-learn, use `early_stopping_rounds` in constructor or`set_params` instead.\n",
      "  warnings.warn(\n",
      "/opt/anaconda3/lib/python3.9/site-packages/xgboost/sklearn.py:835: UserWarning: `eval_metric` in `fit` method is deprecated for better compatibility with scikit-learn, use `eval_metric` in constructor or`set_params` instead.\n",
      "  warnings.warn(\n",
      "/opt/anaconda3/lib/python3.9/site-packages/xgboost/sklearn.py:835: UserWarning: `early_stopping_rounds` in `fit` method is deprecated for better compatibility with scikit-learn, use `early_stopping_rounds` in constructor or`set_params` instead.\n",
      "  warnings.warn(\n",
      "/opt/anaconda3/lib/python3.9/site-packages/xgboost/sklearn.py:835: UserWarning: `eval_metric` in `fit` method is deprecated for better compatibility with scikit-learn, use `eval_metric` in constructor or`set_params` instead.\n",
      "  warnings.warn(\n",
      "/opt/anaconda3/lib/python3.9/site-packages/xgboost/sklearn.py:835: UserWarning: `early_stopping_rounds` in `fit` method is deprecated for better compatibility with scikit-learn, use `early_stopping_rounds` in constructor or`set_params` instead.\n",
      "  warnings.warn(\n",
      "/opt/anaconda3/lib/python3.9/site-packages/xgboost/sklearn.py:835: UserWarning: `eval_metric` in `fit` method is deprecated for better compatibility with scikit-learn, use `eval_metric` in constructor or`set_params` instead.\n",
      "  warnings.warn(\n",
      "/opt/anaconda3/lib/python3.9/site-packages/xgboost/sklearn.py:835: UserWarning: `early_stopping_rounds` in `fit` method is deprecated for better compatibility with scikit-learn, use `early_stopping_rounds` in constructor or`set_params` instead.\n",
      "  warnings.warn(\n",
      "/opt/anaconda3/lib/python3.9/site-packages/xgboost/sklearn.py:835: UserWarning: `eval_metric` in `fit` method is deprecated for better compatibility with scikit-learn, use `eval_metric` in constructor or`set_params` instead.\n",
      "  warnings.warn(\n",
      "/opt/anaconda3/lib/python3.9/site-packages/xgboost/sklearn.py:835: UserWarning: `early_stopping_rounds` in `fit` method is deprecated for better compatibility with scikit-learn, use `early_stopping_rounds` in constructor or`set_params` instead.\n",
      "  warnings.warn(\n",
      "/opt/anaconda3/lib/python3.9/site-packages/xgboost/sklearn.py:835: UserWarning: `eval_metric` in `fit` method is deprecated for better compatibility with scikit-learn, use `eval_metric` in constructor or`set_params` instead.\n",
      "  warnings.warn(\n",
      "/opt/anaconda3/lib/python3.9/site-packages/xgboost/sklearn.py:835: UserWarning: `early_stopping_rounds` in `fit` method is deprecated for better compatibility with scikit-learn, use `early_stopping_rounds` in constructor or`set_params` instead.\n",
      "  warnings.warn(\n",
      "/opt/anaconda3/lib/python3.9/site-packages/xgboost/sklearn.py:835: UserWarning: `eval_metric` in `fit` method is deprecated for better compatibility with scikit-learn, use `eval_metric` in constructor or`set_params` instead.\n",
      "  warnings.warn(\n",
      "/opt/anaconda3/lib/python3.9/site-packages/xgboost/sklearn.py:835: UserWarning: `early_stopping_rounds` in `fit` method is deprecated for better compatibility with scikit-learn, use `early_stopping_rounds` in constructor or`set_params` instead.\n",
      "  warnings.warn(\n",
      "/opt/anaconda3/lib/python3.9/site-packages/xgboost/sklearn.py:835: UserWarning: `eval_metric` in `fit` method is deprecated for better compatibility with scikit-learn, use `eval_metric` in constructor or`set_params` instead.\n",
      "  warnings.warn(\n",
      "/opt/anaconda3/lib/python3.9/site-packages/xgboost/sklearn.py:835: UserWarning: `early_stopping_rounds` in `fit` method is deprecated for better compatibility with scikit-learn, use `early_stopping_rounds` in constructor or`set_params` instead.\n",
      "  warnings.warn(\n",
      "/opt/anaconda3/lib/python3.9/site-packages/xgboost/sklearn.py:835: UserWarning: `eval_metric` in `fit` method is deprecated for better compatibility with scikit-learn, use `eval_metric` in constructor or`set_params` instead.\n",
      "  warnings.warn(\n",
      "/opt/anaconda3/lib/python3.9/site-packages/xgboost/sklearn.py:835: UserWarning: `early_stopping_rounds` in `fit` method is deprecated for better compatibility with scikit-learn, use `early_stopping_rounds` in constructor or`set_params` instead.\n",
      "  warnings.warn(\n",
      "/opt/anaconda3/lib/python3.9/site-packages/xgboost/sklearn.py:835: UserWarning: `eval_metric` in `fit` method is deprecated for better compatibility with scikit-learn, use `eval_metric` in constructor or`set_params` instead.\n",
      "  warnings.warn(\n",
      "/opt/anaconda3/lib/python3.9/site-packages/xgboost/sklearn.py:835: UserWarning: `early_stopping_rounds` in `fit` method is deprecated for better compatibility with scikit-learn, use `early_stopping_rounds` in constructor or`set_params` instead.\n",
      "  warnings.warn(\n",
      "/opt/anaconda3/lib/python3.9/site-packages/xgboost/sklearn.py:835: UserWarning: `eval_metric` in `fit` method is deprecated for better compatibility with scikit-learn, use `eval_metric` in constructor or`set_params` instead.\n",
      "  warnings.warn(\n",
      "/opt/anaconda3/lib/python3.9/site-packages/xgboost/sklearn.py:835: UserWarning: `early_stopping_rounds` in `fit` method is deprecated for better compatibility with scikit-learn, use `early_stopping_rounds` in constructor or`set_params` instead.\n",
      "  warnings.warn(\n",
      "/opt/anaconda3/lib/python3.9/site-packages/xgboost/sklearn.py:835: UserWarning: `eval_metric` in `fit` method is deprecated for better compatibility with scikit-learn, use `eval_metric` in constructor or`set_params` instead.\n",
      "  warnings.warn(\n",
      "/opt/anaconda3/lib/python3.9/site-packages/xgboost/sklearn.py:835: UserWarning: `early_stopping_rounds` in `fit` method is deprecated for better compatibility with scikit-learn, use `early_stopping_rounds` in constructor or`set_params` instead.\n",
      "  warnings.warn(\n",
      "/opt/anaconda3/lib/python3.9/site-packages/xgboost/sklearn.py:835: UserWarning: `eval_metric` in `fit` method is deprecated for better compatibility with scikit-learn, use `eval_metric` in constructor or`set_params` instead.\n",
      "  warnings.warn(\n",
      "/opt/anaconda3/lib/python3.9/site-packages/xgboost/sklearn.py:835: UserWarning: `early_stopping_rounds` in `fit` method is deprecated for better compatibility with scikit-learn, use `early_stopping_rounds` in constructor or`set_params` instead.\n",
      "  warnings.warn(\n",
      "/opt/anaconda3/lib/python3.9/site-packages/xgboost/sklearn.py:835: UserWarning: `eval_metric` in `fit` method is deprecated for better compatibility with scikit-learn, use `eval_metric` in constructor or`set_params` instead.\n",
      "  warnings.warn(\n",
      "/opt/anaconda3/lib/python3.9/site-packages/xgboost/sklearn.py:835: UserWarning: `early_stopping_rounds` in `fit` method is deprecated for better compatibility with scikit-learn, use `early_stopping_rounds` in constructor or`set_params` instead.\n",
      "  warnings.warn(\n",
      "/opt/anaconda3/lib/python3.9/site-packages/xgboost/sklearn.py:835: UserWarning: `eval_metric` in `fit` method is deprecated for better compatibility with scikit-learn, use `eval_metric` in constructor or`set_params` instead.\n",
      "  warnings.warn(\n",
      "/opt/anaconda3/lib/python3.9/site-packages/xgboost/sklearn.py:835: UserWarning: `early_stopping_rounds` in `fit` method is deprecated for better compatibility with scikit-learn, use `early_stopping_rounds` in constructor or`set_params` instead.\n",
      "  warnings.warn(\n",
      "/opt/anaconda3/lib/python3.9/site-packages/xgboost/sklearn.py:835: UserWarning: `eval_metric` in `fit` method is deprecated for better compatibility with scikit-learn, use `eval_metric` in constructor or`set_params` instead.\n",
      "  warnings.warn(\n",
      "/opt/anaconda3/lib/python3.9/site-packages/xgboost/sklearn.py:835: UserWarning: `early_stopping_rounds` in `fit` method is deprecated for better compatibility with scikit-learn, use `early_stopping_rounds` in constructor or`set_params` instead.\n",
      "  warnings.warn(\n",
      "/opt/anaconda3/lib/python3.9/site-packages/xgboost/sklearn.py:835: UserWarning: `eval_metric` in `fit` method is deprecated for better compatibility with scikit-learn, use `eval_metric` in constructor or`set_params` instead.\n",
      "  warnings.warn(\n",
      "/opt/anaconda3/lib/python3.9/site-packages/xgboost/sklearn.py:835: UserWarning: `early_stopping_rounds` in `fit` method is deprecated for better compatibility with scikit-learn, use `early_stopping_rounds` in constructor or`set_params` instead.\n",
      "  warnings.warn(\n",
      "/opt/anaconda3/lib/python3.9/site-packages/xgboost/sklearn.py:835: UserWarning: `eval_metric` in `fit` method is deprecated for better compatibility with scikit-learn, use `eval_metric` in constructor or`set_params` instead.\n",
      "  warnings.warn(\n",
      "/opt/anaconda3/lib/python3.9/site-packages/xgboost/sklearn.py:835: UserWarning: `early_stopping_rounds` in `fit` method is deprecated for better compatibility with scikit-learn, use `early_stopping_rounds` in constructor or`set_params` instead.\n",
      "  warnings.warn(\n",
      "/opt/anaconda3/lib/python3.9/site-packages/xgboost/sklearn.py:835: UserWarning: `eval_metric` in `fit` method is deprecated for better compatibility with scikit-learn, use `eval_metric` in constructor or`set_params` instead.\n",
      "  warnings.warn(\n",
      "/opt/anaconda3/lib/python3.9/site-packages/xgboost/sklearn.py:835: UserWarning: `early_stopping_rounds` in `fit` method is deprecated for better compatibility with scikit-learn, use `early_stopping_rounds` in constructor or`set_params` instead.\n",
      "  warnings.warn(\n",
      "/opt/anaconda3/lib/python3.9/site-packages/xgboost/sklearn.py:835: UserWarning: `eval_metric` in `fit` method is deprecated for better compatibility with scikit-learn, use `eval_metric` in constructor or`set_params` instead.\n",
      "  warnings.warn(\n",
      "/opt/anaconda3/lib/python3.9/site-packages/xgboost/sklearn.py:835: UserWarning: `early_stopping_rounds` in `fit` method is deprecated for better compatibility with scikit-learn, use `early_stopping_rounds` in constructor or`set_params` instead.\n",
      "  warnings.warn(\n",
      "/opt/anaconda3/lib/python3.9/site-packages/xgboost/sklearn.py:835: UserWarning: `eval_metric` in `fit` method is deprecated for better compatibility with scikit-learn, use `eval_metric` in constructor or`set_params` instead.\n",
      "  warnings.warn(\n",
      "/opt/anaconda3/lib/python3.9/site-packages/xgboost/sklearn.py:835: UserWarning: `early_stopping_rounds` in `fit` method is deprecated for better compatibility with scikit-learn, use `early_stopping_rounds` in constructor or`set_params` instead.\n",
      "  warnings.warn(\n",
      "/opt/anaconda3/lib/python3.9/site-packages/xgboost/sklearn.py:835: UserWarning: `eval_metric` in `fit` method is deprecated for better compatibility with scikit-learn, use `eval_metric` in constructor or`set_params` instead.\n",
      "  warnings.warn(\n",
      "/opt/anaconda3/lib/python3.9/site-packages/xgboost/sklearn.py:835: UserWarning: `early_stopping_rounds` in `fit` method is deprecated for better compatibility with scikit-learn, use `early_stopping_rounds` in constructor or`set_params` instead.\n",
      "  warnings.warn(\n",
      "/opt/anaconda3/lib/python3.9/site-packages/xgboost/sklearn.py:835: UserWarning: `eval_metric` in `fit` method is deprecated for better compatibility with scikit-learn, use `eval_metric` in constructor or`set_params` instead.\n",
      "  warnings.warn(\n",
      "/opt/anaconda3/lib/python3.9/site-packages/xgboost/sklearn.py:835: UserWarning: `early_stopping_rounds` in `fit` method is deprecated for better compatibility with scikit-learn, use `early_stopping_rounds` in constructor or`set_params` instead.\n",
      "  warnings.warn(\n",
      "/opt/anaconda3/lib/python3.9/site-packages/xgboost/sklearn.py:835: UserWarning: `eval_metric` in `fit` method is deprecated for better compatibility with scikit-learn, use `eval_metric` in constructor or`set_params` instead.\n",
      "  warnings.warn(\n",
      "/opt/anaconda3/lib/python3.9/site-packages/xgboost/sklearn.py:835: UserWarning: `early_stopping_rounds` in `fit` method is deprecated for better compatibility with scikit-learn, use `early_stopping_rounds` in constructor or`set_params` instead.\n",
      "  warnings.warn(\n",
      "/opt/anaconda3/lib/python3.9/site-packages/xgboost/sklearn.py:835: UserWarning: `eval_metric` in `fit` method is deprecated for better compatibility with scikit-learn, use `eval_metric` in constructor or`set_params` instead.\n",
      "  warnings.warn(\n",
      "/opt/anaconda3/lib/python3.9/site-packages/xgboost/sklearn.py:835: UserWarning: `early_stopping_rounds` in `fit` method is deprecated for better compatibility with scikit-learn, use `early_stopping_rounds` in constructor or`set_params` instead.\n",
      "  warnings.warn(\n",
      "/opt/anaconda3/lib/python3.9/site-packages/xgboost/sklearn.py:835: UserWarning: `eval_metric` in `fit` method is deprecated for better compatibility with scikit-learn, use `eval_metric` in constructor or`set_params` instead.\n",
      "  warnings.warn(\n",
      "/opt/anaconda3/lib/python3.9/site-packages/xgboost/sklearn.py:835: UserWarning: `early_stopping_rounds` in `fit` method is deprecated for better compatibility with scikit-learn, use `early_stopping_rounds` in constructor or`set_params` instead.\n",
      "  warnings.warn(\n",
      "/opt/anaconda3/lib/python3.9/site-packages/xgboost/sklearn.py:835: UserWarning: `eval_metric` in `fit` method is deprecated for better compatibility with scikit-learn, use `eval_metric` in constructor or`set_params` instead.\n",
      "  warnings.warn(\n",
      "/opt/anaconda3/lib/python3.9/site-packages/xgboost/sklearn.py:835: UserWarning: `early_stopping_rounds` in `fit` method is deprecated for better compatibility with scikit-learn, use `early_stopping_rounds` in constructor or`set_params` instead.\n",
      "  warnings.warn(\n",
      "/opt/anaconda3/lib/python3.9/site-packages/xgboost/sklearn.py:835: UserWarning: `eval_metric` in `fit` method is deprecated for better compatibility with scikit-learn, use `eval_metric` in constructor or`set_params` instead.\n",
      "  warnings.warn(\n",
      "/opt/anaconda3/lib/python3.9/site-packages/xgboost/sklearn.py:835: UserWarning: `early_stopping_rounds` in `fit` method is deprecated for better compatibility with scikit-learn, use `early_stopping_rounds` in constructor or`set_params` instead.\n",
      "  warnings.warn(\n",
      "/opt/anaconda3/lib/python3.9/site-packages/xgboost/sklearn.py:835: UserWarning: `eval_metric` in `fit` method is deprecated for better compatibility with scikit-learn, use `eval_metric` in constructor or`set_params` instead.\n",
      "  warnings.warn(\n",
      "/opt/anaconda3/lib/python3.9/site-packages/xgboost/sklearn.py:835: UserWarning: `early_stopping_rounds` in `fit` method is deprecated for better compatibility with scikit-learn, use `early_stopping_rounds` in constructor or`set_params` instead.\n",
      "  warnings.warn(\n",
      "/opt/anaconda3/lib/python3.9/site-packages/xgboost/sklearn.py:835: UserWarning: `eval_metric` in `fit` method is deprecated for better compatibility with scikit-learn, use `eval_metric` in constructor or`set_params` instead.\n",
      "  warnings.warn(\n",
      "/opt/anaconda3/lib/python3.9/site-packages/xgboost/sklearn.py:835: UserWarning: `early_stopping_rounds` in `fit` method is deprecated for better compatibility with scikit-learn, use `early_stopping_rounds` in constructor or`set_params` instead.\n",
      "  warnings.warn(\n",
      "/opt/anaconda3/lib/python3.9/site-packages/xgboost/sklearn.py:835: UserWarning: `eval_metric` in `fit` method is deprecated for better compatibility with scikit-learn, use `eval_metric` in constructor or`set_params` instead.\n",
      "  warnings.warn(\n",
      "/opt/anaconda3/lib/python3.9/site-packages/xgboost/sklearn.py:835: UserWarning: `early_stopping_rounds` in `fit` method is deprecated for better compatibility with scikit-learn, use `early_stopping_rounds` in constructor or`set_params` instead.\n",
      "  warnings.warn(\n",
      "/opt/anaconda3/lib/python3.9/site-packages/xgboost/sklearn.py:835: UserWarning: `eval_metric` in `fit` method is deprecated for better compatibility with scikit-learn, use `eval_metric` in constructor or`set_params` instead.\n",
      "  warnings.warn(\n",
      "/opt/anaconda3/lib/python3.9/site-packages/xgboost/sklearn.py:835: UserWarning: `early_stopping_rounds` in `fit` method is deprecated for better compatibility with scikit-learn, use `early_stopping_rounds` in constructor or`set_params` instead.\n",
      "  warnings.warn(\n",
      "/opt/anaconda3/lib/python3.9/site-packages/xgboost/sklearn.py:835: UserWarning: `eval_metric` in `fit` method is deprecated for better compatibility with scikit-learn, use `eval_metric` in constructor or`set_params` instead.\n",
      "  warnings.warn(\n",
      "/opt/anaconda3/lib/python3.9/site-packages/xgboost/sklearn.py:835: UserWarning: `early_stopping_rounds` in `fit` method is deprecated for better compatibility with scikit-learn, use `early_stopping_rounds` in constructor or`set_params` instead.\n",
      "  warnings.warn(\n",
      "/opt/anaconda3/lib/python3.9/site-packages/xgboost/sklearn.py:835: UserWarning: `eval_metric` in `fit` method is deprecated for better compatibility with scikit-learn, use `eval_metric` in constructor or`set_params` instead.\n",
      "  warnings.warn(\n",
      "/opt/anaconda3/lib/python3.9/site-packages/xgboost/sklearn.py:835: UserWarning: `early_stopping_rounds` in `fit` method is deprecated for better compatibility with scikit-learn, use `early_stopping_rounds` in constructor or`set_params` instead.\n",
      "  warnings.warn(\n",
      "/opt/anaconda3/lib/python3.9/site-packages/xgboost/sklearn.py:835: UserWarning: `eval_metric` in `fit` method is deprecated for better compatibility with scikit-learn, use `eval_metric` in constructor or`set_params` instead.\n",
      "  warnings.warn(\n",
      "/opt/anaconda3/lib/python3.9/site-packages/xgboost/sklearn.py:835: UserWarning: `early_stopping_rounds` in `fit` method is deprecated for better compatibility with scikit-learn, use `early_stopping_rounds` in constructor or`set_params` instead.\n",
      "  warnings.warn(\n",
      "/opt/anaconda3/lib/python3.9/site-packages/xgboost/sklearn.py:835: UserWarning: `eval_metric` in `fit` method is deprecated for better compatibility with scikit-learn, use `eval_metric` in constructor or`set_params` instead.\n",
      "  warnings.warn(\n",
      "/opt/anaconda3/lib/python3.9/site-packages/xgboost/sklearn.py:835: UserWarning: `early_stopping_rounds` in `fit` method is deprecated for better compatibility with scikit-learn, use `early_stopping_rounds` in constructor or`set_params` instead.\n",
      "  warnings.warn(\n",
      "/opt/anaconda3/lib/python3.9/site-packages/xgboost/sklearn.py:835: UserWarning: `eval_metric` in `fit` method is deprecated for better compatibility with scikit-learn, use `eval_metric` in constructor or`set_params` instead.\n",
      "  warnings.warn(\n",
      "/opt/anaconda3/lib/python3.9/site-packages/xgboost/sklearn.py:835: UserWarning: `early_stopping_rounds` in `fit` method is deprecated for better compatibility with scikit-learn, use `early_stopping_rounds` in constructor or`set_params` instead.\n",
      "  warnings.warn(\n",
      "/opt/anaconda3/lib/python3.9/site-packages/xgboost/sklearn.py:835: UserWarning: `eval_metric` in `fit` method is deprecated for better compatibility with scikit-learn, use `eval_metric` in constructor or`set_params` instead.\n",
      "  warnings.warn(\n",
      "/opt/anaconda3/lib/python3.9/site-packages/xgboost/sklearn.py:835: UserWarning: `early_stopping_rounds` in `fit` method is deprecated for better compatibility with scikit-learn, use `early_stopping_rounds` in constructor or`set_params` instead.\n",
      "  warnings.warn(\n",
      "/opt/anaconda3/lib/python3.9/site-packages/xgboost/sklearn.py:835: UserWarning: `eval_metric` in `fit` method is deprecated for better compatibility with scikit-learn, use `eval_metric` in constructor or`set_params` instead.\n",
      "  warnings.warn(\n",
      "/opt/anaconda3/lib/python3.9/site-packages/xgboost/sklearn.py:835: UserWarning: `early_stopping_rounds` in `fit` method is deprecated for better compatibility with scikit-learn, use `early_stopping_rounds` in constructor or`set_params` instead.\n",
      "  warnings.warn(\n",
      "/opt/anaconda3/lib/python3.9/site-packages/xgboost/sklearn.py:835: UserWarning: `eval_metric` in `fit` method is deprecated for better compatibility with scikit-learn, use `eval_metric` in constructor or`set_params` instead.\n",
      "  warnings.warn(\n",
      "/opt/anaconda3/lib/python3.9/site-packages/xgboost/sklearn.py:835: UserWarning: `early_stopping_rounds` in `fit` method is deprecated for better compatibility with scikit-learn, use `early_stopping_rounds` in constructor or`set_params` instead.\n",
      "  warnings.warn(\n",
      "/opt/anaconda3/lib/python3.9/site-packages/xgboost/sklearn.py:835: UserWarning: `eval_metric` in `fit` method is deprecated for better compatibility with scikit-learn, use `eval_metric` in constructor or`set_params` instead.\n",
      "  warnings.warn(\n",
      "/opt/anaconda3/lib/python3.9/site-packages/xgboost/sklearn.py:835: UserWarning: `early_stopping_rounds` in `fit` method is deprecated for better compatibility with scikit-learn, use `early_stopping_rounds` in constructor or`set_params` instead.\n",
      "  warnings.warn(\n",
      "/opt/anaconda3/lib/python3.9/site-packages/xgboost/sklearn.py:835: UserWarning: `eval_metric` in `fit` method is deprecated for better compatibility with scikit-learn, use `eval_metric` in constructor or`set_params` instead.\n",
      "  warnings.warn(\n",
      "/opt/anaconda3/lib/python3.9/site-packages/xgboost/sklearn.py:835: UserWarning: `early_stopping_rounds` in `fit` method is deprecated for better compatibility with scikit-learn, use `early_stopping_rounds` in constructor or`set_params` instead.\n",
      "  warnings.warn(\n",
      "/opt/anaconda3/lib/python3.9/site-packages/xgboost/sklearn.py:835: UserWarning: `eval_metric` in `fit` method is deprecated for better compatibility with scikit-learn, use `eval_metric` in constructor or`set_params` instead.\n",
      "  warnings.warn(\n",
      "/opt/anaconda3/lib/python3.9/site-packages/xgboost/sklearn.py:835: UserWarning: `early_stopping_rounds` in `fit` method is deprecated for better compatibility with scikit-learn, use `early_stopping_rounds` in constructor or`set_params` instead.\n",
      "  warnings.warn(\n",
      "/opt/anaconda3/lib/python3.9/site-packages/xgboost/sklearn.py:835: UserWarning: `eval_metric` in `fit` method is deprecated for better compatibility with scikit-learn, use `eval_metric` in constructor or`set_params` instead.\n",
      "  warnings.warn(\n",
      "/opt/anaconda3/lib/python3.9/site-packages/xgboost/sklearn.py:835: UserWarning: `early_stopping_rounds` in `fit` method is deprecated for better compatibility with scikit-learn, use `early_stopping_rounds` in constructor or`set_params` instead.\n",
      "  warnings.warn(\n",
      "/opt/anaconda3/lib/python3.9/site-packages/xgboost/sklearn.py:835: UserWarning: `eval_metric` in `fit` method is deprecated for better compatibility with scikit-learn, use `eval_metric` in constructor or`set_params` instead.\n",
      "  warnings.warn(\n",
      "/opt/anaconda3/lib/python3.9/site-packages/xgboost/sklearn.py:835: UserWarning: `early_stopping_rounds` in `fit` method is deprecated for better compatibility with scikit-learn, use `early_stopping_rounds` in constructor or`set_params` instead.\n",
      "  warnings.warn(\n",
      "/opt/anaconda3/lib/python3.9/site-packages/xgboost/sklearn.py:835: UserWarning: `eval_metric` in `fit` method is deprecated for better compatibility with scikit-learn, use `eval_metric` in constructor or`set_params` instead.\n",
      "  warnings.warn(\n",
      "/opt/anaconda3/lib/python3.9/site-packages/xgboost/sklearn.py:835: UserWarning: `early_stopping_rounds` in `fit` method is deprecated for better compatibility with scikit-learn, use `early_stopping_rounds` in constructor or`set_params` instead.\n",
      "  warnings.warn(\n",
      "/opt/anaconda3/lib/python3.9/site-packages/xgboost/sklearn.py:835: UserWarning: `eval_metric` in `fit` method is deprecated for better compatibility with scikit-learn, use `eval_metric` in constructor or`set_params` instead.\n",
      "  warnings.warn(\n",
      "/opt/anaconda3/lib/python3.9/site-packages/xgboost/sklearn.py:835: UserWarning: `early_stopping_rounds` in `fit` method is deprecated for better compatibility with scikit-learn, use `early_stopping_rounds` in constructor or`set_params` instead.\n",
      "  warnings.warn(\n",
      "/opt/anaconda3/lib/python3.9/site-packages/xgboost/sklearn.py:835: UserWarning: `eval_metric` in `fit` method is deprecated for better compatibility with scikit-learn, use `eval_metric` in constructor or`set_params` instead.\n",
      "  warnings.warn(\n",
      "/opt/anaconda3/lib/python3.9/site-packages/xgboost/sklearn.py:835: UserWarning: `early_stopping_rounds` in `fit` method is deprecated for better compatibility with scikit-learn, use `early_stopping_rounds` in constructor or`set_params` instead.\n",
      "  warnings.warn(\n",
      "/opt/anaconda3/lib/python3.9/site-packages/xgboost/sklearn.py:835: UserWarning: `eval_metric` in `fit` method is deprecated for better compatibility with scikit-learn, use `eval_metric` in constructor or`set_params` instead.\n",
      "  warnings.warn(\n",
      "/opt/anaconda3/lib/python3.9/site-packages/xgboost/sklearn.py:835: UserWarning: `early_stopping_rounds` in `fit` method is deprecated for better compatibility with scikit-learn, use `early_stopping_rounds` in constructor or`set_params` instead.\n",
      "  warnings.warn(\n",
      "/opt/anaconda3/lib/python3.9/site-packages/xgboost/sklearn.py:835: UserWarning: `eval_metric` in `fit` method is deprecated for better compatibility with scikit-learn, use `eval_metric` in constructor or`set_params` instead.\n",
      "  warnings.warn(\n",
      "/opt/anaconda3/lib/python3.9/site-packages/xgboost/sklearn.py:835: UserWarning: `early_stopping_rounds` in `fit` method is deprecated for better compatibility with scikit-learn, use `early_stopping_rounds` in constructor or`set_params` instead.\n",
      "  warnings.warn(\n",
      "/opt/anaconda3/lib/python3.9/site-packages/xgboost/sklearn.py:835: UserWarning: `eval_metric` in `fit` method is deprecated for better compatibility with scikit-learn, use `eval_metric` in constructor or`set_params` instead.\n",
      "  warnings.warn(\n",
      "/opt/anaconda3/lib/python3.9/site-packages/xgboost/sklearn.py:835: UserWarning: `early_stopping_rounds` in `fit` method is deprecated for better compatibility with scikit-learn, use `early_stopping_rounds` in constructor or`set_params` instead.\n",
      "  warnings.warn(\n",
      "/opt/anaconda3/lib/python3.9/site-packages/xgboost/sklearn.py:835: UserWarning: `eval_metric` in `fit` method is deprecated for better compatibility with scikit-learn, use `eval_metric` in constructor or`set_params` instead.\n",
      "  warnings.warn(\n",
      "/opt/anaconda3/lib/python3.9/site-packages/xgboost/sklearn.py:835: UserWarning: `early_stopping_rounds` in `fit` method is deprecated for better compatibility with scikit-learn, use `early_stopping_rounds` in constructor or`set_params` instead.\n",
      "  warnings.warn(\n",
      "/opt/anaconda3/lib/python3.9/site-packages/xgboost/sklearn.py:835: UserWarning: `eval_metric` in `fit` method is deprecated for better compatibility with scikit-learn, use `eval_metric` in constructor or`set_params` instead.\n",
      "  warnings.warn(\n",
      "/opt/anaconda3/lib/python3.9/site-packages/xgboost/sklearn.py:835: UserWarning: `early_stopping_rounds` in `fit` method is deprecated for better compatibility with scikit-learn, use `early_stopping_rounds` in constructor or`set_params` instead.\n",
      "  warnings.warn(\n",
      "/opt/anaconda3/lib/python3.9/site-packages/xgboost/sklearn.py:835: UserWarning: `eval_metric` in `fit` method is deprecated for better compatibility with scikit-learn, use `eval_metric` in constructor or`set_params` instead.\n",
      "  warnings.warn(\n",
      "/opt/anaconda3/lib/python3.9/site-packages/xgboost/sklearn.py:835: UserWarning: `early_stopping_rounds` in `fit` method is deprecated for better compatibility with scikit-learn, use `early_stopping_rounds` in constructor or`set_params` instead.\n",
      "  warnings.warn(\n",
      "/opt/anaconda3/lib/python3.9/site-packages/xgboost/sklearn.py:835: UserWarning: `eval_metric` in `fit` method is deprecated for better compatibility with scikit-learn, use `eval_metric` in constructor or`set_params` instead.\n",
      "  warnings.warn(\n",
      "/opt/anaconda3/lib/python3.9/site-packages/xgboost/sklearn.py:835: UserWarning: `early_stopping_rounds` in `fit` method is deprecated for better compatibility with scikit-learn, use `early_stopping_rounds` in constructor or`set_params` instead.\n",
      "  warnings.warn(\n",
      "/opt/anaconda3/lib/python3.9/site-packages/xgboost/sklearn.py:835: UserWarning: `eval_metric` in `fit` method is deprecated for better compatibility with scikit-learn, use `eval_metric` in constructor or`set_params` instead.\n",
      "  warnings.warn(\n",
      "/opt/anaconda3/lib/python3.9/site-packages/xgboost/sklearn.py:835: UserWarning: `early_stopping_rounds` in `fit` method is deprecated for better compatibility with scikit-learn, use `early_stopping_rounds` in constructor or`set_params` instead.\n",
      "  warnings.warn(\n",
      "/opt/anaconda3/lib/python3.9/site-packages/xgboost/sklearn.py:835: UserWarning: `eval_metric` in `fit` method is deprecated for better compatibility with scikit-learn, use `eval_metric` in constructor or`set_params` instead.\n",
      "  warnings.warn(\n",
      "/opt/anaconda3/lib/python3.9/site-packages/xgboost/sklearn.py:835: UserWarning: `early_stopping_rounds` in `fit` method is deprecated for better compatibility with scikit-learn, use `early_stopping_rounds` in constructor or`set_params` instead.\n",
      "  warnings.warn(\n",
      "/opt/anaconda3/lib/python3.9/site-packages/xgboost/sklearn.py:835: UserWarning: `eval_metric` in `fit` method is deprecated for better compatibility with scikit-learn, use `eval_metric` in constructor or`set_params` instead.\n",
      "  warnings.warn(\n",
      "/opt/anaconda3/lib/python3.9/site-packages/xgboost/sklearn.py:835: UserWarning: `early_stopping_rounds` in `fit` method is deprecated for better compatibility with scikit-learn, use `early_stopping_rounds` in constructor or`set_params` instead.\n",
      "  warnings.warn(\n",
      "/opt/anaconda3/lib/python3.9/site-packages/xgboost/sklearn.py:835: UserWarning: `eval_metric` in `fit` method is deprecated for better compatibility with scikit-learn, use `eval_metric` in constructor or`set_params` instead.\n",
      "  warnings.warn(\n",
      "/opt/anaconda3/lib/python3.9/site-packages/xgboost/sklearn.py:835: UserWarning: `early_stopping_rounds` in `fit` method is deprecated for better compatibility with scikit-learn, use `early_stopping_rounds` in constructor or`set_params` instead.\n",
      "  warnings.warn(\n",
      "/opt/anaconda3/lib/python3.9/site-packages/xgboost/sklearn.py:835: UserWarning: `eval_metric` in `fit` method is deprecated for better compatibility with scikit-learn, use `eval_metric` in constructor or`set_params` instead.\n",
      "  warnings.warn(\n",
      "/opt/anaconda3/lib/python3.9/site-packages/xgboost/sklearn.py:835: UserWarning: `early_stopping_rounds` in `fit` method is deprecated for better compatibility with scikit-learn, use `early_stopping_rounds` in constructor or`set_params` instead.\n",
      "  warnings.warn(\n",
      "/opt/anaconda3/lib/python3.9/site-packages/xgboost/sklearn.py:835: UserWarning: `eval_metric` in `fit` method is deprecated for better compatibility with scikit-learn, use `eval_metric` in constructor or`set_params` instead.\n",
      "  warnings.warn(\n",
      "/opt/anaconda3/lib/python3.9/site-packages/xgboost/sklearn.py:835: UserWarning: `early_stopping_rounds` in `fit` method is deprecated for better compatibility with scikit-learn, use `early_stopping_rounds` in constructor or`set_params` instead.\n",
      "  warnings.warn(\n",
      "/opt/anaconda3/lib/python3.9/site-packages/xgboost/sklearn.py:835: UserWarning: `eval_metric` in `fit` method is deprecated for better compatibility with scikit-learn, use `eval_metric` in constructor or`set_params` instead.\n",
      "  warnings.warn(\n",
      "/opt/anaconda3/lib/python3.9/site-packages/xgboost/sklearn.py:835: UserWarning: `early_stopping_rounds` in `fit` method is deprecated for better compatibility with scikit-learn, use `early_stopping_rounds` in constructor or`set_params` instead.\n",
      "  warnings.warn(\n",
      "/opt/anaconda3/lib/python3.9/site-packages/xgboost/sklearn.py:835: UserWarning: `eval_metric` in `fit` method is deprecated for better compatibility with scikit-learn, use `eval_metric` in constructor or`set_params` instead.\n",
      "  warnings.warn(\n",
      "/opt/anaconda3/lib/python3.9/site-packages/xgboost/sklearn.py:835: UserWarning: `early_stopping_rounds` in `fit` method is deprecated for better compatibility with scikit-learn, use `early_stopping_rounds` in constructor or`set_params` instead.\n",
      "  warnings.warn(\n",
      "/opt/anaconda3/lib/python3.9/site-packages/xgboost/sklearn.py:835: UserWarning: `eval_metric` in `fit` method is deprecated for better compatibility with scikit-learn, use `eval_metric` in constructor or`set_params` instead.\n",
      "  warnings.warn(\n",
      "/opt/anaconda3/lib/python3.9/site-packages/xgboost/sklearn.py:835: UserWarning: `early_stopping_rounds` in `fit` method is deprecated for better compatibility with scikit-learn, use `early_stopping_rounds` in constructor or`set_params` instead.\n",
      "  warnings.warn(\n",
      "/opt/anaconda3/lib/python3.9/site-packages/xgboost/sklearn.py:835: UserWarning: `eval_metric` in `fit` method is deprecated for better compatibility with scikit-learn, use `eval_metric` in constructor or`set_params` instead.\n",
      "  warnings.warn(\n",
      "/opt/anaconda3/lib/python3.9/site-packages/xgboost/sklearn.py:835: UserWarning: `early_stopping_rounds` in `fit` method is deprecated for better compatibility with scikit-learn, use `early_stopping_rounds` in constructor or`set_params` instead.\n",
      "  warnings.warn(\n",
      "/opt/anaconda3/lib/python3.9/site-packages/xgboost/sklearn.py:835: UserWarning: `eval_metric` in `fit` method is deprecated for better compatibility with scikit-learn, use `eval_metric` in constructor or`set_params` instead.\n",
      "  warnings.warn(\n",
      "/opt/anaconda3/lib/python3.9/site-packages/xgboost/sklearn.py:835: UserWarning: `early_stopping_rounds` in `fit` method is deprecated for better compatibility with scikit-learn, use `early_stopping_rounds` in constructor or`set_params` instead.\n",
      "  warnings.warn(\n",
      "/opt/anaconda3/lib/python3.9/site-packages/xgboost/sklearn.py:835: UserWarning: `eval_metric` in `fit` method is deprecated for better compatibility with scikit-learn, use `eval_metric` in constructor or`set_params` instead.\n",
      "  warnings.warn(\n",
      "/opt/anaconda3/lib/python3.9/site-packages/xgboost/sklearn.py:835: UserWarning: `early_stopping_rounds` in `fit` method is deprecated for better compatibility with scikit-learn, use `early_stopping_rounds` in constructor or`set_params` instead.\n",
      "  warnings.warn(\n",
      "/opt/anaconda3/lib/python3.9/site-packages/xgboost/sklearn.py:835: UserWarning: `eval_metric` in `fit` method is deprecated for better compatibility with scikit-learn, use `eval_metric` in constructor or`set_params` instead.\n",
      "  warnings.warn(\n",
      "/opt/anaconda3/lib/python3.9/site-packages/xgboost/sklearn.py:835: UserWarning: `early_stopping_rounds` in `fit` method is deprecated for better compatibility with scikit-learn, use `early_stopping_rounds` in constructor or`set_params` instead.\n",
      "  warnings.warn(\n",
      "/opt/anaconda3/lib/python3.9/site-packages/xgboost/sklearn.py:835: UserWarning: `eval_metric` in `fit` method is deprecated for better compatibility with scikit-learn, use `eval_metric` in constructor or`set_params` instead.\n",
      "  warnings.warn(\n",
      "/opt/anaconda3/lib/python3.9/site-packages/xgboost/sklearn.py:835: UserWarning: `early_stopping_rounds` in `fit` method is deprecated for better compatibility with scikit-learn, use `early_stopping_rounds` in constructor or`set_params` instead.\n",
      "  warnings.warn(\n",
      "/opt/anaconda3/lib/python3.9/site-packages/xgboost/sklearn.py:835: UserWarning: `eval_metric` in `fit` method is deprecated for better compatibility with scikit-learn, use `eval_metric` in constructor or`set_params` instead.\n",
      "  warnings.warn(\n",
      "/opt/anaconda3/lib/python3.9/site-packages/xgboost/sklearn.py:835: UserWarning: `early_stopping_rounds` in `fit` method is deprecated for better compatibility with scikit-learn, use `early_stopping_rounds` in constructor or`set_params` instead.\n",
      "  warnings.warn(\n",
      "/opt/anaconda3/lib/python3.9/site-packages/xgboost/sklearn.py:835: UserWarning: `eval_metric` in `fit` method is deprecated for better compatibility with scikit-learn, use `eval_metric` in constructor or`set_params` instead.\n",
      "  warnings.warn(\n",
      "/opt/anaconda3/lib/python3.9/site-packages/xgboost/sklearn.py:835: UserWarning: `early_stopping_rounds` in `fit` method is deprecated for better compatibility with scikit-learn, use `early_stopping_rounds` in constructor or`set_params` instead.\n",
      "  warnings.warn(\n",
      "/opt/anaconda3/lib/python3.9/site-packages/xgboost/sklearn.py:835: UserWarning: `eval_metric` in `fit` method is deprecated for better compatibility with scikit-learn, use `eval_metric` in constructor or`set_params` instead.\n",
      "  warnings.warn(\n",
      "/opt/anaconda3/lib/python3.9/site-packages/xgboost/sklearn.py:835: UserWarning: `early_stopping_rounds` in `fit` method is deprecated for better compatibility with scikit-learn, use `early_stopping_rounds` in constructor or`set_params` instead.\n",
      "  warnings.warn(\n",
      "/opt/anaconda3/lib/python3.9/site-packages/xgboost/sklearn.py:835: UserWarning: `eval_metric` in `fit` method is deprecated for better compatibility with scikit-learn, use `eval_metric` in constructor or`set_params` instead.\n",
      "  warnings.warn(\n",
      "/opt/anaconda3/lib/python3.9/site-packages/xgboost/sklearn.py:835: UserWarning: `early_stopping_rounds` in `fit` method is deprecated for better compatibility with scikit-learn, use `early_stopping_rounds` in constructor or`set_params` instead.\n",
      "  warnings.warn(\n",
      "/opt/anaconda3/lib/python3.9/site-packages/xgboost/sklearn.py:835: UserWarning: `eval_metric` in `fit` method is deprecated for better compatibility with scikit-learn, use `eval_metric` in constructor or`set_params` instead.\n",
      "  warnings.warn(\n",
      "/opt/anaconda3/lib/python3.9/site-packages/xgboost/sklearn.py:835: UserWarning: `early_stopping_rounds` in `fit` method is deprecated for better compatibility with scikit-learn, use `early_stopping_rounds` in constructor or`set_params` instead.\n",
      "  warnings.warn(\n",
      "/opt/anaconda3/lib/python3.9/site-packages/xgboost/sklearn.py:835: UserWarning: `eval_metric` in `fit` method is deprecated for better compatibility with scikit-learn, use `eval_metric` in constructor or`set_params` instead.\n",
      "  warnings.warn(\n",
      "/opt/anaconda3/lib/python3.9/site-packages/xgboost/sklearn.py:835: UserWarning: `early_stopping_rounds` in `fit` method is deprecated for better compatibility with scikit-learn, use `early_stopping_rounds` in constructor or`set_params` instead.\n",
      "  warnings.warn(\n",
      "/opt/anaconda3/lib/python3.9/site-packages/xgboost/sklearn.py:835: UserWarning: `eval_metric` in `fit` method is deprecated for better compatibility with scikit-learn, use `eval_metric` in constructor or`set_params` instead.\n",
      "  warnings.warn(\n",
      "/opt/anaconda3/lib/python3.9/site-packages/xgboost/sklearn.py:835: UserWarning: `early_stopping_rounds` in `fit` method is deprecated for better compatibility with scikit-learn, use `early_stopping_rounds` in constructor or`set_params` instead.\n",
      "  warnings.warn(\n",
      "/opt/anaconda3/lib/python3.9/site-packages/xgboost/sklearn.py:835: UserWarning: `eval_metric` in `fit` method is deprecated for better compatibility with scikit-learn, use `eval_metric` in constructor or`set_params` instead.\n",
      "  warnings.warn(\n",
      "/opt/anaconda3/lib/python3.9/site-packages/xgboost/sklearn.py:835: UserWarning: `early_stopping_rounds` in `fit` method is deprecated for better compatibility with scikit-learn, use `early_stopping_rounds` in constructor or`set_params` instead.\n",
      "  warnings.warn(\n",
      "/opt/anaconda3/lib/python3.9/site-packages/xgboost/sklearn.py:835: UserWarning: `eval_metric` in `fit` method is deprecated for better compatibility with scikit-learn, use `eval_metric` in constructor or`set_params` instead.\n",
      "  warnings.warn(\n",
      "/opt/anaconda3/lib/python3.9/site-packages/xgboost/sklearn.py:835: UserWarning: `early_stopping_rounds` in `fit` method is deprecated for better compatibility with scikit-learn, use `early_stopping_rounds` in constructor or`set_params` instead.\n",
      "  warnings.warn(\n",
      "/opt/anaconda3/lib/python3.9/site-packages/xgboost/sklearn.py:835: UserWarning: `eval_metric` in `fit` method is deprecated for better compatibility with scikit-learn, use `eval_metric` in constructor or`set_params` instead.\n",
      "  warnings.warn(\n",
      "/opt/anaconda3/lib/python3.9/site-packages/xgboost/sklearn.py:835: UserWarning: `early_stopping_rounds` in `fit` method is deprecated for better compatibility with scikit-learn, use `early_stopping_rounds` in constructor or`set_params` instead.\n",
      "  warnings.warn(\n",
      "/opt/anaconda3/lib/python3.9/site-packages/xgboost/sklearn.py:835: UserWarning: `eval_metric` in `fit` method is deprecated for better compatibility with scikit-learn, use `eval_metric` in constructor or`set_params` instead.\n",
      "  warnings.warn(\n",
      "/opt/anaconda3/lib/python3.9/site-packages/xgboost/sklearn.py:835: UserWarning: `early_stopping_rounds` in `fit` method is deprecated for better compatibility with scikit-learn, use `early_stopping_rounds` in constructor or`set_params` instead.\n",
      "  warnings.warn(\n",
      "/opt/anaconda3/lib/python3.9/site-packages/xgboost/sklearn.py:835: UserWarning: `eval_metric` in `fit` method is deprecated for better compatibility with scikit-learn, use `eval_metric` in constructor or`set_params` instead.\n",
      "  warnings.warn(\n",
      "/opt/anaconda3/lib/python3.9/site-packages/xgboost/sklearn.py:835: UserWarning: `early_stopping_rounds` in `fit` method is deprecated for better compatibility with scikit-learn, use `early_stopping_rounds` in constructor or`set_params` instead.\n",
      "  warnings.warn(\n",
      "/opt/anaconda3/lib/python3.9/site-packages/xgboost/sklearn.py:835: UserWarning: `eval_metric` in `fit` method is deprecated for better compatibility with scikit-learn, use `eval_metric` in constructor or`set_params` instead.\n",
      "  warnings.warn(\n",
      "/opt/anaconda3/lib/python3.9/site-packages/xgboost/sklearn.py:835: UserWarning: `early_stopping_rounds` in `fit` method is deprecated for better compatibility with scikit-learn, use `early_stopping_rounds` in constructor or`set_params` instead.\n",
      "  warnings.warn(\n",
      "/opt/anaconda3/lib/python3.9/site-packages/xgboost/sklearn.py:835: UserWarning: `eval_metric` in `fit` method is deprecated for better compatibility with scikit-learn, use `eval_metric` in constructor or`set_params` instead.\n",
      "  warnings.warn(\n",
      "/opt/anaconda3/lib/python3.9/site-packages/xgboost/sklearn.py:835: UserWarning: `early_stopping_rounds` in `fit` method is deprecated for better compatibility with scikit-learn, use `early_stopping_rounds` in constructor or`set_params` instead.\n",
      "  warnings.warn(\n",
      "/opt/anaconda3/lib/python3.9/site-packages/xgboost/sklearn.py:835: UserWarning: `eval_metric` in `fit` method is deprecated for better compatibility with scikit-learn, use `eval_metric` in constructor or`set_params` instead.\n",
      "  warnings.warn(\n",
      "/opt/anaconda3/lib/python3.9/site-packages/xgboost/sklearn.py:835: UserWarning: `early_stopping_rounds` in `fit` method is deprecated for better compatibility with scikit-learn, use `early_stopping_rounds` in constructor or`set_params` instead.\n",
      "  warnings.warn(\n",
      "/opt/anaconda3/lib/python3.9/site-packages/xgboost/sklearn.py:835: UserWarning: `eval_metric` in `fit` method is deprecated for better compatibility with scikit-learn, use `eval_metric` in constructor or`set_params` instead.\n",
      "  warnings.warn(\n",
      "/opt/anaconda3/lib/python3.9/site-packages/xgboost/sklearn.py:835: UserWarning: `early_stopping_rounds` in `fit` method is deprecated for better compatibility with scikit-learn, use `early_stopping_rounds` in constructor or`set_params` instead.\n",
      "  warnings.warn(\n",
      "/opt/anaconda3/lib/python3.9/site-packages/xgboost/sklearn.py:835: UserWarning: `eval_metric` in `fit` method is deprecated for better compatibility with scikit-learn, use `eval_metric` in constructor or`set_params` instead.\n",
      "  warnings.warn(\n",
      "/opt/anaconda3/lib/python3.9/site-packages/xgboost/sklearn.py:835: UserWarning: `early_stopping_rounds` in `fit` method is deprecated for better compatibility with scikit-learn, use `early_stopping_rounds` in constructor or`set_params` instead.\n",
      "  warnings.warn(\n",
      "/opt/anaconda3/lib/python3.9/site-packages/xgboost/sklearn.py:835: UserWarning: `eval_metric` in `fit` method is deprecated for better compatibility with scikit-learn, use `eval_metric` in constructor or`set_params` instead.\n",
      "  warnings.warn(\n",
      "/opt/anaconda3/lib/python3.9/site-packages/xgboost/sklearn.py:835: UserWarning: `early_stopping_rounds` in `fit` method is deprecated for better compatibility with scikit-learn, use `early_stopping_rounds` in constructor or`set_params` instead.\n",
      "  warnings.warn(\n",
      "/opt/anaconda3/lib/python3.9/site-packages/xgboost/sklearn.py:835: UserWarning: `eval_metric` in `fit` method is deprecated for better compatibility with scikit-learn, use `eval_metric` in constructor or`set_params` instead.\n",
      "  warnings.warn(\n",
      "/opt/anaconda3/lib/python3.9/site-packages/xgboost/sklearn.py:835: UserWarning: `early_stopping_rounds` in `fit` method is deprecated for better compatibility with scikit-learn, use `early_stopping_rounds` in constructor or`set_params` instead.\n",
      "  warnings.warn(\n",
      "/opt/anaconda3/lib/python3.9/site-packages/xgboost/sklearn.py:835: UserWarning: `eval_metric` in `fit` method is deprecated for better compatibility with scikit-learn, use `eval_metric` in constructor or`set_params` instead.\n",
      "  warnings.warn(\n",
      "/opt/anaconda3/lib/python3.9/site-packages/xgboost/sklearn.py:835: UserWarning: `early_stopping_rounds` in `fit` method is deprecated for better compatibility with scikit-learn, use `early_stopping_rounds` in constructor or`set_params` instead.\n",
      "  warnings.warn(\n",
      "/opt/anaconda3/lib/python3.9/site-packages/xgboost/sklearn.py:835: UserWarning: `eval_metric` in `fit` method is deprecated for better compatibility with scikit-learn, use `eval_metric` in constructor or`set_params` instead.\n",
      "  warnings.warn(\n",
      "/opt/anaconda3/lib/python3.9/site-packages/xgboost/sklearn.py:835: UserWarning: `early_stopping_rounds` in `fit` method is deprecated for better compatibility with scikit-learn, use `early_stopping_rounds` in constructor or`set_params` instead.\n",
      "  warnings.warn(\n",
      "/opt/anaconda3/lib/python3.9/site-packages/xgboost/sklearn.py:835: UserWarning: `eval_metric` in `fit` method is deprecated for better compatibility with scikit-learn, use `eval_metric` in constructor or`set_params` instead.\n",
      "  warnings.warn(\n",
      "/opt/anaconda3/lib/python3.9/site-packages/xgboost/sklearn.py:835: UserWarning: `early_stopping_rounds` in `fit` method is deprecated for better compatibility with scikit-learn, use `early_stopping_rounds` in constructor or`set_params` instead.\n",
      "  warnings.warn(\n",
      "/opt/anaconda3/lib/python3.9/site-packages/xgboost/sklearn.py:835: UserWarning: `eval_metric` in `fit` method is deprecated for better compatibility with scikit-learn, use `eval_metric` in constructor or`set_params` instead.\n",
      "  warnings.warn(\n",
      "/opt/anaconda3/lib/python3.9/site-packages/xgboost/sklearn.py:835: UserWarning: `early_stopping_rounds` in `fit` method is deprecated for better compatibility with scikit-learn, use `early_stopping_rounds` in constructor or`set_params` instead.\n",
      "  warnings.warn(\n",
      "/opt/anaconda3/lib/python3.9/site-packages/xgboost/sklearn.py:835: UserWarning: `eval_metric` in `fit` method is deprecated for better compatibility with scikit-learn, use `eval_metric` in constructor or`set_params` instead.\n",
      "  warnings.warn(\n",
      "/opt/anaconda3/lib/python3.9/site-packages/xgboost/sklearn.py:835: UserWarning: `early_stopping_rounds` in `fit` method is deprecated for better compatibility with scikit-learn, use `early_stopping_rounds` in constructor or`set_params` instead.\n",
      "  warnings.warn(\n",
      "/opt/anaconda3/lib/python3.9/site-packages/xgboost/sklearn.py:835: UserWarning: `eval_metric` in `fit` method is deprecated for better compatibility with scikit-learn, use `eval_metric` in constructor or`set_params` instead.\n",
      "  warnings.warn(\n",
      "/opt/anaconda3/lib/python3.9/site-packages/xgboost/sklearn.py:835: UserWarning: `early_stopping_rounds` in `fit` method is deprecated for better compatibility with scikit-learn, use `early_stopping_rounds` in constructor or`set_params` instead.\n",
      "  warnings.warn(\n",
      "/opt/anaconda3/lib/python3.9/site-packages/xgboost/sklearn.py:835: UserWarning: `eval_metric` in `fit` method is deprecated for better compatibility with scikit-learn, use `eval_metric` in constructor or`set_params` instead.\n",
      "  warnings.warn(\n",
      "/opt/anaconda3/lib/python3.9/site-packages/xgboost/sklearn.py:835: UserWarning: `early_stopping_rounds` in `fit` method is deprecated for better compatibility with scikit-learn, use `early_stopping_rounds` in constructor or`set_params` instead.\n",
      "  warnings.warn(\n",
      "/opt/anaconda3/lib/python3.9/site-packages/xgboost/sklearn.py:835: UserWarning: `eval_metric` in `fit` method is deprecated for better compatibility with scikit-learn, use `eval_metric` in constructor or`set_params` instead.\n",
      "  warnings.warn(\n",
      "/opt/anaconda3/lib/python3.9/site-packages/xgboost/sklearn.py:835: UserWarning: `early_stopping_rounds` in `fit` method is deprecated for better compatibility with scikit-learn, use `early_stopping_rounds` in constructor or`set_params` instead.\n",
      "  warnings.warn(\n",
      "/opt/anaconda3/lib/python3.9/site-packages/xgboost/sklearn.py:835: UserWarning: `eval_metric` in `fit` method is deprecated for better compatibility with scikit-learn, use `eval_metric` in constructor or`set_params` instead.\n",
      "  warnings.warn(\n",
      "/opt/anaconda3/lib/python3.9/site-packages/xgboost/sklearn.py:835: UserWarning: `early_stopping_rounds` in `fit` method is deprecated for better compatibility with scikit-learn, use `early_stopping_rounds` in constructor or`set_params` instead.\n",
      "  warnings.warn(\n",
      "/opt/anaconda3/lib/python3.9/site-packages/xgboost/sklearn.py:835: UserWarning: `eval_metric` in `fit` method is deprecated for better compatibility with scikit-learn, use `eval_metric` in constructor or`set_params` instead.\n",
      "  warnings.warn(\n",
      "/opt/anaconda3/lib/python3.9/site-packages/xgboost/sklearn.py:835: UserWarning: `early_stopping_rounds` in `fit` method is deprecated for better compatibility with scikit-learn, use `early_stopping_rounds` in constructor or`set_params` instead.\n",
      "  warnings.warn(\n",
      "/opt/anaconda3/lib/python3.9/site-packages/xgboost/sklearn.py:835: UserWarning: `eval_metric` in `fit` method is deprecated for better compatibility with scikit-learn, use `eval_metric` in constructor or`set_params` instead.\n",
      "  warnings.warn(\n",
      "/opt/anaconda3/lib/python3.9/site-packages/xgboost/sklearn.py:835: UserWarning: `early_stopping_rounds` in `fit` method is deprecated for better compatibility with scikit-learn, use `early_stopping_rounds` in constructor or`set_params` instead.\n",
      "  warnings.warn(\n",
      "/opt/anaconda3/lib/python3.9/site-packages/xgboost/sklearn.py:835: UserWarning: `eval_metric` in `fit` method is deprecated for better compatibility with scikit-learn, use `eval_metric` in constructor or`set_params` instead.\n",
      "  warnings.warn(\n",
      "/opt/anaconda3/lib/python3.9/site-packages/xgboost/sklearn.py:835: UserWarning: `early_stopping_rounds` in `fit` method is deprecated for better compatibility with scikit-learn, use `early_stopping_rounds` in constructor or`set_params` instead.\n",
      "  warnings.warn(\n",
      "/opt/anaconda3/lib/python3.9/site-packages/xgboost/sklearn.py:835: UserWarning: `eval_metric` in `fit` method is deprecated for better compatibility with scikit-learn, use `eval_metric` in constructor or`set_params` instead.\n",
      "  warnings.warn(\n",
      "/opt/anaconda3/lib/python3.9/site-packages/xgboost/sklearn.py:835: UserWarning: `early_stopping_rounds` in `fit` method is deprecated for better compatibility with scikit-learn, use `early_stopping_rounds` in constructor or`set_params` instead.\n",
      "  warnings.warn(\n"
     ]
    },
    {
     "name": "stdout",
     "output_type": "stream",
     "text": [
      "Best Parameters: {'subsample': 1.0, 'reg_lambda': 1.5, 'reg_alpha': 0.005, 'n_estimators': 450, 'max_depth': 10, 'learning_rate': 0.3, 'colsample_bytree': 0.9}\n",
      "Best F1 Score: 0.8559447360100569\n"
     ]
    }
   ],
   "source": [
    "# 1. Initialize the XGBoost classifier\n",
    "xgb_clf = xgb.XGBClassifier(\n",
    "    objective='multi:softmax',\n",
    "    random_state=0,\n",
    "    n_jobs=-1\n",
    ")\n",
    "\n",
    "# 2. Splitting the training data to create a validation set for early stopping\n",
    "X_train_sub, X_val, y_train_sub, y_val = train_test_split(X_train_p2, y_train_p2, test_size=0.2, random_state=0)\n",
    "\n",
    "# 3. Define the hyperparameters and their possible values\n",
    "param_dist = {\n",
    "    'max_depth': [3, 4, 5, 6, 7, 8, 9, 10],\n",
    "    'learning_rate': [0.001, 0.01, 0.05, 0.1, 0.2, 0.3],\n",
    "    'n_estimators': [50, 100, 150, 200, 250, 300, 350, 400, 450, 500],\n",
    "    'reg_alpha': [0, 0.001, 0.005, 0.01, 0.05],\n",
    "    'reg_lambda': [0.1, 0.5, 1, 1.5, 2],\n",
    "    'subsample': [0.5, 0.6, 0.7, 0.8, 0.9, 1.0],\n",
    "    'colsample_bytree': [0.5, 0.6, 0.7, 0.8, 0.9, 1.0]\n",
    "}\n",
    "\n",
    "# 4. Custom scorer function\n",
    "def xgb_scorer(clf, X, y):\n",
    "    eval_set = [(X_val, y_val)]\n",
    "    clf.fit(X, y, eval_metric=\"mlogloss\", eval_set=eval_set, early_stopping_rounds=10, verbose=False)\n",
    "    predictions = clf.predict(X_val)\n",
    "    return f1_score(y_val, predictions, average='macro')\n",
    "\n",
    "# 5. Initialize RandomizedSearchCV\n",
    "random_search = RandomizedSearchCV(\n",
    "    xgb_clf,\n",
    "    param_distributions=param_dist,\n",
    "    n_iter=50,\n",
    "    scoring=xgb_scorer,\n",
    "    cv=3,\n",
    "    verbose=1,\n",
    "    n_jobs=-1,\n",
    "    random_state=0\n",
    ")\n",
    "\n",
    "# 6. Fit the model\n",
    "random_search.fit(X_train_sub, y_train_sub)\n",
    "\n",
    "# 7. Print the best parameters and the corresponding F1 score\n",
    "print(\"Best Parameters:\", random_search.best_params_)\n",
    "print(\"Best F1 Score:\", random_search.best_score_)\n",
    "\n"
   ]
  },
  {
   "cell_type": "markdown",
   "metadata": {
    "id": "Ieb14pGMQd8b"
   },
   "source": [
    " #### 3.1.1 Grid search **Best Parameters:**\n",
    "\n",
    "{'subsample': 1.0, 'reg_lambda': 1.5, 'reg_alpha': 0.005, 'n_estimators': 450, 'max_depth': 10, 'learning_rate': 0.3, 'colsample_bytree': 0.9}\n",
    "\n",
    "**Best F1 Score: 0.8559447360100569**"
   ]
  },
  {
   "cell_type": "markdown",
   "metadata": {
    "id": "ltM6l1ms1OD_"
   },
   "source": [
    "#### 3.1.2 Model perfomance with hyperparameter optimization"
   ]
  },
  {
   "cell_type": "code",
   "execution_count": null,
   "metadata": {
    "colab": {
     "base_uri": "https://localhost:8080/"
    },
    "executionInfo": {
     "elapsed": 2417150,
     "status": "ok",
     "timestamp": 1694455821580,
     "user": {
      "displayName": "April Itriago",
      "userId": "10552117681411633732"
     },
     "user_tz": -120
    },
    "id": "LrD2reTQRqmQ",
    "outputId": "7c694984-05a0-48e8-9b02-99226a1d5a65"
   },
   "outputs": [
    {
     "name": "stdout",
     "output_type": "stream",
     "text": [
      "Model: xgb_clf\n",
      "Test F1 (macro): 93.16%\n",
      "Train F1 (macro): 99.93%\n",
      "----------------------------------------\n"
     ]
    }
   ],
   "source": [
    "\n",
    "# Define your models\n",
    "models = {\n",
    "    'xgb_clf': xgb.XGBClassifier(\n",
    "    subsample = 1.0,\n",
    "     reg_lambda = 1.5,\n",
    "     reg_alpha = 0.005,\n",
    "     n_estimators = 450,\n",
    "     max_depth = 10,\n",
    "     learning_rate= 0.3,\n",
    "     colsample_bytree = 0.9,\n",
    "    random_state=0\n",
    ")\n",
    "   }\n",
    "\n",
    "# Stratified K-Fold Cross-Validation\n",
    "skf = StratifiedKFold(n_splits=5, shuffle=True, random_state=4)\n",
    "\n",
    "# Loop over your models\n",
    "for model_name, model in models.items():\n",
    "    # Estimate generalization F1 score\n",
    "    clf = cross_validate(\n",
    "        model,\n",
    "        X_train_p2,\n",
    "        y_train_p2,\n",
    "        scoring= make_scorer(f1_score, average='macro'),  # Change here\n",
    "        return_train_score=True,\n",
    "        cv=skf, # StratifiedKFold\n",
    "        n_jobs=-1\n",
    "    )\n",
    "\n",
    "    # Print results\n",
    "    print(f\"Model: {model_name}\")\n",
    "    print(f\"Test F1 (macro): {clf['test_score'].mean() * 100:.2f}%\")\n",
    "    print(f\"Train F1 (macro): {clf['train_score'].mean() * 100:.2f}%\")\n",
    "    print(\"----------------------------------------\")"
   ]
  },
  {
   "cell_type": "markdown",
   "metadata": {
    "id": "4Oc-X1G61ktG"
   },
   "source": [
    "#### 3.1.3 Early Stopping"
   ]
  },
  {
   "cell_type": "markdown",
   "metadata": {
    "id": "RuqFGJI1yKOe"
   },
   "source": [
    "To correct the overfitting we are going to apply the early stopping this way we can automatically stop the training once the validation performance plateaus or starts to degrade,"
   ]
  },
  {
   "cell_type": "code",
   "execution_count": null,
   "metadata": {
    "colab": {
     "base_uri": "https://localhost:8080/",
     "height": 1000
    },
    "executionInfo": {
     "elapsed": 927644,
     "status": "ok",
     "timestamp": 1694461448536,
     "user": {
      "displayName": "April Itriago",
      "userId": "10552117681411633732"
     },
     "user_tz": -120
    },
    "id": "KwPYV6LHul1O",
    "outputId": "f627872c-0501-481a-bbc5-93ab5a78fcf7"
   },
   "outputs": [
    {
     "name": "stdout",
     "output_type": "stream",
     "text": [
      "[0]\tvalidation_0-mlogloss:1.14845\n",
      "[1]\tvalidation_0-mlogloss:0.98901\n",
      "[2]\tvalidation_0-mlogloss:0.88884\n",
      "[3]\tvalidation_0-mlogloss:0.82206\n",
      "[4]\tvalidation_0-mlogloss:0.76325\n",
      "[5]\tvalidation_0-mlogloss:0.71629\n",
      "[6]\tvalidation_0-mlogloss:0.68754\n",
      "[7]\tvalidation_0-mlogloss:0.66272\n",
      "[8]\tvalidation_0-mlogloss:0.63754\n",
      "[9]\tvalidation_0-mlogloss:0.61769\n",
      "[10]\tvalidation_0-mlogloss:0.60226\n",
      "[11]\tvalidation_0-mlogloss:0.58664\n",
      "[12]\tvalidation_0-mlogloss:0.57440\n",
      "[13]\tvalidation_0-mlogloss:0.56366\n",
      "[14]\tvalidation_0-mlogloss:0.55321\n",
      "[15]\tvalidation_0-mlogloss:0.54413\n",
      "[16]\tvalidation_0-mlogloss:0.53627\n",
      "[17]\tvalidation_0-mlogloss:0.52987\n",
      "[18]\tvalidation_0-mlogloss:0.52385\n",
      "[19]\tvalidation_0-mlogloss:0.51778\n",
      "[20]\tvalidation_0-mlogloss:0.51189\n",
      "[21]\tvalidation_0-mlogloss:0.50669\n",
      "[22]\tvalidation_0-mlogloss:0.50219\n",
      "[23]\tvalidation_0-mlogloss:0.49731\n",
      "[24]\tvalidation_0-mlogloss:0.49301\n",
      "[25]\tvalidation_0-mlogloss:0.49000\n",
      "[26]\tvalidation_0-mlogloss:0.48556\n",
      "[27]\tvalidation_0-mlogloss:0.48211\n",
      "[28]\tvalidation_0-mlogloss:0.47934\n",
      "[29]\tvalidation_0-mlogloss:0.47612\n",
      "[30]\tvalidation_0-mlogloss:0.47225\n",
      "[31]\tvalidation_0-mlogloss:0.46998\n",
      "[32]\tvalidation_0-mlogloss:0.46693\n",
      "[33]\tvalidation_0-mlogloss:0.46394\n",
      "[34]\tvalidation_0-mlogloss:0.46074\n",
      "[35]\tvalidation_0-mlogloss:0.45835\n",
      "[36]\tvalidation_0-mlogloss:0.45634\n",
      "[37]\tvalidation_0-mlogloss:0.45344\n",
      "[38]\tvalidation_0-mlogloss:0.45024\n",
      "[39]\tvalidation_0-mlogloss:0.44832\n",
      "[40]\tvalidation_0-mlogloss:0.44630\n",
      "[41]\tvalidation_0-mlogloss:0.44312\n",
      "[42]\tvalidation_0-mlogloss:0.44011\n",
      "[43]\tvalidation_0-mlogloss:0.43754\n",
      "[44]\tvalidation_0-mlogloss:0.43536\n",
      "[45]\tvalidation_0-mlogloss:0.43333\n",
      "[46]\tvalidation_0-mlogloss:0.43041\n",
      "[47]\tvalidation_0-mlogloss:0.42779\n",
      "[48]\tvalidation_0-mlogloss:0.42519\n",
      "[49]\tvalidation_0-mlogloss:0.42282\n",
      "[50]\tvalidation_0-mlogloss:0.41998\n",
      "[51]\tvalidation_0-mlogloss:0.41733\n",
      "[52]\tvalidation_0-mlogloss:0.41603\n",
      "[53]\tvalidation_0-mlogloss:0.41429\n",
      "[54]\tvalidation_0-mlogloss:0.41242\n",
      "[55]\tvalidation_0-mlogloss:0.41053\n",
      "[56]\tvalidation_0-mlogloss:0.40945\n",
      "[57]\tvalidation_0-mlogloss:0.40762\n",
      "[58]\tvalidation_0-mlogloss:0.40577\n",
      "[59]\tvalidation_0-mlogloss:0.40390\n",
      "[60]\tvalidation_0-mlogloss:0.40267\n",
      "[61]\tvalidation_0-mlogloss:0.40047\n",
      "[62]\tvalidation_0-mlogloss:0.39846\n",
      "[63]\tvalidation_0-mlogloss:0.39741\n",
      "[64]\tvalidation_0-mlogloss:0.39545\n",
      "[65]\tvalidation_0-mlogloss:0.39300\n",
      "[66]\tvalidation_0-mlogloss:0.39131\n",
      "[67]\tvalidation_0-mlogloss:0.39051\n",
      "[68]\tvalidation_0-mlogloss:0.38780\n",
      "[69]\tvalidation_0-mlogloss:0.38630\n",
      "[70]\tvalidation_0-mlogloss:0.38357\n",
      "[71]\tvalidation_0-mlogloss:0.38238\n",
      "[72]\tvalidation_0-mlogloss:0.37978\n",
      "[73]\tvalidation_0-mlogloss:0.37713\n",
      "[74]\tvalidation_0-mlogloss:0.37561\n",
      "[75]\tvalidation_0-mlogloss:0.37418\n",
      "[76]\tvalidation_0-mlogloss:0.37279\n",
      "[77]\tvalidation_0-mlogloss:0.37203\n",
      "[78]\tvalidation_0-mlogloss:0.37050\n",
      "[79]\tvalidation_0-mlogloss:0.36857\n",
      "[80]\tvalidation_0-mlogloss:0.36678\n",
      "[81]\tvalidation_0-mlogloss:0.36532\n",
      "[82]\tvalidation_0-mlogloss:0.36376\n",
      "[83]\tvalidation_0-mlogloss:0.36292\n",
      "[84]\tvalidation_0-mlogloss:0.36135\n",
      "[85]\tvalidation_0-mlogloss:0.35987\n",
      "[86]\tvalidation_0-mlogloss:0.35811\n",
      "[87]\tvalidation_0-mlogloss:0.35695\n",
      "[88]\tvalidation_0-mlogloss:0.35528\n",
      "[89]\tvalidation_0-mlogloss:0.35392\n",
      "[90]\tvalidation_0-mlogloss:0.35289\n",
      "[91]\tvalidation_0-mlogloss:0.35075\n",
      "[92]\tvalidation_0-mlogloss:0.34944\n",
      "[93]\tvalidation_0-mlogloss:0.34839\n",
      "[94]\tvalidation_0-mlogloss:0.34678\n",
      "[95]\tvalidation_0-mlogloss:0.34563\n",
      "[96]\tvalidation_0-mlogloss:0.34447\n",
      "[97]\tvalidation_0-mlogloss:0.34325\n",
      "[98]\tvalidation_0-mlogloss:0.34195\n",
      "[99]\tvalidation_0-mlogloss:0.34127\n",
      "[100]\tvalidation_0-mlogloss:0.34075\n",
      "[101]\tvalidation_0-mlogloss:0.33924\n",
      "[102]\tvalidation_0-mlogloss:0.33833\n",
      "[103]\tvalidation_0-mlogloss:0.33768\n",
      "[104]\tvalidation_0-mlogloss:0.33643\n",
      "[105]\tvalidation_0-mlogloss:0.33456\n",
      "[106]\tvalidation_0-mlogloss:0.33311\n",
      "[107]\tvalidation_0-mlogloss:0.33252\n",
      "[108]\tvalidation_0-mlogloss:0.33107\n",
      "[109]\tvalidation_0-mlogloss:0.32965\n",
      "[110]\tvalidation_0-mlogloss:0.32824\n",
      "[111]\tvalidation_0-mlogloss:0.32759\n",
      "[112]\tvalidation_0-mlogloss:0.32609\n",
      "[113]\tvalidation_0-mlogloss:0.32440\n",
      "[114]\tvalidation_0-mlogloss:0.32353\n",
      "[115]\tvalidation_0-mlogloss:0.32239\n",
      "[116]\tvalidation_0-mlogloss:0.32129\n",
      "[117]\tvalidation_0-mlogloss:0.32007\n",
      "[118]\tvalidation_0-mlogloss:0.31888\n",
      "[119]\tvalidation_0-mlogloss:0.31808\n",
      "[120]\tvalidation_0-mlogloss:0.31650\n",
      "[121]\tvalidation_0-mlogloss:0.31577\n",
      "[122]\tvalidation_0-mlogloss:0.31459\n",
      "[123]\tvalidation_0-mlogloss:0.31418\n",
      "[124]\tvalidation_0-mlogloss:0.31376\n",
      "[125]\tvalidation_0-mlogloss:0.31258\n",
      "[126]\tvalidation_0-mlogloss:0.31188\n",
      "[127]\tvalidation_0-mlogloss:0.31114\n",
      "[128]\tvalidation_0-mlogloss:0.31016\n",
      "[129]\tvalidation_0-mlogloss:0.30858\n",
      "[130]\tvalidation_0-mlogloss:0.30790\n",
      "[131]\tvalidation_0-mlogloss:0.30705\n",
      "[132]\tvalidation_0-mlogloss:0.30666\n",
      "[133]\tvalidation_0-mlogloss:0.30481\n",
      "[134]\tvalidation_0-mlogloss:0.30395\n",
      "[135]\tvalidation_0-mlogloss:0.30312\n",
      "[136]\tvalidation_0-mlogloss:0.30236\n",
      "[137]\tvalidation_0-mlogloss:0.30132\n",
      "[138]\tvalidation_0-mlogloss:0.29969\n",
      "[139]\tvalidation_0-mlogloss:0.29888\n",
      "[140]\tvalidation_0-mlogloss:0.29823\n",
      "[141]\tvalidation_0-mlogloss:0.29751\n",
      "[142]\tvalidation_0-mlogloss:0.29667\n",
      "[143]\tvalidation_0-mlogloss:0.29606\n",
      "[144]\tvalidation_0-mlogloss:0.29555\n",
      "[145]\tvalidation_0-mlogloss:0.29454\n",
      "[146]\tvalidation_0-mlogloss:0.29366\n",
      "[147]\tvalidation_0-mlogloss:0.29306\n",
      "[148]\tvalidation_0-mlogloss:0.29195\n",
      "[149]\tvalidation_0-mlogloss:0.29039\n",
      "[150]\tvalidation_0-mlogloss:0.28954\n",
      "[151]\tvalidation_0-mlogloss:0.28888\n",
      "[152]\tvalidation_0-mlogloss:0.28802\n",
      "[153]\tvalidation_0-mlogloss:0.28745\n",
      "[154]\tvalidation_0-mlogloss:0.28672\n",
      "[155]\tvalidation_0-mlogloss:0.28602\n",
      "[156]\tvalidation_0-mlogloss:0.28453\n",
      "[157]\tvalidation_0-mlogloss:0.28420\n",
      "[158]\tvalidation_0-mlogloss:0.28332\n",
      "[159]\tvalidation_0-mlogloss:0.28252\n",
      "[160]\tvalidation_0-mlogloss:0.28165\n",
      "[161]\tvalidation_0-mlogloss:0.28043\n",
      "[162]\tvalidation_0-mlogloss:0.27954\n",
      "[163]\tvalidation_0-mlogloss:0.27867\n",
      "[164]\tvalidation_0-mlogloss:0.27814\n",
      "[165]\tvalidation_0-mlogloss:0.27777\n",
      "[166]\tvalidation_0-mlogloss:0.27710\n",
      "[167]\tvalidation_0-mlogloss:0.27646\n",
      "[168]\tvalidation_0-mlogloss:0.27599\n",
      "[169]\tvalidation_0-mlogloss:0.27516\n",
      "[170]\tvalidation_0-mlogloss:0.27470\n",
      "[171]\tvalidation_0-mlogloss:0.27430\n",
      "[172]\tvalidation_0-mlogloss:0.27319\n",
      "[173]\tvalidation_0-mlogloss:0.27244\n",
      "[174]\tvalidation_0-mlogloss:0.27164\n",
      "[175]\tvalidation_0-mlogloss:0.27124\n",
      "[176]\tvalidation_0-mlogloss:0.27061\n",
      "[177]\tvalidation_0-mlogloss:0.26967\n",
      "[178]\tvalidation_0-mlogloss:0.26906\n",
      "[179]\tvalidation_0-mlogloss:0.26887\n",
      "[180]\tvalidation_0-mlogloss:0.26810\n",
      "[181]\tvalidation_0-mlogloss:0.26764\n",
      "[182]\tvalidation_0-mlogloss:0.26703\n",
      "[183]\tvalidation_0-mlogloss:0.26620\n",
      "[184]\tvalidation_0-mlogloss:0.26567\n",
      "[185]\tvalidation_0-mlogloss:0.26534\n",
      "[186]\tvalidation_0-mlogloss:0.26480\n",
      "[187]\tvalidation_0-mlogloss:0.26439\n",
      "[188]\tvalidation_0-mlogloss:0.26405\n",
      "[189]\tvalidation_0-mlogloss:0.26340\n",
      "[190]\tvalidation_0-mlogloss:0.26300\n",
      "[191]\tvalidation_0-mlogloss:0.26270\n",
      "[192]\tvalidation_0-mlogloss:0.26228\n",
      "[193]\tvalidation_0-mlogloss:0.26167\n",
      "[194]\tvalidation_0-mlogloss:0.26120\n",
      "[195]\tvalidation_0-mlogloss:0.26038\n",
      "[196]\tvalidation_0-mlogloss:0.25979\n",
      "[197]\tvalidation_0-mlogloss:0.25964\n",
      "[198]\tvalidation_0-mlogloss:0.25943\n",
      "[199]\tvalidation_0-mlogloss:0.25896\n",
      "[200]\tvalidation_0-mlogloss:0.25845\n",
      "[201]\tvalidation_0-mlogloss:0.25786\n",
      "[202]\tvalidation_0-mlogloss:0.25704\n",
      "[203]\tvalidation_0-mlogloss:0.25692\n",
      "[204]\tvalidation_0-mlogloss:0.25671\n",
      "[205]\tvalidation_0-mlogloss:0.25613\n",
      "[206]\tvalidation_0-mlogloss:0.25574\n",
      "[207]\tvalidation_0-mlogloss:0.25527\n",
      "[208]\tvalidation_0-mlogloss:0.25470\n",
      "[209]\tvalidation_0-mlogloss:0.25397\n",
      "[210]\tvalidation_0-mlogloss:0.25332\n",
      "[211]\tvalidation_0-mlogloss:0.25261\n",
      "[212]\tvalidation_0-mlogloss:0.25232\n",
      "[213]\tvalidation_0-mlogloss:0.25212\n",
      "[214]\tvalidation_0-mlogloss:0.25148\n",
      "[215]\tvalidation_0-mlogloss:0.25094\n",
      "[216]\tvalidation_0-mlogloss:0.25073\n",
      "[217]\tvalidation_0-mlogloss:0.25021\n",
      "[218]\tvalidation_0-mlogloss:0.24981\n",
      "[219]\tvalidation_0-mlogloss:0.24918\n",
      "[220]\tvalidation_0-mlogloss:0.24882\n",
      "[221]\tvalidation_0-mlogloss:0.24859\n",
      "[222]\tvalidation_0-mlogloss:0.24820\n",
      "[223]\tvalidation_0-mlogloss:0.24786\n",
      "[224]\tvalidation_0-mlogloss:0.24751\n",
      "[225]\tvalidation_0-mlogloss:0.24717\n",
      "[226]\tvalidation_0-mlogloss:0.24669\n",
      "[227]\tvalidation_0-mlogloss:0.24631\n",
      "[228]\tvalidation_0-mlogloss:0.24552\n",
      "[229]\tvalidation_0-mlogloss:0.24490\n",
      "[230]\tvalidation_0-mlogloss:0.24440\n",
      "[231]\tvalidation_0-mlogloss:0.24386\n",
      "[232]\tvalidation_0-mlogloss:0.24349\n",
      "[233]\tvalidation_0-mlogloss:0.24305\n",
      "[234]\tvalidation_0-mlogloss:0.24233\n",
      "[235]\tvalidation_0-mlogloss:0.24216\n",
      "[236]\tvalidation_0-mlogloss:0.24171\n",
      "[237]\tvalidation_0-mlogloss:0.24128\n",
      "[238]\tvalidation_0-mlogloss:0.24090\n",
      "[239]\tvalidation_0-mlogloss:0.24053\n",
      "[240]\tvalidation_0-mlogloss:0.24021\n",
      "[241]\tvalidation_0-mlogloss:0.23960\n",
      "[242]\tvalidation_0-mlogloss:0.23907\n",
      "[243]\tvalidation_0-mlogloss:0.23873\n",
      "[244]\tvalidation_0-mlogloss:0.23832\n",
      "[245]\tvalidation_0-mlogloss:0.23816\n",
      "[246]\tvalidation_0-mlogloss:0.23796\n",
      "[247]\tvalidation_0-mlogloss:0.23763\n",
      "[248]\tvalidation_0-mlogloss:0.23745\n",
      "[249]\tvalidation_0-mlogloss:0.23698\n",
      "[250]\tvalidation_0-mlogloss:0.23649\n",
      "[251]\tvalidation_0-mlogloss:0.23640\n",
      "[252]\tvalidation_0-mlogloss:0.23600\n",
      "[253]\tvalidation_0-mlogloss:0.23568\n",
      "[254]\tvalidation_0-mlogloss:0.23535\n",
      "[255]\tvalidation_0-mlogloss:0.23505\n",
      "[256]\tvalidation_0-mlogloss:0.23488\n",
      "[257]\tvalidation_0-mlogloss:0.23467\n",
      "[258]\tvalidation_0-mlogloss:0.23450\n",
      "[259]\tvalidation_0-mlogloss:0.23430\n",
      "[260]\tvalidation_0-mlogloss:0.23393\n",
      "[261]\tvalidation_0-mlogloss:0.23359\n",
      "[262]\tvalidation_0-mlogloss:0.23293\n",
      "[263]\tvalidation_0-mlogloss:0.23252\n",
      "[264]\tvalidation_0-mlogloss:0.23210\n",
      "[265]\tvalidation_0-mlogloss:0.23184\n",
      "[266]\tvalidation_0-mlogloss:0.23134\n",
      "[267]\tvalidation_0-mlogloss:0.23118\n",
      "[268]\tvalidation_0-mlogloss:0.23094\n",
      "[269]\tvalidation_0-mlogloss:0.23055\n",
      "[270]\tvalidation_0-mlogloss:0.23028\n",
      "[271]\tvalidation_0-mlogloss:0.22989\n",
      "[272]\tvalidation_0-mlogloss:0.22968\n",
      "[273]\tvalidation_0-mlogloss:0.22945\n",
      "[274]\tvalidation_0-mlogloss:0.22923\n",
      "[275]\tvalidation_0-mlogloss:0.22896\n",
      "[276]\tvalidation_0-mlogloss:0.22879\n",
      "[277]\tvalidation_0-mlogloss:0.22851\n",
      "[278]\tvalidation_0-mlogloss:0.22833\n",
      "[279]\tvalidation_0-mlogloss:0.22820\n",
      "[280]\tvalidation_0-mlogloss:0.22797\n",
      "[281]\tvalidation_0-mlogloss:0.22779\n",
      "[282]\tvalidation_0-mlogloss:0.22749\n",
      "[283]\tvalidation_0-mlogloss:0.22700\n",
      "[284]\tvalidation_0-mlogloss:0.22675\n",
      "[285]\tvalidation_0-mlogloss:0.22614\n",
      "[286]\tvalidation_0-mlogloss:0.22602\n",
      "[287]\tvalidation_0-mlogloss:0.22551\n",
      "[288]\tvalidation_0-mlogloss:0.22508\n",
      "[289]\tvalidation_0-mlogloss:0.22487\n",
      "[290]\tvalidation_0-mlogloss:0.22474\n",
      "[291]\tvalidation_0-mlogloss:0.22436\n",
      "[292]\tvalidation_0-mlogloss:0.22407\n",
      "[293]\tvalidation_0-mlogloss:0.22395\n",
      "[294]\tvalidation_0-mlogloss:0.22378\n",
      "[295]\tvalidation_0-mlogloss:0.22348\n",
      "[296]\tvalidation_0-mlogloss:0.22298\n",
      "[297]\tvalidation_0-mlogloss:0.22278\n",
      "[298]\tvalidation_0-mlogloss:0.22255\n",
      "[299]\tvalidation_0-mlogloss:0.22233\n",
      "[300]\tvalidation_0-mlogloss:0.22205\n",
      "[301]\tvalidation_0-mlogloss:0.22196\n",
      "[302]\tvalidation_0-mlogloss:0.22186\n",
      "[303]\tvalidation_0-mlogloss:0.22118\n",
      "[304]\tvalidation_0-mlogloss:0.22102\n",
      "[305]\tvalidation_0-mlogloss:0.22080\n",
      "[306]\tvalidation_0-mlogloss:0.22065\n",
      "[307]\tvalidation_0-mlogloss:0.22051\n",
      "[308]\tvalidation_0-mlogloss:0.22043\n",
      "[309]\tvalidation_0-mlogloss:0.22009\n",
      "[310]\tvalidation_0-mlogloss:0.21979\n",
      "[311]\tvalidation_0-mlogloss:0.21957\n",
      "[312]\tvalidation_0-mlogloss:0.21932\n",
      "[313]\tvalidation_0-mlogloss:0.21911\n",
      "[314]\tvalidation_0-mlogloss:0.21895\n",
      "[315]\tvalidation_0-mlogloss:0.21868\n",
      "[316]\tvalidation_0-mlogloss:0.21844\n",
      "[317]\tvalidation_0-mlogloss:0.21805\n",
      "[318]\tvalidation_0-mlogloss:0.21785\n",
      "[319]\tvalidation_0-mlogloss:0.21735\n",
      "[320]\tvalidation_0-mlogloss:0.21697\n",
      "[321]\tvalidation_0-mlogloss:0.21684\n",
      "[322]\tvalidation_0-mlogloss:0.21660\n",
      "[323]\tvalidation_0-mlogloss:0.21648\n",
      "[324]\tvalidation_0-mlogloss:0.21637\n",
      "[325]\tvalidation_0-mlogloss:0.21627\n",
      "[326]\tvalidation_0-mlogloss:0.21597\n",
      "[327]\tvalidation_0-mlogloss:0.21575\n",
      "[328]\tvalidation_0-mlogloss:0.21549\n",
      "[329]\tvalidation_0-mlogloss:0.21530\n",
      "[330]\tvalidation_0-mlogloss:0.21507\n",
      "[331]\tvalidation_0-mlogloss:0.21488\n",
      "[332]\tvalidation_0-mlogloss:0.21463\n",
      "[333]\tvalidation_0-mlogloss:0.21435\n",
      "[334]\tvalidation_0-mlogloss:0.21407\n",
      "[335]\tvalidation_0-mlogloss:0.21390\n",
      "[336]\tvalidation_0-mlogloss:0.21383\n",
      "[337]\tvalidation_0-mlogloss:0.21359\n",
      "[338]\tvalidation_0-mlogloss:0.21333\n",
      "[339]\tvalidation_0-mlogloss:0.21312\n",
      "[340]\tvalidation_0-mlogloss:0.21281\n",
      "[341]\tvalidation_0-mlogloss:0.21247\n",
      "[342]\tvalidation_0-mlogloss:0.21228\n",
      "[343]\tvalidation_0-mlogloss:0.21205\n",
      "[344]\tvalidation_0-mlogloss:0.21189\n",
      "[345]\tvalidation_0-mlogloss:0.21173\n",
      "[346]\tvalidation_0-mlogloss:0.21159\n",
      "[347]\tvalidation_0-mlogloss:0.21133\n",
      "[348]\tvalidation_0-mlogloss:0.21104\n",
      "[349]\tvalidation_0-mlogloss:0.21090\n",
      "[350]\tvalidation_0-mlogloss:0.21078\n",
      "[351]\tvalidation_0-mlogloss:0.21059\n",
      "[352]\tvalidation_0-mlogloss:0.21045\n",
      "[353]\tvalidation_0-mlogloss:0.21037\n",
      "[354]\tvalidation_0-mlogloss:0.21022\n",
      "[355]\tvalidation_0-mlogloss:0.21004\n",
      "[356]\tvalidation_0-mlogloss:0.20980\n",
      "[357]\tvalidation_0-mlogloss:0.20969\n",
      "[358]\tvalidation_0-mlogloss:0.20944\n",
      "[359]\tvalidation_0-mlogloss:0.20922\n",
      "[360]\tvalidation_0-mlogloss:0.20907\n",
      "[361]\tvalidation_0-mlogloss:0.20882\n",
      "[362]\tvalidation_0-mlogloss:0.20855\n",
      "[363]\tvalidation_0-mlogloss:0.20844\n",
      "[364]\tvalidation_0-mlogloss:0.20829\n",
      "[365]\tvalidation_0-mlogloss:0.20802\n",
      "[366]\tvalidation_0-mlogloss:0.20791\n",
      "[367]\tvalidation_0-mlogloss:0.20778\n",
      "[368]\tvalidation_0-mlogloss:0.20755\n",
      "[369]\tvalidation_0-mlogloss:0.20740\n",
      "[370]\tvalidation_0-mlogloss:0.20711\n",
      "[371]\tvalidation_0-mlogloss:0.20690\n",
      "[372]\tvalidation_0-mlogloss:0.20672\n",
      "[373]\tvalidation_0-mlogloss:0.20663\n",
      "[374]\tvalidation_0-mlogloss:0.20657\n",
      "[375]\tvalidation_0-mlogloss:0.20652\n",
      "[376]\tvalidation_0-mlogloss:0.20633\n",
      "[377]\tvalidation_0-mlogloss:0.20623\n",
      "[378]\tvalidation_0-mlogloss:0.20613\n",
      "[379]\tvalidation_0-mlogloss:0.20597\n",
      "[380]\tvalidation_0-mlogloss:0.20588\n",
      "[381]\tvalidation_0-mlogloss:0.20567\n",
      "[382]\tvalidation_0-mlogloss:0.20560\n",
      "[383]\tvalidation_0-mlogloss:0.20558\n",
      "[384]\tvalidation_0-mlogloss:0.20541\n",
      "[385]\tvalidation_0-mlogloss:0.20531\n",
      "[386]\tvalidation_0-mlogloss:0.20516\n",
      "[387]\tvalidation_0-mlogloss:0.20505\n",
      "[388]\tvalidation_0-mlogloss:0.20489\n",
      "[389]\tvalidation_0-mlogloss:0.20484\n",
      "[390]\tvalidation_0-mlogloss:0.20470\n",
      "[391]\tvalidation_0-mlogloss:0.20460\n",
      "[392]\tvalidation_0-mlogloss:0.20446\n",
      "[393]\tvalidation_0-mlogloss:0.20438\n",
      "[394]\tvalidation_0-mlogloss:0.20425\n",
      "[395]\tvalidation_0-mlogloss:0.20411\n",
      "[396]\tvalidation_0-mlogloss:0.20409\n",
      "[397]\tvalidation_0-mlogloss:0.20391\n",
      "[398]\tvalidation_0-mlogloss:0.20379\n",
      "[399]\tvalidation_0-mlogloss:0.20371\n",
      "[400]\tvalidation_0-mlogloss:0.20364\n",
      "[401]\tvalidation_0-mlogloss:0.20353\n",
      "[402]\tvalidation_0-mlogloss:0.20354\n",
      "[403]\tvalidation_0-mlogloss:0.20344\n",
      "[404]\tvalidation_0-mlogloss:0.20343\n",
      "[405]\tvalidation_0-mlogloss:0.20333\n",
      "[406]\tvalidation_0-mlogloss:0.20323\n",
      "[407]\tvalidation_0-mlogloss:0.20313\n",
      "[408]\tvalidation_0-mlogloss:0.20307\n",
      "[409]\tvalidation_0-mlogloss:0.20300\n",
      "[410]\tvalidation_0-mlogloss:0.20295\n",
      "[411]\tvalidation_0-mlogloss:0.20286\n",
      "[412]\tvalidation_0-mlogloss:0.20287\n",
      "[413]\tvalidation_0-mlogloss:0.20280\n",
      "[414]\tvalidation_0-mlogloss:0.20273\n",
      "[415]\tvalidation_0-mlogloss:0.20261\n",
      "[416]\tvalidation_0-mlogloss:0.20251\n",
      "[417]\tvalidation_0-mlogloss:0.20246\n",
      "[418]\tvalidation_0-mlogloss:0.20236\n",
      "[419]\tvalidation_0-mlogloss:0.20225\n",
      "[420]\tvalidation_0-mlogloss:0.20201\n",
      "[421]\tvalidation_0-mlogloss:0.20182\n",
      "[422]\tvalidation_0-mlogloss:0.20159\n",
      "[423]\tvalidation_0-mlogloss:0.20147\n",
      "[424]\tvalidation_0-mlogloss:0.20133\n",
      "[425]\tvalidation_0-mlogloss:0.20123\n",
      "[426]\tvalidation_0-mlogloss:0.20109\n",
      "[427]\tvalidation_0-mlogloss:0.20098\n",
      "[428]\tvalidation_0-mlogloss:0.20094\n",
      "[429]\tvalidation_0-mlogloss:0.20083\n",
      "[430]\tvalidation_0-mlogloss:0.20068\n",
      "[431]\tvalidation_0-mlogloss:0.20045\n",
      "[432]\tvalidation_0-mlogloss:0.20033\n",
      "[433]\tvalidation_0-mlogloss:0.20028\n",
      "[434]\tvalidation_0-mlogloss:0.20012\n",
      "[435]\tvalidation_0-mlogloss:0.20004\n",
      "[436]\tvalidation_0-mlogloss:0.19979\n",
      "[437]\tvalidation_0-mlogloss:0.19962\n",
      "[438]\tvalidation_0-mlogloss:0.19959\n",
      "[439]\tvalidation_0-mlogloss:0.19940\n",
      "[440]\tvalidation_0-mlogloss:0.19922\n",
      "[441]\tvalidation_0-mlogloss:0.19900\n",
      "[442]\tvalidation_0-mlogloss:0.19899\n",
      "[443]\tvalidation_0-mlogloss:0.19895\n",
      "[444]\tvalidation_0-mlogloss:0.19887\n",
      "[445]\tvalidation_0-mlogloss:0.19880\n",
      "[446]\tvalidation_0-mlogloss:0.19872\n",
      "[447]\tvalidation_0-mlogloss:0.19869\n",
      "[448]\tvalidation_0-mlogloss:0.19867\n",
      "[449]\tvalidation_0-mlogloss:0.19861\n",
      "[450]\tvalidation_0-mlogloss:0.19852\n",
      "[451]\tvalidation_0-mlogloss:0.19841\n",
      "[452]\tvalidation_0-mlogloss:0.19830\n",
      "[453]\tvalidation_0-mlogloss:0.19823\n",
      "[454]\tvalidation_0-mlogloss:0.19811\n",
      "[455]\tvalidation_0-mlogloss:0.19799\n",
      "[456]\tvalidation_0-mlogloss:0.19790\n",
      "[457]\tvalidation_0-mlogloss:0.19785\n",
      "[458]\tvalidation_0-mlogloss:0.19785\n",
      "[459]\tvalidation_0-mlogloss:0.19781\n",
      "[460]\tvalidation_0-mlogloss:0.19773\n",
      "[461]\tvalidation_0-mlogloss:0.19762\n",
      "[462]\tvalidation_0-mlogloss:0.19749\n",
      "[463]\tvalidation_0-mlogloss:0.19745\n",
      "[464]\tvalidation_0-mlogloss:0.19746\n",
      "[465]\tvalidation_0-mlogloss:0.19738\n",
      "[466]\tvalidation_0-mlogloss:0.19733\n",
      "[467]\tvalidation_0-mlogloss:0.19729\n",
      "[468]\tvalidation_0-mlogloss:0.19725\n",
      "[469]\tvalidation_0-mlogloss:0.19717\n",
      "[470]\tvalidation_0-mlogloss:0.19709\n",
      "[471]\tvalidation_0-mlogloss:0.19699\n",
      "[472]\tvalidation_0-mlogloss:0.19696\n",
      "[473]\tvalidation_0-mlogloss:0.19691\n",
      "[474]\tvalidation_0-mlogloss:0.19675\n",
      "[475]\tvalidation_0-mlogloss:0.19670\n",
      "[476]\tvalidation_0-mlogloss:0.19663\n",
      "[477]\tvalidation_0-mlogloss:0.19653\n",
      "[478]\tvalidation_0-mlogloss:0.19639\n",
      "[479]\tvalidation_0-mlogloss:0.19631\n",
      "[480]\tvalidation_0-mlogloss:0.19618\n",
      "[481]\tvalidation_0-mlogloss:0.19608\n",
      "[482]\tvalidation_0-mlogloss:0.19597\n",
      "[483]\tvalidation_0-mlogloss:0.19591\n",
      "[484]\tvalidation_0-mlogloss:0.19585\n",
      "[485]\tvalidation_0-mlogloss:0.19579\n",
      "[486]\tvalidation_0-mlogloss:0.19570\n",
      "[487]\tvalidation_0-mlogloss:0.19566\n",
      "[488]\tvalidation_0-mlogloss:0.19560\n",
      "[489]\tvalidation_0-mlogloss:0.19550\n",
      "[490]\tvalidation_0-mlogloss:0.19538\n",
      "[491]\tvalidation_0-mlogloss:0.19529\n",
      "[492]\tvalidation_0-mlogloss:0.19519\n",
      "[493]\tvalidation_0-mlogloss:0.19520\n",
      "[494]\tvalidation_0-mlogloss:0.19515\n",
      "[495]\tvalidation_0-mlogloss:0.19509\n",
      "[496]\tvalidation_0-mlogloss:0.19498\n",
      "[497]\tvalidation_0-mlogloss:0.19493\n",
      "[498]\tvalidation_0-mlogloss:0.19490\n",
      "[499]\tvalidation_0-mlogloss:0.19483\n",
      "[500]\tvalidation_0-mlogloss:0.19467\n",
      "[501]\tvalidation_0-mlogloss:0.19464\n",
      "[502]\tvalidation_0-mlogloss:0.19463\n",
      "[503]\tvalidation_0-mlogloss:0.19457\n",
      "[504]\tvalidation_0-mlogloss:0.19449\n",
      "[505]\tvalidation_0-mlogloss:0.19448\n",
      "[506]\tvalidation_0-mlogloss:0.19446\n",
      "[507]\tvalidation_0-mlogloss:0.19443\n",
      "[508]\tvalidation_0-mlogloss:0.19431\n",
      "[509]\tvalidation_0-mlogloss:0.19422\n",
      "[510]\tvalidation_0-mlogloss:0.19418\n",
      "[511]\tvalidation_0-mlogloss:0.19411\n",
      "[512]\tvalidation_0-mlogloss:0.19410\n",
      "[513]\tvalidation_0-mlogloss:0.19401\n",
      "[514]\tvalidation_0-mlogloss:0.19393\n",
      "[515]\tvalidation_0-mlogloss:0.19394\n",
      "[516]\tvalidation_0-mlogloss:0.19391\n",
      "[517]\tvalidation_0-mlogloss:0.19386\n",
      "[518]\tvalidation_0-mlogloss:0.19386\n",
      "[519]\tvalidation_0-mlogloss:0.19388\n",
      "[520]\tvalidation_0-mlogloss:0.19378\n",
      "[521]\tvalidation_0-mlogloss:0.19372\n",
      "[522]\tvalidation_0-mlogloss:0.19356\n",
      "[523]\tvalidation_0-mlogloss:0.19354\n",
      "[524]\tvalidation_0-mlogloss:0.19351\n",
      "[525]\tvalidation_0-mlogloss:0.19346\n",
      "[526]\tvalidation_0-mlogloss:0.19345\n",
      "[527]\tvalidation_0-mlogloss:0.19341\n",
      "[528]\tvalidation_0-mlogloss:0.19336\n",
      "[529]\tvalidation_0-mlogloss:0.19335\n",
      "[530]\tvalidation_0-mlogloss:0.19331\n",
      "[531]\tvalidation_0-mlogloss:0.19323\n",
      "[532]\tvalidation_0-mlogloss:0.19312\n",
      "[533]\tvalidation_0-mlogloss:0.19304\n",
      "[534]\tvalidation_0-mlogloss:0.19300\n",
      "[535]\tvalidation_0-mlogloss:0.19300\n",
      "[536]\tvalidation_0-mlogloss:0.19289\n",
      "[537]\tvalidation_0-mlogloss:0.19287\n",
      "[538]\tvalidation_0-mlogloss:0.19284\n",
      "[539]\tvalidation_0-mlogloss:0.19283\n",
      "[540]\tvalidation_0-mlogloss:0.19278\n",
      "[541]\tvalidation_0-mlogloss:0.19272\n",
      "[542]\tvalidation_0-mlogloss:0.19268\n",
      "[543]\tvalidation_0-mlogloss:0.19266\n",
      "[544]\tvalidation_0-mlogloss:0.19264\n",
      "[545]\tvalidation_0-mlogloss:0.19260\n",
      "[546]\tvalidation_0-mlogloss:0.19262\n",
      "[547]\tvalidation_0-mlogloss:0.19253\n",
      "[548]\tvalidation_0-mlogloss:0.19254\n",
      "[549]\tvalidation_0-mlogloss:0.19251\n",
      "[550]\tvalidation_0-mlogloss:0.19247\n",
      "[551]\tvalidation_0-mlogloss:0.19247\n",
      "[552]\tvalidation_0-mlogloss:0.19247\n",
      "[553]\tvalidation_0-mlogloss:0.19232\n",
      "[554]\tvalidation_0-mlogloss:0.19231\n",
      "[555]\tvalidation_0-mlogloss:0.19225\n",
      "[556]\tvalidation_0-mlogloss:0.19225\n",
      "[557]\tvalidation_0-mlogloss:0.19220\n",
      "[558]\tvalidation_0-mlogloss:0.19221\n",
      "[559]\tvalidation_0-mlogloss:0.19222\n",
      "[560]\tvalidation_0-mlogloss:0.19220\n",
      "[561]\tvalidation_0-mlogloss:0.19212\n",
      "[562]\tvalidation_0-mlogloss:0.19209\n",
      "[563]\tvalidation_0-mlogloss:0.19208\n",
      "[564]\tvalidation_0-mlogloss:0.19203\n",
      "[565]\tvalidation_0-mlogloss:0.19203\n",
      "[566]\tvalidation_0-mlogloss:0.19196\n",
      "[567]\tvalidation_0-mlogloss:0.19193\n",
      "[568]\tvalidation_0-mlogloss:0.19194\n",
      "[569]\tvalidation_0-mlogloss:0.19193\n",
      "[570]\tvalidation_0-mlogloss:0.19189\n",
      "[571]\tvalidation_0-mlogloss:0.19180\n",
      "[572]\tvalidation_0-mlogloss:0.19177\n",
      "[573]\tvalidation_0-mlogloss:0.19171\n",
      "[574]\tvalidation_0-mlogloss:0.19168\n",
      "[575]\tvalidation_0-mlogloss:0.19163\n",
      "[576]\tvalidation_0-mlogloss:0.19158\n",
      "[577]\tvalidation_0-mlogloss:0.19156\n",
      "[578]\tvalidation_0-mlogloss:0.19141\n",
      "[579]\tvalidation_0-mlogloss:0.19139\n",
      "[580]\tvalidation_0-mlogloss:0.19141\n",
      "[581]\tvalidation_0-mlogloss:0.19140\n",
      "[582]\tvalidation_0-mlogloss:0.19132\n",
      "[583]\tvalidation_0-mlogloss:0.19134\n",
      "[584]\tvalidation_0-mlogloss:0.19133\n",
      "[585]\tvalidation_0-mlogloss:0.19131\n",
      "[586]\tvalidation_0-mlogloss:0.19128\n",
      "[587]\tvalidation_0-mlogloss:0.19128\n",
      "[588]\tvalidation_0-mlogloss:0.19127\n",
      "[589]\tvalidation_0-mlogloss:0.19129\n",
      "[590]\tvalidation_0-mlogloss:0.19130\n",
      "[591]\tvalidation_0-mlogloss:0.19128\n",
      "[592]\tvalidation_0-mlogloss:0.19124\n",
      "[593]\tvalidation_0-mlogloss:0.19118\n",
      "[594]\tvalidation_0-mlogloss:0.19115\n",
      "[595]\tvalidation_0-mlogloss:0.19116\n",
      "[596]\tvalidation_0-mlogloss:0.19112\n",
      "[597]\tvalidation_0-mlogloss:0.19110\n",
      "[598]\tvalidation_0-mlogloss:0.19103\n",
      "[599]\tvalidation_0-mlogloss:0.19100\n",
      "[600]\tvalidation_0-mlogloss:0.19085\n",
      "[601]\tvalidation_0-mlogloss:0.19075\n",
      "[602]\tvalidation_0-mlogloss:0.19076\n",
      "[603]\tvalidation_0-mlogloss:0.19075\n",
      "[604]\tvalidation_0-mlogloss:0.19077\n",
      "[605]\tvalidation_0-mlogloss:0.19074\n",
      "[606]\tvalidation_0-mlogloss:0.19078\n",
      "[607]\tvalidation_0-mlogloss:0.19081\n",
      "[608]\tvalidation_0-mlogloss:0.19079\n",
      "[609]\tvalidation_0-mlogloss:0.19076\n",
      "[610]\tvalidation_0-mlogloss:0.19073\n",
      "[611]\tvalidation_0-mlogloss:0.19069\n",
      "[612]\tvalidation_0-mlogloss:0.19067\n",
      "[613]\tvalidation_0-mlogloss:0.19062\n",
      "[614]\tvalidation_0-mlogloss:0.19057\n",
      "[615]\tvalidation_0-mlogloss:0.19049\n",
      "[616]\tvalidation_0-mlogloss:0.19049\n",
      "[617]\tvalidation_0-mlogloss:0.19047\n",
      "[618]\tvalidation_0-mlogloss:0.19046\n",
      "[619]\tvalidation_0-mlogloss:0.19046\n",
      "[620]\tvalidation_0-mlogloss:0.19044\n",
      "[621]\tvalidation_0-mlogloss:0.19046\n",
      "[622]\tvalidation_0-mlogloss:0.19043\n",
      "[623]\tvalidation_0-mlogloss:0.19040\n",
      "[624]\tvalidation_0-mlogloss:0.19033\n",
      "[625]\tvalidation_0-mlogloss:0.19025\n",
      "[626]\tvalidation_0-mlogloss:0.19026\n",
      "[627]\tvalidation_0-mlogloss:0.19022\n",
      "[628]\tvalidation_0-mlogloss:0.19022\n",
      "[629]\tvalidation_0-mlogloss:0.19022\n",
      "[630]\tvalidation_0-mlogloss:0.19028\n",
      "[631]\tvalidation_0-mlogloss:0.19029\n",
      "[632]\tvalidation_0-mlogloss:0.19030\n",
      "[633]\tvalidation_0-mlogloss:0.19027\n",
      "[634]\tvalidation_0-mlogloss:0.19024\n",
      "[635]\tvalidation_0-mlogloss:0.19024\n",
      "[636]\tvalidation_0-mlogloss:0.19023\n",
      "[637]\tvalidation_0-mlogloss:0.19024\n",
      "[638]\tvalidation_0-mlogloss:0.19020\n",
      "[639]\tvalidation_0-mlogloss:0.19019\n",
      "[640]\tvalidation_0-mlogloss:0.19016\n",
      "[641]\tvalidation_0-mlogloss:0.19011\n",
      "[642]\tvalidation_0-mlogloss:0.19009\n",
      "[643]\tvalidation_0-mlogloss:0.19003\n",
      "[644]\tvalidation_0-mlogloss:0.18998\n",
      "[645]\tvalidation_0-mlogloss:0.18997\n",
      "[646]\tvalidation_0-mlogloss:0.18991\n",
      "[647]\tvalidation_0-mlogloss:0.18986\n",
      "[648]\tvalidation_0-mlogloss:0.18972\n",
      "[649]\tvalidation_0-mlogloss:0.18975\n",
      "[650]\tvalidation_0-mlogloss:0.18978\n",
      "[651]\tvalidation_0-mlogloss:0.18973\n",
      "[652]\tvalidation_0-mlogloss:0.18974\n",
      "[653]\tvalidation_0-mlogloss:0.18976\n",
      "[654]\tvalidation_0-mlogloss:0.18976\n",
      "[655]\tvalidation_0-mlogloss:0.18973\n",
      "[656]\tvalidation_0-mlogloss:0.18972\n",
      "[657]\tvalidation_0-mlogloss:0.18966\n",
      "[658]\tvalidation_0-mlogloss:0.18961\n",
      "[659]\tvalidation_0-mlogloss:0.18960\n",
      "[660]\tvalidation_0-mlogloss:0.18958\n",
      "[661]\tvalidation_0-mlogloss:0.18958\n",
      "[662]\tvalidation_0-mlogloss:0.18954\n",
      "[663]\tvalidation_0-mlogloss:0.18952\n",
      "[664]\tvalidation_0-mlogloss:0.18951\n",
      "[665]\tvalidation_0-mlogloss:0.18946\n",
      "[666]\tvalidation_0-mlogloss:0.18946\n",
      "[667]\tvalidation_0-mlogloss:0.18949\n",
      "[668]\tvalidation_0-mlogloss:0.18941\n",
      "[669]\tvalidation_0-mlogloss:0.18941\n",
      "[670]\tvalidation_0-mlogloss:0.18941\n",
      "[671]\tvalidation_0-mlogloss:0.18939\n",
      "[672]\tvalidation_0-mlogloss:0.18935\n",
      "[673]\tvalidation_0-mlogloss:0.18932\n",
      "[674]\tvalidation_0-mlogloss:0.18931\n",
      "[675]\tvalidation_0-mlogloss:0.18928\n",
      "[676]\tvalidation_0-mlogloss:0.18926\n",
      "[677]\tvalidation_0-mlogloss:0.18926\n",
      "[678]\tvalidation_0-mlogloss:0.18918\n",
      "[679]\tvalidation_0-mlogloss:0.18914\n",
      "[680]\tvalidation_0-mlogloss:0.18909\n",
      "[681]\tvalidation_0-mlogloss:0.18905\n",
      "[682]\tvalidation_0-mlogloss:0.18902\n",
      "[683]\tvalidation_0-mlogloss:0.18896\n",
      "[684]\tvalidation_0-mlogloss:0.18892\n",
      "[685]\tvalidation_0-mlogloss:0.18887\n",
      "[686]\tvalidation_0-mlogloss:0.18876\n",
      "[687]\tvalidation_0-mlogloss:0.18876\n",
      "[688]\tvalidation_0-mlogloss:0.18873\n",
      "[689]\tvalidation_0-mlogloss:0.18871\n",
      "[690]\tvalidation_0-mlogloss:0.18868\n",
      "[691]\tvalidation_0-mlogloss:0.18867\n",
      "[692]\tvalidation_0-mlogloss:0.18869\n",
      "[693]\tvalidation_0-mlogloss:0.18871\n",
      "[694]\tvalidation_0-mlogloss:0.18872\n",
      "[695]\tvalidation_0-mlogloss:0.18870\n",
      "[696]\tvalidation_0-mlogloss:0.18871\n",
      "[697]\tvalidation_0-mlogloss:0.18869\n",
      "[698]\tvalidation_0-mlogloss:0.18869\n",
      "[699]\tvalidation_0-mlogloss:0.18867\n",
      "[700]\tvalidation_0-mlogloss:0.18866\n",
      "[701]\tvalidation_0-mlogloss:0.18863\n",
      "[702]\tvalidation_0-mlogloss:0.18862\n",
      "[703]\tvalidation_0-mlogloss:0.18862\n",
      "[704]\tvalidation_0-mlogloss:0.18862\n",
      "[705]\tvalidation_0-mlogloss:0.18860\n",
      "[706]\tvalidation_0-mlogloss:0.18858\n",
      "[707]\tvalidation_0-mlogloss:0.18855\n",
      "[708]\tvalidation_0-mlogloss:0.18852\n",
      "[709]\tvalidation_0-mlogloss:0.18853\n",
      "[710]\tvalidation_0-mlogloss:0.18854\n",
      "[711]\tvalidation_0-mlogloss:0.18853\n",
      "[712]\tvalidation_0-mlogloss:0.18854\n",
      "[713]\tvalidation_0-mlogloss:0.18855\n",
      "[714]\tvalidation_0-mlogloss:0.18850\n",
      "[715]\tvalidation_0-mlogloss:0.18846\n",
      "[716]\tvalidation_0-mlogloss:0.18844\n",
      "[717]\tvalidation_0-mlogloss:0.18841\n",
      "[718]\tvalidation_0-mlogloss:0.18841\n",
      "[719]\tvalidation_0-mlogloss:0.18838\n",
      "[720]\tvalidation_0-mlogloss:0.18837\n",
      "[721]\tvalidation_0-mlogloss:0.18839\n",
      "[722]\tvalidation_0-mlogloss:0.18840\n",
      "[723]\tvalidation_0-mlogloss:0.18842\n",
      "[724]\tvalidation_0-mlogloss:0.18840\n",
      "[725]\tvalidation_0-mlogloss:0.18838\n",
      "[726]\tvalidation_0-mlogloss:0.18839\n",
      "[727]\tvalidation_0-mlogloss:0.18840\n",
      "[728]\tvalidation_0-mlogloss:0.18837\n",
      "[729]\tvalidation_0-mlogloss:0.18836\n",
      "[730]\tvalidation_0-mlogloss:0.18837\n",
      "[731]\tvalidation_0-mlogloss:0.18840\n",
      "[732]\tvalidation_0-mlogloss:0.18839\n",
      "[733]\tvalidation_0-mlogloss:0.18834\n",
      "[734]\tvalidation_0-mlogloss:0.18834\n",
      "[735]\tvalidation_0-mlogloss:0.18835\n",
      "[736]\tvalidation_0-mlogloss:0.18833\n",
      "[737]\tvalidation_0-mlogloss:0.18835\n",
      "[738]\tvalidation_0-mlogloss:0.18834\n",
      "[739]\tvalidation_0-mlogloss:0.18834\n",
      "[740]\tvalidation_0-mlogloss:0.18836\n",
      "[741]\tvalidation_0-mlogloss:0.18836\n",
      "[742]\tvalidation_0-mlogloss:0.18835\n",
      "[743]\tvalidation_0-mlogloss:0.18833\n",
      "[744]\tvalidation_0-mlogloss:0.18832\n",
      "[745]\tvalidation_0-mlogloss:0.18834\n",
      "[746]\tvalidation_0-mlogloss:0.18835\n",
      "[747]\tvalidation_0-mlogloss:0.18832\n",
      "[748]\tvalidation_0-mlogloss:0.18834\n",
      "[749]\tvalidation_0-mlogloss:0.18835\n",
      "[750]\tvalidation_0-mlogloss:0.18836\n",
      "[751]\tvalidation_0-mlogloss:0.18839\n",
      "[752]\tvalidation_0-mlogloss:0.18843\n",
      "[753]\tvalidation_0-mlogloss:0.18842\n",
      "[754]\tvalidation_0-mlogloss:0.18844\n"
     ]
    },
    {
     "data": {
      "text/html": [
       "<style>#sk-container-id-2 {color: black;background-color: white;}#sk-container-id-2 pre{padding: 0;}#sk-container-id-2 div.sk-toggleable {background-color: white;}#sk-container-id-2 label.sk-toggleable__label {cursor: pointer;display: block;width: 100%;margin-bottom: 0;padding: 0.3em;box-sizing: border-box;text-align: center;}#sk-container-id-2 label.sk-toggleable__label-arrow:before {content: \"▸\";float: left;margin-right: 0.25em;color: #696969;}#sk-container-id-2 label.sk-toggleable__label-arrow:hover:before {color: black;}#sk-container-id-2 div.sk-estimator:hover label.sk-toggleable__label-arrow:before {color: black;}#sk-container-id-2 div.sk-toggleable__content {max-height: 0;max-width: 0;overflow: hidden;text-align: left;background-color: #f0f8ff;}#sk-container-id-2 div.sk-toggleable__content pre {margin: 0.2em;color: black;border-radius: 0.25em;background-color: #f0f8ff;}#sk-container-id-2 input.sk-toggleable__control:checked~div.sk-toggleable__content {max-height: 200px;max-width: 100%;overflow: auto;}#sk-container-id-2 input.sk-toggleable__control:checked~label.sk-toggleable__label-arrow:before {content: \"▾\";}#sk-container-id-2 div.sk-estimator input.sk-toggleable__control:checked~label.sk-toggleable__label {background-color: #d4ebff;}#sk-container-id-2 div.sk-label input.sk-toggleable__control:checked~label.sk-toggleable__label {background-color: #d4ebff;}#sk-container-id-2 input.sk-hidden--visually {border: 0;clip: rect(1px 1px 1px 1px);clip: rect(1px, 1px, 1px, 1px);height: 1px;margin: -1px;overflow: hidden;padding: 0;position: absolute;width: 1px;}#sk-container-id-2 div.sk-estimator {font-family: monospace;background-color: #f0f8ff;border: 1px dotted black;border-radius: 0.25em;box-sizing: border-box;margin-bottom: 0.5em;}#sk-container-id-2 div.sk-estimator:hover {background-color: #d4ebff;}#sk-container-id-2 div.sk-parallel-item::after {content: \"\";width: 100%;border-bottom: 1px solid gray;flex-grow: 1;}#sk-container-id-2 div.sk-label:hover label.sk-toggleable__label {background-color: #d4ebff;}#sk-container-id-2 div.sk-serial::before {content: \"\";position: absolute;border-left: 1px solid gray;box-sizing: border-box;top: 0;bottom: 0;left: 50%;z-index: 0;}#sk-container-id-2 div.sk-serial {display: flex;flex-direction: column;align-items: center;background-color: white;padding-right: 0.2em;padding-left: 0.2em;position: relative;}#sk-container-id-2 div.sk-item {position: relative;z-index: 1;}#sk-container-id-2 div.sk-parallel {display: flex;align-items: stretch;justify-content: center;background-color: white;position: relative;}#sk-container-id-2 div.sk-item::before, #sk-container-id-2 div.sk-parallel-item::before {content: \"\";position: absolute;border-left: 1px solid gray;box-sizing: border-box;top: 0;bottom: 0;left: 50%;z-index: -1;}#sk-container-id-2 div.sk-parallel-item {display: flex;flex-direction: column;z-index: 1;position: relative;background-color: white;}#sk-container-id-2 div.sk-parallel-item:first-child::after {align-self: flex-end;width: 50%;}#sk-container-id-2 div.sk-parallel-item:last-child::after {align-self: flex-start;width: 50%;}#sk-container-id-2 div.sk-parallel-item:only-child::after {width: 0;}#sk-container-id-2 div.sk-dashed-wrapped {border: 1px dashed gray;margin: 0 0.4em 0.5em 0.4em;box-sizing: border-box;padding-bottom: 0.4em;background-color: white;}#sk-container-id-2 div.sk-label label {font-family: monospace;font-weight: bold;display: inline-block;line-height: 1.2em;}#sk-container-id-2 div.sk-label-container {text-align: center;}#sk-container-id-2 div.sk-container {/* jupyter's `normalize.less` sets `[hidden] { display: none; }` but bootstrap.min.css set `[hidden] { display: none !important; }` so we also need the `!important` here to be able to override the default hidden behavior on the sphinx rendered scikit-learn.org. See: https://github.com/scikit-learn/scikit-learn/issues/21755 */display: inline-block !important;position: relative;}#sk-container-id-2 div.sk-text-repr-fallback {display: none;}</style><div id=\"sk-container-id-2\" class=\"sk-top-container\"><div class=\"sk-text-repr-fallback\"><pre>XGBClassifier(base_score=None, booster=None, callbacks=None,\n",
       "              colsample_bylevel=None, colsample_bynode=None,\n",
       "              colsample_bytree=0.9, early_stopping_rounds=None,\n",
       "              enable_categorical=False, eval_metric=None, feature_types=None,\n",
       "              gamma=None, gpu_id=None, grow_policy=None, importance_type=None,\n",
       "              interaction_constraints=None, learning_rate=0.3, max_bin=None,\n",
       "              max_cat_threshold=None, max_cat_to_onehot=None,\n",
       "              max_delta_step=None, max_depth=10, max_leaves=None,\n",
       "              min_child_weight=None, missing=nan, monotone_constraints=None,\n",
       "              n_estimators=1000, n_jobs=None, num_parallel_tree=None,\n",
       "              objective=&#x27;multi:softprob&#x27;, predictor=None, ...)</pre><b>In a Jupyter environment, please rerun this cell to show the HTML representation or trust the notebook. <br />On GitHub, the HTML representation is unable to render, please try loading this page with nbviewer.org.</b></div><div class=\"sk-container\" hidden><div class=\"sk-item\"><div class=\"sk-estimator sk-toggleable\"><input class=\"sk-toggleable__control sk-hidden--visually\" id=\"sk-estimator-id-2\" type=\"checkbox\" checked><label for=\"sk-estimator-id-2\" class=\"sk-toggleable__label sk-toggleable__label-arrow\">XGBClassifier</label><div class=\"sk-toggleable__content\"><pre>XGBClassifier(base_score=None, booster=None, callbacks=None,\n",
       "              colsample_bylevel=None, colsample_bynode=None,\n",
       "              colsample_bytree=0.9, early_stopping_rounds=None,\n",
       "              enable_categorical=False, eval_metric=None, feature_types=None,\n",
       "              gamma=None, gpu_id=None, grow_policy=None, importance_type=None,\n",
       "              interaction_constraints=None, learning_rate=0.3, max_bin=None,\n",
       "              max_cat_threshold=None, max_cat_to_onehot=None,\n",
       "              max_delta_step=None, max_depth=10, max_leaves=None,\n",
       "              min_child_weight=None, missing=nan, monotone_constraints=None,\n",
       "              n_estimators=1000, n_jobs=None, num_parallel_tree=None,\n",
       "              objective=&#x27;multi:softprob&#x27;, predictor=None, ...)</pre></div></div></div></div></div>"
      ],
      "text/plain": [
       "XGBClassifier(base_score=None, booster=None, callbacks=None,\n",
       "              colsample_bylevel=None, colsample_bynode=None,\n",
       "              colsample_bytree=0.9, early_stopping_rounds=None,\n",
       "              enable_categorical=False, eval_metric=None, feature_types=None,\n",
       "              gamma=None, gpu_id=None, grow_policy=None, importance_type=None,\n",
       "              interaction_constraints=None, learning_rate=0.3, max_bin=None,\n",
       "              max_cat_threshold=None, max_cat_to_onehot=None,\n",
       "              max_delta_step=None, max_depth=10, max_leaves=None,\n",
       "              min_child_weight=None, missing=nan, monotone_constraints=None,\n",
       "              n_estimators=1000, n_jobs=None, num_parallel_tree=None,\n",
       "              objective='multi:softprob', predictor=None, ...)"
      ]
     },
     "execution_count": 20,
     "metadata": {},
     "output_type": "execute_result"
    }
   ],
   "source": [
    "\n",
    "# Define your model\n",
    "models = {\n",
    "    'xgb_clf': xgb.XGBClassifier(\n",
    "        subsample=1.0,\n",
    "        reg_lambda=1.5,\n",
    "        reg_alpha=0.005,\n",
    "        n_estimators=1000,  # Set a large number for n_estimators\n",
    "        max_depth=10,\n",
    "        learning_rate=0.3,\n",
    "        colsample_bytree=0.9,\n",
    "        random_state=0\n",
    "    )\n",
    "}\n",
    "\n",
    "# Use a validation set for early stopping\n",
    "eval_set = [(X_val, y_val)]\n",
    "\n",
    "# Fit the model with early stopping\n",
    "model = models['xgb_clf']\n",
    "model.fit(X_train_sub, y_train_sub, early_stopping_rounds=10, eval_metric=\"mlogloss\", eval_set=eval_set, verbose=True)\n"
   ]
  },
  {
   "cell_type": "markdown",
   "metadata": {
    "id": "SNFOyiqw1ydT"
   },
   "source": [
    "#### 3.1.4 Early Stopping with Stratified Cross-Validation"
   ]
  },
  {
   "cell_type": "code",
   "execution_count": null,
   "metadata": {
    "colab": {
     "base_uri": "https://localhost:8080/"
    },
    "executionInfo": {
     "elapsed": 3856995,
     "status": "ok",
     "timestamp": 1694466156184,
     "user": {
      "displayName": "April Itriago",
      "userId": "10552117681411633732"
     },
     "user_tz": -120
    },
    "id": "cHVMknxPyymN",
    "outputId": "89a10e89-5ba1-4ff1-a585-dc3ee99a260a"
   },
   "outputs": [
    {
     "name": "stderr",
     "output_type": "stream",
     "text": [
      "/opt/anaconda3/lib/python3.9/site-packages/xgboost/sklearn.py:835: UserWarning: `early_stopping_rounds` in `fit` method is deprecated for better compatibility with scikit-learn, use `early_stopping_rounds` in constructor or`set_params` instead.\n",
      "  warnings.warn(\n",
      "/opt/anaconda3/lib/python3.9/site-packages/xgboost/sklearn.py:835: UserWarning: `early_stopping_rounds` in `fit` method is deprecated for better compatibility with scikit-learn, use `early_stopping_rounds` in constructor or`set_params` instead.\n",
      "  warnings.warn(\n",
      "/opt/anaconda3/lib/python3.9/site-packages/xgboost/sklearn.py:835: UserWarning: `early_stopping_rounds` in `fit` method is deprecated for better compatibility with scikit-learn, use `early_stopping_rounds` in constructor or`set_params` instead.\n",
      "  warnings.warn(\n",
      "/opt/anaconda3/lib/python3.9/site-packages/xgboost/sklearn.py:835: UserWarning: `early_stopping_rounds` in `fit` method is deprecated for better compatibility with scikit-learn, use `early_stopping_rounds` in constructor or`set_params` instead.\n",
      "  warnings.warn(\n",
      "/opt/anaconda3/lib/python3.9/site-packages/xgboost/sklearn.py:835: UserWarning: `early_stopping_rounds` in `fit` method is deprecated for better compatibility with scikit-learn, use `early_stopping_rounds` in constructor or`set_params` instead.\n",
      "  warnings.warn(\n"
     ]
    },
    {
     "name": "stdout",
     "output_type": "stream",
     "text": [
      "Model: xgb_model\n",
      "Test F1 (macro): 93.58%\n",
      "----------------------------------------\n"
     ]
    }
   ],
   "source": [
    "#We are going to apply the stratefied K-Fold Cross validation with the new\n",
    "#parameters\n",
    "xgb_model = xgb.XGBClassifier(\n",
    "    objective='multi:softprob',\n",
    "    colsample_bytree=0.9,\n",
    "    learning_rate=0.3,\n",
    "    max_depth=10,\n",
    "    n_estimators=1000,  # Setting to a large number, early stopping will decide the actual number\n",
    "    eval_metric='mlogloss',\n",
    "    subsample=1.0,\n",
    "    reg_lambda=1.5,\n",
    "    reg_alpha=0.005,\n",
    "    random_state=0\n",
    ")\n",
    "\n",
    "# Define your models dictionary\n",
    "models = {\n",
    "    'xgb_model': xgb_model\n",
    "}\n",
    "\n",
    "# Stratified K-Fold Cross-Validation\n",
    "skf = StratifiedKFold(n_splits=5, shuffle=True, random_state=4)\n",
    "\n",
    "# Loop over your models\n",
    "for model_name, model in models.items():\n",
    "    scores = []\n",
    "    for train_idx, test_idx in skf.split(X_train_p2, y_train_p2):\n",
    "        X_train_fold, X_val_fold = X_train_p2.iloc[train_idx], X_train_p2.iloc[test_idx]\n",
    "        y_train_fold, y_val_fold = y_train_p2.iloc[train_idx], y_train_p2.iloc[test_idx]\n",
    "\n",
    "        model.fit(\n",
    "            X_train_fold,\n",
    "            y_train_fold,\n",
    "            early_stopping_rounds=10,\n",
    "            eval_set=[(X_val_fold, y_val_fold)],\n",
    "            verbose=False\n",
    "        )\n",
    "\n",
    "        predictions = model.predict(X_val_fold)\n",
    "        score = f1_score(y_val_fold, predictions, average='macro')\n",
    "        scores.append(score)\n",
    "\n",
    "    # Print results\n",
    "    print(f\"Model: {model_name}\")\n",
    "    print(f\"Test F1 (macro): {np.mean(scores) * 100:.2f}%\")\n",
    "    print(\"----------------------------------------\")\n"
   ]
  },
  {
   "cell_type": "code",
   "execution_count": null,
   "metadata": {
    "colab": {
     "base_uri": "https://localhost:8080/"
    },
    "executionInfo": {
     "elapsed": 7085,
     "status": "ok",
     "timestamp": 1694466830969,
     "user": {
      "displayName": "April Itriago",
      "userId": "10552117681411633732"
     },
     "user_tz": -120
    },
    "id": "q6wZbCXKF88m",
    "outputId": "b079b911-1433-4be0-840a-fb7728ef7e9f"
   },
   "outputs": [
    {
     "name": "stdout",
     "output_type": "stream",
     "text": [
      "Train F1 (macro): 98.67%\n"
     ]
    }
   ],
   "source": [
    "# Predict on the training data\n",
    "y_train_pred = xgb_model.predict(X_train_p2)\n",
    "\n",
    "# Compute the F1 score on the training data\n",
    "train_f1 = f1_score(y_train_p2, y_train_pred, average='macro')\n",
    "\n",
    "print(f\"Train F1 (macro): {train_f1 * 100:.2f}%\")"
   ]
  },
  {
   "cell_type": "markdown",
   "metadata": {
    "id": "PJyPNQzzK4Wi"
   },
   "source": [
    "**Results**:\n",
    "\n",
    "*   Test F1 (macro): 93.58%\n",
    "*   Train F1 (macro): 98.67%\n",
    "\n",
    "\n",
    "The difference between the training and test scores is about 5%. This indicates that the model might be slightly overfitting to the training data, but the difference isn't too large. So we are going with this features try with the others dataset."
   ]
  },
  {
   "cell_type": "markdown",
   "metadata": {
    "id": "7SRq7NskLKjV"
   },
   "source": [
    "#### 3.1.5 Feature importance perfomance 2a"
   ]
  },
  {
   "cell_type": "code",
   "execution_count": 5,
   "metadata": {
    "colab": {
     "base_uri": "https://localhost:8080/",
     "height": 252
    },
    "executionInfo": {
     "elapsed": 548050,
     "status": "ok",
     "timestamp": 1694511512732,
     "user": {
      "displayName": "April Itriago",
      "userId": "10552117681411633732"
     },
     "user_tz": -120
    },
    "id": "ZR2E9IsndRQu",
    "outputId": "790a9ee1-a15c-4446-a524-b998a1e01a5c"
   },
   "outputs": [
    {
     "data": {
      "text/html": [
       "<style>#sk-container-id-1 {color: black;background-color: white;}#sk-container-id-1 pre{padding: 0;}#sk-container-id-1 div.sk-toggleable {background-color: white;}#sk-container-id-1 label.sk-toggleable__label {cursor: pointer;display: block;width: 100%;margin-bottom: 0;padding: 0.3em;box-sizing: border-box;text-align: center;}#sk-container-id-1 label.sk-toggleable__label-arrow:before {content: \"▸\";float: left;margin-right: 0.25em;color: #696969;}#sk-container-id-1 label.sk-toggleable__label-arrow:hover:before {color: black;}#sk-container-id-1 div.sk-estimator:hover label.sk-toggleable__label-arrow:before {color: black;}#sk-container-id-1 div.sk-toggleable__content {max-height: 0;max-width: 0;overflow: hidden;text-align: left;background-color: #f0f8ff;}#sk-container-id-1 div.sk-toggleable__content pre {margin: 0.2em;color: black;border-radius: 0.25em;background-color: #f0f8ff;}#sk-container-id-1 input.sk-toggleable__control:checked~div.sk-toggleable__content {max-height: 200px;max-width: 100%;overflow: auto;}#sk-container-id-1 input.sk-toggleable__control:checked~label.sk-toggleable__label-arrow:before {content: \"▾\";}#sk-container-id-1 div.sk-estimator input.sk-toggleable__control:checked~label.sk-toggleable__label {background-color: #d4ebff;}#sk-container-id-1 div.sk-label input.sk-toggleable__control:checked~label.sk-toggleable__label {background-color: #d4ebff;}#sk-container-id-1 input.sk-hidden--visually {border: 0;clip: rect(1px 1px 1px 1px);clip: rect(1px, 1px, 1px, 1px);height: 1px;margin: -1px;overflow: hidden;padding: 0;position: absolute;width: 1px;}#sk-container-id-1 div.sk-estimator {font-family: monospace;background-color: #f0f8ff;border: 1px dotted black;border-radius: 0.25em;box-sizing: border-box;margin-bottom: 0.5em;}#sk-container-id-1 div.sk-estimator:hover {background-color: #d4ebff;}#sk-container-id-1 div.sk-parallel-item::after {content: \"\";width: 100%;border-bottom: 1px solid gray;flex-grow: 1;}#sk-container-id-1 div.sk-label:hover label.sk-toggleable__label {background-color: #d4ebff;}#sk-container-id-1 div.sk-serial::before {content: \"\";position: absolute;border-left: 1px solid gray;box-sizing: border-box;top: 0;bottom: 0;left: 50%;z-index: 0;}#sk-container-id-1 div.sk-serial {display: flex;flex-direction: column;align-items: center;background-color: white;padding-right: 0.2em;padding-left: 0.2em;position: relative;}#sk-container-id-1 div.sk-item {position: relative;z-index: 1;}#sk-container-id-1 div.sk-parallel {display: flex;align-items: stretch;justify-content: center;background-color: white;position: relative;}#sk-container-id-1 div.sk-item::before, #sk-container-id-1 div.sk-parallel-item::before {content: \"\";position: absolute;border-left: 1px solid gray;box-sizing: border-box;top: 0;bottom: 0;left: 50%;z-index: -1;}#sk-container-id-1 div.sk-parallel-item {display: flex;flex-direction: column;z-index: 1;position: relative;background-color: white;}#sk-container-id-1 div.sk-parallel-item:first-child::after {align-self: flex-end;width: 50%;}#sk-container-id-1 div.sk-parallel-item:last-child::after {align-self: flex-start;width: 50%;}#sk-container-id-1 div.sk-parallel-item:only-child::after {width: 0;}#sk-container-id-1 div.sk-dashed-wrapped {border: 1px dashed gray;margin: 0 0.4em 0.5em 0.4em;box-sizing: border-box;padding-bottom: 0.4em;background-color: white;}#sk-container-id-1 div.sk-label label {font-family: monospace;font-weight: bold;display: inline-block;line-height: 1.2em;}#sk-container-id-1 div.sk-label-container {text-align: center;}#sk-container-id-1 div.sk-container {/* jupyter's `normalize.less` sets `[hidden] { display: none; }` but bootstrap.min.css set `[hidden] { display: none !important; }` so we also need the `!important` here to be able to override the default hidden behavior on the sphinx rendered scikit-learn.org. See: https://github.com/scikit-learn/scikit-learn/issues/21755 */display: inline-block !important;position: relative;}#sk-container-id-1 div.sk-text-repr-fallback {display: none;}</style><div id=\"sk-container-id-1\" class=\"sk-top-container\"><div class=\"sk-text-repr-fallback\"><pre>XGBClassifier(base_score=None, booster=None, callbacks=None,\n",
       "              colsample_bylevel=None, colsample_bynode=None,\n",
       "              colsample_bytree=0.9, early_stopping_rounds=None,\n",
       "              enable_categorical=False, eval_metric=&#x27;mlogloss&#x27;,\n",
       "              feature_types=None, gamma=None, gpu_id=None, grow_policy=None,\n",
       "              importance_type=None, interaction_constraints=None,\n",
       "              learning_rate=0.3, max_bin=None, max_cat_threshold=None,\n",
       "              max_cat_to_onehot=None, max_delta_step=None, max_depth=10,\n",
       "              max_leaves=None, min_child_weight=None, missing=nan,\n",
       "              monotone_constraints=None, n_estimators=1000, n_jobs=None,\n",
       "              num_parallel_tree=None, objective=&#x27;multi:softprob&#x27;,\n",
       "              predictor=None, ...)</pre><b>In a Jupyter environment, please rerun this cell to show the HTML representation or trust the notebook. <br />On GitHub, the HTML representation is unable to render, please try loading this page with nbviewer.org.</b></div><div class=\"sk-container\" hidden><div class=\"sk-item\"><div class=\"sk-estimator sk-toggleable\"><input class=\"sk-toggleable__control sk-hidden--visually\" id=\"sk-estimator-id-1\" type=\"checkbox\" checked><label for=\"sk-estimator-id-1\" class=\"sk-toggleable__label sk-toggleable__label-arrow\">XGBClassifier</label><div class=\"sk-toggleable__content\"><pre>XGBClassifier(base_score=None, booster=None, callbacks=None,\n",
       "              colsample_bylevel=None, colsample_bynode=None,\n",
       "              colsample_bytree=0.9, early_stopping_rounds=None,\n",
       "              enable_categorical=False, eval_metric=&#x27;mlogloss&#x27;,\n",
       "              feature_types=None, gamma=None, gpu_id=None, grow_policy=None,\n",
       "              importance_type=None, interaction_constraints=None,\n",
       "              learning_rate=0.3, max_bin=None, max_cat_threshold=None,\n",
       "              max_cat_to_onehot=None, max_delta_step=None, max_depth=10,\n",
       "              max_leaves=None, min_child_weight=None, missing=nan,\n",
       "              monotone_constraints=None, n_estimators=1000, n_jobs=None,\n",
       "              num_parallel_tree=None, objective=&#x27;multi:softprob&#x27;,\n",
       "              predictor=None, ...)</pre></div></div></div></div></div>"
      ],
      "text/plain": [
       "XGBClassifier(base_score=None, booster=None, callbacks=None,\n",
       "              colsample_bylevel=None, colsample_bynode=None,\n",
       "              colsample_bytree=0.9, early_stopping_rounds=None,\n",
       "              enable_categorical=False, eval_metric='mlogloss',\n",
       "              feature_types=None, gamma=None, gpu_id=None, grow_policy=None,\n",
       "              importance_type=None, interaction_constraints=None,\n",
       "              learning_rate=0.3, max_bin=None, max_cat_threshold=None,\n",
       "              max_cat_to_onehot=None, max_delta_step=None, max_depth=10,\n",
       "              max_leaves=None, min_child_weight=None, missing=nan,\n",
       "              monotone_constraints=None, n_estimators=1000, n_jobs=None,\n",
       "              num_parallel_tree=None, objective='multi:softprob',\n",
       "              predictor=None, ...)"
      ]
     },
     "execution_count": 5,
     "metadata": {},
     "output_type": "execute_result"
    }
   ],
   "source": [
    "xgb_model = xgb.XGBClassifier(\n",
    "    objective='multi:softprob',\n",
    "    colsample_bytree=0.9,\n",
    "    learning_rate=0.3,\n",
    "    max_depth=10,\n",
    "    n_estimators=1000,  # Setting to a large number, early stopping will decide the actual number\n",
    "    eval_metric='mlogloss',\n",
    "    subsample=1.0,\n",
    "    reg_lambda=1.5,\n",
    "    reg_alpha=0.005,\n",
    "    random_state=0\n",
    ")\n",
    "xgb_model.fit(X_train_p2, y_train_p2)"
   ]
  },
  {
   "cell_type": "code",
   "execution_count": 6,
   "metadata": {
    "colab": {
     "base_uri": "https://localhost:8080/",
     "height": 877
    },
    "executionInfo": {
     "elapsed": 295994,
     "status": "ok",
     "timestamp": 1694511808725,
     "user": {
      "displayName": "April Itriago",
      "userId": "10552117681411633732"
     },
     "user_tz": -120
    },
    "id": "S2aUXMpEI1qf",
    "outputId": "f542792b-ed63-4c8a-f67e-15d17b20d5d6"
   },
   "outputs": [
    {
     "data": {
      "image/png": "[encoded data removed]",
      "text/plain": [
       "<Figure size 800x870 with 1 Axes>"
      ]
     },
     "metadata": {},
     "output_type": "display_data"
    }
   ],
   "source": [
    "# Create a SHAP TreeExplainer object for the XGBoost model\n",
    "explainer = shap.TreeExplainer(xgb_model)\n",
    "\n",
    "# Calculate SHAP values for a subset of your data (for performance reasons)\n",
    "shap_values = explainer.shap_values(X_train_p2.iloc[:1000, :])  # Adjust the subset size as needed\n",
    "\n",
    "# Plot summary of SHAP values\n",
    "shap.summary_plot(shap_values, X_train_p2.iloc[:1000, :])\n",
    "\n"
   ]
  },
  {
   "cell_type": "markdown",
   "metadata": {
    "id": "LT1mKtKvLf37"
   },
   "source": [
    "### 3.2  Model perfomance 2a"
   ]
  },
  {
   "cell_type": "code",
   "execution_count": null,
   "metadata": {
    "colab": {
     "base_uri": "https://localhost:8080/"
    },
    "executionInfo": {
     "elapsed": 4029965,
     "status": "ok",
     "timestamp": 1694472421396,
     "user": {
      "displayName": "April Itriago",
      "userId": "10552117681411633732"
     },
     "user_tz": -120
    },
    "id": "vXXKsBUALW_r",
    "outputId": "c15e103d-62ee-415b-ec9e-fe7d50ab12fe"
   },
   "outputs": [
    {
     "name": "stderr",
     "output_type": "stream",
     "text": [
      "/opt/anaconda3/lib/python3.9/site-packages/xgboost/sklearn.py:835: UserWarning:\n",
      "\n",
      "`early_stopping_rounds` in `fit` method is deprecated for better compatibility with scikit-learn, use `early_stopping_rounds` in constructor or`set_params` instead.\n",
      "\n",
      "/opt/anaconda3/lib/python3.9/site-packages/xgboost/sklearn.py:835: UserWarning:\n",
      "\n",
      "`early_stopping_rounds` in `fit` method is deprecated for better compatibility with scikit-learn, use `early_stopping_rounds` in constructor or`set_params` instead.\n",
      "\n",
      "/opt/anaconda3/lib/python3.9/site-packages/xgboost/sklearn.py:835: UserWarning:\n",
      "\n",
      "`early_stopping_rounds` in `fit` method is deprecated for better compatibility with scikit-learn, use `early_stopping_rounds` in constructor or`set_params` instead.\n",
      "\n",
      "/opt/anaconda3/lib/python3.9/site-packages/xgboost/sklearn.py:835: UserWarning:\n",
      "\n",
      "`early_stopping_rounds` in `fit` method is deprecated for better compatibility with scikit-learn, use `early_stopping_rounds` in constructor or`set_params` instead.\n",
      "\n",
      "/opt/anaconda3/lib/python3.9/site-packages/xgboost/sklearn.py:835: UserWarning:\n",
      "\n",
      "`early_stopping_rounds` in `fit` method is deprecated for better compatibility with scikit-learn, use `early_stopping_rounds` in constructor or`set_params` instead.\n",
      "\n"
     ]
    },
    {
     "name": "stdout",
     "output_type": "stream",
     "text": [
      "Model: xgb_model\n",
      "Test F1 (macro): 93.30%\n",
      "----------------------------------------\n"
     ]
    }
   ],
   "source": [
    "#We are going to apply the stratefied K-Fold Cross validation with the new\n",
    "#parameters\n",
    "xgb_model = xgb.XGBClassifier(\n",
    "    objective='multi:softprob',\n",
    "    colsample_bytree=0.9,\n",
    "    learning_rate=0.3,\n",
    "    max_depth=10,\n",
    "    n_estimators=1000,  # Setting to a large number, early stopping will decide the actual number\n",
    "    eval_metric='mlogloss',\n",
    "    subsample=1.0,\n",
    "    reg_lambda=1.5,\n",
    "    reg_alpha=0.005,\n",
    "    random_state=0\n",
    ")\n",
    "\n",
    "# Define your models dictionary\n",
    "models = {\n",
    "    'xgb_model': xgb_model\n",
    "}\n",
    "\n",
    "# Stratified K-Fold Cross-Validation\n",
    "skf = StratifiedKFold(n_splits=5, shuffle=True, random_state=4)\n",
    "\n",
    "# Loop over your models\n",
    "for model_name, model in models.items():\n",
    "    scores = []\n",
    "    for train_idx, test_idx in skf.split(X_train_p2a, y_train_p2a):\n",
    "        X_train_fold, X_val_fold = X_train_p2a.iloc[train_idx], X_train_p2a.iloc[test_idx]\n",
    "        y_train_fold, y_val_fold = y_train_p2a.iloc[train_idx], y_train_p2a.iloc[test_idx]\n",
    "\n",
    "        model.fit(\n",
    "            X_train_fold,\n",
    "            y_train_fold,\n",
    "            early_stopping_rounds=10,\n",
    "            eval_set=[(X_val_fold, y_val_fold)],\n",
    "            verbose=False\n",
    "        )\n",
    "\n",
    "        predictions = model.predict(X_val_fold)\n",
    "        score = f1_score(y_val_fold, predictions, average='macro')\n",
    "        scores.append(score)\n",
    "\n",
    "    # Print results\n",
    "    print(f\"Model: {model_name}\")\n",
    "    print(f\"Test F1 (macro): {np.mean(scores) * 100:.2f}%\")\n",
    "    print(\"----------------------------------------\")\n",
    "\n"
   ]
  },
  {
   "cell_type": "code",
   "execution_count": 9,
   "metadata": {
    "colab": {
     "base_uri": "https://localhost:8080/"
    },
    "executionInfo": {
     "elapsed": 4103145,
     "status": "ok",
     "timestamp": 1694533679302,
     "user": {
      "displayName": "April Itriago",
      "userId": "10552117681411633732"
     },
     "user_tz": -120
    },
    "id": "qQrkg_YFOytA",
    "outputId": "77a82bf9-c375-46d7-bc3e-8e5a81af14ee"
   },
   "outputs": [
    {
     "name": "stdout",
     "output_type": "stream",
     "text": [
      "Train F1 (macro): 99.94%\n"
     ]
    }
   ],
   "source": [
    "xgb_model = xgb.XGBClassifier(\n",
    "    objective='multi:softprob',\n",
    "    colsample_bytree=0.9,\n",
    "    learning_rate=0.3,\n",
    "    max_depth=10,\n",
    "    n_estimators=1000,  # Setting to a large number, early stopping will decide the actual number\n",
    "    eval_metric='mlogloss',\n",
    "    subsample=1.0,\n",
    "    reg_lambda=1.5,\n",
    "    reg_alpha=0.005,\n",
    "    random_state=0\n",
    ")\n",
    "xgb_model.fit(X_train_p2a, y_train_p2a)\n",
    "\n",
    "\n",
    "# Predict on the training data\n",
    "y_train_pred = xgb_model.predict(X_train_p2a)\n",
    "\n",
    "# Compute the F1 score on the training data\n",
    "train_f1 = f1_score(y_train_p2a, y_train_pred, average='macro')\n",
    "\n",
    "print(f\"Train F1 (macro): {train_f1 * 100:.2f}%\")\n"
   ]
  },
  {
   "cell_type": "markdown",
   "metadata": {
    "id": "a8AzxCaW6NgP"
   },
   "source": [
    "#### 3.2.1 Feature importance perfomance 2a"
   ]
  },
  {
   "cell_type": "code",
   "execution_count": 10,
   "metadata": {
    "colab": {
     "base_uri": "https://localhost:8080/",
     "height": 917
    },
    "executionInfo": {
     "elapsed": 305123,
     "status": "ok",
     "timestamp": 1694533984410,
     "user": {
      "displayName": "April Itriago",
      "userId": "10552117681411633732"
     },
     "user_tz": -120
    },
    "id": "Gru7bGk06sA6",
    "outputId": "3b5c9f74-1b45-44a7-d958-95e915b95aee"
   },
   "outputs": [
    {
     "data": {
      "image/png": "[encoded data removed]",
      "text/plain": [
       "<Figure size 800x910 with 1 Axes>"
      ]
     },
     "metadata": {},
     "output_type": "display_data"
    }
   ],
   "source": [
    "# Create a SHAP TreeExplainer object for the XGBoost model\n",
    "explainer = shap.TreeExplainer(xgb_model)\n",
    "\n",
    "# Calculate SHAP values for a subset of your data (for performance reasons)\n",
    "shap_values = explainer.shap_values(X_train_p2a.iloc[:1000, :])  # Adjust the subset size as needed\n",
    "\n",
    "# Plot summary of SHAP values\n",
    "shap.summary_plot(shap_values, X_train_p2a.iloc[:1000, :])\n"
   ]
  },
  {
   "cell_type": "markdown",
   "metadata": {
    "id": "4y3llCML6xRb"
   },
   "source": [
    "### 3.3 Feature importance variance 2a"
   ]
  },
  {
   "cell_type": "code",
   "execution_count": null,
   "metadata": {
    "colab": {
     "base_uri": "https://localhost:8080/"
    },
    "id": "choLrRdAOmml",
    "outputId": "f5c2cf23-99f9-41aa-c644-d682151a6d38"
   },
   "outputs": [
    {
     "name": "stderr",
     "output_type": "stream",
     "text": [
      "`early_stopping_rounds` in `fit` method is deprecated for better compatibility with scikit-learn, use `early_stopping_rounds` in constructor or`set_params` instead.\n",
      "`early_stopping_rounds` in `fit` method is deprecated for better compatibility with scikit-learn, use `early_stopping_rounds` in constructor or`set_params` instead.\n",
      "`early_stopping_rounds` in `fit` method is deprecated for better compatibility with scikit-learn, use `early_stopping_rounds` in constructor or`set_params` instead.\n"
     ]
    }
   ],
   "source": [
    "#We are going to apply the stratefied K-Fold Cross validation with the new\n",
    "#parameters\n",
    "xgb_model = xgb.XGBClassifier(\n",
    "    objective='multi:softprob',\n",
    "    colsample_bytree=0.9,\n",
    "    learning_rate=0.3,\n",
    "    max_depth=10,\n",
    "    n_estimators=1000,  # Setting to a large number, early stopping will decide the actual number\n",
    "    eval_metric='mlogloss',\n",
    "    subsample=1.0,\n",
    "    reg_lambda=1.5,\n",
    "    reg_alpha=0.005,\n",
    "    random_state=0\n",
    ")\n",
    "\n",
    "# Define your models dictionary\n",
    "models = {\n",
    "    'xgb_model': xgb_model\n",
    "}\n",
    "\n",
    "# Stratified K-Fold Cross-Validation\n",
    "skf = StratifiedKFold(n_splits=5, shuffle=True, random_state=4)\n",
    "\n",
    "# Loop over your models\n",
    "for model_name, model in models.items():\n",
    "    scores = []\n",
    "    for train_idx, test_idx in skf.split(X_train_v2a, y_train_v2a):\n",
    "        X_train_fold, X_val_fold = X_train_v2a.iloc[train_idx], X_train_v2a.iloc[test_idx]\n",
    "        y_train_fold, y_val_fold = y_train_v2a.iloc[train_idx], y_train_v2a.iloc[test_idx]\n",
    "\n",
    "        model.fit(\n",
    "            X_train_fold,\n",
    "            y_train_fold,\n",
    "            early_stopping_rounds=10,\n",
    "            eval_set=[(X_val_fold, y_val_fold)],\n",
    "            verbose=False\n",
    "        )\n",
    "\n",
    "        predictions = model.predict(X_val_fold)\n",
    "        score = f1_score(y_val_fold, predictions, average='macro')\n",
    "        scores.append(score)\n",
    "\n",
    "    # Print results\n",
    "    print(f\"Model: {model_name}\")\n",
    "    print(f\"Test F1 (macro): {np.mean(scores) * 100:.2f}%\")\n",
    "    print(\"----------------------------------------\")\n"
   ]
  },
  {
   "cell_type": "code",
   "execution_count": 12,
   "metadata": {
    "colab": {
     "base_uri": "https://localhost:8080/"
    },
    "executionInfo": {
     "elapsed": 417474,
     "status": "ok",
     "timestamp": 1694538225740,
     "user": {
      "displayName": "April Itriago",
      "userId": "10552117681411633732"
     },
     "user_tz": -120
    },
    "id": "qk_tw6ioMXIM",
    "outputId": "d8cedbe9-612a-4f20-99aa-c43cb4d87f94"
   },
   "outputs": [
    {
     "name": "stdout",
     "output_type": "stream",
     "text": [
      "Train F1 (macro): 99.94%\n"
     ]
    }
   ],
   "source": [
    "xgb_model = xgb.XGBClassifier(\n",
    "    objective='multi:softprob',\n",
    "    colsample_bytree=0.9,\n",
    "    learning_rate=0.3,\n",
    "    max_depth=10,\n",
    "    n_estimators=1000,  # Setting to a large number, early stopping will decide the actual number\n",
    "    eval_metric='mlogloss',\n",
    "    subsample=1.0,\n",
    "    reg_lambda=1.5,\n",
    "    reg_alpha=0.005,\n",
    "    random_state=0\n",
    ")\n",
    "xgb_model.fit(X_train_v2a, y_train_v2a)\n",
    "\n",
    "\n",
    "# Predict on the training data\n",
    "y_train_pred = xgb_model.predict(X_train_v2a)\n",
    "\n",
    "# Compute the F1 score on the training data\n",
    "train_f1 = f1_score(y_train_v2a, y_train_pred, average='macro')\n",
    "\n",
    "print(f\"Train F1 (macro): {train_f1 * 100:.2f}%\")"
   ]
  },
  {
   "cell_type": "markdown",
   "metadata": {
    "id": "eNO0yOFu73Fs"
   },
   "source": [
    "### 3.3.1 Feature imporatence variance 2a"
   ]
  },
  {
   "cell_type": "code",
   "execution_count": 13,
   "metadata": {
    "colab": {
     "base_uri": "https://localhost:8080/",
     "height": 917
    },
    "executionInfo": {
     "elapsed": 304883,
     "status": "ok",
     "timestamp": 1694538530622,
     "user": {
      "displayName": "April Itriago",
      "userId": "10552117681411633732"
     },
     "user_tz": -120
    },
    "id": "YWruSvTaCSXO",
    "outputId": "ffd5be33-1513-459b-bfc0-d9c36bf66168"
   },
   "outputs": [
    {
     "data": {
      "image/png": "[encoded data removed]",
      "text/plain": [
       "<Figure size 800x910 with 1 Axes>"
      ]
     },
     "metadata": {},
     "output_type": "display_data"
    }
   ],
   "source": [
    "# Create a SHAP TreeExplainer object for the XGBoost model\n",
    "explainer = shap.TreeExplainer(xgb_model)\n",
    "\n",
    "# Calculate SHAP values for a subset of your data (for performance reasons)\n",
    "shap_values = explainer.shap_values(X_train_v2a.iloc[:1000, :])  # Adjust the subset size as needed\n",
    "\n",
    "# Plot summary of SHAP values\n",
    "shap.summary_plot(shap_values, X_train_v2a.iloc[:1000, :])"
   ]
  },
  {
   "cell_type": "markdown",
   "metadata": {},
   "source": [
    "## Result \n",
    "After meticulous hyperparameter optimization using the Grid Search method and techniques such as Early Stopping, we have significantly improved the performance of our model on the \"Performance 2\" dataset.\n",
    "\n",
    "Using the Extreme Gradient Boosting (XGBoost) algorithm, we achieved the following performance metrics:\n",
    "\n",
    "F1 score (macro) on the training set: 98.68%\n",
    "\n",
    "F1 score (macro) on the test set: 70.32%\n",
    "\n",
    "Average F1 score (macro) in validation across folds: 93.58%\n",
    "\n",
    "The notable difference between the training and test metrics highlights an evident challenge of overfitting in our model. Despite achieving high performance on the training set, the model does not optimally generalize to the test data, reflecting a difference of over 28%. This gap between training and testing signals the need for future revisions and adjustments to mitigate the overfitting and improve the model's generalization.\n",
    "\n",
    "Through analysis with SHAP, we identified the relative importance of the variables in our model. The 'distance_tr' variable (distance with logarithmic transformation) stood out as the most influential, showing a marked preference towards modes of transport such as walking and cycling, followed by public transport, with the car being less prevalent. 'age_tr', also transformed logarithmically, was identified as the second most relevant variable.\n",
    "\n",
    "These results, although illustrative, emphasize the importance of continuing to refine the model to address the identified overfitting."
   ]
  }
 ],
 "metadata": {
  "accelerator": "GPU",
  "colab": {
   "authorship_tag": "ABX9TyN4LH1eVB6uXlLA6/hYJW56",
   "gpuType": "T4",
   "provenance": [
    {
     "file_id": "1C_EvMDmQHJ5lTP7gEkqdNVf_rOetNChk",
     "timestamp": 1694119491477
    }
   ],
   "toc_visible": true
  },
  "kernelspec": {
   "display_name": "Python 3 (ipykernel)",
   "language": "python",
   "name": "python3"
  },
  "language_info": {
   "codemirror_mode": {
    "name": "ipython",
    "version": 3
   },
   "file_extension": ".py",
   "mimetype": "text/x-python",
   "name": "python",
   "nbconvert_exporter": "python",
   "pygments_lexer": "ipython3",
   "version": "3.9.16"
  }
 },
 "nbformat": 4,
 "nbformat_minor": 1
}
