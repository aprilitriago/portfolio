{
 "cells": [
  {
   "cell_type": "markdown",
   "metadata": {
    "id": "BhB9M7-8aVu6"
   },
   "source": [
    "# Feature engineering"
   ]
  },
  {
   "cell_type": "markdown",
   "metadata": {
    "id": "3BeDhwhwaluT"
   },
   "source": [
    "### 0 Libraries, functions and variables description"
   ]
  },
  {
   "cell_type": "markdown",
   "metadata": {
    "id": "zVBHh0IyayaM"
   },
   "source": [
    "#### 0.1 Libraries"
   ]
  },
  {
   "cell_type": "code",
   "execution_count": null,
   "metadata": {
    "colab": {
     "base_uri": "https://localhost:8080/"
    },
    "executionInfo": {
     "elapsed": 6175,
     "status": "ok",
     "timestamp": 1694302873905,
     "user": {
      "displayName": "April Itriago",
      "userId": "10552117681411633732"
     },
     "user_tz": -120
    },
    "id": "96-fd1P4Zzpm",
    "outputId": "906fe1c7-bbbe-4473-9c5a-53f6f270ac8d"
   },
   "outputs": [
    {
     "name": "stdout",
     "output_type": "stream",
     "text": [
      "Collecting feature-engine\n",
      "  Downloading feature_engine-1.6.1-py2.py3-none-any.whl (326 kB)\n",
      "\u001b[?25l     \u001b[90m━━━━━━━━━━━━━━━━━━━━━━━━━━━━━━━━━━━━━━━━\u001b[0m \u001b[32m0.0/326.6 kB\u001b[0m \u001b[31m?\u001b[0m eta \u001b[36m-:--:--\u001b[0m\r",
      "\u001b[2K     \u001b[91m━━━━━━━━━━━━━━\u001b[0m\u001b[91m╸\u001b[0m\u001b[90m━━━━━━━━━━━━━━━━━━━━━━━━\u001b[0m \u001b[32m122.9/326.6 kB\u001b[0m \u001b[31m3.6 MB/s\u001b[0m eta \u001b[36m0:00:01\u001b[0m\r",
      "\u001b[2K     \u001b[90m━━━━━━━━━━━━━━━━━━━━━━━━━━━━━━━━━━━━━━━\u001b[0m \u001b[32m326.6/326.6 kB\u001b[0m \u001b[31m5.5 MB/s\u001b[0m eta \u001b[36m0:00:00\u001b[0m\n",
      "\u001b[?25hRequirement already satisfied: numpy>=1.18.2 in /usr/local/lib/python3.10/dist-packages (from feature-engine) (1.23.5)\n",
      "Requirement already satisfied: pandas>=1.0.3 in /usr/local/lib/python3.10/dist-packages (from feature-engine) (1.5.3)\n",
      "Requirement already satisfied: scikit-learn>=1.0.0 in /usr/local/lib/python3.10/dist-packages (from feature-engine) (1.2.2)\n",
      "Requirement already satisfied: scipy>=1.4.1 in /usr/local/lib/python3.10/dist-packages (from feature-engine) (1.10.1)\n",
      "Requirement already satisfied: statsmodels>=0.11.1 in /usr/local/lib/python3.10/dist-packages (from feature-engine) (0.14.0)\n",
      "Requirement already satisfied: python-dateutil>=2.8.1 in /usr/local/lib/python3.10/dist-packages (from pandas>=1.0.3->feature-engine) (2.8.2)\n",
      "Requirement already satisfied: pytz>=2020.1 in /usr/local/lib/python3.10/dist-packages (from pandas>=1.0.3->feature-engine) (2023.3.post1)\n",
      "Requirement already satisfied: joblib>=1.1.1 in /usr/local/lib/python3.10/dist-packages (from scikit-learn>=1.0.0->feature-engine) (1.3.2)\n",
      "Requirement already satisfied: threadpoolctl>=2.0.0 in /usr/local/lib/python3.10/dist-packages (from scikit-learn>=1.0.0->feature-engine) (3.2.0)\n",
      "Requirement already satisfied: patsy>=0.5.2 in /usr/local/lib/python3.10/dist-packages (from statsmodels>=0.11.1->feature-engine) (0.5.3)\n",
      "Requirement already satisfied: packaging>=21.3 in /usr/local/lib/python3.10/dist-packages (from statsmodels>=0.11.1->feature-engine) (23.1)\n",
      "Requirement already satisfied: six in /usr/local/lib/python3.10/dist-packages (from patsy>=0.5.2->statsmodels>=0.11.1->feature-engine) (1.16.0)\n",
      "Installing collected packages: feature-engine\n",
      "Successfully installed feature-engine-1.6.1\n"
     ]
    }
   ],
   "source": [
    "!pip install plotly==5.15.0\n",
    "!pip3.10 install --upgrade pip\n",
    "!pip install nbformat\n",
    "!pip install --upgrade nbformat\n",
    "! pip install feature-engine\n"
   ]
  },
  {
   "cell_type": "code",
   "execution_count": 1,
   "metadata": {
    "id": "0NkZROMDaMyZ"
   },
   "outputs": [],
   "source": [
    "# handle dataset\n",
    "import pandas as pd\n",
    "import numpy as np\n",
    "\n",
    "# for plotting\n",
    "import matplotlib.pyplot as plt\n",
    "import seaborn as sns\n",
    "import plotly.graph_objects as go\n",
    "import plotly.express as px\n",
    "from plotly.subplots import make_subplots\n",
    "\n",
    "# To transform variables\n",
    "from sklearn.preprocessing import (\n",
    "    FunctionTransformer, PowerTransformer, LabelBinarizer,\n",
    "    MinMaxScaler, StandardScaler, RobustScaler\n",
    ")\n",
    "\n",
    "# for the yeo-johnson transformation\n",
    "import scipy.stats as stats\n",
    "\n",
    "# to divide train and test set\n",
    "from sklearn.model_selection import (\n",
    "    train_test_split, cross_validate, StratifiedKFold, KFold, cross_val_score\n",
    ")\n",
    "\n",
    "# to correctly set up the cross-validation\n",
    "from imblearn.pipeline import make_pipeline\n",
    "\n",
    "# Feature-engine\n",
    "from feature_engine.encoding import OneHotEncoder\n",
    "from feature_engine.imputation import CategoricalImputer\n",
    "from feature_engine.selection import DropDuplicateFeatures, DropConstantFeatures\n",
    "from feature_engine.outliers import Winsorizer\n",
    "from feature_engine.creation import MathFeatures, RelativeFeatures\n",
    "\n",
    "# target binarization\n",
    "from sklearn.preprocessing import label_binarize\n",
    "from feature_engine.discretisation import ArbitraryDiscretiser\n",
    "\n",
    "# feature importance and imbalance data\n",
    "from sklearn.ensemble import (\n",
    "    RandomForestClassifier, GradientBoostingClassifier\n",
    ")\n",
    "from sklearn.linear_model import LogisticRegression\n",
    "from sklearn.metrics import (\n",
    "    precision_score, recall_score, f1_score,\n",
    "    precision_recall_fscore_support, roc_auc_score\n",
    ")\n",
    "\n",
    "# Imbalance data\n",
    "# to sample the hyperparameter space based on distributions\n",
    "from scipy import stats\n",
    "\n",
    "#Undersampling\n",
    "from imblearn.under_sampling import (RandomUnderSampler,CondensedNearestNeighbour,\n",
    "    TomekLinks,OneSidedSelection,EditedNearestNeighbours,RepeatedEditedNearestNeighbours,\n",
    "    AllKNN,NeighbourhoodCleaningRule,NearMiss,InstanceHardnessThreshold\n",
    ")\n",
    "\n",
    "# Oversampling\n",
    "from imblearn.over_sampling import (\n",
    "    RandomOverSampler, SMOTE, ADASYN, BorderlineSMOTE, SVMSMOTE)\n",
    "\n",
    "# Over_under sampling\n",
    "from imblearn.combine import SMOTEENN, SMOTETomek\n",
    "\n",
    "from sklearn.svm import SVC\n",
    "from sklearn.multiclass import OneVsRestClassifier\n",
    "\n",
    "\n",
    "\n",
    "# Special ensemble methods to work with imbalanced data\n",
    "# We will use those based on boosting, which tend to work better\n",
    "from imblearn.ensemble import RUSBoostClassifier, EasyEnsembleClassifier\n",
    "\n",
    "# To put the undersampling methods and the GBM together\n",
    "from imblearn.pipeline import make_pipeline\n",
    "\n",
    "# To save the trained scaler class\n",
    "import joblib\n",
    "\n",
    "# To display all the columns of the dataframe in the notebook\n",
    "pd.pandas.set_option('display.max_columns', None)\n",
    "\n"
   ]
  },
  {
   "cell_type": "markdown",
   "metadata": {
    "id": "zri_6dKhbDLb"
   },
   "source": [
    "#### 0.2 Functions"
   ]
  },
  {
   "cell_type": "code",
   "execution_count": null,
   "metadata": {
    "id": "CDz6ZhzCxVLl"
   },
   "outputs": [],
   "source": [
    "def plot_boxplot_and_hist(data, variable):\n",
    "\n",
    "    # creating a figure composed of two matplotlib.Axes\n",
    "    # objects (ax_box and ax_hist)\n",
    "\n",
    "    f, (ax_box, ax_hist) = plt.subplots(\n",
    "        2, sharex=True, gridspec_kw={\"height_ratios\": (0.50, 0.85)}\n",
    "    )\n",
    "\n",
    "    # assigning a graph to each ax\n",
    "    sns.boxplot(x=data[variable], ax=ax_box)\n",
    "    sns.histplot(data=data, x=variable, ax=ax_hist)\n",
    "\n",
    "    # Remove x axis name for the boxplot\n",
    "    ax_box.set(xlabel=\"\")\n",
    "    plt.title(variable)\n",
    "    plt.show()\n",
    "\n"
   ]
  },
  {
   "cell_type": "markdown",
   "metadata": {
    "id": "grW80aG2-KoR"
   },
   "source": [
    "#### 0.3 Load dataset"
   ]
  },
  {
   "cell_type": "code",
   "execution_count": null,
   "metadata": {
    "colab": {
     "base_uri": "https://localhost:8080/"
    },
    "executionInfo": {
     "elapsed": 26588,
     "status": "ok",
     "timestamp": 1694302903628,
     "user": {
      "displayName": "April Itriago",
      "userId": "10552117681411633732"
     },
     "user_tz": -120
    },
    "id": "XgSQAhf2NOA5",
    "outputId": "90c5f186-632d-4930-b7e4-36dcb8abffb3"
   },
   "outputs": [
    {
     "name": "stdout",
     "output_type": "stream",
     "text": [
      "Mounted at /content/drive\n"
     ]
    }
   ],
   "source": [
    "from google.colab import drive\n",
    "drive.mount('/content/drive')"
   ]
  },
  {
   "cell_type": "code",
   "execution_count": 5,
   "metadata": {
    "colab": {
     "base_uri": "https://localhost:8080/",
     "height": 226
    },
    "executionInfo": {
     "elapsed": 2967,
     "status": "ok",
     "timestamp": 1694302906591,
     "user": {
      "displayName": "April Itriago",
      "userId": "10552117681411633732"
     },
     "user_tz": -120
    },
    "id": "IRMDIDtrHDh0",
    "outputId": "fa13a8de-aa64-467f-85de-58dc7475de06",
    "scrolled": true
   },
   "outputs": [],
   "source": [
    "# # load dataset\n",
    "data = pd.read_csv('/content/drive/MyDrive/TFM/data_tfm/nts_data.csv')\n",
    "data.head()"
   ]
  },
  {
   "cell_type": "code",
   "execution_count": 4,
   "metadata": {
    "id": "bz2H_7yVAgDo"
   },
   "outputs": [
    {
     "data": {
      "text/html": [
       "<div>\n",
       "<style scoped>\n",
       "    .dataframe tbody tr th:only-of-type {\n",
       "        vertical-align: middle;\n",
       "    }\n",
       "\n",
       "    .dataframe tbody tr th {\n",
       "        vertical-align: top;\n",
       "    }\n",
       "\n",
       "    .dataframe thead th {\n",
       "        text-align: right;\n",
       "    }\n",
       "</style>\n",
       "<table border=\"1\" class=\"dataframe\">\n",
       "  <thead>\n",
       "    <tr style=\"text-align: right;\">\n",
       "      <th></th>\n",
       "      <th>mode_main</th>\n",
       "      <th>distance</th>\n",
       "      <th>density</th>\n",
       "      <th>age</th>\n",
       "      <th>male</th>\n",
       "      <th>ethnicity</th>\n",
       "      <th>education</th>\n",
       "      <th>income</th>\n",
       "      <th>cars</th>\n",
       "      <th>license</th>\n",
       "      <th>bicycles</th>\n",
       "      <th>weekend</th>\n",
       "      <th>diversity</th>\n",
       "      <th>green</th>\n",
       "      <th>temp</th>\n",
       "      <th>precip</th>\n",
       "      <th>wind</th>\n",
       "    </tr>\n",
       "  </thead>\n",
       "  <tbody>\n",
       "    <tr>\n",
       "      <th>0</th>\n",
       "      <td>walk</td>\n",
       "      <td>1.0</td>\n",
       "      <td>1.26259</td>\n",
       "      <td>84</td>\n",
       "      <td>no</td>\n",
       "      <td>native</td>\n",
       "      <td>lower</td>\n",
       "      <td>less20</td>\n",
       "      <td>0</td>\n",
       "      <td>yes</td>\n",
       "      <td>1</td>\n",
       "      <td>yes</td>\n",
       "      <td>1.24604</td>\n",
       "      <td>26.881233</td>\n",
       "      <td>0.1</td>\n",
       "      <td>0.10</td>\n",
       "      <td>3.0</td>\n",
       "    </tr>\n",
       "    <tr>\n",
       "      <th>1</th>\n",
       "      <td>walk</td>\n",
       "      <td>10.0</td>\n",
       "      <td>1.26259</td>\n",
       "      <td>84</td>\n",
       "      <td>no</td>\n",
       "      <td>native</td>\n",
       "      <td>lower</td>\n",
       "      <td>less20</td>\n",
       "      <td>0</td>\n",
       "      <td>yes</td>\n",
       "      <td>1</td>\n",
       "      <td>yes</td>\n",
       "      <td>1.24604</td>\n",
       "      <td>26.881233</td>\n",
       "      <td>0.1</td>\n",
       "      <td>0.10</td>\n",
       "      <td>3.0</td>\n",
       "    </tr>\n",
       "    <tr>\n",
       "      <th>2</th>\n",
       "      <td>car</td>\n",
       "      <td>3.0</td>\n",
       "      <td>1.76264</td>\n",
       "      <td>27</td>\n",
       "      <td>yes</td>\n",
       "      <td>western</td>\n",
       "      <td>middle</td>\n",
       "      <td>20to40</td>\n",
       "      <td>1</td>\n",
       "      <td>yes</td>\n",
       "      <td>2</td>\n",
       "      <td>yes</td>\n",
       "      <td>1.53959</td>\n",
       "      <td>36.045955</td>\n",
       "      <td>-3.4</td>\n",
       "      <td>0.05</td>\n",
       "      <td>1.8</td>\n",
       "    </tr>\n",
       "    <tr>\n",
       "      <th>3</th>\n",
       "      <td>car</td>\n",
       "      <td>3.0</td>\n",
       "      <td>1.76264</td>\n",
       "      <td>27</td>\n",
       "      <td>yes</td>\n",
       "      <td>western</td>\n",
       "      <td>middle</td>\n",
       "      <td>20to40</td>\n",
       "      <td>1</td>\n",
       "      <td>yes</td>\n",
       "      <td>2</td>\n",
       "      <td>yes</td>\n",
       "      <td>1.53959</td>\n",
       "      <td>36.045955</td>\n",
       "      <td>-3.4</td>\n",
       "      <td>0.05</td>\n",
       "      <td>1.8</td>\n",
       "    </tr>\n",
       "    <tr>\n",
       "      <th>4</th>\n",
       "      <td>car</td>\n",
       "      <td>61.5</td>\n",
       "      <td>1.76264</td>\n",
       "      <td>27</td>\n",
       "      <td>yes</td>\n",
       "      <td>western</td>\n",
       "      <td>middle</td>\n",
       "      <td>20to40</td>\n",
       "      <td>1</td>\n",
       "      <td>yes</td>\n",
       "      <td>2</td>\n",
       "      <td>yes</td>\n",
       "      <td>1.53959</td>\n",
       "      <td>36.045955</td>\n",
       "      <td>-3.4</td>\n",
       "      <td>0.05</td>\n",
       "      <td>1.8</td>\n",
       "    </tr>\n",
       "  </tbody>\n",
       "</table>\n",
       "</div>"
      ],
      "text/plain": [
       "  mode_main  distance  density  age male ethnicity education  income  cars  \\\n",
       "0      walk       1.0  1.26259   84   no    native     lower  less20     0   \n",
       "1      walk      10.0  1.26259   84   no    native     lower  less20     0   \n",
       "2       car       3.0  1.76264   27  yes   western    middle  20to40     1   \n",
       "3       car       3.0  1.76264   27  yes   western    middle  20to40     1   \n",
       "4       car      61.5  1.76264   27  yes   western    middle  20to40     1   \n",
       "\n",
       "  license  bicycles weekend  diversity      green  temp  precip  wind  \n",
       "0     yes         1     yes    1.24604  26.881233   0.1    0.10   3.0  \n",
       "1     yes         1     yes    1.24604  26.881233   0.1    0.10   3.0  \n",
       "2     yes         2     yes    1.53959  36.045955  -3.4    0.05   1.8  \n",
       "3     yes         2     yes    1.53959  36.045955  -3.4    0.05   1.8  \n",
       "4     yes         2     yes    1.53959  36.045955  -3.4    0.05   1.8  "
      ]
     },
     "execution_count": 4,
     "metadata": {},
     "output_type": "execute_result"
    }
   ],
   "source": [
    "#load dataset\n",
    "data = pd.read_csv('/Users/aprilm/data_science/data_tfm/nts_data.csv')\n",
    "data.head()"
   ]
  },
  {
   "cell_type": "markdown",
   "metadata": {
    "id": "nqMTnfhXwbeJ"
   },
   "source": [
    "#### 0.3.1 Variable types"
   ]
  },
  {
   "cell_type": "code",
   "execution_count": null,
   "metadata": {
    "colab": {
     "base_uri": "https://localhost:8080/"
    },
    "executionInfo": {
     "elapsed": 302,
     "status": "ok",
     "timestamp": 1693919687096,
     "user": {
      "displayName": "April Itriago",
      "userId": "10552117681411633732"
     },
     "user_tz": -120
    },
    "id": "j7i1ekfmwj61",
    "outputId": "b88d441e-00b9-48b2-c314-21aeb8f51ed0"
   },
   "outputs": [
    {
     "data": {
      "text/plain": [
       "mode_main     object\n",
       "distance     float64\n",
       "density      float64\n",
       "age            int64\n",
       "male          object\n",
       "ethnicity     object\n",
       "education     object\n",
       "income        object\n",
       "cars           int64\n",
       "license       object\n",
       "bicycles       int64\n",
       "weekend       object\n",
       "diversity    float64\n",
       "green        float64\n",
       "temp         float64\n",
       "precip       float64\n",
       "wind         float64\n",
       "dtype: object"
      ]
     },
     "execution_count": 5,
     "metadata": {},
     "output_type": "execute_result"
    }
   ],
   "source": [
    "# let's inspect the type of variables\n",
    "data.dtypes"
   ]
  },
  {
   "cell_type": "code",
   "execution_count": null,
   "metadata": {
    "colab": {
     "base_uri": "https://localhost:8080/"
    },
    "executionInfo": {
     "elapsed": 228,
     "status": "ok",
     "timestamp": 1693936774404,
     "user": {
      "displayName": "April Itriago",
      "userId": "10552117681411633732"
     },
     "user_tz": -120
    },
    "id": "kffVbJHfeuAI",
    "outputId": "e1f089e1-a78e-4445-e566-9f0e003e9945"
   },
   "outputs": [
    {
     "data": {
      "text/plain": [
       "(230608, 17)"
      ]
     },
     "execution_count": 132,
     "metadata": {},
     "output_type": "execute_result"
    }
   ],
   "source": [
    "data.shape"
   ]
  },
  {
   "cell_type": "code",
   "execution_count": 6,
   "metadata": {
    "colab": {
     "base_uri": "https://localhost:8080/"
    },
    "executionInfo": {
     "elapsed": 4,
     "status": "ok",
     "timestamp": 1694302906935,
     "user": {
      "displayName": "April Itriago",
      "userId": "10552117681411633732"
     },
     "user_tz": -120
    },
    "id": "II0PzBc6xKNj",
    "outputId": "e45fbd31-723b-4f1a-8d11-8f0b8b1c22d1"
   },
   "outputs": [
    {
     "name": "stdout",
     "output_type": "stream",
     "text": [
      "There are 2 discrete variables\n",
      "There are 8 continuous variables\n",
      "There are 6 categorical variables\n"
     ]
    }
   ],
   "source": [
    "# make list of variables  types\n",
    "\n",
    "# numerical: discrete vs continuous\n",
    "discrete_vars = [var for var in data.columns if data[var].dtype !=\n",
    "            'O' and var != 'mode_main' and data[var].nunique() < 12]\n",
    "\n",
    "cont_vars = [var for var in data.columns if data[var].dtype !=\n",
    "              'O' and var != 'mode_main' and var not in discrete_vars]\n",
    "\n",
    "\n",
    "# categorical\n",
    "cat_vars = [var for var in data.columns if data[var].dtype ==\n",
    "               'O' and var != 'mode_main']\n",
    "\n",
    "print('There are {} discrete variables'.format(len(discrete_vars)))\n",
    "print('There are {} continuous variables'.format(len(cont_vars)))\n",
    "print('There are {} categorical variables'.format(len(cat_vars)))"
   ]
  },
  {
   "cell_type": "code",
   "execution_count": null,
   "metadata": {
    "colab": {
     "base_uri": "https://localhost:8080/"
    },
    "executionInfo": {
     "elapsed": 217,
     "status": "ok",
     "timestamp": 1694259435319,
     "user": {
      "displayName": "April Itriago",
      "userId": "10552117681411633732"
     },
     "user_tz": -120
    },
    "id": "LADRRcxXx2gP",
    "outputId": "be655f28-f0b5-4c55-e686-e39da493484a"
   },
   "outputs": [
    {
     "data": {
      "text/plain": [
       "['distance', 'density', 'age', 'diversity', 'green', 'temp', 'precip', 'wind']"
      ]
     },
     "execution_count": 34,
     "metadata": {},
     "output_type": "execute_result"
    }
   ],
   "source": [
    "cont_vars"
   ]
  },
  {
   "cell_type": "code",
   "execution_count": null,
   "metadata": {
    "colab": {
     "base_uri": "https://localhost:8080/"
    },
    "executionInfo": {
     "elapsed": 221,
     "status": "ok",
     "timestamp": 1694259437426,
     "user": {
      "displayName": "April Itriago",
      "userId": "10552117681411633732"
     },
     "user_tz": -120
    },
    "id": "4ELQqh8tx7iG",
    "outputId": "c5ccc7f4-5ae3-42a4-b103-65a67d7411f9"
   },
   "outputs": [
    {
     "data": {
      "text/plain": [
       "['male', 'ethnicity', 'education', 'income', 'license', 'weekend']"
      ]
     },
     "execution_count": 35,
     "metadata": {},
     "output_type": "execute_result"
    }
   ],
   "source": [
    "cat_vars"
   ]
  },
  {
   "cell_type": "markdown",
   "metadata": {
    "id": "0ZGOYx4ZyYvF"
   },
   "source": [
    "#### 0.5 Variable characteristics"
   ]
  },
  {
   "cell_type": "code",
   "execution_count": null,
   "metadata": {
    "colab": {
     "base_uri": "https://localhost:8080/"
    },
    "executionInfo": {
     "elapsed": 317,
     "status": "ok",
     "timestamp": 1694254377220,
     "user": {
      "displayName": "April Itriago",
      "userId": "10552117681411633732"
     },
     "user_tz": -120
    },
    "id": "OhQY2-RsrFAJ",
    "outputId": "2e03277d-fe38-404b-a51d-88cfcce50bcd"
   },
   "outputs": [
    {
     "data": {
      "text/plain": [
       "mode_main    0\n",
       "distance     0\n",
       "density      0\n",
       "age          0\n",
       "male         0\n",
       "ethnicity    0\n",
       "education    0\n",
       "income       0\n",
       "cars         0\n",
       "license      0\n",
       "bicycles     0\n",
       "weekend      0\n",
       "diversity    0\n",
       "green        0\n",
       "temp         0\n",
       "precip       0\n",
       "wind         0\n",
       "dtype: int64"
      ]
     },
     "execution_count": 17,
     "metadata": {},
     "output_type": "execute_result"
    }
   ],
   "source": [
    "# missing data\n",
    "data.isnull().sum()"
   ]
  },
  {
   "cell_type": "markdown",
   "metadata": {
    "id": "bri1gkTNrQtR"
   },
   "source": [
    "There are not missing data in our dataset"
   ]
  },
  {
   "cell_type": "code",
   "execution_count": null,
   "metadata": {
    "colab": {
     "base_uri": "https://localhost:8080/"
    },
    "executionInfo": {
     "elapsed": 223,
     "status": "ok",
     "timestamp": 1694259462967,
     "user": {
      "displayName": "April Itriago",
      "userId": "10552117681411633732"
     },
     "user_tz": -120
    },
    "id": "IMIhGW4urYou",
    "outputId": "f06e4b26-a98d-4c69-ca74-5983068fb095"
   },
   "outputs": [
    {
     "data": {
      "text/plain": [
       "male         2\n",
       "ethnicity    3\n",
       "education    3\n",
       "income       3\n",
       "license      2\n",
       "weekend      2\n",
       "dtype: int64"
      ]
     },
     "execution_count": 39,
     "metadata": {},
     "output_type": "execute_result"
    }
   ],
   "source": [
    "# Cardenality\n",
    "data[cat_vars].nunique()"
   ]
  },
  {
   "cell_type": "markdown",
   "metadata": {
    "id": "rJRVNlfFrhpN"
   },
   "source": [
    "There is no highly cardinal"
   ]
  },
  {
   "cell_type": "markdown",
   "metadata": {
    "id": "M-VbzCdndULA"
   },
   "source": [
    "#### 0.4 Split dataset into train and test"
   ]
  },
  {
   "cell_type": "code",
   "execution_count": 7,
   "metadata": {
    "colab": {
     "base_uri": "https://localhost:8080/"
    },
    "executionInfo": {
     "elapsed": 936,
     "status": "ok",
     "timestamp": 1694302908909,
     "user": {
      "displayName": "April Itriago",
      "userId": "10552117681411633732"
     },
     "user_tz": -120
    },
    "id": "0d-4xALtdhz6",
    "outputId": "d3535d2f-98ee-407f-c298-19bcb8a54d62"
   },
   "outputs": [
    {
     "data": {
      "text/plain": [
       "((161425, 16), (69183, 16))"
      ]
     },
     "execution_count": 7,
     "metadata": {},
     "output_type": "execute_result"
    }
   ],
   "source": [
    "#Let's separate into train and test set, and set the seed in 0\n",
    "\n",
    "\n",
    "X_train, X_test, y_train, y_test = train_test_split(\n",
    "    data.drop('mode_main', axis=1),  # predictive variables\n",
    "    data['mode_main'],  # target\n",
    "    test_size=0.3,\n",
    "    random_state=0,  # setting the seed to 0 \n",
    ")\n",
    "\n",
    "\n",
    "X_train.shape, X_test.shape\n"
   ]
  },
  {
   "cell_type": "markdown",
   "metadata": {
    "id": "zfs13D876Jfv"
   },
   "source": [
    "##1 Feature Engineering"
   ]
  },
  {
   "cell_type": "markdown",
   "metadata": {
    "id": "tb1QVrYZ6aTk"
   },
   "source": [
    "In the following cells, we will engineer the variables of the trip dataset so that we tackle:\n",
    "1.   Non-Gaussian distributed variable\n",
    "2.   Categorical variables convert strings to numbers\n",
    "3.   Balance the target"
   ]
  },
  {
   "cell_type": "markdown",
   "metadata": {
    "id": "ZBhX7fqkcuHe"
   },
   "source": [
    "#### 1.1 Target"
   ]
  },
  {
   "cell_type": "code",
   "execution_count": 8,
   "metadata": {
    "colab": {
     "base_uri": "https://localhost:8080/"
    },
    "executionInfo": {
     "elapsed": 2,
     "status": "ok",
     "timestamp": 1694302910855,
     "user": {
      "displayName": "April Itriago",
      "userId": "10552117681411633732"
     },
     "user_tz": -120
    },
    "id": "8wtIP7ilczqV",
    "outputId": "0499000a-1661-4489-fa1d-5c830d2264aa"
   },
   "outputs": [
    {
     "data": {
      "text/plain": [
       "car     0.552622\n",
       "bike    0.244129\n",
       "walk    0.162921\n",
       "pt      0.040328\n",
       "Name: mode_main, dtype: float64"
      ]
     },
     "execution_count": 8,
     "metadata": {},
     "output_type": "execute_result"
    }
   ],
   "source": [
    "# We want to see the distribution to check the balance of the data\n",
    "data['mode_main'].value_counts(normalize=True)"
   ]
  },
  {
   "cell_type": "markdown",
   "metadata": {
    "id": "EojnpmH4OaCa"
   },
   "source": [
    "Our target is clearly imbalance being the majority class 'car' and the minority 'pt'."
   ]
  },
  {
   "cell_type": "markdown",
   "metadata": {
    "id": "iejzBGmZcXoT"
   },
   "source": [
    "##### 1.1.1 Target enconding"
   ]
  },
  {
   "cell_type": "code",
   "execution_count": 9,
   "metadata": {
    "id": "vfoOcmXQczWT"
   },
   "outputs": [],
   "source": [
    "# Let's enconde the target.\n",
    "target_cat = {'car': 0, 'bike': 1, 'walk':2, 'pt':3 }\n",
    "\n",
    "y_train = y_train.map(target_cat)\n",
    "y_test = y_test.map(target_cat)"
   ]
  },
  {
   "cell_type": "markdown",
   "metadata": {
    "id": "thp6hoAE8VSZ"
   },
   "source": [
    "### 1.3 Numerical variable transformation"
   ]
  },
  {
   "cell_type": "markdown",
   "metadata": {
    "id": "L6RWrUr2Gu_f"
   },
   "source": [
    "#### 1.3.1 Continuous variable Yeo-Johson transformation"
   ]
  },
  {
   "cell_type": "code",
   "execution_count": 10,
   "metadata": {
    "id": "niu6BY2Spyz_"
   },
   "outputs": [],
   "source": [
    "#  PowerTransformer from sklearn\n",
    "transformer = PowerTransformer(method=\"yeo-johnson\", standardize=False)\n",
    "transformer.set_output(transform=\"pandas\")\n",
    "\n",
    "for var in ['density', 'diversity', 'green', 'temp', 'wind']:\n",
    "    # Define the new column name\n",
    "    var_tr = var + '_tr'\n",
    "\n",
    "    # Fit the transformer on the training data\n",
    "    transformer.fit(X_train[[var]])\n",
    "\n",
    "    # Transform the training data\n",
    "    X_train[var_tr] = transformer.transform(X_train[[var]])\n",
    "\n",
    "    # Transform the test data using the same transformer\n",
    "    X_test[var_tr] = transformer.transform(X_test[[var]])\n"
   ]
  },
  {
   "cell_type": "markdown",
   "metadata": {
    "id": "DSiN4nP9MTdY"
   },
   "source": [
    "#### 1.3.2 Continuous variable Logarithmic transformation"
   ]
  },
  {
   "cell_type": "code",
   "execution_count": 11,
   "metadata": {
    "colab": {
     "base_uri": "https://localhost:8080/"
    },
    "executionInfo": {
     "elapsed": 3,
     "status": "ok",
     "timestamp": 1694302920586,
     "user": {
      "displayName": "April Itriago",
      "userId": "10552117681411633732"
     },
     "user_tz": -120
    },
    "id": "g2zj0xXTNLDd",
    "outputId": "90069741-121c-49e3-f07a-aefad4431ba0"
   },
   "outputs": [
    {
     "name": "stderr",
     "output_type": "stream",
     "text": [
      "/opt/anaconda3/lib/python3.9/site-packages/sklearn/preprocessing/_function_transformer.py:343: UserWarning: With transform=\"pandas\", `func` should return a DataFrame to follow the set_output API.\n",
      "  warnings.warn(\n"
     ]
    }
   ],
   "source": [
    "# Initialize the transformer for logarithmic transformation\n",
    "transformer = FunctionTransformer(func=np.log, inverse_func=np.exp)\n",
    "transformer.set_output(transform=\"pandas\")\n",
    "\n",
    "for var in ['age', 'distance']:\n",
    "\n",
    "    # Define the new column name\n",
    "    var_tr = var + '_tr'\n",
    "    # Transform the training data\n",
    "    X_train[var_tr] = transformer.transform(X_train[[var]])\n",
    "\n",
    "    # Transform the test data\n",
    "    X_test[var_tr] = transformer.transform(X_test[[var]])"
   ]
  },
  {
   "cell_type": "markdown",
   "metadata": {
    "id": "YJfacvEjPeeL"
   },
   "source": [
    "#### 1.3.4 Binarize Skewed variable 'precip'"
   ]
  },
  {
   "cell_type": "markdown",
   "metadata": {
    "id": "FdJq3MsNQLGo"
   },
   "source": [
    "For the variable 'precip' we would tranform it into binary variable"
   ]
  },
  {
   "cell_type": "code",
   "execution_count": 12,
   "metadata": {
    "id": "kakjiIs8PwUs"
   },
   "outputs": [],
   "source": [
    "X_train['precip_bin'] = np.where(X_train['precip'] == 0, 0, 1)\n",
    "X_test['precip_bin'] = np.where(X_test['precip'] == 0, 0, 1)"
   ]
  },
  {
   "cell_type": "markdown",
   "metadata": {
    "id": "dL3W0vxyRibV"
   },
   "source": [
    "### 1.4 Categorical variable transformation"
   ]
  },
  {
   "cell_type": "code",
   "execution_count": null,
   "metadata": {
    "colab": {
     "base_uri": "https://localhost:8080/",
     "height": 206
    },
    "executionInfo": {
     "elapsed": 5,
     "status": "ok",
     "timestamp": 1694302925055,
     "user": {
      "displayName": "April Itriago",
      "userId": "10552117681411633732"
     },
     "user_tz": -120
    },
    "id": "vIvvD0VqSWcB",
    "outputId": "1f409f0f-95aa-4f32-abc8-f2ea038f7e58"
   },
   "outputs": [
    {
     "data": {
      "text/html": [
       "\n",
       "  <div id=\"df-dd987db5-11a7-4f80-b523-cf542f6b11f4\" class=\"colab-df-container\">\n",
       "    <div>\n",
       "<style scoped>\n",
       "    .dataframe tbody tr th:only-of-type {\n",
       "        vertical-align: middle;\n",
       "    }\n",
       "\n",
       "    .dataframe tbody tr th {\n",
       "        vertical-align: top;\n",
       "    }\n",
       "\n",
       "    .dataframe thead th {\n",
       "        text-align: right;\n",
       "    }\n",
       "</style>\n",
       "<table border=\"1\" class=\"dataframe\">\n",
       "  <thead>\n",
       "    <tr style=\"text-align: right;\">\n",
       "      <th></th>\n",
       "      <th>male</th>\n",
       "      <th>ethnicity</th>\n",
       "      <th>education</th>\n",
       "      <th>income</th>\n",
       "      <th>license</th>\n",
       "      <th>weekend</th>\n",
       "    </tr>\n",
       "  </thead>\n",
       "  <tbody>\n",
       "    <tr>\n",
       "      <th>0</th>\n",
       "      <td>no</td>\n",
       "      <td>native</td>\n",
       "      <td>lower</td>\n",
       "      <td>less20</td>\n",
       "      <td>yes</td>\n",
       "      <td>yes</td>\n",
       "    </tr>\n",
       "    <tr>\n",
       "      <th>1</th>\n",
       "      <td>no</td>\n",
       "      <td>native</td>\n",
       "      <td>lower</td>\n",
       "      <td>less20</td>\n",
       "      <td>yes</td>\n",
       "      <td>yes</td>\n",
       "    </tr>\n",
       "    <tr>\n",
       "      <th>2</th>\n",
       "      <td>yes</td>\n",
       "      <td>western</td>\n",
       "      <td>middle</td>\n",
       "      <td>20to40</td>\n",
       "      <td>yes</td>\n",
       "      <td>yes</td>\n",
       "    </tr>\n",
       "    <tr>\n",
       "      <th>3</th>\n",
       "      <td>yes</td>\n",
       "      <td>western</td>\n",
       "      <td>middle</td>\n",
       "      <td>20to40</td>\n",
       "      <td>yes</td>\n",
       "      <td>yes</td>\n",
       "    </tr>\n",
       "    <tr>\n",
       "      <th>4</th>\n",
       "      <td>yes</td>\n",
       "      <td>western</td>\n",
       "      <td>middle</td>\n",
       "      <td>20to40</td>\n",
       "      <td>yes</td>\n",
       "      <td>yes</td>\n",
       "    </tr>\n",
       "  </tbody>\n",
       "</table>\n",
       "</div>\n",
       "    <div class=\"colab-df-buttons\">\n",
       "\n",
       "  <div class=\"colab-df-container\">\n",
       "    <button class=\"colab-df-convert\" onclick=\"convertToInteractive('df-dd987db5-11a7-4f80-b523-cf542f6b11f4')\"\n",
       "            title=\"Convert this dataframe to an interactive table.\"\n",
       "            style=\"display:none;\">\n",
       "\n",
       "  <svg xmlns=\"http://www.w3.org/2000/svg\" height=\"24px\" viewBox=\"0 -960 960 960\">\n",
       "    <path d=\"M120-120v-720h720v720H120Zm60-500h600v-160H180v160Zm220 220h160v-160H400v160Zm0 220h160v-160H400v160ZM180-400h160v-160H180v160Zm440 0h160v-160H620v160ZM180-180h160v-160H180v160Zm440 0h160v-160H620v160Z\"/>\n",
       "  </svg>\n",
       "    </button>\n",
       "\n",
       "  <style>\n",
       "    .colab-df-container {\n",
       "      display:flex;\n",
       "      gap: 12px;\n",
       "    }\n",
       "\n",
       "    .colab-df-convert {\n",
       "      background-color: #E8F0FE;\n",
       "      border: none;\n",
       "      border-radius: 50%;\n",
       "      cursor: pointer;\n",
       "      display: none;\n",
       "      fill: #1967D2;\n",
       "      height: 32px;\n",
       "      padding: 0 0 0 0;\n",
       "      width: 32px;\n",
       "    }\n",
       "\n",
       "    .colab-df-convert:hover {\n",
       "      background-color: #E2EBFA;\n",
       "      box-shadow: 0px 1px 2px rgba(60, 64, 67, 0.3), 0px 1px 3px 1px rgba(60, 64, 67, 0.15);\n",
       "      fill: #174EA6;\n",
       "    }\n",
       "\n",
       "    .colab-df-buttons div {\n",
       "      margin-bottom: 4px;\n",
       "    }\n",
       "\n",
       "    [theme=dark] .colab-df-convert {\n",
       "      background-color: #3B4455;\n",
       "      fill: #D2E3FC;\n",
       "    }\n",
       "\n",
       "    [theme=dark] .colab-df-convert:hover {\n",
       "      background-color: #434B5C;\n",
       "      box-shadow: 0px 1px 3px 1px rgba(0, 0, 0, 0.15);\n",
       "      filter: drop-shadow(0px 1px 2px rgba(0, 0, 0, 0.3));\n",
       "      fill: #FFFFFF;\n",
       "    }\n",
       "  </style>\n",
       "\n",
       "    <script>\n",
       "      const buttonEl =\n",
       "        document.querySelector('#df-dd987db5-11a7-4f80-b523-cf542f6b11f4 button.colab-df-convert');\n",
       "      buttonEl.style.display =\n",
       "        google.colab.kernel.accessAllowed ? 'block' : 'none';\n",
       "\n",
       "      async function convertToInteractive(key) {\n",
       "        const element = document.querySelector('#df-dd987db5-11a7-4f80-b523-cf542f6b11f4');\n",
       "        const dataTable =\n",
       "          await google.colab.kernel.invokeFunction('convertToInteractive',\n",
       "                                                    [key], {});\n",
       "        if (!dataTable) return;\n",
       "\n",
       "        const docLinkHtml = 'Like what you see? Visit the ' +\n",
       "          '<a target=\"_blank\" href=https://colab.research.google.com/notebooks/data_table.ipynb>data table notebook</a>'\n",
       "          + ' to learn more about interactive tables.';\n",
       "        element.innerHTML = '';\n",
       "        dataTable['output_type'] = 'display_data';\n",
       "        await google.colab.output.renderOutput(dataTable, element);\n",
       "        const docLink = document.createElement('div');\n",
       "        docLink.innerHTML = docLinkHtml;\n",
       "        element.appendChild(docLink);\n",
       "      }\n",
       "    </script>\n",
       "  </div>\n",
       "\n",
       "\n",
       "<div id=\"df-5354fb5e-edf3-4a16-aca0-95acbeeabd8b\">\n",
       "  <button class=\"colab-df-quickchart\" onclick=\"quickchart('df-5354fb5e-edf3-4a16-aca0-95acbeeabd8b')\"\n",
       "            title=\"Suggest charts.\"\n",
       "            style=\"display:none;\">\n",
       "\n",
       "<svg xmlns=\"http://www.w3.org/2000/svg\" height=\"24px\"viewBox=\"0 0 24 24\"\n",
       "     width=\"24px\">\n",
       "    <g>\n",
       "        <path d=\"M19 3H5c-1.1 0-2 .9-2 2v14c0 1.1.9 2 2 2h14c1.1 0 2-.9 2-2V5c0-1.1-.9-2-2-2zM9 17H7v-7h2v7zm4 0h-2V7h2v10zm4 0h-2v-4h2v4z\"/>\n",
       "    </g>\n",
       "</svg>\n",
       "  </button>\n",
       "\n",
       "<style>\n",
       "  .colab-df-quickchart {\n",
       "      --bg-color: #E8F0FE;\n",
       "      --fill-color: #1967D2;\n",
       "      --hover-bg-color: #E2EBFA;\n",
       "      --hover-fill-color: #174EA6;\n",
       "      --disabled-fill-color: #AAA;\n",
       "      --disabled-bg-color: #DDD;\n",
       "  }\n",
       "\n",
       "  [theme=dark] .colab-df-quickchart {\n",
       "      --bg-color: #3B4455;\n",
       "      --fill-color: #D2E3FC;\n",
       "      --hover-bg-color: #434B5C;\n",
       "      --hover-fill-color: #FFFFFF;\n",
       "      --disabled-bg-color: #3B4455;\n",
       "      --disabled-fill-color: #666;\n",
       "  }\n",
       "\n",
       "  .colab-df-quickchart {\n",
       "    background-color: var(--bg-color);\n",
       "    border: none;\n",
       "    border-radius: 50%;\n",
       "    cursor: pointer;\n",
       "    display: none;\n",
       "    fill: var(--fill-color);\n",
       "    height: 32px;\n",
       "    padding: 0;\n",
       "    width: 32px;\n",
       "  }\n",
       "\n",
       "  .colab-df-quickchart:hover {\n",
       "    background-color: var(--hover-bg-color);\n",
       "    box-shadow: 0 1px 2px rgba(60, 64, 67, 0.3), 0 1px 3px 1px rgba(60, 64, 67, 0.15);\n",
       "    fill: var(--button-hover-fill-color);\n",
       "  }\n",
       "\n",
       "  .colab-df-quickchart-complete:disabled,\n",
       "  .colab-df-quickchart-complete:disabled:hover {\n",
       "    background-color: var(--disabled-bg-color);\n",
       "    fill: var(--disabled-fill-color);\n",
       "    box-shadow: none;\n",
       "  }\n",
       "\n",
       "  .colab-df-spinner {\n",
       "    border: 2px solid var(--fill-color);\n",
       "    border-color: transparent;\n",
       "    border-bottom-color: var(--fill-color);\n",
       "    animation:\n",
       "      spin 1s steps(1) infinite;\n",
       "  }\n",
       "\n",
       "  @keyframes spin {\n",
       "    0% {\n",
       "      border-color: transparent;\n",
       "      border-bottom-color: var(--fill-color);\n",
       "      border-left-color: var(--fill-color);\n",
       "    }\n",
       "    20% {\n",
       "      border-color: transparent;\n",
       "      border-left-color: var(--fill-color);\n",
       "      border-top-color: var(--fill-color);\n",
       "    }\n",
       "    30% {\n",
       "      border-color: transparent;\n",
       "      border-left-color: var(--fill-color);\n",
       "      border-top-color: var(--fill-color);\n",
       "      border-right-color: var(--fill-color);\n",
       "    }\n",
       "    40% {\n",
       "      border-color: transparent;\n",
       "      border-right-color: var(--fill-color);\n",
       "      border-top-color: var(--fill-color);\n",
       "    }\n",
       "    60% {\n",
       "      border-color: transparent;\n",
       "      border-right-color: var(--fill-color);\n",
       "    }\n",
       "    80% {\n",
       "      border-color: transparent;\n",
       "      border-right-color: var(--fill-color);\n",
       "      border-bottom-color: var(--fill-color);\n",
       "    }\n",
       "    90% {\n",
       "      border-color: transparent;\n",
       "      border-bottom-color: var(--fill-color);\n",
       "    }\n",
       "  }\n",
       "</style>\n",
       "\n",
       "  <script>\n",
       "    async function quickchart(key) {\n",
       "      const quickchartButtonEl =\n",
       "        document.querySelector('#' + key + ' button');\n",
       "      quickchartButtonEl.disabled = true;  // To prevent multiple clicks.\n",
       "      quickchartButtonEl.classList.add('colab-df-spinner');\n",
       "      try {\n",
       "        const charts = await google.colab.kernel.invokeFunction(\n",
       "            'suggestCharts', [key], {});\n",
       "      } catch (error) {\n",
       "        console.error('Error during call to suggestCharts:', error);\n",
       "      }\n",
       "      quickchartButtonEl.classList.remove('colab-df-spinner');\n",
       "      quickchartButtonEl.classList.add('colab-df-quickchart-complete');\n",
       "    }\n",
       "    (() => {\n",
       "      let quickchartButtonEl =\n",
       "        document.querySelector('#df-5354fb5e-edf3-4a16-aca0-95acbeeabd8b button');\n",
       "      quickchartButtonEl.style.display =\n",
       "        google.colab.kernel.accessAllowed ? 'block' : 'none';\n",
       "    })();\n",
       "  </script>\n",
       "</div>\n",
       "    </div>\n",
       "  </div>\n"
      ],
      "text/plain": [
       "  male ethnicity education  income license weekend\n",
       "0   no    native     lower  less20     yes     yes\n",
       "1   no    native     lower  less20     yes     yes\n",
       "2  yes   western    middle  20to40     yes     yes\n",
       "3  yes   western    middle  20to40     yes     yes\n",
       "4  yes   western    middle  20to40     yes     yes"
      ]
     },
     "execution_count": 13,
     "metadata": {},
     "output_type": "execute_result"
    }
   ],
   "source": [
    "data[cat_vars].head()"
   ]
  },
  {
   "cell_type": "markdown",
   "metadata": {
    "id": "xVoWvjfARqW9"
   },
   "source": [
    "#### 1.4.1 Variables 'male', 'license' and 'weekend'"
   ]
  },
  {
   "cell_type": "code",
   "execution_count": 13,
   "metadata": {
    "id": "irzvsNbsSYp7"
   },
   "outputs": [],
   "source": [
    "# Lets binarize these categories using yes:1 and no:0\n",
    "two_cat = {'yes': 1, 'no': 0}\n",
    "two_var = ['male', 'license', 'weekend']\n",
    "\n",
    "for var in two_var:\n",
    "  var_bin= var + '_bin'\n",
    "  X_train[var_bin] = X_train[var].map(two_cat)\n",
    "  X_test[var_bin] = X_test[var].map(two_cat)"
   ]
  },
  {
   "cell_type": "markdown",
   "metadata": {
    "id": "4xnqTXTgR58Q"
   },
   "source": [
    "#### 1.4.2 Variable 'income'"
   ]
  },
  {
   "cell_type": "code",
   "execution_count": 14,
   "metadata": {
    "id": "w82J2ppTSE94"
   },
   "outputs": [],
   "source": [
    "# Given 'income's' ordinal nature we are going to use ordinal encoding.\n",
    "income_cat = {'less20': 0, '20to40': 1, 'more40':2}\n",
    "\n",
    "X_train['income_ord'] = X_train['income'].map(income_cat)\n",
    "X_test['income_ord'] = X_test['income'].map(income_cat)"
   ]
  },
  {
   "cell_type": "markdown",
   "metadata": {
    "id": "RjP8Q12OUQoH"
   },
   "source": [
    "#### 1.4.3 Variable 'ethnicity'"
   ]
  },
  {
   "cell_type": "code",
   "execution_count": 15,
   "metadata": {
    "id": "AFIS-fkOUgQK"
   },
   "outputs": [],
   "source": [
    "# This variable is highly imbalanced with a dominal category 'native'. To compesate\n",
    "#the imbalance we are going to group in one column 'wester' and 'nonwester' and them\n",
    "# binarize the variables\n",
    "\n",
    "# Grouping less frequent categories for 'ethnicity'\n",
    "X_train['ethnicity_bin'] = X_train['ethnicity'].replace(['western', 'nonwestern'], 'western_nonwestern')\n",
    "X_test['ethnicity_bin'] = X_test['ethnicity'].replace(['western', 'nonwestern'], 'western_nonwestern')"
   ]
  },
  {
   "cell_type": "code",
   "execution_count": 16,
   "metadata": {
    "id": "Bwh4Eg73XG-y"
   },
   "outputs": [],
   "source": [
    "# Create a dictionary for native and western_nonwestern\n",
    "ethnicity_cat = {'native': 0, 'western_nonwestern': 1}\n",
    "X_train['ethnicity_bin'] = X_train['ethnicity_bin'].map(ethnicity_cat)\n",
    "X_test['ethnicity_bin'] = X_test['ethnicity_bin'].map(ethnicity_cat)"
   ]
  },
  {
   "cell_type": "markdown",
   "metadata": {
    "id": "8wo4W5TzbqKW"
   },
   "source": [
    "#### 1.4.4 Variable 'education'"
   ]
  },
  {
   "cell_type": "code",
   "execution_count": 17,
   "metadata": {
    "id": "aUhenmmNb2xb"
   },
   "outputs": [],
   "source": [
    "# Let's apply One Hot Encoder with Feature - Engine\n",
    "\n",
    "# initialize the encoder\n",
    "encoder = OneHotEncoder(variables=['education'], drop_last=True)\n",
    "# fit the encoder\n",
    "encoder.fit(X_train)\n",
    "\n",
    "# transform the data\n",
    "X_train = encoder.transform(X_train)\n",
    "X_test = encoder.transform(X_test)"
   ]
  },
  {
   "cell_type": "code",
   "execution_count": 18,
   "metadata": {
    "id": "9dWX424kwFcv"
   },
   "outputs": [],
   "source": [
    "# Create a copy\n",
    "X_train_2 = X_train.copy()\n",
    "X_test_2= X_test.copy()"
   ]
  },
  {
   "cell_type": "code",
   "execution_count": 19,
   "metadata": {
    "colab": {
     "base_uri": "https://localhost:8080/"
    },
    "executionInfo": {
     "elapsed": 3,
     "status": "ok",
     "timestamp": 1694302941007,
     "user": {
      "displayName": "April Itriago",
      "userId": "10552117681411633732"
     },
     "user_tz": -120
    },
    "id": "KTdAiLWNcyMc",
    "outputId": "a8d9688a-14a0-4d5f-f49b-31b401a01529"
   },
   "outputs": [
    {
     "name": "stdout",
     "output_type": "stream",
     "text": [
      "(69183, 30) (161425, 30) (161425,) (69183,)\n"
     ]
    }
   ],
   "source": [
    "print(X_test_2.shape, X_train_2.shape, y_train.shape, y_test.shape)"
   ]
  },
  {
   "cell_type": "markdown",
   "metadata": {
    "id": "1N8W1ExDguHP"
   },
   "source": [
    "## 1.5 Baseline"
   ]
  },
  {
   "cell_type": "code",
   "execution_count": 20,
   "metadata": {
    "id": "BMfDhpFBP1oL"
   },
   "outputs": [],
   "source": [
    "# Exclude the object and the numeric data with transformation to have a raw data\n",
    "X_train_bl = X_train_2.select_dtypes(exclude=['O']).drop(columns=X_train_2.filter(like='_tr').columns.tolist() +['precip_bin'])\n",
    "X_test_bl= X_test_2.select_dtypes(exclude=['O']).drop(columns=X_test_2.filter(like='_tr').columns.tolist() + ['precip_bin'])"
   ]
  },
  {
   "cell_type": "markdown",
   "metadata": {
    "id": "9n-9tf1BR3EG"
   },
   "source": [
    "#### 1.5.1 Model perfomance\n"
   ]
  },
  {
   "cell_type": "code",
   "execution_count": null,
   "metadata": {
    "colab": {
     "base_uri": "https://localhost:8080/"
    },
    "executionInfo": {
     "elapsed": 122164,
     "status": "ok",
     "timestamp": 1694303065934,
     "user": {
      "displayName": "April Itriago",
      "userId": "10552117681411633732"
     },
     "user_tz": -120
    },
    "id": "YomU_HcCSlo7",
    "outputId": "79d7cf9d-ef67-4ea5-8f76-c58b77f9a132"
   },
   "outputs": [
    {
     "name": "stdout",
     "output_type": "stream",
     "text": [
      "0.7347365887648787 0.48936187987915897\n"
     ]
    },
    {
     "name": "stderr",
     "output_type": "stream",
     "text": [
      "/usr/local/lib/python3.10/dist-packages/sklearn/linear_model/_logistic.py:458: ConvergenceWarning: lbfgs failed to converge (status=1):\n",
      "STOP: TOTAL NO. of ITERATIONS REACHED LIMIT.\n",
      "\n",
      "Increase the number of iterations (max_iter) or scale the data as shown in:\n",
      "    https://scikit-learn.org/stable/modules/preprocessing.html\n",
      "Please also refer to the documentation for alternative solver options:\n",
      "    https://scikit-learn.org/stable/modules/linear_model.html#logistic-regression\n",
      "  n_iter_i = _check_optimize_result(\n"
     ]
    }
   ],
   "source": [
    "# Train Random Forest\n",
    "rf = RandomForestClassifier(n_estimators=100, random_state=0)\n",
    "rf.fit(X_train_bl, y_train)\n",
    "y_pred_val_rf = rf.predict(X_test_bl)\n",
    "f1_rf = f1_score(y_test, y_pred_val_rf, average='macro')\n",
    "\n",
    "# Train Logistic Regression\n",
    "logreg = LogisticRegression(max_iter=1000, random_state=0)\n",
    "logreg.fit(X_train_bl, y_train)\n",
    "y_pred_val_logreg = logreg.predict(X_test_bl)\n",
    "f1_logreg = f1_score(y_test, y_pred_val_logreg, average='macro')\n",
    "\n",
    "print(f1_rf, f1_logreg)\n"
   ]
  },
  {
   "cell_type": "markdown",
   "metadata": {
    "id": "JPahmJUrtG8A"
   },
   "source": [
    "##### 1.5.1.1 Stratified K-Fold Cross-Validation for rf"
   ]
  },
  {
   "cell_type": "code",
   "execution_count": null,
   "metadata": {
    "colab": {
     "base_uri": "https://localhost:8080/"
    },
    "executionInfo": {
     "elapsed": 243578,
     "status": "ok",
     "timestamp": 1694276141955,
     "user": {
      "displayName": "April Itriago",
      "userId": "10552117681411633732"
     },
     "user_tz": -120
    },
    "id": "8f3SKFBBtaOi",
    "outputId": "b0a8141e-1ce7-4463-f1fc-10b17ef0c139"
   },
   "outputs": [
    {
     "name": "stdout",
     "output_type": "stream",
     "text": [
      "F1 scores for each fold: [0.71487521 0.70979957 0.70885054 0.70525011 0.70785044]\n",
      "Average F1 score: 0.7093251760536617\n",
      "F1 score on test set: 0.7347365887648787\n"
     ]
    }
   ],
   "source": [
    "skf = StratifiedKFold(n_splits=5, shuffle=True, random_state=0)\n",
    "\n",
    "# Train Random Forest using Stratified K-Fold Cross-Validation\n",
    "rf = RandomForestClassifier(n_estimators=100, random_state=0)\n",
    "\n",
    "# Calculate F1 scores across all folds\n",
    "f1_scores = cross_val_score(rf, X_train_bl, y_train, scoring='f1_macro', cv=skf)\n",
    "\n",
    "# Print the F1 scores obtained for each fold\n",
    "print(f\"F1 scores for each fold: {f1_scores}\")\n",
    "\n",
    "# Print the average F1 score across all folds\n",
    "print(f\"Average F1 score: {f1_scores.mean()}\")\n",
    "\n",
    "# If you also want to evaluate the model on a separate test set\n",
    "rf.fit(X_train_bl, y_train)\n",
    "y_pred_val_rf = rf.predict(X_test_bl)\n",
    "f1_rf = f1_score(y_test, y_pred_val_rf, average='macro')\n",
    "print(f\"F1 score on test set: {f1_rf}\")"
   ]
  },
  {
   "cell_type": "markdown",
   "metadata": {
    "id": "MAgebCfEV4TU"
   },
   "source": [
    "### 1.5.2 Metrics for each class"
   ]
  },
  {
   "cell_type": "markdown",
   "metadata": {
    "id": "JgzUTzsFjczs"
   },
   "source": [
    "Because we are working with imbalance data let's calculate probability vectors for each class."
   ]
  },
  {
   "cell_type": "code",
   "execution_count": null,
   "metadata": {
    "id": "okewO0HzVbHy"
   },
   "outputs": [],
   "source": [
    "# for the baseline we work with the class predictions\n",
    "y_rf_pred = rf.predict(X_test_bl)"
   ]
  },
  {
   "cell_type": "code",
   "execution_count": null,
   "metadata": {
    "colab": {
     "base_uri": "https://localhost:8080/"
    },
    "executionInfo": {
     "elapsed": 281,
     "status": "ok",
     "timestamp": 1693937327976,
     "user": {
      "displayName": "April Itriago",
      "userId": "10552117681411633732"
     },
     "user_tz": -120
    },
    "id": "LacUoALGWD8P",
    "outputId": "053e6245-74ef-4164-be8e-486b35090692"
   },
   "outputs": [
    {
     "name": "stdout",
     "output_type": "stream",
     "text": [
      "Precision:  [0.83703442 0.78023523 0.79128876 0.79596823]\n",
      "Recall:  [0.92923504 0.72349001 0.66510061 0.46205674]\n",
      "f score:  [0.88072826 0.75079194 0.72272793 0.58469823]\n",
      "Support:  [38211 16871 11281  2820]\n",
      "\n"
     ]
    }
   ],
   "source": [
    "# Calculation metrics for each class using Random Forest.\n",
    "p, r, f, s = precision_recall_fscore_support(\n",
    "    y_test,\n",
    "    y_rf_pred, #for the random forest\n",
    "    labels=[0,1,2,3], # the labels for which we want the metrics determined\n",
    "    average=None, # when None, returns a metric per label\n",
    ")\n",
    "\n",
    "print('Precision: ', p)\n",
    "print('Recall: ', r)\n",
    "print('f score: ', f)\n",
    "print('Support: ', s)\n",
    "print()"
   ]
  },
  {
   "cell_type": "markdown",
   "metadata": {
    "id": "enuxWs5OMTtX"
   },
   "source": [
    "Precision:  [0.83827907 0.78110086 0.79283456 0.79661017]\n",
    "\n",
    "Recall:  [0.9285546  0.72757987 0.66696215 0.46666667]\n",
    "\n",
    "f score:  [0.88111055 0.75339103 0.72447162 0.58855098]\n",
    "\n",
    "Support:  [38211 16871 11281  2820"
   ]
  },
  {
   "cell_type": "markdown",
   "metadata": {
    "id": "OgOA1hayTQK1"
   },
   "source": [
    "We can see clearly that 'car' has the biggest probability"
   ]
  },
  {
   "cell_type": "markdown",
   "metadata": {
    "id": "H4E_ZTR_eHJr"
   },
   "source": [
    "**Random Forest:**\n",
    "\n",
    "Precision: The model has a high precision for the class labeled 0 but very low precision for the class labeled 1 and no precision for classes 2 and 3.\n",
    "\n",
    "Recall: The model has almost perfect recall for the class labeled 0 but very low recall for the class labeled 1 and no recall for classes 2 and 3.\n",
    "\n",
    "F-score: The F-score is high for class 0 due to the high precision and recall, but it's very low for class 1 and zero for classes 2 and 3.\n",
    "\n",
    "Support: The class labeled 0 has the highest support, indicating it's the most frequent class, which might explain the model's bias towards it.\n",
    "\n",
    "**Logistic Regression:**\n",
    "\n",
    "Precision, Recall, and F-score: All these metrics are higher for Logistic Regression across all classes compared to Random Forest. This indicates that Logistic Regression is making more balanced predictions across the classes.\n",
    "\n",
    "Support: The support remains the same since it's based on the true distribution of y_test."
   ]
  },
  {
   "cell_type": "markdown",
   "metadata": {
    "id": "BvDi1HV2LbdU"
   },
   "source": [
    "### 1.5.4 Importance of variables Baseline"
   ]
  },
  {
   "cell_type": "code",
   "execution_count": 21,
   "metadata": {
    "colab": {
     "base_uri": "https://localhost:8080/",
     "height": 479
    },
    "executionInfo": {
     "elapsed": 45161,
     "status": "ok",
     "timestamp": 1694254734655,
     "user": {
      "displayName": "April Itriago",
      "userId": "10552117681411633732"
     },
     "user_tz": -120
    },
    "id": "QDbuCCA5LwR5",
    "outputId": "10e53d8e-ae47-46e0-9da2-d93216cecbea"
   },
   "outputs": [
    {
     "data": {
      "image/png": "[encoded data removed]",
      "text/plain": [
       "<Figure size 1200x800 with 1 Axes>"
      ]
     },
     "metadata": {},
     "output_type": "display_data"
    }
   ],
   "source": [
    "# Train a Random Forest model\n",
    "rf = RandomForestClassifier(n_estimators=100, random_state=0)\n",
    "rf.fit(X_train_bl , y_train)\n",
    "\n",
    "# Get feature importances\n",
    "importances = rf.feature_importances_\n",
    "\n",
    "# Create a DataFrame for visualization\n",
    "features_df = pd.DataFrame({\n",
    "    'Feature': X_train_bl.columns,\n",
    "    'Importance': importances\n",
    "})\n",
    "\n",
    "# Sort the DataFrame by importance\n",
    "features_df = features_df.sort_values(by='Importance', ascending=False)\n",
    "\n",
    "# Plot feature importances\n",
    "plt.figure(figsize=(12, 8))\n",
    "plt.barh(features_df['Feature'], features_df['Importance'])\n",
    "plt.xlabel('Importance')\n",
    "plt.ylabel('Feature')\n",
    "plt.title('Feature Importance using Random Forest')\n",
    "plt.gca().invert_yaxis()  # To display the most important feature at the top\n",
    "plt.show()"
   ]
  },
  {
   "cell_type": "code",
   "execution_count": 22,
   "metadata": {
    "colab": {
     "base_uri": "https://localhost:8080/",
     "height": 614
    },
    "executionInfo": {
     "elapsed": 9,
     "status": "ok",
     "timestamp": 1693765087106,
     "user": {
      "displayName": "April Itriago",
      "userId": "10552117681411633732"
     },
     "user_tz": -120
    },
    "id": "ou5efYQ3N77n",
    "outputId": "b7ba54d9-677b-4d03-e88c-c32ff15dd53b"
   },
   "outputs": [
    {
     "data": {
      "text/html": [
       "<div>\n",
       "<style scoped>\n",
       "    .dataframe tbody tr th:only-of-type {\n",
       "        vertical-align: middle;\n",
       "    }\n",
       "\n",
       "    .dataframe tbody tr th {\n",
       "        vertical-align: top;\n",
       "    }\n",
       "\n",
       "    .dataframe thead th {\n",
       "        text-align: right;\n",
       "    }\n",
       "</style>\n",
       "<table border=\"1\" class=\"dataframe\">\n",
       "  <thead>\n",
       "    <tr style=\"text-align: right;\">\n",
       "      <th></th>\n",
       "      <th>Feature</th>\n",
       "      <th>Importance</th>\n",
       "    </tr>\n",
       "  </thead>\n",
       "  <tbody>\n",
       "    <tr>\n",
       "      <th>0</th>\n",
       "      <td>distance</td>\n",
       "      <td>0.262036</td>\n",
       "    </tr>\n",
       "    <tr>\n",
       "      <th>1</th>\n",
       "      <td>density</td>\n",
       "      <td>0.090200</td>\n",
       "    </tr>\n",
       "    <tr>\n",
       "      <th>6</th>\n",
       "      <td>green</td>\n",
       "      <td>0.085862</td>\n",
       "    </tr>\n",
       "    <tr>\n",
       "      <th>7</th>\n",
       "      <td>temp</td>\n",
       "      <td>0.085258</td>\n",
       "    </tr>\n",
       "    <tr>\n",
       "      <th>5</th>\n",
       "      <td>diversity</td>\n",
       "      <td>0.082600</td>\n",
       "    </tr>\n",
       "    <tr>\n",
       "      <th>2</th>\n",
       "      <td>age</td>\n",
       "      <td>0.080841</td>\n",
       "    </tr>\n",
       "    <tr>\n",
       "      <th>9</th>\n",
       "      <td>wind</td>\n",
       "      <td>0.075044</td>\n",
       "    </tr>\n",
       "    <tr>\n",
       "      <th>8</th>\n",
       "      <td>precip</td>\n",
       "      <td>0.053478</td>\n",
       "    </tr>\n",
       "    <tr>\n",
       "      <th>3</th>\n",
       "      <td>cars</td>\n",
       "      <td>0.047345</td>\n",
       "    </tr>\n",
       "    <tr>\n",
       "      <th>4</th>\n",
       "      <td>bicycles</td>\n",
       "      <td>0.046092</td>\n",
       "    </tr>\n",
       "    <tr>\n",
       "      <th>11</th>\n",
       "      <td>license_bin</td>\n",
       "      <td>0.019935</td>\n",
       "    </tr>\n",
       "    <tr>\n",
       "      <th>13</th>\n",
       "      <td>income_ord</td>\n",
       "      <td>0.017478</td>\n",
       "    </tr>\n",
       "    <tr>\n",
       "      <th>15</th>\n",
       "      <td>education_higher</td>\n",
       "      <td>0.011942</td>\n",
       "    </tr>\n",
       "    <tr>\n",
       "      <th>10</th>\n",
       "      <td>male_bin</td>\n",
       "      <td>0.011269</td>\n",
       "    </tr>\n",
       "    <tr>\n",
       "      <th>16</th>\n",
       "      <td>education_lower</td>\n",
       "      <td>0.011075</td>\n",
       "    </tr>\n",
       "    <tr>\n",
       "      <th>12</th>\n",
       "      <td>weekend_bin</td>\n",
       "      <td>0.010515</td>\n",
       "    </tr>\n",
       "    <tr>\n",
       "      <th>14</th>\n",
       "      <td>ethnicity_bin</td>\n",
       "      <td>0.009029</td>\n",
       "    </tr>\n",
       "  </tbody>\n",
       "</table>\n",
       "</div>"
      ],
      "text/plain": [
       "             Feature  Importance\n",
       "0           distance    0.262036\n",
       "1            density    0.090200\n",
       "6              green    0.085862\n",
       "7               temp    0.085258\n",
       "5          diversity    0.082600\n",
       "2                age    0.080841\n",
       "9               wind    0.075044\n",
       "8             precip    0.053478\n",
       "3               cars    0.047345\n",
       "4           bicycles    0.046092\n",
       "11       license_bin    0.019935\n",
       "13        income_ord    0.017478\n",
       "15  education_higher    0.011942\n",
       "10          male_bin    0.011269\n",
       "16   education_lower    0.011075\n",
       "12       weekend_bin    0.010515\n",
       "14     ethnicity_bin    0.009029"
      ]
     },
     "execution_count": 22,
     "metadata": {},
     "output_type": "execute_result"
    }
   ],
   "source": [
    "features_df"
   ]
  },
  {
   "cell_type": "markdown",
   "metadata": {
    "id": "7h6uXWOwmKhp"
   },
   "source": [
    "## 1.6 Database 2"
   ]
  },
  {
   "cell_type": "markdown",
   "metadata": {
    "id": "obavA8vNg85C"
   },
   "source": [
    "The database 2 include all the transformation of the variables without any feature creation"
   ]
  },
  {
   "cell_type": "code",
   "execution_count": 23,
   "metadata": {
    "id": "yZiWsugkiO1W"
   },
   "outputs": [],
   "source": [
    "X_train_2 = X_train_2.select_dtypes(exclude=['O'])\n",
    "X_test_2= X_test_2.select_dtypes(exclude=['O'])"
   ]
  },
  {
   "cell_type": "code",
   "execution_count": 24,
   "metadata": {
    "colab": {
     "base_uri": "https://localhost:8080/"
    },
    "executionInfo": {
     "elapsed": 15,
     "status": "ok",
     "timestamp": 1694303065935,
     "user": {
      "displayName": "April Itriago",
      "userId": "10552117681411633732"
     },
     "user_tz": -120
    },
    "id": "sJE7L1JncdkS",
    "outputId": "bc30e8fc-801e-4250-cd92-fb7f48f214e8"
   },
   "outputs": [
    {
     "name": "stdout",
     "output_type": "stream",
     "text": [
      "(69183, 25) (161425, 25) (161425,) (69183,)\n"
     ]
    }
   ],
   "source": [
    "print(X_test_2.shape, X_train_2.shape, y_train.shape, y_test.shape)"
   ]
  },
  {
   "cell_type": "code",
   "execution_count": 25,
   "metadata": {
    "colab": {
     "base_uri": "https://localhost:8080/",
     "height": 226
    },
    "executionInfo": {
     "elapsed": 11,
     "status": "ok",
     "timestamp": 1694303065936,
     "user": {
      "displayName": "April Itriago",
      "userId": "10552117681411633732"
     },
     "user_tz": -120
    },
    "id": "d3-ua6vLf8gJ",
    "outputId": "ede780ff-2efb-4dfa-f770-2c92952f90cd"
   },
   "outputs": [
    {
     "data": {
      "text/html": [
       "<div>\n",
       "<style scoped>\n",
       "    .dataframe tbody tr th:only-of-type {\n",
       "        vertical-align: middle;\n",
       "    }\n",
       "\n",
       "    .dataframe tbody tr th {\n",
       "        vertical-align: top;\n",
       "    }\n",
       "\n",
       "    .dataframe thead th {\n",
       "        text-align: right;\n",
       "    }\n",
       "</style>\n",
       "<table border=\"1\" class=\"dataframe\">\n",
       "  <thead>\n",
       "    <tr style=\"text-align: right;\">\n",
       "      <th></th>\n",
       "      <th>distance</th>\n",
       "      <th>density</th>\n",
       "      <th>age</th>\n",
       "      <th>cars</th>\n",
       "      <th>bicycles</th>\n",
       "      <th>diversity</th>\n",
       "      <th>green</th>\n",
       "      <th>temp</th>\n",
       "      <th>precip</th>\n",
       "      <th>wind</th>\n",
       "      <th>density_tr</th>\n",
       "      <th>diversity_tr</th>\n",
       "      <th>green_tr</th>\n",
       "      <th>temp_tr</th>\n",
       "      <th>wind_tr</th>\n",
       "      <th>age_tr</th>\n",
       "      <th>distance_tr</th>\n",
       "      <th>precip_bin</th>\n",
       "      <th>male_bin</th>\n",
       "      <th>license_bin</th>\n",
       "      <th>weekend_bin</th>\n",
       "      <th>income_ord</th>\n",
       "      <th>ethnicity_bin</th>\n",
       "      <th>education_higher</th>\n",
       "      <th>education_lower</th>\n",
       "    </tr>\n",
       "  </thead>\n",
       "  <tbody>\n",
       "    <tr>\n",
       "      <th>113879</th>\n",
       "      <td>52.0</td>\n",
       "      <td>0.08722</td>\n",
       "      <td>42</td>\n",
       "      <td>3</td>\n",
       "      <td>3</td>\n",
       "      <td>2.42995</td>\n",
       "      <td>84.982398</td>\n",
       "      <td>22.2</td>\n",
       "      <td>0.0</td>\n",
       "      <td>2.0</td>\n",
       "      <td>0.081716</td>\n",
       "      <td>4.340762</td>\n",
       "      <td>58.732673</td>\n",
       "      <td>20.291031</td>\n",
       "      <td>1.031997</td>\n",
       "      <td>3.737670</td>\n",
       "      <td>3.951244</td>\n",
       "      <td>0</td>\n",
       "      <td>1</td>\n",
       "      <td>1</td>\n",
       "      <td>0</td>\n",
       "      <td>2</td>\n",
       "      <td>0</td>\n",
       "      <td>1</td>\n",
       "      <td>0</td>\n",
       "    </tr>\n",
       "    <tr>\n",
       "      <th>108051</th>\n",
       "      <td>105.0</td>\n",
       "      <td>0.78819</td>\n",
       "      <td>58</td>\n",
       "      <td>2</td>\n",
       "      <td>4</td>\n",
       "      <td>1.91326</td>\n",
       "      <td>38.085938</td>\n",
       "      <td>10.6</td>\n",
       "      <td>8.6</td>\n",
       "      <td>7.2</td>\n",
       "      <td>0.496895</td>\n",
       "      <td>3.123957</td>\n",
       "      <td>28.474829</td>\n",
       "      <td>9.921162</td>\n",
       "      <td>1.868745</td>\n",
       "      <td>4.060443</td>\n",
       "      <td>4.653960</td>\n",
       "      <td>1</td>\n",
       "      <td>1</td>\n",
       "      <td>1</td>\n",
       "      <td>0</td>\n",
       "      <td>2</td>\n",
       "      <td>0</td>\n",
       "      <td>1</td>\n",
       "      <td>0</td>\n",
       "    </tr>\n",
       "    <tr>\n",
       "      <th>215431</th>\n",
       "      <td>2.6</td>\n",
       "      <td>0.45342</td>\n",
       "      <td>64</td>\n",
       "      <td>1</td>\n",
       "      <td>3</td>\n",
       "      <td>2.27121</td>\n",
       "      <td>80.190088</td>\n",
       "      <td>22.7</td>\n",
       "      <td>4.7</td>\n",
       "      <td>3.8</td>\n",
       "      <td>0.337722</td>\n",
       "      <td>3.951306</td>\n",
       "      <td>55.743501</td>\n",
       "      <td>20.732420</td>\n",
       "      <td>1.435176</td>\n",
       "      <td>4.158883</td>\n",
       "      <td>0.955511</td>\n",
       "      <td>1</td>\n",
       "      <td>0</td>\n",
       "      <td>1</td>\n",
       "      <td>0</td>\n",
       "      <td>1</td>\n",
       "      <td>0</td>\n",
       "      <td>0</td>\n",
       "      <td>1</td>\n",
       "    </tr>\n",
       "    <tr>\n",
       "      <th>91920</th>\n",
       "      <td>2.4</td>\n",
       "      <td>1.23705</td>\n",
       "      <td>61</td>\n",
       "      <td>2</td>\n",
       "      <td>2</td>\n",
       "      <td>2.06524</td>\n",
       "      <td>71.122919</td>\n",
       "      <td>21.1</td>\n",
       "      <td>0.0</td>\n",
       "      <td>2.3</td>\n",
       "      <td>0.649514</td>\n",
       "      <td>3.466545</td>\n",
       "      <td>50.035169</td>\n",
       "      <td>19.318639</td>\n",
       "      <td>1.115528</td>\n",
       "      <td>4.110874</td>\n",
       "      <td>0.875469</td>\n",
       "      <td>0</td>\n",
       "      <td>0</td>\n",
       "      <td>1</td>\n",
       "      <td>0</td>\n",
       "      <td>2</td>\n",
       "      <td>0</td>\n",
       "      <td>0</td>\n",
       "      <td>0</td>\n",
       "    </tr>\n",
       "    <tr>\n",
       "      <th>55902</th>\n",
       "      <td>1.0</td>\n",
       "      <td>2.76933</td>\n",
       "      <td>58</td>\n",
       "      <td>1</td>\n",
       "      <td>1</td>\n",
       "      <td>1.75506</td>\n",
       "      <td>38.385310</td>\n",
       "      <td>11.3</td>\n",
       "      <td>9.3</td>\n",
       "      <td>9.2</td>\n",
       "      <td>0.939518</td>\n",
       "      <td>2.781178</td>\n",
       "      <td>28.677243</td>\n",
       "      <td>10.555795</td>\n",
       "      <td>2.037925</td>\n",
       "      <td>4.060443</td>\n",
       "      <td>0.000000</td>\n",
       "      <td>1</td>\n",
       "      <td>1</td>\n",
       "      <td>1</td>\n",
       "      <td>0</td>\n",
       "      <td>1</td>\n",
       "      <td>0</td>\n",
       "      <td>0</td>\n",
       "      <td>0</td>\n",
       "    </tr>\n",
       "  </tbody>\n",
       "</table>\n",
       "</div>"
      ],
      "text/plain": [
       "        distance  density  age  cars  bicycles  diversity      green  temp  \\\n",
       "113879      52.0  0.08722   42     3         3    2.42995  84.982398  22.2   \n",
       "108051     105.0  0.78819   58     2         4    1.91326  38.085938  10.6   \n",
       "215431       2.6  0.45342   64     1         3    2.27121  80.190088  22.7   \n",
       "91920        2.4  1.23705   61     2         2    2.06524  71.122919  21.1   \n",
       "55902        1.0  2.76933   58     1         1    1.75506  38.385310  11.3   \n",
       "\n",
       "        precip  wind  density_tr  diversity_tr   green_tr    temp_tr  \\\n",
       "113879     0.0   2.0    0.081716      4.340762  58.732673  20.291031   \n",
       "108051     8.6   7.2    0.496895      3.123957  28.474829   9.921162   \n",
       "215431     4.7   3.8    0.337722      3.951306  55.743501  20.732420   \n",
       "91920      0.0   2.3    0.649514      3.466545  50.035169  19.318639   \n",
       "55902      9.3   9.2    0.939518      2.781178  28.677243  10.555795   \n",
       "\n",
       "         wind_tr    age_tr  distance_tr  precip_bin  male_bin  license_bin  \\\n",
       "113879  1.031997  3.737670     3.951244           0         1            1   \n",
       "108051  1.868745  4.060443     4.653960           1         1            1   \n",
       "215431  1.435176  4.158883     0.955511           1         0            1   \n",
       "91920   1.115528  4.110874     0.875469           0         0            1   \n",
       "55902   2.037925  4.060443     0.000000           1         1            1   \n",
       "\n",
       "        weekend_bin  income_ord  ethnicity_bin  education_higher  \\\n",
       "113879            0           2              0                 1   \n",
       "108051            0           2              0                 1   \n",
       "215431            0           1              0                 0   \n",
       "91920             0           2              0                 0   \n",
       "55902             0           1              0                 0   \n",
       "\n",
       "        education_lower  \n",
       "113879                0  \n",
       "108051                0  \n",
       "215431                1  \n",
       "91920                 0  \n",
       "55902                 0  "
      ]
     },
     "execution_count": 25,
     "metadata": {},
     "output_type": "execute_result"
    }
   ],
   "source": [
    "X_train_2.head()"
   ]
  },
  {
   "cell_type": "markdown",
   "metadata": {
    "id": "Ra5u1sOthIGA"
   },
   "source": [
    "### 1.6.1 Model perfomance"
   ]
  },
  {
   "cell_type": "code",
   "execution_count": null,
   "metadata": {
    "colab": {
     "base_uri": "https://localhost:8080/"
    },
    "executionInfo": {
     "elapsed": 100135,
     "status": "ok",
     "timestamp": 1694256059833,
     "user": {
      "displayName": "April Itriago",
      "userId": "10552117681411633732"
     },
     "user_tz": -120
    },
    "id": "qgzUZ_AthS5U",
    "outputId": "98cbdab4-edb8-4d06-a98d-4dc2c18efa54"
   },
   "outputs": [
    {
     "name": "stdout",
     "output_type": "stream",
     "text": [
      "0.7223920901593275 0.5256246936102931\n"
     ]
    },
    {
     "name": "stderr",
     "output_type": "stream",
     "text": [
      "/usr/local/lib/python3.10/dist-packages/sklearn/linear_model/_logistic.py:458: ConvergenceWarning: lbfgs failed to converge (status=1):\n",
      "STOP: TOTAL NO. of ITERATIONS REACHED LIMIT.\n",
      "\n",
      "Increase the number of iterations (max_iter) or scale the data as shown in:\n",
      "    https://scikit-learn.org/stable/modules/preprocessing.html\n",
      "Please also refer to the documentation for alternative solver options:\n",
      "    https://scikit-learn.org/stable/modules/linear_model.html#logistic-regression\n",
      "  n_iter_i = _check_optimize_result(\n"
     ]
    }
   ],
   "source": [
    "# Train Random Forest\n",
    "rf = RandomForestClassifier(n_estimators=100, random_state=0)\n",
    "rf.fit(X_train_2, y_train)\n",
    "y_pred_val_rf = rf.predict(X_test_2)\n",
    "f1_rf = f1_score(y_test, y_pred_val_rf, average='macro')\n",
    "\n",
    "# Train Logistic Regression\n",
    "logreg = LogisticRegression(max_iter=1000, random_state=0)\n",
    "logreg.fit(X_train_2, y_train)\n",
    "y_pred_val_logreg = logreg.predict(X_test_2)\n",
    "f1_logreg = f1_score(y_test, y_pred_val_logreg, average='macro')\n",
    "\n",
    "print(f1_rf, f1_logreg)\n"
   ]
  },
  {
   "cell_type": "markdown",
   "metadata": {
    "id": "kbx21fx8nUXq"
   },
   "source": [
    "**Baseline results:**\n",
    "0.7383164387591259 0.4889700488105907\n",
    "\n",
    "**X_train_2 results:**\n",
    "0.7223920901593275 0.5256246936102931"
   ]
  },
  {
   "cell_type": "markdown",
   "metadata": {
    "id": "zo4nxPnkuTnQ"
   },
   "source": [
    "1.6.1.1 Stratified K-Fold Cross-Validation for rf"
   ]
  },
  {
   "cell_type": "markdown",
   "metadata": {
    "id": "ZXWOS2aqiT8f"
   },
   "source": [
    "### 1.5.2 Metrics for each class"
   ]
  },
  {
   "cell_type": "code",
   "execution_count": null,
   "metadata": {
    "id": "vYJ5ChgkiqCK"
   },
   "outputs": [],
   "source": [
    "# for the Database_2 we work with the class predictions\n",
    "y_rf_pred = rf.predict(X_test_2)"
   ]
  },
  {
   "cell_type": "code",
   "execution_count": null,
   "metadata": {
    "colab": {
     "base_uri": "https://localhost:8080/"
    },
    "executionInfo": {
     "elapsed": 219,
     "status": "ok",
     "timestamp": 1694256302679,
     "user": {
      "displayName": "April Itriago",
      "userId": "10552117681411633732"
     },
     "user_tz": -120
    },
    "id": "sAGCde9Ti1La",
    "outputId": "b535e6b6-043d-4dec-defb-89e047503145"
   },
   "outputs": [
    {
     "name": "stdout",
     "output_type": "stream",
     "text": [
      "Precision:  [0.83205478 0.76864477 0.78186223 0.78180662]\n",
      "Recall:  [0.92536181 0.71169462 0.65800904 0.4358156 ]\n",
      "f score:  [0.87623131 0.73907423 0.7146089  0.55965392]\n",
      "Support:  [38211 16871 11281  2820]\n",
      "\n"
     ]
    }
   ],
   "source": [
    "# Calculation metrics for each class using Random Forest.\n",
    "p, r, f, s = precision_recall_fscore_support(\n",
    "    y_test,\n",
    "    y_rf_pred, #for the random forest\n",
    "    labels=[0,1,2,3], # the labels for which we want the metrics determined\n",
    "    average=None, # when None, returns a metric per label\n",
    ")\n",
    "\n",
    "print('Precision: ', p)\n",
    "print('Recall: ', r)\n",
    "print('f score: ', f)\n",
    "print('Support: ', s)\n",
    "print()"
   ]
  },
  {
   "cell_type": "markdown",
   "metadata": {
    "id": "pYDMxE-1qD3U"
   },
   "source": [
    "### 1.5.3 Importance of variables of Database 2\n"
   ]
  },
  {
   "cell_type": "code",
   "execution_count": 26,
   "metadata": {
    "colab": {
     "base_uri": "https://localhost:8080/",
     "height": 475
    },
    "executionInfo": {
     "elapsed": 48897,
     "status": "ok",
     "timestamp": 1694254783550,
     "user": {
      "displayName": "April Itriago",
      "userId": "10552117681411633732"
     },
     "user_tz": -120
    },
    "id": "uPL2EJbk-ASD",
    "outputId": "c235c69f-b030-47d9-a7c1-3e3e028fab46"
   },
   "outputs": [
    {
     "data": {
      "image/png": "[encoded data removed]",
      "text/plain": [
       "<Figure size 1200x800 with 1 Axes>"
      ]
     },
     "metadata": {},
     "output_type": "display_data"
    }
   ],
   "source": [
    "# Train a Random Forest model\n",
    "rf = RandomForestClassifier(n_estimators=100, random_state=0)\n",
    "rf.fit(X_train_2 , y_train)\n",
    "\n",
    "# Get feature importances\n",
    "importances = rf.feature_importances_\n",
    "\n",
    "# Create a DataFrame for visualization\n",
    "features_df = pd.DataFrame({\n",
    "    'Feature': X_train_2.columns,\n",
    "    'Importance': importances\n",
    "})\n",
    "\n",
    "# Sort the DataFrame by importance\n",
    "features_df = features_df.sort_values(by='Importance', ascending=False)\n",
    "\n",
    "# Plot feature importances\n",
    "plt.figure(figsize=(12, 8))\n",
    "plt.barh(features_df['Feature'], features_df['Importance'])\n",
    "plt.xlabel('Importance')\n",
    "plt.ylabel('Feature')\n",
    "plt.title('Feature Importance using Random Forest')\n",
    "plt.gca().invert_yaxis()  # To display the most important feature at the top\n",
    "plt.show()"
   ]
  },
  {
   "cell_type": "code",
   "execution_count": 27,
   "metadata": {
    "colab": {
     "base_uri": "https://localhost:8080/",
     "height": 1000
    },
    "executionInfo": {
     "elapsed": 248,
     "status": "ok",
     "timestamp": 1694256424040,
     "user": {
      "displayName": "April Itriago",
      "userId": "10552117681411633732"
     },
     "user_tz": -120
    },
    "id": "NwICVqcnBgBn",
    "outputId": "5fc47982-7eb0-4a2e-94f5-0fcd28aebd83"
   },
   "outputs": [
    {
     "data": {
      "text/html": [
       "<div>\n",
       "<style scoped>\n",
       "    .dataframe tbody tr th:only-of-type {\n",
       "        vertical-align: middle;\n",
       "    }\n",
       "\n",
       "    .dataframe tbody tr th {\n",
       "        vertical-align: top;\n",
       "    }\n",
       "\n",
       "    .dataframe thead th {\n",
       "        text-align: right;\n",
       "    }\n",
       "</style>\n",
       "<table border=\"1\" class=\"dataframe\">\n",
       "  <thead>\n",
       "    <tr style=\"text-align: right;\">\n",
       "      <th></th>\n",
       "      <th>Feature</th>\n",
       "      <th>Importance</th>\n",
       "    </tr>\n",
       "  </thead>\n",
       "  <tbody>\n",
       "    <tr>\n",
       "      <th>16</th>\n",
       "      <td>distance_tr</td>\n",
       "      <td>0.133843</td>\n",
       "    </tr>\n",
       "    <tr>\n",
       "      <th>0</th>\n",
       "      <td>distance</td>\n",
       "      <td>0.127102</td>\n",
       "    </tr>\n",
       "    <tr>\n",
       "      <th>10</th>\n",
       "      <td>density_tr</td>\n",
       "      <td>0.049352</td>\n",
       "    </tr>\n",
       "    <tr>\n",
       "      <th>1</th>\n",
       "      <td>density</td>\n",
       "      <td>0.048984</td>\n",
       "    </tr>\n",
       "    <tr>\n",
       "      <th>6</th>\n",
       "      <td>green</td>\n",
       "      <td>0.048290</td>\n",
       "    </tr>\n",
       "    <tr>\n",
       "      <th>12</th>\n",
       "      <td>green_tr</td>\n",
       "      <td>0.047906</td>\n",
       "    </tr>\n",
       "    <tr>\n",
       "      <th>7</th>\n",
       "      <td>temp</td>\n",
       "      <td>0.047864</td>\n",
       "    </tr>\n",
       "    <tr>\n",
       "      <th>13</th>\n",
       "      <td>temp_tr</td>\n",
       "      <td>0.047357</td>\n",
       "    </tr>\n",
       "    <tr>\n",
       "      <th>11</th>\n",
       "      <td>diversity_tr</td>\n",
       "      <td>0.045992</td>\n",
       "    </tr>\n",
       "    <tr>\n",
       "      <th>5</th>\n",
       "      <td>diversity</td>\n",
       "      <td>0.045852</td>\n",
       "    </tr>\n",
       "    <tr>\n",
       "      <th>15</th>\n",
       "      <td>age_tr</td>\n",
       "      <td>0.044088</td>\n",
       "    </tr>\n",
       "    <tr>\n",
       "      <th>2</th>\n",
       "      <td>age</td>\n",
       "      <td>0.044087</td>\n",
       "    </tr>\n",
       "    <tr>\n",
       "      <th>14</th>\n",
       "      <td>wind_tr</td>\n",
       "      <td>0.041903</td>\n",
       "    </tr>\n",
       "    <tr>\n",
       "      <th>9</th>\n",
       "      <td>wind</td>\n",
       "      <td>0.041675</td>\n",
       "    </tr>\n",
       "    <tr>\n",
       "      <th>3</th>\n",
       "      <td>cars</td>\n",
       "      <td>0.041509</td>\n",
       "    </tr>\n",
       "    <tr>\n",
       "      <th>4</th>\n",
       "      <td>bicycles</td>\n",
       "      <td>0.035982</td>\n",
       "    </tr>\n",
       "    <tr>\n",
       "      <th>8</th>\n",
       "      <td>precip</td>\n",
       "      <td>0.033162</td>\n",
       "    </tr>\n",
       "    <tr>\n",
       "      <th>19</th>\n",
       "      <td>license_bin</td>\n",
       "      <td>0.017276</td>\n",
       "    </tr>\n",
       "    <tr>\n",
       "      <th>21</th>\n",
       "      <td>income_ord</td>\n",
       "      <td>0.012212</td>\n",
       "    </tr>\n",
       "    <tr>\n",
       "      <th>18</th>\n",
       "      <td>male_bin</td>\n",
       "      <td>0.008948</td>\n",
       "    </tr>\n",
       "    <tr>\n",
       "      <th>20</th>\n",
       "      <td>weekend_bin</td>\n",
       "      <td>0.008234</td>\n",
       "    </tr>\n",
       "    <tr>\n",
       "      <th>23</th>\n",
       "      <td>education_higher</td>\n",
       "      <td>0.008174</td>\n",
       "    </tr>\n",
       "    <tr>\n",
       "      <th>24</th>\n",
       "      <td>education_lower</td>\n",
       "      <td>0.007550</td>\n",
       "    </tr>\n",
       "    <tr>\n",
       "      <th>17</th>\n",
       "      <td>precip_bin</td>\n",
       "      <td>0.006340</td>\n",
       "    </tr>\n",
       "    <tr>\n",
       "      <th>22</th>\n",
       "      <td>ethnicity_bin</td>\n",
       "      <td>0.006317</td>\n",
       "    </tr>\n",
       "  </tbody>\n",
       "</table>\n",
       "</div>"
      ],
      "text/plain": [
       "             Feature  Importance\n",
       "16       distance_tr    0.133843\n",
       "0           distance    0.127102\n",
       "10        density_tr    0.049352\n",
       "1            density    0.048984\n",
       "6              green    0.048290\n",
       "12          green_tr    0.047906\n",
       "7               temp    0.047864\n",
       "13           temp_tr    0.047357\n",
       "11      diversity_tr    0.045992\n",
       "5          diversity    0.045852\n",
       "15            age_tr    0.044088\n",
       "2                age    0.044087\n",
       "14           wind_tr    0.041903\n",
       "9               wind    0.041675\n",
       "3               cars    0.041509\n",
       "4           bicycles    0.035982\n",
       "8             precip    0.033162\n",
       "19       license_bin    0.017276\n",
       "21        income_ord    0.012212\n",
       "18          male_bin    0.008948\n",
       "20       weekend_bin    0.008234\n",
       "23  education_higher    0.008174\n",
       "24   education_lower    0.007550\n",
       "17        precip_bin    0.006340\n",
       "22     ethnicity_bin    0.006317"
      ]
     },
     "execution_count": 27,
     "metadata": {},
     "output_type": "execute_result"
    }
   ],
   "source": [
    "features_df"
   ]
  },
  {
   "cell_type": "markdown",
   "metadata": {
    "id": "TPqYXHExgSHl"
   },
   "source": [
    "## 1.6 Database 2a"
   ]
  },
  {
   "cell_type": "code",
   "execution_count": null,
   "metadata": {
    "id": "MB_wTLmOkAEW"
   },
   "outputs": [],
   "source": [
    "X_train_2a = X_train_2.copy()\n",
    "X_test_2a = X_test_2.copy()"
   ]
  },
  {
   "cell_type": "markdown",
   "metadata": {
    "id": "gf_GdR_OrcWX"
   },
   "source": [
    "As we can see 'distance' is the most important variable. Let's treat the outliers."
   ]
  },
  {
   "cell_type": "markdown",
   "metadata": {
    "id": "Jcmv5vSsjng2"
   },
   "source": [
    "#### 1.6.1 Distance"
   ]
  },
  {
   "cell_type": "code",
   "execution_count": null,
   "metadata": {
    "colab": {
     "base_uri": "https://localhost:8080/"
    },
    "executionInfo": {
     "elapsed": 226,
     "status": "ok",
     "timestamp": 1694272821086,
     "user": {
      "displayName": "April Itriago",
      "userId": "10552117681411633732"
     },
     "user_tz": -120
    },
    "id": "ldvdi0Hcs8vj",
    "outputId": "8ea489b1-9d51-4503-9c84-9bc027b780e4"
   },
   "outputs": [
    {
     "data": {
      "text/plain": [
       "count    161425.000000\n",
       "mean         12.249906\n",
       "std          23.730498\n",
       "min           0.100000\n",
       "25%           1.500000\n",
       "50%           4.000000\n",
       "75%          12.000000\n",
       "max         400.000000\n",
       "Name: distance, dtype: float64"
      ]
     },
     "execution_count": 160,
     "metadata": {},
     "output_type": "execute_result"
    }
   ],
   "source": [
    "X_train_2a['distance'].describe()"
   ]
  },
  {
   "cell_type": "code",
   "execution_count": null,
   "metadata": {
    "id": "zZMDQrNDz7kp"
   },
   "outputs": [],
   "source": [
    "# Create a copy of the 'distance' column named 'distance_wins'\n",
    "X_train_2a['distance_wins'] = X_train_2a['distance']\n",
    "X_test_2a['distance_wins'] = X_test_2a['distance']\n",
    "\n",
    "# Initialize the Winsorizer\n",
    "capper = Winsorizer(\n",
    "    variables=['distance_wins'],  # Apply the transformation to 'distance_wins'\n",
    "    capping_method='quantiles',\n",
    "    tail='both',\n",
    "    fold=0.05,\n",
    ")\n",
    "\n",
    "# Fit the Winsorizer on the training data\n",
    "capper.fit(X_train_2a)\n",
    "\n",
    "# Transform the training and test data\n",
    "X_train_2a = capper.transform(X_train_2a)\n",
    "X_test_2a = capper.transform(X_test_2a)\n"
   ]
  },
  {
   "cell_type": "code",
   "execution_count": null,
   "metadata": {
    "id": "wuMxGuR-waKD"
   },
   "outputs": [],
   "source": [
    "X_train_2a= capper.transform(X_train_2a)\n",
    "X_test_2a= capper.transform(X_test_2a)"
   ]
  },
  {
   "cell_type": "code",
   "execution_count": null,
   "metadata": {
    "colab": {
     "base_uri": "https://localhost:8080/",
     "height": 449
    },
    "executionInfo": {
     "elapsed": 1966,
     "status": "ok",
     "timestamp": 1694261829132,
     "user": {
      "displayName": "April Itriago",
      "userId": "10552117681411633732"
     },
     "user_tz": -120
    },
    "id": "SVXiqfxfxI1_",
    "outputId": "977429f6-9f9b-43a5-abe8-e7ef0098a64f"
   },
   "outputs": [
    {
     "data": {
      "image/png": "[encoded data removed]",
      "text/plain": [
       "<Figure size 640x480 with 2 Axes>"
      ]
     },
     "metadata": {},
     "output_type": "display_data"
    }
   ],
   "source": [
    "# before capping\n",
    "plot_boxplot_and_hist(X_train, 'distance')"
   ]
  },
  {
   "cell_type": "code",
   "execution_count": null,
   "metadata": {
    "colab": {
     "base_uri": "https://localhost:8080/",
     "height": 450
    },
    "executionInfo": {
     "elapsed": 739,
     "status": "ok",
     "timestamp": 1694261830534,
     "user": {
      "displayName": "April Itriago",
      "userId": "10552117681411633732"
     },
     "user_tz": -120
    },
    "id": "yocebWqAxeym",
    "outputId": "5d2b6332-57b7-4d2e-876e-0397edf3e8d7"
   },
   "outputs": [
    {
     "data": {
      "image/png": "[encoded data removed]",
      "text/plain": [
       "<Figure size 640x480 with 2 Axes>"
      ]
     },
     "metadata": {},
     "output_type": "display_data"
    }
   ],
   "source": [
    "# after capping\n",
    "plot_boxplot_and_hist(X_train_2a, 'distance_wins')"
   ]
  },
  {
   "cell_type": "markdown",
   "metadata": {
    "id": "Dvwh2nOPWrZQ"
   },
   "source": [
    "#### 1.6.2 Aribitrary discretization 'age', 'temp', 'distance', 'wind', 'diversity', 'green', 'density', 'precip', 'bicycles', 'cars'"
   ]
  },
  {
   "cell_type": "code",
   "execution_count": null,
   "metadata": {
    "id": "Qd_9KT4E0qqu"
   },
   "outputs": [],
   "source": [
    "# Binning dictionary\n",
    "binning_dict = {\n",
    "    'age': [18, 36, 60, 100],\n",
    "        'temp': [-12, 5, 15, 45],\n",
    "        'distance': [0, 5, 10, 20, 40, 60, 80, 100, 500],\n",
    "        'wind':[0,2.70,3.80,5.10,20],\n",
    "        'diversity': [0, 1.4, 1.8, 2.2, 2.8, 4],\n",
    "        'green': [0, 37, 54, 74, 100],\n",
    "        'density': [0, 0.59, 1.15, 1.95, 5, 15],\n",
    "        'precip':[0,0.10,2.3,10,142.3],\n",
    "    'cars':[0, 1, 2, 3, 20],\n",
    "    'bicycles':[0, 3, 5, 7, 20]\n",
    "}\n",
    "\n",
    "# Instantiate the discretiser\n",
    "disc = ArbitraryDiscretiser(binning_dict=binning_dict)\n",
    "\n",
    "# Fit and transform the training data\n",
    "X_train_binned = disc.fit_transform(X_train_2a)\n",
    "\n",
    "# Transform the test data\n",
    "X_test_binned = disc.transform(X_test_2a)\n",
    "\n",
    "# Select only the transformed columns and rename them\n",
    "X_train_binned = X_train_binned[binning_dict.keys()]\n",
    "X_train_binned.columns = [col + '_arb_disc' for col in X_train_binned.columns]\n",
    "\n",
    "X_test_binned = X_test_binned[binning_dict.keys()]\n",
    "X_test_binned.columns = [col + '_arb_disc' for col in X_test_binned.columns]\n",
    "\n",
    "# Concatenate the original training data with the binned training data\n",
    "X_train_2a = pd.concat([X_train_2a, X_train_binned], axis=1)\n",
    "\n",
    "# Concatenate the original test data with the binned test data\n",
    "X_test_2a = pd.concat([X_test_2a, X_test_binned], axis=1)\n"
   ]
  },
  {
   "cell_type": "code",
   "execution_count": null,
   "metadata": {
    "colab": {
     "base_uri": "https://localhost:8080/",
     "height": 226
    },
    "executionInfo": {
     "elapsed": 341,
     "status": "ok",
     "timestamp": 1694303298747,
     "user": {
      "displayName": "April Itriago",
      "userId": "10552117681411633732"
     },
     "user_tz": -120
    },
    "id": "BlLjqyfBWIWp",
    "outputId": "1fb035dd-d85b-4c65-a849-4a19d9d5d9f5"
   },
   "outputs": [
    {
     "data": {
      "text/html": [
       "\n",
       "  <div id=\"df-18d9b811-f92f-40ec-a122-99d5ed778234\" class=\"colab-df-container\">\n",
       "    <div>\n",
       "<style scoped>\n",
       "    .dataframe tbody tr th:only-of-type {\n",
       "        vertical-align: middle;\n",
       "    }\n",
       "\n",
       "    .dataframe tbody tr th {\n",
       "        vertical-align: top;\n",
       "    }\n",
       "\n",
       "    .dataframe thead th {\n",
       "        text-align: right;\n",
       "    }\n",
       "</style>\n",
       "<table border=\"1\" class=\"dataframe\">\n",
       "  <thead>\n",
       "    <tr style=\"text-align: right;\">\n",
       "      <th></th>\n",
       "      <th>distance</th>\n",
       "      <th>density</th>\n",
       "      <th>age</th>\n",
       "      <th>cars</th>\n",
       "      <th>bicycles</th>\n",
       "      <th>diversity</th>\n",
       "      <th>green</th>\n",
       "      <th>temp</th>\n",
       "      <th>precip</th>\n",
       "      <th>wind</th>\n",
       "      <th>density_tr</th>\n",
       "      <th>diversity_tr</th>\n",
       "      <th>green_tr</th>\n",
       "      <th>temp_tr</th>\n",
       "      <th>wind_tr</th>\n",
       "      <th>age_tr</th>\n",
       "      <th>distance_tr</th>\n",
       "      <th>precip_bin</th>\n",
       "      <th>male_bin</th>\n",
       "      <th>license_bin</th>\n",
       "      <th>weekend_bin</th>\n",
       "      <th>income_ord</th>\n",
       "      <th>ethnicity_bin</th>\n",
       "      <th>education_higher</th>\n",
       "      <th>education_lower</th>\n",
       "      <th>distance_wins</th>\n",
       "      <th>age_arb_disc</th>\n",
       "      <th>temp_arb_disc</th>\n",
       "      <th>distance_arb_disc</th>\n",
       "      <th>wind_arb_disc</th>\n",
       "      <th>diversity_arb_disc</th>\n",
       "      <th>green_arb_disc</th>\n",
       "      <th>density_arb_disc</th>\n",
       "      <th>precip_arb_disc</th>\n",
       "      <th>cars_arb_disc</th>\n",
       "      <th>bicycles_arb_disc</th>\n",
       "    </tr>\n",
       "  </thead>\n",
       "  <tbody>\n",
       "    <tr>\n",
       "      <th>107969</th>\n",
       "      <td>60.0</td>\n",
       "      <td>0.60292</td>\n",
       "      <td>59</td>\n",
       "      <td>2</td>\n",
       "      <td>2</td>\n",
       "      <td>1.657640</td>\n",
       "      <td>86.718723</td>\n",
       "      <td>9.0</td>\n",
       "      <td>12.6</td>\n",
       "      <td>9.7</td>\n",
       "      <td>0.415185</td>\n",
       "      <td>2.577198</td>\n",
       "      <td>59.811263</td>\n",
       "      <td>8.464714</td>\n",
       "      <td>2.074456</td>\n",
       "      <td>4.077537</td>\n",
       "      <td>4.094345</td>\n",
       "      <td>1</td>\n",
       "      <td>0</td>\n",
       "      <td>1</td>\n",
       "      <td>0</td>\n",
       "      <td>2</td>\n",
       "      <td>0</td>\n",
       "      <td>0</td>\n",
       "      <td>0</td>\n",
       "      <td>52.0</td>\n",
       "      <td>1</td>\n",
       "      <td>1</td>\n",
       "      <td>4</td>\n",
       "      <td>3</td>\n",
       "      <td>1</td>\n",
       "      <td>3</td>\n",
       "      <td>1</td>\n",
       "      <td>3</td>\n",
       "      <td>1</td>\n",
       "      <td>0</td>\n",
       "    </tr>\n",
       "    <tr>\n",
       "      <th>140225</th>\n",
       "      <td>24.0</td>\n",
       "      <td>0.33218</td>\n",
       "      <td>67</td>\n",
       "      <td>1</td>\n",
       "      <td>2</td>\n",
       "      <td>1.318890</td>\n",
       "      <td>83.783784</td>\n",
       "      <td>22.2</td>\n",
       "      <td>0.0</td>\n",
       "      <td>1.7</td>\n",
       "      <td>0.265184</td>\n",
       "      <td>1.910888</td>\n",
       "      <td>57.986750</td>\n",
       "      <td>20.291031</td>\n",
       "      <td>0.938585</td>\n",
       "      <td>4.204693</td>\n",
       "      <td>3.178054</td>\n",
       "      <td>0</td>\n",
       "      <td>0</td>\n",
       "      <td>1</td>\n",
       "      <td>0</td>\n",
       "      <td>1</td>\n",
       "      <td>0</td>\n",
       "      <td>1</td>\n",
       "      <td>0</td>\n",
       "      <td>24.0</td>\n",
       "      <td>2</td>\n",
       "      <td>2</td>\n",
       "      <td>3</td>\n",
       "      <td>0</td>\n",
       "      <td>0</td>\n",
       "      <td>3</td>\n",
       "      <td>0</td>\n",
       "      <td>0</td>\n",
       "      <td>0</td>\n",
       "      <td>0</td>\n",
       "    </tr>\n",
       "    <tr>\n",
       "      <th>721</th>\n",
       "      <td>21.7</td>\n",
       "      <td>1.69205</td>\n",
       "      <td>35</td>\n",
       "      <td>2</td>\n",
       "      <td>4</td>\n",
       "      <td>1.185120</td>\n",
       "      <td>80.843128</td>\n",
       "      <td>2.2</td>\n",
       "      <td>1.3</td>\n",
       "      <td>5.1</td>\n",
       "      <td>0.762142</td>\n",
       "      <td>1.666519</td>\n",
       "      <td>56.151914</td>\n",
       "      <td>2.140838</td>\n",
       "      <td>1.632528</td>\n",
       "      <td>3.555348</td>\n",
       "      <td>3.077312</td>\n",
       "      <td>1</td>\n",
       "      <td>0</td>\n",
       "      <td>1</td>\n",
       "      <td>1</td>\n",
       "      <td>1</td>\n",
       "      <td>1</td>\n",
       "      <td>0</td>\n",
       "      <td>1</td>\n",
       "      <td>21.7</td>\n",
       "      <td>0</td>\n",
       "      <td>0</td>\n",
       "      <td>3</td>\n",
       "      <td>2</td>\n",
       "      <td>0</td>\n",
       "      <td>3</td>\n",
       "      <td>2</td>\n",
       "      <td>1</td>\n",
       "      <td>1</td>\n",
       "      <td>1</td>\n",
       "    </tr>\n",
       "    <tr>\n",
       "      <th>143738</th>\n",
       "      <td>18.0</td>\n",
       "      <td>0.43820</td>\n",
       "      <td>63</td>\n",
       "      <td>2</td>\n",
       "      <td>6</td>\n",
       "      <td>1.970660</td>\n",
       "      <td>70.759611</td>\n",
       "      <td>4.8</td>\n",
       "      <td>15.7</td>\n",
       "      <td>5.3</td>\n",
       "      <td>0.329140</td>\n",
       "      <td>3.251826</td>\n",
       "      <td>49.804906</td>\n",
       "      <td>4.592231</td>\n",
       "      <td>1.658679</td>\n",
       "      <td>4.143135</td>\n",
       "      <td>2.890372</td>\n",
       "      <td>1</td>\n",
       "      <td>1</td>\n",
       "      <td>1</td>\n",
       "      <td>0</td>\n",
       "      <td>2</td>\n",
       "      <td>0</td>\n",
       "      <td>0</td>\n",
       "      <td>0</td>\n",
       "      <td>18.0</td>\n",
       "      <td>2</td>\n",
       "      <td>0</td>\n",
       "      <td>2</td>\n",
       "      <td>3</td>\n",
       "      <td>2</td>\n",
       "      <td>2</td>\n",
       "      <td>0</td>\n",
       "      <td>3</td>\n",
       "      <td>1</td>\n",
       "      <td>2</td>\n",
       "    </tr>\n",
       "    <tr>\n",
       "      <th>184635</th>\n",
       "      <td>1.0</td>\n",
       "      <td>3.62231</td>\n",
       "      <td>75</td>\n",
       "      <td>0</td>\n",
       "      <td>1</td>\n",
       "      <td>0.943884</td>\n",
       "      <td>18.283963</td>\n",
       "      <td>-1.2</td>\n",
       "      <td>0.0</td>\n",
       "      <td>7.5</td>\n",
       "      <td>1.031980</td>\n",
       "      <td>1.253403</td>\n",
       "      <td>14.624294</td>\n",
       "      <td>-1.221363</td>\n",
       "      <td>1.896890</td>\n",
       "      <td>4.317488</td>\n",
       "      <td>0.000000</td>\n",
       "      <td>0</td>\n",
       "      <td>0</td>\n",
       "      <td>0</td>\n",
       "      <td>0</td>\n",
       "      <td>1</td>\n",
       "      <td>0</td>\n",
       "      <td>0</td>\n",
       "      <td>1</td>\n",
       "      <td>1.0</td>\n",
       "      <td>2</td>\n",
       "      <td>0</td>\n",
       "      <td>0</td>\n",
       "      <td>3</td>\n",
       "      <td>0</td>\n",
       "      <td>0</td>\n",
       "      <td>3</td>\n",
       "      <td>0</td>\n",
       "      <td>0</td>\n",
       "      <td>0</td>\n",
       "    </tr>\n",
       "  </tbody>\n",
       "</table>\n",
       "</div>\n",
       "    <div class=\"colab-df-buttons\">\n",
       "\n",
       "  <div class=\"colab-df-container\">\n",
       "    <button class=\"colab-df-convert\" onclick=\"convertToInteractive('df-18d9b811-f92f-40ec-a122-99d5ed778234')\"\n",
       "            title=\"Convert this dataframe to an interactive table.\"\n",
       "            style=\"display:none;\">\n",
       "\n",
       "  <svg xmlns=\"http://www.w3.org/2000/svg\" height=\"24px\" viewBox=\"0 -960 960 960\">\n",
       "    <path d=\"M120-120v-720h720v720H120Zm60-500h600v-160H180v160Zm220 220h160v-160H400v160Zm0 220h160v-160H400v160ZM180-400h160v-160H180v160Zm440 0h160v-160H620v160ZM180-180h160v-160H180v160Zm440 0h160v-160H620v160Z\"/>\n",
       "  </svg>\n",
       "    </button>\n",
       "\n",
       "  <style>\n",
       "    .colab-df-container {\n",
       "      display:flex;\n",
       "      gap: 12px;\n",
       "    }\n",
       "\n",
       "    .colab-df-convert {\n",
       "      background-color: #E8F0FE;\n",
       "      border: none;\n",
       "      border-radius: 50%;\n",
       "      cursor: pointer;\n",
       "      display: none;\n",
       "      fill: #1967D2;\n",
       "      height: 32px;\n",
       "      padding: 0 0 0 0;\n",
       "      width: 32px;\n",
       "    }\n",
       "\n",
       "    .colab-df-convert:hover {\n",
       "      background-color: #E2EBFA;\n",
       "      box-shadow: 0px 1px 2px rgba(60, 64, 67, 0.3), 0px 1px 3px 1px rgba(60, 64, 67, 0.15);\n",
       "      fill: #174EA6;\n",
       "    }\n",
       "\n",
       "    .colab-df-buttons div {\n",
       "      margin-bottom: 4px;\n",
       "    }\n",
       "\n",
       "    [theme=dark] .colab-df-convert {\n",
       "      background-color: #3B4455;\n",
       "      fill: #D2E3FC;\n",
       "    }\n",
       "\n",
       "    [theme=dark] .colab-df-convert:hover {\n",
       "      background-color: #434B5C;\n",
       "      box-shadow: 0px 1px 3px 1px rgba(0, 0, 0, 0.15);\n",
       "      filter: drop-shadow(0px 1px 2px rgba(0, 0, 0, 0.3));\n",
       "      fill: #FFFFFF;\n",
       "    }\n",
       "  </style>\n",
       "\n",
       "    <script>\n",
       "      const buttonEl =\n",
       "        document.querySelector('#df-18d9b811-f92f-40ec-a122-99d5ed778234 button.colab-df-convert');\n",
       "      buttonEl.style.display =\n",
       "        google.colab.kernel.accessAllowed ? 'block' : 'none';\n",
       "\n",
       "      async function convertToInteractive(key) {\n",
       "        const element = document.querySelector('#df-18d9b811-f92f-40ec-a122-99d5ed778234');\n",
       "        const dataTable =\n",
       "          await google.colab.kernel.invokeFunction('convertToInteractive',\n",
       "                                                    [key], {});\n",
       "        if (!dataTable) return;\n",
       "\n",
       "        const docLinkHtml = 'Like what you see? Visit the ' +\n",
       "          '<a target=\"_blank\" href=https://colab.research.google.com/notebooks/data_table.ipynb>data table notebook</a>'\n",
       "          + ' to learn more about interactive tables.';\n",
       "        element.innerHTML = '';\n",
       "        dataTable['output_type'] = 'display_data';\n",
       "        await google.colab.output.renderOutput(dataTable, element);\n",
       "        const docLink = document.createElement('div');\n",
       "        docLink.innerHTML = docLinkHtml;\n",
       "        element.appendChild(docLink);\n",
       "      }\n",
       "    </script>\n",
       "  </div>\n",
       "\n",
       "\n",
       "<div id=\"df-825f532d-1184-476c-ab08-a199f86bdce5\">\n",
       "  <button class=\"colab-df-quickchart\" onclick=\"quickchart('df-825f532d-1184-476c-ab08-a199f86bdce5')\"\n",
       "            title=\"Suggest charts.\"\n",
       "            style=\"display:none;\">\n",
       "\n",
       "<svg xmlns=\"http://www.w3.org/2000/svg\" height=\"24px\"viewBox=\"0 0 24 24\"\n",
       "     width=\"24px\">\n",
       "    <g>\n",
       "        <path d=\"M19 3H5c-1.1 0-2 .9-2 2v14c0 1.1.9 2 2 2h14c1.1 0 2-.9 2-2V5c0-1.1-.9-2-2-2zM9 17H7v-7h2v7zm4 0h-2V7h2v10zm4 0h-2v-4h2v4z\"/>\n",
       "    </g>\n",
       "</svg>\n",
       "  </button>\n",
       "\n",
       "<style>\n",
       "  .colab-df-quickchart {\n",
       "      --bg-color: #E8F0FE;\n",
       "      --fill-color: #1967D2;\n",
       "      --hover-bg-color: #E2EBFA;\n",
       "      --hover-fill-color: #174EA6;\n",
       "      --disabled-fill-color: #AAA;\n",
       "      --disabled-bg-color: #DDD;\n",
       "  }\n",
       "\n",
       "  [theme=dark] .colab-df-quickchart {\n",
       "      --bg-color: #3B4455;\n",
       "      --fill-color: #D2E3FC;\n",
       "      --hover-bg-color: #434B5C;\n",
       "      --hover-fill-color: #FFFFFF;\n",
       "      --disabled-bg-color: #3B4455;\n",
       "      --disabled-fill-color: #666;\n",
       "  }\n",
       "\n",
       "  .colab-df-quickchart {\n",
       "    background-color: var(--bg-color);\n",
       "    border: none;\n",
       "    border-radius: 50%;\n",
       "    cursor: pointer;\n",
       "    display: none;\n",
       "    fill: var(--fill-color);\n",
       "    height: 32px;\n",
       "    padding: 0;\n",
       "    width: 32px;\n",
       "  }\n",
       "\n",
       "  .colab-df-quickchart:hover {\n",
       "    background-color: var(--hover-bg-color);\n",
       "    box-shadow: 0 1px 2px rgba(60, 64, 67, 0.3), 0 1px 3px 1px rgba(60, 64, 67, 0.15);\n",
       "    fill: var(--button-hover-fill-color);\n",
       "  }\n",
       "\n",
       "  .colab-df-quickchart-complete:disabled,\n",
       "  .colab-df-quickchart-complete:disabled:hover {\n",
       "    background-color: var(--disabled-bg-color);\n",
       "    fill: var(--disabled-fill-color);\n",
       "    box-shadow: none;\n",
       "  }\n",
       "\n",
       "  .colab-df-spinner {\n",
       "    border: 2px solid var(--fill-color);\n",
       "    border-color: transparent;\n",
       "    border-bottom-color: var(--fill-color);\n",
       "    animation:\n",
       "      spin 1s steps(1) infinite;\n",
       "  }\n",
       "\n",
       "  @keyframes spin {\n",
       "    0% {\n",
       "      border-color: transparent;\n",
       "      border-bottom-color: var(--fill-color);\n",
       "      border-left-color: var(--fill-color);\n",
       "    }\n",
       "    20% {\n",
       "      border-color: transparent;\n",
       "      border-left-color: var(--fill-color);\n",
       "      border-top-color: var(--fill-color);\n",
       "    }\n",
       "    30% {\n",
       "      border-color: transparent;\n",
       "      border-left-color: var(--fill-color);\n",
       "      border-top-color: var(--fill-color);\n",
       "      border-right-color: var(--fill-color);\n",
       "    }\n",
       "    40% {\n",
       "      border-color: transparent;\n",
       "      border-right-color: var(--fill-color);\n",
       "      border-top-color: var(--fill-color);\n",
       "    }\n",
       "    60% {\n",
       "      border-color: transparent;\n",
       "      border-right-color: var(--fill-color);\n",
       "    }\n",
       "    80% {\n",
       "      border-color: transparent;\n",
       "      border-right-color: var(--fill-color);\n",
       "      border-bottom-color: var(--fill-color);\n",
       "    }\n",
       "    90% {\n",
       "      border-color: transparent;\n",
       "      border-bottom-color: var(--fill-color);\n",
       "    }\n",
       "  }\n",
       "</style>\n",
       "\n",
       "  <script>\n",
       "    async function quickchart(key) {\n",
       "      const quickchartButtonEl =\n",
       "        document.querySelector('#' + key + ' button');\n",
       "      quickchartButtonEl.disabled = true;  // To prevent multiple clicks.\n",
       "      quickchartButtonEl.classList.add('colab-df-spinner');\n",
       "      try {\n",
       "        const charts = await google.colab.kernel.invokeFunction(\n",
       "            'suggestCharts', [key], {});\n",
       "      } catch (error) {\n",
       "        console.error('Error during call to suggestCharts:', error);\n",
       "      }\n",
       "      quickchartButtonEl.classList.remove('colab-df-spinner');\n",
       "      quickchartButtonEl.classList.add('colab-df-quickchart-complete');\n",
       "    }\n",
       "    (() => {\n",
       "      let quickchartButtonEl =\n",
       "        document.querySelector('#df-825f532d-1184-476c-ab08-a199f86bdce5 button');\n",
       "      quickchartButtonEl.style.display =\n",
       "        google.colab.kernel.accessAllowed ? 'block' : 'none';\n",
       "    })();\n",
       "  </script>\n",
       "</div>\n",
       "    </div>\n",
       "  </div>\n"
      ],
      "text/plain": [
       "        distance  density  age  cars  bicycles  diversity      green  temp  \\\n",
       "107969      60.0  0.60292   59     2         2   1.657640  86.718723   9.0   \n",
       "140225      24.0  0.33218   67     1         2   1.318890  83.783784  22.2   \n",
       "721         21.7  1.69205   35     2         4   1.185120  80.843128   2.2   \n",
       "143738      18.0  0.43820   63     2         6   1.970660  70.759611   4.8   \n",
       "184635       1.0  3.62231   75     0         1   0.943884  18.283963  -1.2   \n",
       "\n",
       "        precip  wind  density_tr  diversity_tr   green_tr    temp_tr  \\\n",
       "107969    12.6   9.7    0.415185      2.577198  59.811263   8.464714   \n",
       "140225     0.0   1.7    0.265184      1.910888  57.986750  20.291031   \n",
       "721        1.3   5.1    0.762142      1.666519  56.151914   2.140838   \n",
       "143738    15.7   5.3    0.329140      3.251826  49.804906   4.592231   \n",
       "184635     0.0   7.5    1.031980      1.253403  14.624294  -1.221363   \n",
       "\n",
       "         wind_tr    age_tr  distance_tr  precip_bin  male_bin  license_bin  \\\n",
       "107969  2.074456  4.077537     4.094345           1         0            1   \n",
       "140225  0.938585  4.204693     3.178054           0         0            1   \n",
       "721     1.632528  3.555348     3.077312           1         0            1   \n",
       "143738  1.658679  4.143135     2.890372           1         1            1   \n",
       "184635  1.896890  4.317488     0.000000           0         0            0   \n",
       "\n",
       "        weekend_bin  income_ord  ethnicity_bin  education_higher  \\\n",
       "107969            0           2              0                 0   \n",
       "140225            0           1              0                 1   \n",
       "721               1           1              1                 0   \n",
       "143738            0           2              0                 0   \n",
       "184635            0           1              0                 0   \n",
       "\n",
       "        education_lower  distance_wins  age_arb_disc  temp_arb_disc  \\\n",
       "107969                0           52.0             1              1   \n",
       "140225                0           24.0             2              2   \n",
       "721                   1           21.7             0              0   \n",
       "143738                0           18.0             2              0   \n",
       "184635                1            1.0             2              0   \n",
       "\n",
       "        distance_arb_disc  wind_arb_disc  diversity_arb_disc  green_arb_disc  \\\n",
       "107969                  4              3                   1               3   \n",
       "140225                  3              0                   0               3   \n",
       "721                     3              2                   0               3   \n",
       "143738                  2              3                   2               2   \n",
       "184635                  0              3                   0               0   \n",
       "\n",
       "        density_arb_disc  precip_arb_disc  cars_arb_disc  bicycles_arb_disc  \n",
       "107969                 1                3              1                  0  \n",
       "140225                 0                0              0                  0  \n",
       "721                    2                1              1                  1  \n",
       "143738                 0                3              1                  2  \n",
       "184635                 3                0              0                  0  "
      ]
     },
     "execution_count": 35,
     "metadata": {},
     "output_type": "execute_result"
    }
   ],
   "source": [
    "X_test_2a.head()"
   ]
  },
  {
   "cell_type": "code",
   "execution_count": null,
   "metadata": {
    "id": "uPULH2dwi2WG"
   },
   "outputs": [],
   "source": [
    "#We decided to discretize the temp by seson to simplify the data, and to captures cyclical patterns, if there are, in the future\n",
    "def assign_season(temp):\n",
    "    if -9 <= temp <= 5:\n",
    "        return 'winter'\n",
    "    elif 6 <= temp <= 15:\n",
    "        return 'spring_autum'  # This will also cover Autumn\n",
    "    else:\n",
    "        return 'summer'\n",
    "\n",
    "# Apply the function to the temperature column in X_train and X_test\n",
    "X_train_2a['season'] = X_train_2a['temp'].apply(assign_season)\n",
    "X_test_2a['season'] = X_test_2a['temp'].apply(assign_season)\n"
   ]
  },
  {
   "cell_type": "code",
   "execution_count": null,
   "metadata": {
    "id": "J_gmQPzKVYlA"
   },
   "outputs": [],
   "source": [
    "# Let's apply One Hot Encoder with Feature - Engine\n",
    "\n",
    "# initialize the encoder\n",
    "encoder = OneHotEncoder(variables=['season'], drop_last=True)\n",
    "# fit the encoder\n",
    "encoder.fit(X_train_2a)\n",
    "\n",
    "# transform the data\n",
    "X_train_2a = encoder.transform(X_train_2a)\n",
    "X_test_2a = encoder.transform(X_test_2a)\n"
   ]
  },
  {
   "cell_type": "markdown",
   "metadata": {
    "id": "nLjxFzjIjBFi"
   },
   "source": [
    "### 1.6.2 Model perfomance Database 2a"
   ]
  },
  {
   "cell_type": "code",
   "execution_count": null,
   "metadata": {
    "colab": {
     "base_uri": "https://localhost:8080/"
    },
    "executionInfo": {
     "elapsed": 161694,
     "status": "ok",
     "timestamp": 1694303671168,
     "user": {
      "displayName": "April Itriago",
      "userId": "10552117681411633732"
     },
     "user_tz": -120
    },
    "id": "Hmu1YHyu2H4b",
    "outputId": "dae95286-e435-4ff9-bd31-1710496973f5"
   },
   "outputs": [
    {
     "name": "stdout",
     "output_type": "stream",
     "text": [
      "0.7192050058444955 0.5363817566773804\n"
     ]
    },
    {
     "name": "stderr",
     "output_type": "stream",
     "text": [
      "/usr/local/lib/python3.10/dist-packages/sklearn/linear_model/_logistic.py:458: ConvergenceWarning: lbfgs failed to converge (status=1):\n",
      "STOP: TOTAL NO. of ITERATIONS REACHED LIMIT.\n",
      "\n",
      "Increase the number of iterations (max_iter) or scale the data as shown in:\n",
      "    https://scikit-learn.org/stable/modules/preprocessing.html\n",
      "Please also refer to the documentation for alternative solver options:\n",
      "    https://scikit-learn.org/stable/modules/linear_model.html#logistic-regression\n",
      "  n_iter_i = _check_optimize_result(\n"
     ]
    }
   ],
   "source": [
    "# Train Random Forest\n",
    "rf = RandomForestClassifier(n_estimators=100, random_state=0)\n",
    "rf.fit(X_train_2a, y_train)\n",
    "y_pred_val_rf = rf.predict(X_test_2a)\n",
    "f1_rf = f1_score(y_test, y_pred_val_rf, average='macro')\n",
    "\n",
    "# Train Logistic Regression\n",
    "logreg = LogisticRegression(max_iter=1000, random_state=0)\n",
    "logreg.fit(X_train_2a, y_train)\n",
    "y_pred_val_logreg = logreg.predict(X_test_2a)\n",
    "f1_logreg = f1_score(y_test, y_pred_val_logreg, average='macro')\n",
    "\n",
    "print(f1_rf, f1_logreg)\n"
   ]
  },
  {
   "cell_type": "markdown",
   "metadata": {
    "id": "5sbHXFdymKuD"
   },
   "source": [
    "**Baseline results:**\n",
    "0.7383164387591259 0.4889700488105907\n",
    "\n",
    "**X_train_2 results:**\n",
    "0.7129843972710191 0.5375174022693144\n",
    "\n",
    "**X_train_2a results:**\n",
    "0.7192050058444955 0.5363817566773804"
   ]
  },
  {
   "cell_type": "markdown",
   "metadata": {
    "id": "ZINosl1E3M01"
   },
   "source": [
    "### 1.6.3Metric for each class"
   ]
  },
  {
   "cell_type": "code",
   "execution_count": null,
   "metadata": {
    "id": "XLRRfmvJ3aiM"
   },
   "outputs": [],
   "source": [
    "# for the Database_2 we work with the class predictions\n",
    "y_rf_pred = rf.predict(X_test_2a)"
   ]
  },
  {
   "cell_type": "code",
   "execution_count": null,
   "metadata": {
    "colab": {
     "base_uri": "https://localhost:8080/"
    },
    "executionInfo": {
     "elapsed": 6,
     "status": "ok",
     "timestamp": 1694261961622,
     "user": {
      "displayName": "April Itriago",
      "userId": "10552117681411633732"
     },
     "user_tz": -120
    },
    "id": "eiBpWOFA3cjG",
    "outputId": "5bd587e1-9219-4729-e43c-7a27d20522eb"
   },
   "outputs": [
    {
     "name": "stdout",
     "output_type": "stream",
     "text": [
      "Precision:  [0.832469   0.76484818 0.77810588 0.77261146]\n",
      "Recall:  [0.92421031 0.71216881 0.65402003 0.43014184]\n",
      "f score:  [0.87594409 0.73756906 0.71068728 0.55261959]\n",
      "Support:  [38211 16871 11281  2820]\n",
      "\n"
     ]
    }
   ],
   "source": [
    "# Calculation metrics for each class using Random Forest.\n",
    "p, r, f, s = precision_recall_fscore_support(\n",
    "    y_test,\n",
    "    y_rf_pred, #for the random forest\n",
    "    labels=[0,1,2,3], # the labels for which we want the metrics determined\n",
    "    average=None, # when None, returns a metric per label\n",
    ")\n",
    "\n",
    "print('Precision: ', p)\n",
    "print('Recall: ', r)\n",
    "print('f score: ', f)\n",
    "print('Support: ', s)\n",
    "print()"
   ]
  },
  {
   "cell_type": "markdown",
   "metadata": {
    "id": "HCMX9Jsh3dIa"
   },
   "source": [
    "### 1.6.4 Importance of variables of Database 2a"
   ]
  },
  {
   "cell_type": "code",
   "execution_count": null,
   "metadata": {
    "colab": {
     "base_uri": "https://localhost:8080/",
     "height": 467
    },
    "executionInfo": {
     "elapsed": 54147,
     "status": "ok",
     "timestamp": 1694262016628,
     "user": {
      "displayName": "April Itriago",
      "userId": "10552117681411633732"
     },
     "user_tz": -120
    },
    "id": "tGFU5RR-ScY_",
    "outputId": "701e2994-46dc-4646-a457-0554f396165a"
   },
   "outputs": [
    {
     "data": {
      "image/png": "[encoded data removed]",
      "text/plain": [
       "<Figure size 1200x800 with 1 Axes>"
      ]
     },
     "metadata": {},
     "output_type": "display_data"
    }
   ],
   "source": [
    "# Train a Random Forest model\n",
    "rf = RandomForestClassifier(n_estimators=100, random_state=0)\n",
    "rf.fit(X_train_2a , y_train)\n",
    "\n",
    "# Get feature importances\n",
    "importances = rf.feature_importances_\n",
    "\n",
    "# Create a DataFrame for visualization\n",
    "features_df = pd.DataFrame({\n",
    "    'Feature': X_train_2a.columns,\n",
    "    'Importance': importances\n",
    "})\n",
    "\n",
    "# Sort the DataFrame by importance\n",
    "features_df = features_df.sort_values(by='Importance', ascending=False)\n",
    "\n",
    "# Plot feature importances\n",
    "plt.figure(figsize=(12, 8))\n",
    "plt.barh(features_df['Feature'], features_df['Importance'])\n",
    "plt.xlabel('Importance')\n",
    "plt.ylabel('Feature')\n",
    "plt.title('Feature Importance using Random Forest')\n",
    "plt.gca().invert_yaxis()  # To display the most important feature at the top\n",
    "plt.show()"
   ]
  },
  {
   "cell_type": "markdown",
   "metadata": {
    "id": "25sp99n9mb76"
   },
   "source": [
    "Adding numerical transformations, binning and discretizing seem improve the Logistic Regresion from the Baseline, but decrease the perfomance of the Random forest model."
   ]
  },
  {
   "cell_type": "code",
   "execution_count": null,
   "metadata": {
    "colab": {
     "base_uri": "https://localhost:8080/",
     "height": 1000
    },
    "executionInfo": {
     "elapsed": 9,
     "status": "ok",
     "timestamp": 1694262016629,
     "user": {
      "displayName": "April Itriago",
      "userId": "10552117681411633732"
     },
     "user_tz": -120
    },
    "id": "4dv0yz1Y3Lsu",
    "outputId": "3796207a-7b53-4f99-cb21-507334fdab03"
   },
   "outputs": [
    {
     "data": {
      "text/html": [
       "\n",
       "  <div id=\"df-3ba94015-8a76-4faf-84eb-1073690f8ecb\" class=\"colab-df-container\">\n",
       "    <div>\n",
       "<style scoped>\n",
       "    .dataframe tbody tr th:only-of-type {\n",
       "        vertical-align: middle;\n",
       "    }\n",
       "\n",
       "    .dataframe tbody tr th {\n",
       "        vertical-align: top;\n",
       "    }\n",
       "\n",
       "    .dataframe thead th {\n",
       "        text-align: right;\n",
       "    }\n",
       "</style>\n",
       "<table border=\"1\" class=\"dataframe\">\n",
       "  <thead>\n",
       "    <tr style=\"text-align: right;\">\n",
       "      <th></th>\n",
       "      <th>Feature</th>\n",
       "      <th>Importance</th>\n",
       "    </tr>\n",
       "  </thead>\n",
       "  <tbody>\n",
       "    <tr>\n",
       "      <th>16</th>\n",
       "      <td>distance_tr</td>\n",
       "      <td>0.093715</td>\n",
       "    </tr>\n",
       "    <tr>\n",
       "      <th>0</th>\n",
       "      <td>distance</td>\n",
       "      <td>0.077623</td>\n",
       "    </tr>\n",
       "    <tr>\n",
       "      <th>25</th>\n",
       "      <td>distance_wins</td>\n",
       "      <td>0.069549</td>\n",
       "    </tr>\n",
       "    <tr>\n",
       "      <th>1</th>\n",
       "      <td>density</td>\n",
       "      <td>0.042861</td>\n",
       "    </tr>\n",
       "    <tr>\n",
       "      <th>10</th>\n",
       "      <td>density_tr</td>\n",
       "      <td>0.042686</td>\n",
       "    </tr>\n",
       "    <tr>\n",
       "      <th>12</th>\n",
       "      <td>green_tr</td>\n",
       "      <td>0.041491</td>\n",
       "    </tr>\n",
       "    <tr>\n",
       "      <th>13</th>\n",
       "      <td>temp_tr</td>\n",
       "      <td>0.041396</td>\n",
       "    </tr>\n",
       "    <tr>\n",
       "      <th>6</th>\n",
       "      <td>green</td>\n",
       "      <td>0.041379</td>\n",
       "    </tr>\n",
       "    <tr>\n",
       "      <th>7</th>\n",
       "      <td>temp</td>\n",
       "      <td>0.041331</td>\n",
       "    </tr>\n",
       "    <tr>\n",
       "      <th>11</th>\n",
       "      <td>diversity_tr</td>\n",
       "      <td>0.040148</td>\n",
       "    </tr>\n",
       "    <tr>\n",
       "      <th>5</th>\n",
       "      <td>diversity</td>\n",
       "      <td>0.040062</td>\n",
       "    </tr>\n",
       "    <tr>\n",
       "      <th>15</th>\n",
       "      <td>age_tr</td>\n",
       "      <td>0.040014</td>\n",
       "    </tr>\n",
       "    <tr>\n",
       "      <th>2</th>\n",
       "      <td>age</td>\n",
       "      <td>0.039570</td>\n",
       "    </tr>\n",
       "    <tr>\n",
       "      <th>14</th>\n",
       "      <td>wind_tr</td>\n",
       "      <td>0.036352</td>\n",
       "    </tr>\n",
       "    <tr>\n",
       "      <th>9</th>\n",
       "      <td>wind</td>\n",
       "      <td>0.036255</td>\n",
       "    </tr>\n",
       "    <tr>\n",
       "      <th>3</th>\n",
       "      <td>cars</td>\n",
       "      <td>0.029497</td>\n",
       "    </tr>\n",
       "    <tr>\n",
       "      <th>8</th>\n",
       "      <td>precip</td>\n",
       "      <td>0.028138</td>\n",
       "    </tr>\n",
       "    <tr>\n",
       "      <th>4</th>\n",
       "      <td>bicycles</td>\n",
       "      <td>0.028033</td>\n",
       "    </tr>\n",
       "    <tr>\n",
       "      <th>28</th>\n",
       "      <td>distance_arb_disc</td>\n",
       "      <td>0.024665</td>\n",
       "    </tr>\n",
       "    <tr>\n",
       "      <th>19</th>\n",
       "      <td>license_bin</td>\n",
       "      <td>0.015453</td>\n",
       "    </tr>\n",
       "    <tr>\n",
       "      <th>34</th>\n",
       "      <td>cars_arb_disc</td>\n",
       "      <td>0.015279</td>\n",
       "    </tr>\n",
       "    <tr>\n",
       "      <th>29</th>\n",
       "      <td>wind_arb_disc</td>\n",
       "      <td>0.011283</td>\n",
       "    </tr>\n",
       "    <tr>\n",
       "      <th>21</th>\n",
       "      <td>income_ord</td>\n",
       "      <td>0.011131</td>\n",
       "    </tr>\n",
       "    <tr>\n",
       "      <th>33</th>\n",
       "      <td>precip_arb_disc</td>\n",
       "      <td>0.010694</td>\n",
       "    </tr>\n",
       "    <tr>\n",
       "      <th>35</th>\n",
       "      <td>bicycles_arb_disc</td>\n",
       "      <td>0.010352</td>\n",
       "    </tr>\n",
       "    <tr>\n",
       "      <th>32</th>\n",
       "      <td>density_arb_disc</td>\n",
       "      <td>0.009950</td>\n",
       "    </tr>\n",
       "    <tr>\n",
       "      <th>30</th>\n",
       "      <td>diversity_arb_disc</td>\n",
       "      <td>0.009678</td>\n",
       "    </tr>\n",
       "    <tr>\n",
       "      <th>31</th>\n",
       "      <td>green_arb_disc</td>\n",
       "      <td>0.008673</td>\n",
       "    </tr>\n",
       "    <tr>\n",
       "      <th>18</th>\n",
       "      <td>male_bin</td>\n",
       "      <td>0.008394</td>\n",
       "    </tr>\n",
       "    <tr>\n",
       "      <th>20</th>\n",
       "      <td>weekend_bin</td>\n",
       "      <td>0.008014</td>\n",
       "    </tr>\n",
       "    <tr>\n",
       "      <th>23</th>\n",
       "      <td>education_higher</td>\n",
       "      <td>0.007449</td>\n",
       "    </tr>\n",
       "    <tr>\n",
       "      <th>24</th>\n",
       "      <td>education_lower</td>\n",
       "      <td>0.006949</td>\n",
       "    </tr>\n",
       "    <tr>\n",
       "      <th>26</th>\n",
       "      <td>age_arb_disc</td>\n",
       "      <td>0.006931</td>\n",
       "    </tr>\n",
       "    <tr>\n",
       "      <th>22</th>\n",
       "      <td>ethnicity_bin</td>\n",
       "      <td>0.005851</td>\n",
       "    </tr>\n",
       "    <tr>\n",
       "      <th>17</th>\n",
       "      <td>precip_bin</td>\n",
       "      <td>0.005640</td>\n",
       "    </tr>\n",
       "    <tr>\n",
       "      <th>27</th>\n",
       "      <td>temp_arb_disc</td>\n",
       "      <td>0.005577</td>\n",
       "    </tr>\n",
       "    <tr>\n",
       "      <th>37</th>\n",
       "      <td>season_spring_autum</td>\n",
       "      <td>0.004082</td>\n",
       "    </tr>\n",
       "    <tr>\n",
       "      <th>36</th>\n",
       "      <td>season_summer</td>\n",
       "      <td>0.003857</td>\n",
       "    </tr>\n",
       "  </tbody>\n",
       "</table>\n",
       "</div>\n",
       "    <div class=\"colab-df-buttons\">\n",
       "\n",
       "  <div class=\"colab-df-container\">\n",
       "    <button class=\"colab-df-convert\" onclick=\"convertToInteractive('df-3ba94015-8a76-4faf-84eb-1073690f8ecb')\"\n",
       "            title=\"Convert this dataframe to an interactive table.\"\n",
       "            style=\"display:none;\">\n",
       "\n",
       "  <svg xmlns=\"http://www.w3.org/2000/svg\" height=\"24px\" viewBox=\"0 -960 960 960\">\n",
       "    <path d=\"M120-120v-720h720v720H120Zm60-500h600v-160H180v160Zm220 220h160v-160H400v160Zm0 220h160v-160H400v160ZM180-400h160v-160H180v160Zm440 0h160v-160H620v160ZM180-180h160v-160H180v160Zm440 0h160v-160H620v160Z\"/>\n",
       "  </svg>\n",
       "    </button>\n",
       "\n",
       "  <style>\n",
       "    .colab-df-container {\n",
       "      display:flex;\n",
       "      gap: 12px;\n",
       "    }\n",
       "\n",
       "    .colab-df-convert {\n",
       "      background-color: #E8F0FE;\n",
       "      border: none;\n",
       "      border-radius: 50%;\n",
       "      cursor: pointer;\n",
       "      display: none;\n",
       "      fill: #1967D2;\n",
       "      height: 32px;\n",
       "      padding: 0 0 0 0;\n",
       "      width: 32px;\n",
       "    }\n",
       "\n",
       "    .colab-df-convert:hover {\n",
       "      background-color: #E2EBFA;\n",
       "      box-shadow: 0px 1px 2px rgba(60, 64, 67, 0.3), 0px 1px 3px 1px rgba(60, 64, 67, 0.15);\n",
       "      fill: #174EA6;\n",
       "    }\n",
       "\n",
       "    .colab-df-buttons div {\n",
       "      margin-bottom: 4px;\n",
       "    }\n",
       "\n",
       "    [theme=dark] .colab-df-convert {\n",
       "      background-color: #3B4455;\n",
       "      fill: #D2E3FC;\n",
       "    }\n",
       "\n",
       "    [theme=dark] .colab-df-convert:hover {\n",
       "      background-color: #434B5C;\n",
       "      box-shadow: 0px 1px 3px 1px rgba(0, 0, 0, 0.15);\n",
       "      filter: drop-shadow(0px 1px 2px rgba(0, 0, 0, 0.3));\n",
       "      fill: #FFFFFF;\n",
       "    }\n",
       "  </style>\n",
       "\n",
       "    <script>\n",
       "      const buttonEl =\n",
       "        document.querySelector('#df-3ba94015-8a76-4faf-84eb-1073690f8ecb button.colab-df-convert');\n",
       "      buttonEl.style.display =\n",
       "        google.colab.kernel.accessAllowed ? 'block' : 'none';\n",
       "\n",
       "      async function convertToInteractive(key) {\n",
       "        const element = document.querySelector('#df-3ba94015-8a76-4faf-84eb-1073690f8ecb');\n",
       "        const dataTable =\n",
       "          await google.colab.kernel.invokeFunction('convertToInteractive',\n",
       "                                                    [key], {});\n",
       "        if (!dataTable) return;\n",
       "\n",
       "        const docLinkHtml = 'Like what you see? Visit the ' +\n",
       "          '<a target=\"_blank\" href=https://colab.research.google.com/notebooks/data_table.ipynb>data table notebook</a>'\n",
       "          + ' to learn more about interactive tables.';\n",
       "        element.innerHTML = '';\n",
       "        dataTable['output_type'] = 'display_data';\n",
       "        await google.colab.output.renderOutput(dataTable, element);\n",
       "        const docLink = document.createElement('div');\n",
       "        docLink.innerHTML = docLinkHtml;\n",
       "        element.appendChild(docLink);\n",
       "      }\n",
       "    </script>\n",
       "  </div>\n",
       "\n",
       "\n",
       "<div id=\"df-dd289e05-8b88-4bc6-9862-36d7f251a490\">\n",
       "  <button class=\"colab-df-quickchart\" onclick=\"quickchart('df-dd289e05-8b88-4bc6-9862-36d7f251a490')\"\n",
       "            title=\"Suggest charts.\"\n",
       "            style=\"display:none;\">\n",
       "\n",
       "<svg xmlns=\"http://www.w3.org/2000/svg\" height=\"24px\"viewBox=\"0 0 24 24\"\n",
       "     width=\"24px\">\n",
       "    <g>\n",
       "        <path d=\"M19 3H5c-1.1 0-2 .9-2 2v14c0 1.1.9 2 2 2h14c1.1 0 2-.9 2-2V5c0-1.1-.9-2-2-2zM9 17H7v-7h2v7zm4 0h-2V7h2v10zm4 0h-2v-4h2v4z\"/>\n",
       "    </g>\n",
       "</svg>\n",
       "  </button>\n",
       "\n",
       "<style>\n",
       "  .colab-df-quickchart {\n",
       "      --bg-color: #E8F0FE;\n",
       "      --fill-color: #1967D2;\n",
       "      --hover-bg-color: #E2EBFA;\n",
       "      --hover-fill-color: #174EA6;\n",
       "      --disabled-fill-color: #AAA;\n",
       "      --disabled-bg-color: #DDD;\n",
       "  }\n",
       "\n",
       "  [theme=dark] .colab-df-quickchart {\n",
       "      --bg-color: #3B4455;\n",
       "      --fill-color: #D2E3FC;\n",
       "      --hover-bg-color: #434B5C;\n",
       "      --hover-fill-color: #FFFFFF;\n",
       "      --disabled-bg-color: #3B4455;\n",
       "      --disabled-fill-color: #666;\n",
       "  }\n",
       "\n",
       "  .colab-df-quickchart {\n",
       "    background-color: var(--bg-color);\n",
       "    border: none;\n",
       "    border-radius: 50%;\n",
       "    cursor: pointer;\n",
       "    display: none;\n",
       "    fill: var(--fill-color);\n",
       "    height: 32px;\n",
       "    padding: 0;\n",
       "    width: 32px;\n",
       "  }\n",
       "\n",
       "  .colab-df-quickchart:hover {\n",
       "    background-color: var(--hover-bg-color);\n",
       "    box-shadow: 0 1px 2px rgba(60, 64, 67, 0.3), 0 1px 3px 1px rgba(60, 64, 67, 0.15);\n",
       "    fill: var(--button-hover-fill-color);\n",
       "  }\n",
       "\n",
       "  .colab-df-quickchart-complete:disabled,\n",
       "  .colab-df-quickchart-complete:disabled:hover {\n",
       "    background-color: var(--disabled-bg-color);\n",
       "    fill: var(--disabled-fill-color);\n",
       "    box-shadow: none;\n",
       "  }\n",
       "\n",
       "  .colab-df-spinner {\n",
       "    border: 2px solid var(--fill-color);\n",
       "    border-color: transparent;\n",
       "    border-bottom-color: var(--fill-color);\n",
       "    animation:\n",
       "      spin 1s steps(1) infinite;\n",
       "  }\n",
       "\n",
       "  @keyframes spin {\n",
       "    0% {\n",
       "      border-color: transparent;\n",
       "      border-bottom-color: var(--fill-color);\n",
       "      border-left-color: var(--fill-color);\n",
       "    }\n",
       "    20% {\n",
       "      border-color: transparent;\n",
       "      border-left-color: var(--fill-color);\n",
       "      border-top-color: var(--fill-color);\n",
       "    }\n",
       "    30% {\n",
       "      border-color: transparent;\n",
       "      border-left-color: var(--fill-color);\n",
       "      border-top-color: var(--fill-color);\n",
       "      border-right-color: var(--fill-color);\n",
       "    }\n",
       "    40% {\n",
       "      border-color: transparent;\n",
       "      border-right-color: var(--fill-color);\n",
       "      border-top-color: var(--fill-color);\n",
       "    }\n",
       "    60% {\n",
       "      border-color: transparent;\n",
       "      border-right-color: var(--fill-color);\n",
       "    }\n",
       "    80% {\n",
       "      border-color: transparent;\n",
       "      border-right-color: var(--fill-color);\n",
       "      border-bottom-color: var(--fill-color);\n",
       "    }\n",
       "    90% {\n",
       "      border-color: transparent;\n",
       "      border-bottom-color: var(--fill-color);\n",
       "    }\n",
       "  }\n",
       "</style>\n",
       "\n",
       "  <script>\n",
       "    async function quickchart(key) {\n",
       "      const quickchartButtonEl =\n",
       "        document.querySelector('#' + key + ' button');\n",
       "      quickchartButtonEl.disabled = true;  // To prevent multiple clicks.\n",
       "      quickchartButtonEl.classList.add('colab-df-spinner');\n",
       "      try {\n",
       "        const charts = await google.colab.kernel.invokeFunction(\n",
       "            'suggestCharts', [key], {});\n",
       "      } catch (error) {\n",
       "        console.error('Error during call to suggestCharts:', error);\n",
       "      }\n",
       "      quickchartButtonEl.classList.remove('colab-df-spinner');\n",
       "      quickchartButtonEl.classList.add('colab-df-quickchart-complete');\n",
       "    }\n",
       "    (() => {\n",
       "      let quickchartButtonEl =\n",
       "        document.querySelector('#df-dd289e05-8b88-4bc6-9862-36d7f251a490 button');\n",
       "      quickchartButtonEl.style.display =\n",
       "        google.colab.kernel.accessAllowed ? 'block' : 'none';\n",
       "    })();\n",
       "  </script>\n",
       "</div>\n",
       "    </div>\n",
       "  </div>\n"
      ],
      "text/plain": [
       "                Feature  Importance\n",
       "16          distance_tr    0.093715\n",
       "0              distance    0.077623\n",
       "25        distance_wins    0.069549\n",
       "1               density    0.042861\n",
       "10           density_tr    0.042686\n",
       "12             green_tr    0.041491\n",
       "13              temp_tr    0.041396\n",
       "6                 green    0.041379\n",
       "7                  temp    0.041331\n",
       "11         diversity_tr    0.040148\n",
       "5             diversity    0.040062\n",
       "15               age_tr    0.040014\n",
       "2                   age    0.039570\n",
       "14              wind_tr    0.036352\n",
       "9                  wind    0.036255\n",
       "3                  cars    0.029497\n",
       "8                precip    0.028138\n",
       "4              bicycles    0.028033\n",
       "28    distance_arb_disc    0.024665\n",
       "19          license_bin    0.015453\n",
       "34        cars_arb_disc    0.015279\n",
       "29        wind_arb_disc    0.011283\n",
       "21           income_ord    0.011131\n",
       "33      precip_arb_disc    0.010694\n",
       "35    bicycles_arb_disc    0.010352\n",
       "32     density_arb_disc    0.009950\n",
       "30   diversity_arb_disc    0.009678\n",
       "31       green_arb_disc    0.008673\n",
       "18             male_bin    0.008394\n",
       "20          weekend_bin    0.008014\n",
       "23     education_higher    0.007449\n",
       "24      education_lower    0.006949\n",
       "26         age_arb_disc    0.006931\n",
       "22        ethnicity_bin    0.005851\n",
       "17           precip_bin    0.005640\n",
       "27        temp_arb_disc    0.005577\n",
       "37  season_spring_autum    0.004082\n",
       "36        season_summer    0.003857"
      ]
     },
     "execution_count": 92,
     "metadata": {},
     "output_type": "execute_result"
    }
   ],
   "source": [
    "features_df"
   ]
  },
  {
   "cell_type": "markdown",
   "metadata": {
    "id": "v136v42a270u"
   },
   "source": [
    "## 1.7 Feature creation Database 3\n"
   ]
  },
  {
   "cell_type": "markdown",
   "metadata": {
    "id": "ohUdJ5Pn3KYm"
   },
   "source": [
    "Let's analyse the nature of all the variables to understand the potential intareactions.\n",
    "\n",
    "- Distance: This is a key variable and can interact with many other variables to provide insights into travel behavior.\n",
    "- Density: Represents the density of the environment. Interactions with distance, age, and cars can be insightful.\n",
    "- Age: Age can influence travel behavior. Interactions with distance, cars, and bicycles might be relevant.\n",
    "- Male, Ethnicity, Income: Demographic variables can have interactions with travel-related variables like distance, cars, and bicycles.\n",
    "- Cars, License, Bicycles: These represent means of transportation. Interactions among these and with distance can be insightful.\n",
    "- Weekend: Indicates if the travel was on a weekend. Can interact with distance and other travel-related variables.\n",
    "- Diversity, Green: Environmental variables. Interactions with distance can provide insights into travel behavior in different environments.\n",
    "- Temp, Precip, Wind: Weather conditions. Can influence travel behavior. Interactions with distance and mode of transportation can be insightful.\n",
    "- Seasons:  Seasons can significantly influence travel behavior due to weather conditions, daylight hours, and cultural or societal norms."
   ]
  },
  {
   "cell_type": "code",
   "execution_count": null,
   "metadata": {
    "id": "4FjgQOws8X3y"
   },
   "outputs": [],
   "source": [
    "# Create a new copy for the feature creation\n",
    "X_train_3 = X_train_2a.copy()\n",
    "X_test_3 = X_test_2a.copy()"
   ]
  },
  {
   "cell_type": "code",
   "execution_count": null,
   "metadata": {
    "colab": {
     "base_uri": "https://localhost:8080/"
    },
    "executionInfo": {
     "elapsed": 288,
     "status": "ok",
     "timestamp": 1694277391664,
     "user": {
      "displayName": "April Itriago",
      "userId": "10552117681411633732"
     },
     "user_tz": -120
    },
    "id": "7Nr1t2NOoupT",
    "outputId": "ad2042c8-5419-47ce-d31f-5b580f918ca3"
   },
   "outputs": [
    {
     "name": "stdout",
     "output_type": "stream",
     "text": [
      "(161425, 38) (69183, 38)\n"
     ]
    }
   ],
   "source": [
    "print(X_train_3.shape, X_test_3.shape)"
   ]
  },
  {
   "cell_type": "code",
   "execution_count": null,
   "metadata": {
    "id": "AwQUH0OZ-okV"
   },
   "outputs": [],
   "source": [
    "#Fist we are going to create combinations of distance_tr with other variables using feature engineering\n",
    "# features of interest\n",
    "features = ['distance','density']\n",
    "\n",
    "# reference features\n",
    "reference = ['green', 'temp', 'diversity','age', 'wind', 'cars','precip',\t'distance_tr', 'density_tr', 'green_tr', 'temp_tr','age_tr', 'wind_tr'\t]"
   ]
  },
  {
   "cell_type": "code",
   "execution_count": null,
   "metadata": {
    "id": "Je_UbxKeKINl"
   },
   "outputs": [],
   "source": [
    "creator = RelativeFeatures(\n",
    "    variables=features,\n",
    "    reference=reference,\n",
    "    func=[\"mul\"]\n",
    ")"
   ]
  },
  {
   "cell_type": "code",
   "execution_count": null,
   "metadata": {
    "id": "IMn2fTHnpaaW"
   },
   "outputs": [],
   "source": [
    "X_train_3 = creator.fit_transform(X_train_3)\n",
    "X_test_3= creator.fit_transform(X_test_3)"
   ]
  },
  {
   "cell_type": "code",
   "execution_count": null,
   "metadata": {
    "colab": {
     "base_uri": "https://localhost:8080/",
     "height": 226
    },
    "executionInfo": {
     "elapsed": 378,
     "status": "ok",
     "timestamp": 1694272872248,
     "user": {
      "displayName": "April Itriago",
      "userId": "10552117681411633732"
     },
     "user_tz": -120
    },
    "id": "dmPWIUPqNEat",
    "outputId": "73689125-79da-4f5c-f600-c56184f230d4"
   },
   "outputs": [
    {
     "data": {
      "text/html": [
       "\n",
       "  <div id=\"df-cd63398f-67de-4f31-b8ec-3a90a805e0f6\" class=\"colab-df-container\">\n",
       "    <div>\n",
       "<style scoped>\n",
       "    .dataframe tbody tr th:only-of-type {\n",
       "        vertical-align: middle;\n",
       "    }\n",
       "\n",
       "    .dataframe tbody tr th {\n",
       "        vertical-align: top;\n",
       "    }\n",
       "\n",
       "    .dataframe thead th {\n",
       "        text-align: right;\n",
       "    }\n",
       "</style>\n",
       "<table border=\"1\" class=\"dataframe\">\n",
       "  <thead>\n",
       "    <tr style=\"text-align: right;\">\n",
       "      <th></th>\n",
       "      <th>distance</th>\n",
       "      <th>density</th>\n",
       "      <th>age</th>\n",
       "      <th>cars</th>\n",
       "      <th>bicycles</th>\n",
       "      <th>diversity</th>\n",
       "      <th>green</th>\n",
       "      <th>temp</th>\n",
       "      <th>precip</th>\n",
       "      <th>wind</th>\n",
       "      <th>density_tr</th>\n",
       "      <th>diversity_tr</th>\n",
       "      <th>green_tr</th>\n",
       "      <th>temp_tr</th>\n",
       "      <th>wind_tr</th>\n",
       "      <th>age_tr</th>\n",
       "      <th>distance_tr</th>\n",
       "      <th>precip_bin</th>\n",
       "      <th>male_bin</th>\n",
       "      <th>license_bin</th>\n",
       "      <th>weekend_bin</th>\n",
       "      <th>income_ord</th>\n",
       "      <th>ethnicity_bin</th>\n",
       "      <th>education_higher</th>\n",
       "      <th>education_lower</th>\n",
       "      <th>distance_wins</th>\n",
       "      <th>age_arb_disc</th>\n",
       "      <th>temp_arb_disc</th>\n",
       "      <th>distance_arb_disc</th>\n",
       "      <th>wind_arb_disc</th>\n",
       "      <th>diversity_arb_disc</th>\n",
       "      <th>green_arb_disc</th>\n",
       "      <th>density_arb_disc</th>\n",
       "      <th>precip_arb_disc</th>\n",
       "      <th>cars_arb_disc</th>\n",
       "      <th>bicycles_arb_disc</th>\n",
       "      <th>season_summer</th>\n",
       "      <th>season_spring_autum</th>\n",
       "      <th>distance_mul_green</th>\n",
       "      <th>density_mul_green</th>\n",
       "      <th>distance_mul_temp</th>\n",
       "      <th>density_mul_temp</th>\n",
       "      <th>distance_mul_diversity</th>\n",
       "      <th>density_mul_diversity</th>\n",
       "      <th>distance_mul_age</th>\n",
       "      <th>density_mul_age</th>\n",
       "      <th>distance_mul_wind</th>\n",
       "      <th>density_mul_wind</th>\n",
       "      <th>distance_mul_cars</th>\n",
       "      <th>density_mul_cars</th>\n",
       "      <th>distance_mul_precip</th>\n",
       "      <th>density_mul_precip</th>\n",
       "      <th>distance_mul_distance_tr</th>\n",
       "      <th>density_mul_distance_tr</th>\n",
       "      <th>distance_mul_density_tr</th>\n",
       "      <th>density_mul_density_tr</th>\n",
       "      <th>distance_mul_green_tr</th>\n",
       "      <th>density_mul_green_tr</th>\n",
       "      <th>distance_mul_temp_tr</th>\n",
       "      <th>density_mul_temp_tr</th>\n",
       "      <th>distance_mul_age_tr</th>\n",
       "      <th>density_mul_age_tr</th>\n",
       "      <th>distance_mul_wind_tr</th>\n",
       "      <th>density_mul_wind_tr</th>\n",
       "    </tr>\n",
       "  </thead>\n",
       "  <tbody>\n",
       "    <tr>\n",
       "      <th>107969</th>\n",
       "      <td>60.0</td>\n",
       "      <td>0.60292</td>\n",
       "      <td>59</td>\n",
       "      <td>2</td>\n",
       "      <td>2</td>\n",
       "      <td>1.657640</td>\n",
       "      <td>86.718723</td>\n",
       "      <td>9.0</td>\n",
       "      <td>12.6</td>\n",
       "      <td>9.7</td>\n",
       "      <td>0.415185</td>\n",
       "      <td>2.577198</td>\n",
       "      <td>59.811263</td>\n",
       "      <td>8.464714</td>\n",
       "      <td>2.074456</td>\n",
       "      <td>4.077537</td>\n",
       "      <td>4.094345</td>\n",
       "      <td>1</td>\n",
       "      <td>0</td>\n",
       "      <td>1</td>\n",
       "      <td>0</td>\n",
       "      <td>2</td>\n",
       "      <td>0</td>\n",
       "      <td>0</td>\n",
       "      <td>0</td>\n",
       "      <td>52.0</td>\n",
       "      <td>1</td>\n",
       "      <td>1</td>\n",
       "      <td>4</td>\n",
       "      <td>3</td>\n",
       "      <td>1</td>\n",
       "      <td>3</td>\n",
       "      <td>1</td>\n",
       "      <td>3</td>\n",
       "      <td>1</td>\n",
       "      <td>0</td>\n",
       "      <td>0</td>\n",
       "      <td>1</td>\n",
       "      <td>5203.123409</td>\n",
       "      <td>52.284453</td>\n",
       "      <td>540.00</td>\n",
       "      <td>5.426280</td>\n",
       "      <td>99.458400</td>\n",
       "      <td>0.999424</td>\n",
       "      <td>3540.0</td>\n",
       "      <td>35.57228</td>\n",
       "      <td>582.00</td>\n",
       "      <td>5.848324</td>\n",
       "      <td>120.0</td>\n",
       "      <td>1.20584</td>\n",
       "      <td>756.00</td>\n",
       "      <td>7.596792</td>\n",
       "      <td>245.660674</td>\n",
       "      <td>2.468562</td>\n",
       "      <td>24.911102</td>\n",
       "      <td>0.250323</td>\n",
       "      <td>3588.675751</td>\n",
       "      <td>36.061406</td>\n",
       "      <td>507.882847</td>\n",
       "      <td>5.103545</td>\n",
       "      <td>244.652247</td>\n",
       "      <td>2.458429</td>\n",
       "      <td>124.467375</td>\n",
       "      <td>1.250731</td>\n",
       "    </tr>\n",
       "    <tr>\n",
       "      <th>140225</th>\n",
       "      <td>24.0</td>\n",
       "      <td>0.33218</td>\n",
       "      <td>67</td>\n",
       "      <td>1</td>\n",
       "      <td>2</td>\n",
       "      <td>1.318890</td>\n",
       "      <td>83.783784</td>\n",
       "      <td>22.2</td>\n",
       "      <td>0.0</td>\n",
       "      <td>1.7</td>\n",
       "      <td>0.265184</td>\n",
       "      <td>1.910888</td>\n",
       "      <td>57.986750</td>\n",
       "      <td>20.291031</td>\n",
       "      <td>0.938585</td>\n",
       "      <td>4.204693</td>\n",
       "      <td>3.178054</td>\n",
       "      <td>0</td>\n",
       "      <td>0</td>\n",
       "      <td>1</td>\n",
       "      <td>0</td>\n",
       "      <td>1</td>\n",
       "      <td>0</td>\n",
       "      <td>1</td>\n",
       "      <td>0</td>\n",
       "      <td>24.0</td>\n",
       "      <td>2</td>\n",
       "      <td>2</td>\n",
       "      <td>3</td>\n",
       "      <td>0</td>\n",
       "      <td>0</td>\n",
       "      <td>3</td>\n",
       "      <td>0</td>\n",
       "      <td>0</td>\n",
       "      <td>0</td>\n",
       "      <td>0</td>\n",
       "      <td>1</td>\n",
       "      <td>0</td>\n",
       "      <td>2010.810811</td>\n",
       "      <td>27.831297</td>\n",
       "      <td>532.80</td>\n",
       "      <td>7.374396</td>\n",
       "      <td>31.653360</td>\n",
       "      <td>0.438109</td>\n",
       "      <td>1608.0</td>\n",
       "      <td>22.25606</td>\n",
       "      <td>40.80</td>\n",
       "      <td>0.564706</td>\n",
       "      <td>24.0</td>\n",
       "      <td>0.33218</td>\n",
       "      <td>0.00</td>\n",
       "      <td>0.000000</td>\n",
       "      <td>76.273292</td>\n",
       "      <td>1.055686</td>\n",
       "      <td>6.364415</td>\n",
       "      <td>0.088089</td>\n",
       "      <td>1391.681998</td>\n",
       "      <td>19.262039</td>\n",
       "      <td>486.984745</td>\n",
       "      <td>6.740275</td>\n",
       "      <td>100.912623</td>\n",
       "      <td>1.396715</td>\n",
       "      <td>22.526038</td>\n",
       "      <td>0.311779</td>\n",
       "    </tr>\n",
       "    <tr>\n",
       "      <th>721</th>\n",
       "      <td>21.7</td>\n",
       "      <td>1.69205</td>\n",
       "      <td>35</td>\n",
       "      <td>2</td>\n",
       "      <td>4</td>\n",
       "      <td>1.185120</td>\n",
       "      <td>80.843128</td>\n",
       "      <td>2.2</td>\n",
       "      <td>1.3</td>\n",
       "      <td>5.1</td>\n",
       "      <td>0.762142</td>\n",
       "      <td>1.666519</td>\n",
       "      <td>56.151914</td>\n",
       "      <td>2.140838</td>\n",
       "      <td>1.632528</td>\n",
       "      <td>3.555348</td>\n",
       "      <td>3.077312</td>\n",
       "      <td>1</td>\n",
       "      <td>0</td>\n",
       "      <td>1</td>\n",
       "      <td>1</td>\n",
       "      <td>1</td>\n",
       "      <td>1</td>\n",
       "      <td>0</td>\n",
       "      <td>1</td>\n",
       "      <td>21.7</td>\n",
       "      <td>0</td>\n",
       "      <td>0</td>\n",
       "      <td>3</td>\n",
       "      <td>2</td>\n",
       "      <td>0</td>\n",
       "      <td>3</td>\n",
       "      <td>2</td>\n",
       "      <td>1</td>\n",
       "      <td>1</td>\n",
       "      <td>1</td>\n",
       "      <td>0</td>\n",
       "      <td>0</td>\n",
       "      <td>1754.295886</td>\n",
       "      <td>136.790615</td>\n",
       "      <td>47.74</td>\n",
       "      <td>3.722510</td>\n",
       "      <td>25.717104</td>\n",
       "      <td>2.005282</td>\n",
       "      <td>759.5</td>\n",
       "      <td>59.22175</td>\n",
       "      <td>110.67</td>\n",
       "      <td>8.629455</td>\n",
       "      <td>43.4</td>\n",
       "      <td>3.38410</td>\n",
       "      <td>28.21</td>\n",
       "      <td>2.199665</td>\n",
       "      <td>66.777676</td>\n",
       "      <td>5.206966</td>\n",
       "      <td>16.538479</td>\n",
       "      <td>1.289582</td>\n",
       "      <td>1218.496541</td>\n",
       "      <td>95.011847</td>\n",
       "      <td>46.456190</td>\n",
       "      <td>3.622405</td>\n",
       "      <td>77.151053</td>\n",
       "      <td>6.015827</td>\n",
       "      <td>35.425850</td>\n",
       "      <td>2.762318</td>\n",
       "    </tr>\n",
       "    <tr>\n",
       "      <th>143738</th>\n",
       "      <td>18.0</td>\n",
       "      <td>0.43820</td>\n",
       "      <td>63</td>\n",
       "      <td>2</td>\n",
       "      <td>6</td>\n",
       "      <td>1.970660</td>\n",
       "      <td>70.759611</td>\n",
       "      <td>4.8</td>\n",
       "      <td>15.7</td>\n",
       "      <td>5.3</td>\n",
       "      <td>0.329140</td>\n",
       "      <td>3.251826</td>\n",
       "      <td>49.804906</td>\n",
       "      <td>4.592231</td>\n",
       "      <td>1.658679</td>\n",
       "      <td>4.143135</td>\n",
       "      <td>2.890372</td>\n",
       "      <td>1</td>\n",
       "      <td>1</td>\n",
       "      <td>1</td>\n",
       "      <td>0</td>\n",
       "      <td>2</td>\n",
       "      <td>0</td>\n",
       "      <td>0</td>\n",
       "      <td>0</td>\n",
       "      <td>18.0</td>\n",
       "      <td>2</td>\n",
       "      <td>0</td>\n",
       "      <td>2</td>\n",
       "      <td>3</td>\n",
       "      <td>2</td>\n",
       "      <td>2</td>\n",
       "      <td>0</td>\n",
       "      <td>3</td>\n",
       "      <td>1</td>\n",
       "      <td>2</td>\n",
       "      <td>0</td>\n",
       "      <td>0</td>\n",
       "      <td>1273.672994</td>\n",
       "      <td>31.006861</td>\n",
       "      <td>86.40</td>\n",
       "      <td>2.103360</td>\n",
       "      <td>35.471880</td>\n",
       "      <td>0.863543</td>\n",
       "      <td>1134.0</td>\n",
       "      <td>27.60660</td>\n",
       "      <td>95.40</td>\n",
       "      <td>2.322460</td>\n",
       "      <td>36.0</td>\n",
       "      <td>0.87640</td>\n",
       "      <td>282.60</td>\n",
       "      <td>6.879740</td>\n",
       "      <td>52.026692</td>\n",
       "      <td>1.266561</td>\n",
       "      <td>5.924516</td>\n",
       "      <td>0.144229</td>\n",
       "      <td>896.488310</td>\n",
       "      <td>21.824510</td>\n",
       "      <td>82.660159</td>\n",
       "      <td>2.012316</td>\n",
       "      <td>74.576425</td>\n",
       "      <td>1.815522</td>\n",
       "      <td>29.856216</td>\n",
       "      <td>0.726833</td>\n",
       "    </tr>\n",
       "    <tr>\n",
       "      <th>184635</th>\n",
       "      <td>1.0</td>\n",
       "      <td>3.62231</td>\n",
       "      <td>75</td>\n",
       "      <td>0</td>\n",
       "      <td>1</td>\n",
       "      <td>0.943884</td>\n",
       "      <td>18.283963</td>\n",
       "      <td>-1.2</td>\n",
       "      <td>0.0</td>\n",
       "      <td>7.5</td>\n",
       "      <td>1.031980</td>\n",
       "      <td>1.253403</td>\n",
       "      <td>14.624294</td>\n",
       "      <td>-1.221363</td>\n",
       "      <td>1.896890</td>\n",
       "      <td>4.317488</td>\n",
       "      <td>0.000000</td>\n",
       "      <td>0</td>\n",
       "      <td>0</td>\n",
       "      <td>0</td>\n",
       "      <td>0</td>\n",
       "      <td>1</td>\n",
       "      <td>0</td>\n",
       "      <td>0</td>\n",
       "      <td>1</td>\n",
       "      <td>1.0</td>\n",
       "      <td>2</td>\n",
       "      <td>0</td>\n",
       "      <td>0</td>\n",
       "      <td>3</td>\n",
       "      <td>0</td>\n",
       "      <td>0</td>\n",
       "      <td>3</td>\n",
       "      <td>0</td>\n",
       "      <td>0</td>\n",
       "      <td>0</td>\n",
       "      <td>0</td>\n",
       "      <td>0</td>\n",
       "      <td>18.283963</td>\n",
       "      <td>66.230183</td>\n",
       "      <td>-1.20</td>\n",
       "      <td>-4.346772</td>\n",
       "      <td>0.943884</td>\n",
       "      <td>3.419040</td>\n",
       "      <td>75.0</td>\n",
       "      <td>271.67325</td>\n",
       "      <td>7.50</td>\n",
       "      <td>27.167325</td>\n",
       "      <td>0.0</td>\n",
       "      <td>0.00000</td>\n",
       "      <td>0.00</td>\n",
       "      <td>0.000000</td>\n",
       "      <td>0.000000</td>\n",
       "      <td>0.000000</td>\n",
       "      <td>1.031980</td>\n",
       "      <td>3.738150</td>\n",
       "      <td>14.624294</td>\n",
       "      <td>52.973726</td>\n",
       "      <td>-1.221363</td>\n",
       "      <td>-4.424155</td>\n",
       "      <td>4.317488</td>\n",
       "      <td>15.639280</td>\n",
       "      <td>1.896890</td>\n",
       "      <td>6.871125</td>\n",
       "    </tr>\n",
       "  </tbody>\n",
       "</table>\n",
       "</div>\n",
       "    <div class=\"colab-df-buttons\">\n",
       "\n",
       "  <div class=\"colab-df-container\">\n",
       "    <button class=\"colab-df-convert\" onclick=\"convertToInteractive('df-cd63398f-67de-4f31-b8ec-3a90a805e0f6')\"\n",
       "            title=\"Convert this dataframe to an interactive table.\"\n",
       "            style=\"display:none;\">\n",
       "\n",
       "  <svg xmlns=\"http://www.w3.org/2000/svg\" height=\"24px\" viewBox=\"0 -960 960 960\">\n",
       "    <path d=\"M120-120v-720h720v720H120Zm60-500h600v-160H180v160Zm220 220h160v-160H400v160Zm0 220h160v-160H400v160ZM180-400h160v-160H180v160Zm440 0h160v-160H620v160ZM180-180h160v-160H180v160Zm440 0h160v-160H620v160Z\"/>\n",
       "  </svg>\n",
       "    </button>\n",
       "\n",
       "  <style>\n",
       "    .colab-df-container {\n",
       "      display:flex;\n",
       "      gap: 12px;\n",
       "    }\n",
       "\n",
       "    .colab-df-convert {\n",
       "      background-color: #E8F0FE;\n",
       "      border: none;\n",
       "      border-radius: 50%;\n",
       "      cursor: pointer;\n",
       "      display: none;\n",
       "      fill: #1967D2;\n",
       "      height: 32px;\n",
       "      padding: 0 0 0 0;\n",
       "      width: 32px;\n",
       "    }\n",
       "\n",
       "    .colab-df-convert:hover {\n",
       "      background-color: #E2EBFA;\n",
       "      box-shadow: 0px 1px 2px rgba(60, 64, 67, 0.3), 0px 1px 3px 1px rgba(60, 64, 67, 0.15);\n",
       "      fill: #174EA6;\n",
       "    }\n",
       "\n",
       "    .colab-df-buttons div {\n",
       "      margin-bottom: 4px;\n",
       "    }\n",
       "\n",
       "    [theme=dark] .colab-df-convert {\n",
       "      background-color: #3B4455;\n",
       "      fill: #D2E3FC;\n",
       "    }\n",
       "\n",
       "    [theme=dark] .colab-df-convert:hover {\n",
       "      background-color: #434B5C;\n",
       "      box-shadow: 0px 1px 3px 1px rgba(0, 0, 0, 0.15);\n",
       "      filter: drop-shadow(0px 1px 2px rgba(0, 0, 0, 0.3));\n",
       "      fill: #FFFFFF;\n",
       "    }\n",
       "  </style>\n",
       "\n",
       "    <script>\n",
       "      const buttonEl =\n",
       "        document.querySelector('#df-cd63398f-67de-4f31-b8ec-3a90a805e0f6 button.colab-df-convert');\n",
       "      buttonEl.style.display =\n",
       "        google.colab.kernel.accessAllowed ? 'block' : 'none';\n",
       "\n",
       "      async function convertToInteractive(key) {\n",
       "        const element = document.querySelector('#df-cd63398f-67de-4f31-b8ec-3a90a805e0f6');\n",
       "        const dataTable =\n",
       "          await google.colab.kernel.invokeFunction('convertToInteractive',\n",
       "                                                    [key], {});\n",
       "        if (!dataTable) return;\n",
       "\n",
       "        const docLinkHtml = 'Like what you see? Visit the ' +\n",
       "          '<a target=\"_blank\" href=https://colab.research.google.com/notebooks/data_table.ipynb>data table notebook</a>'\n",
       "          + ' to learn more about interactive tables.';\n",
       "        element.innerHTML = '';\n",
       "        dataTable['output_type'] = 'display_data';\n",
       "        await google.colab.output.renderOutput(dataTable, element);\n",
       "        const docLink = document.createElement('div');\n",
       "        docLink.innerHTML = docLinkHtml;\n",
       "        element.appendChild(docLink);\n",
       "      }\n",
       "    </script>\n",
       "  </div>\n",
       "\n",
       "\n",
       "<div id=\"df-94d920f1-de91-488b-8def-9e7dfdde838c\">\n",
       "  <button class=\"colab-df-quickchart\" onclick=\"quickchart('df-94d920f1-de91-488b-8def-9e7dfdde838c')\"\n",
       "            title=\"Suggest charts.\"\n",
       "            style=\"display:none;\">\n",
       "\n",
       "<svg xmlns=\"http://www.w3.org/2000/svg\" height=\"24px\"viewBox=\"0 0 24 24\"\n",
       "     width=\"24px\">\n",
       "    <g>\n",
       "        <path d=\"M19 3H5c-1.1 0-2 .9-2 2v14c0 1.1.9 2 2 2h14c1.1 0 2-.9 2-2V5c0-1.1-.9-2-2-2zM9 17H7v-7h2v7zm4 0h-2V7h2v10zm4 0h-2v-4h2v4z\"/>\n",
       "    </g>\n",
       "</svg>\n",
       "  </button>\n",
       "\n",
       "<style>\n",
       "  .colab-df-quickchart {\n",
       "      --bg-color: #E8F0FE;\n",
       "      --fill-color: #1967D2;\n",
       "      --hover-bg-color: #E2EBFA;\n",
       "      --hover-fill-color: #174EA6;\n",
       "      --disabled-fill-color: #AAA;\n",
       "      --disabled-bg-color: #DDD;\n",
       "  }\n",
       "\n",
       "  [theme=dark] .colab-df-quickchart {\n",
       "      --bg-color: #3B4455;\n",
       "      --fill-color: #D2E3FC;\n",
       "      --hover-bg-color: #434B5C;\n",
       "      --hover-fill-color: #FFFFFF;\n",
       "      --disabled-bg-color: #3B4455;\n",
       "      --disabled-fill-color: #666;\n",
       "  }\n",
       "\n",
       "  .colab-df-quickchart {\n",
       "    background-color: var(--bg-color);\n",
       "    border: none;\n",
       "    border-radius: 50%;\n",
       "    cursor: pointer;\n",
       "    display: none;\n",
       "    fill: var(--fill-color);\n",
       "    height: 32px;\n",
       "    padding: 0;\n",
       "    width: 32px;\n",
       "  }\n",
       "\n",
       "  .colab-df-quickchart:hover {\n",
       "    background-color: var(--hover-bg-color);\n",
       "    box-shadow: 0 1px 2px rgba(60, 64, 67, 0.3), 0 1px 3px 1px rgba(60, 64, 67, 0.15);\n",
       "    fill: var(--button-hover-fill-color);\n",
       "  }\n",
       "\n",
       "  .colab-df-quickchart-complete:disabled,\n",
       "  .colab-df-quickchart-complete:disabled:hover {\n",
       "    background-color: var(--disabled-bg-color);\n",
       "    fill: var(--disabled-fill-color);\n",
       "    box-shadow: none;\n",
       "  }\n",
       "\n",
       "  .colab-df-spinner {\n",
       "    border: 2px solid var(--fill-color);\n",
       "    border-color: transparent;\n",
       "    border-bottom-color: var(--fill-color);\n",
       "    animation:\n",
       "      spin 1s steps(1) infinite;\n",
       "  }\n",
       "\n",
       "  @keyframes spin {\n",
       "    0% {\n",
       "      border-color: transparent;\n",
       "      border-bottom-color: var(--fill-color);\n",
       "      border-left-color: var(--fill-color);\n",
       "    }\n",
       "    20% {\n",
       "      border-color: transparent;\n",
       "      border-left-color: var(--fill-color);\n",
       "      border-top-color: var(--fill-color);\n",
       "    }\n",
       "    30% {\n",
       "      border-color: transparent;\n",
       "      border-left-color: var(--fill-color);\n",
       "      border-top-color: var(--fill-color);\n",
       "      border-right-color: var(--fill-color);\n",
       "    }\n",
       "    40% {\n",
       "      border-color: transparent;\n",
       "      border-right-color: var(--fill-color);\n",
       "      border-top-color: var(--fill-color);\n",
       "    }\n",
       "    60% {\n",
       "      border-color: transparent;\n",
       "      border-right-color: var(--fill-color);\n",
       "    }\n",
       "    80% {\n",
       "      border-color: transparent;\n",
       "      border-right-color: var(--fill-color);\n",
       "      border-bottom-color: var(--fill-color);\n",
       "    }\n",
       "    90% {\n",
       "      border-color: transparent;\n",
       "      border-bottom-color: var(--fill-color);\n",
       "    }\n",
       "  }\n",
       "</style>\n",
       "\n",
       "  <script>\n",
       "    async function quickchart(key) {\n",
       "      const quickchartButtonEl =\n",
       "        document.querySelector('#' + key + ' button');\n",
       "      quickchartButtonEl.disabled = true;  // To prevent multiple clicks.\n",
       "      quickchartButtonEl.classList.add('colab-df-spinner');\n",
       "      try {\n",
       "        const charts = await google.colab.kernel.invokeFunction(\n",
       "            'suggestCharts', [key], {});\n",
       "      } catch (error) {\n",
       "        console.error('Error during call to suggestCharts:', error);\n",
       "      }\n",
       "      quickchartButtonEl.classList.remove('colab-df-spinner');\n",
       "      quickchartButtonEl.classList.add('colab-df-quickchart-complete');\n",
       "    }\n",
       "    (() => {\n",
       "      let quickchartButtonEl =\n",
       "        document.querySelector('#df-94d920f1-de91-488b-8def-9e7dfdde838c button');\n",
       "      quickchartButtonEl.style.display =\n",
       "        google.colab.kernel.accessAllowed ? 'block' : 'none';\n",
       "    })();\n",
       "  </script>\n",
       "</div>\n",
       "    </div>\n",
       "  </div>\n"
      ],
      "text/plain": [
       "        distance  density  age  cars  bicycles  diversity      green  temp  \\\n",
       "107969      60.0  0.60292   59     2         2   1.657640  86.718723   9.0   \n",
       "140225      24.0  0.33218   67     1         2   1.318890  83.783784  22.2   \n",
       "721         21.7  1.69205   35     2         4   1.185120  80.843128   2.2   \n",
       "143738      18.0  0.43820   63     2         6   1.970660  70.759611   4.8   \n",
       "184635       1.0  3.62231   75     0         1   0.943884  18.283963  -1.2   \n",
       "\n",
       "        precip  wind  density_tr  diversity_tr   green_tr    temp_tr  \\\n",
       "107969    12.6   9.7    0.415185      2.577198  59.811263   8.464714   \n",
       "140225     0.0   1.7    0.265184      1.910888  57.986750  20.291031   \n",
       "721        1.3   5.1    0.762142      1.666519  56.151914   2.140838   \n",
       "143738    15.7   5.3    0.329140      3.251826  49.804906   4.592231   \n",
       "184635     0.0   7.5    1.031980      1.253403  14.624294  -1.221363   \n",
       "\n",
       "         wind_tr    age_tr  distance_tr  precip_bin  male_bin  license_bin  \\\n",
       "107969  2.074456  4.077537     4.094345           1         0            1   \n",
       "140225  0.938585  4.204693     3.178054           0         0            1   \n",
       "721     1.632528  3.555348     3.077312           1         0            1   \n",
       "143738  1.658679  4.143135     2.890372           1         1            1   \n",
       "184635  1.896890  4.317488     0.000000           0         0            0   \n",
       "\n",
       "        weekend_bin  income_ord  ethnicity_bin  education_higher  \\\n",
       "107969            0           2              0                 0   \n",
       "140225            0           1              0                 1   \n",
       "721               1           1              1                 0   \n",
       "143738            0           2              0                 0   \n",
       "184635            0           1              0                 0   \n",
       "\n",
       "        education_lower  distance_wins  age_arb_disc  temp_arb_disc  \\\n",
       "107969                0           52.0             1              1   \n",
       "140225                0           24.0             2              2   \n",
       "721                   1           21.7             0              0   \n",
       "143738                0           18.0             2              0   \n",
       "184635                1            1.0             2              0   \n",
       "\n",
       "        distance_arb_disc  wind_arb_disc  diversity_arb_disc  green_arb_disc  \\\n",
       "107969                  4              3                   1               3   \n",
       "140225                  3              0                   0               3   \n",
       "721                     3              2                   0               3   \n",
       "143738                  2              3                   2               2   \n",
       "184635                  0              3                   0               0   \n",
       "\n",
       "        density_arb_disc  precip_arb_disc  cars_arb_disc  bicycles_arb_disc  \\\n",
       "107969                 1                3              1                  0   \n",
       "140225                 0                0              0                  0   \n",
       "721                    2                1              1                  1   \n",
       "143738                 0                3              1                  2   \n",
       "184635                 3                0              0                  0   \n",
       "\n",
       "        season_summer  season_spring_autum  distance_mul_green  \\\n",
       "107969              0                    1         5203.123409   \n",
       "140225              1                    0         2010.810811   \n",
       "721                 0                    0         1754.295886   \n",
       "143738              0                    0         1273.672994   \n",
       "184635              0                    0           18.283963   \n",
       "\n",
       "        density_mul_green  distance_mul_temp  density_mul_temp  \\\n",
       "107969          52.284453             540.00          5.426280   \n",
       "140225          27.831297             532.80          7.374396   \n",
       "721            136.790615              47.74          3.722510   \n",
       "143738          31.006861              86.40          2.103360   \n",
       "184635          66.230183              -1.20         -4.346772   \n",
       "\n",
       "        distance_mul_diversity  density_mul_diversity  distance_mul_age  \\\n",
       "107969               99.458400               0.999424            3540.0   \n",
       "140225               31.653360               0.438109            1608.0   \n",
       "721                  25.717104               2.005282             759.5   \n",
       "143738               35.471880               0.863543            1134.0   \n",
       "184635                0.943884               3.419040              75.0   \n",
       "\n",
       "        density_mul_age  distance_mul_wind  density_mul_wind  \\\n",
       "107969         35.57228             582.00          5.848324   \n",
       "140225         22.25606              40.80          0.564706   \n",
       "721            59.22175             110.67          8.629455   \n",
       "143738         27.60660              95.40          2.322460   \n",
       "184635        271.67325               7.50         27.167325   \n",
       "\n",
       "        distance_mul_cars  density_mul_cars  distance_mul_precip  \\\n",
       "107969              120.0           1.20584               756.00   \n",
       "140225               24.0           0.33218                 0.00   \n",
       "721                  43.4           3.38410                28.21   \n",
       "143738               36.0           0.87640               282.60   \n",
       "184635                0.0           0.00000                 0.00   \n",
       "\n",
       "        density_mul_precip  distance_mul_distance_tr  density_mul_distance_tr  \\\n",
       "107969            7.596792                245.660674                 2.468562   \n",
       "140225            0.000000                 76.273292                 1.055686   \n",
       "721               2.199665                 66.777676                 5.206966   \n",
       "143738            6.879740                 52.026692                 1.266561   \n",
       "184635            0.000000                  0.000000                 0.000000   \n",
       "\n",
       "        distance_mul_density_tr  density_mul_density_tr  \\\n",
       "107969                24.911102                0.250323   \n",
       "140225                 6.364415                0.088089   \n",
       "721                   16.538479                1.289582   \n",
       "143738                 5.924516                0.144229   \n",
       "184635                 1.031980                3.738150   \n",
       "\n",
       "        distance_mul_green_tr  density_mul_green_tr  distance_mul_temp_tr  \\\n",
       "107969            3588.675751             36.061406            507.882847   \n",
       "140225            1391.681998             19.262039            486.984745   \n",
       "721               1218.496541             95.011847             46.456190   \n",
       "143738             896.488310             21.824510             82.660159   \n",
       "184635              14.624294             52.973726             -1.221363   \n",
       "\n",
       "        density_mul_temp_tr  distance_mul_age_tr  density_mul_age_tr  \\\n",
       "107969             5.103545           244.652247            2.458429   \n",
       "140225             6.740275           100.912623            1.396715   \n",
       "721                3.622405            77.151053            6.015827   \n",
       "143738             2.012316            74.576425            1.815522   \n",
       "184635            -4.424155             4.317488           15.639280   \n",
       "\n",
       "        distance_mul_wind_tr  density_mul_wind_tr  \n",
       "107969            124.467375             1.250731  \n",
       "140225             22.526038             0.311779  \n",
       "721                35.425850             2.762318  \n",
       "143738             29.856216             0.726833  \n",
       "184635              1.896890             6.871125  "
      ]
     },
     "execution_count": 171,
     "metadata": {},
     "output_type": "execute_result"
    }
   ],
   "source": [
    "X_test_3.head()"
   ]
  },
  {
   "cell_type": "markdown",
   "metadata": {
    "id": "J6DA1JXjGruV"
   },
   "source": [
    "- distance_density: This represents how far someone might need to travel in relation to the density of their environment. It could be indicative of how urban or rural an area is. In denser areas, distances to amenities might be shorter, but in less dense areas, one might need to travel further\n",
    "\n",
    "Distance/Density: How urban or rural an area is.\n",
    "Distance*density represents the relationship between the distance someone might need to travel and the density of their environment.\n",
    "Distance*Age: Older individuals might travel differently than younger ones.\n",
    "Distance*Male: Gender-based travel behavior.\n",
    "Distance*Income: Income might influence the distance and mode of travel.\n",
    "Distance*Temp: As discussed, the willingness to travel based on weather conditions.\n",
    "Distance*Weekend: People might travel differently on weekends.\n",
    "Distance*Green: Indicates travel behavior in greener areas.\n",
    "Distance*Wind: Wind might influence the mode of transportation, especially bicycles.\n",
    "Cars*Bicycles: Indicates if individuals who have cars also use bicycles.\n",
    "Temp*Wind: Combined weather conditions."
   ]
  },
  {
   "cell_type": "code",
   "execution_count": null,
   "metadata": {
    "id": "hTAHpc0tOJIo"
   },
   "outputs": [],
   "source": [
    "#Fist we are going to create are combinations of distance_tr with other variables using feature engineering\n",
    "# features of interest\n",
    "features = ['distance']\n",
    "\n",
    "# reference features\n",
    "reference = ['density']"
   ]
  },
  {
   "cell_type": "code",
   "execution_count": null,
   "metadata": {
    "id": "_7mDyGg3Oq9O"
   },
   "outputs": [],
   "source": [
    "creator = RelativeFeatures(\n",
    "    variables=features,\n",
    "    reference=reference,\n",
    "    func=['div', 'mul'],\n",
    ")"
   ]
  },
  {
   "cell_type": "code",
   "execution_count": null,
   "metadata": {
    "id": "mcgIaV5lOvEj"
   },
   "outputs": [],
   "source": [
    "X_train_3 = creator.fit_transform(X_train_3)\n",
    "X_test_3= creator.fit_transform(X_test_3)"
   ]
  },
  {
   "cell_type": "markdown",
   "metadata": {
    "id": "y3PEybaUoG7Q"
   },
   "source": [
    "### 1.7.2  Model perfomance X_train_3"
   ]
  },
  {
   "cell_type": "code",
   "execution_count": null,
   "metadata": {
    "colab": {
     "base_uri": "https://localhost:8080/"
    },
    "executionInfo": {
     "elapsed": 130323,
     "status": "ok",
     "timestamp": 1694277647388,
     "user": {
      "displayName": "April Itriago",
      "userId": "10552117681411633732"
     },
     "user_tz": -120
    },
    "id": "ZELzqU20n-w4",
    "outputId": "14d4e84f-9d2a-4d99-8221-9c57f876ed98"
   },
   "outputs": [
    {
     "name": "stdout",
     "output_type": "stream",
     "text": [
      "0.6785559991775763 [0 0 0 ... 0 0 0]\n"
     ]
    }
   ],
   "source": [
    "# Train Random Forest\n",
    "rf = RandomForestClassifier(n_estimators=100, random_state=0)\n",
    "rf.fit(X_train_3, y_train)\n",
    "y_pred_val_rf = rf.predict(X_test_3)\n",
    "f1_rf = f1_score(y_test, y_pred_val_rf, average='macro')\n",
    "\n",
    "# Train Logistic Regression\n",
    "logreg = LogisticRegression(max_iter=1000, random_state=0)\n",
    "logreg.fit(X_train_3, y_train)\n",
    "y_pred_val_logreg = logreg.predict(X_test_3)\n",
    "f1_logreg = f1_score(y_test, y_pred_val_logreg, average='macro')\n",
    "\n",
    "print(f1_rf, f1_logreg)"
   ]
  },
  {
   "cell_type": "markdown",
   "metadata": {
    "id": "zVSrDs8Dxdxv"
   },
   "source": [
    "**Baseline results:**\n",
    "0.7383164387591259 0.4889700488105907\n",
    "\n",
    "**X_train_2 results:**\n",
    "0.7129843972710191 0.5375174022693144\n",
    "\n",
    "**X_train_2a results:**\n",
    "0.7192050058444955 0.5363817566773804\n",
    "\n",
    "**X_train_3 results:**\n",
    "0.6785559991775763 0.4933606989021863"
   ]
  },
  {
   "cell_type": "markdown",
   "metadata": {
    "id": "99Y0Li-i5G5C"
   },
   "source": [
    "### 1.7.3 Metrics for each class"
   ]
  },
  {
   "cell_type": "code",
   "execution_count": null,
   "metadata": {
    "id": "aeEAKHSt8Fgp"
   },
   "outputs": [],
   "source": [
    "rf.fit(X_train_3.values, y_train)\n",
    "y_pred_val_rf = rf.predict(X_test_3.values)\n"
   ]
  },
  {
   "cell_type": "code",
   "execution_count": null,
   "metadata": {
    "colab": {
     "base_uri": "https://localhost:8080/"
    },
    "executionInfo": {
     "elapsed": 6,
     "status": "ok",
     "timestamp": 1694263080111,
     "user": {
      "displayName": "April Itriago",
      "userId": "10552117681411633732"
     },
     "user_tz": -120
    },
    "id": "E_JnPH_98VVi",
    "outputId": "588a93bf-ca4f-4b3b-eace-7fa4bff32dfb"
   },
   "outputs": [
    {
     "name": "stdout",
     "output_type": "stream",
     "text": [
      "Precision:  [0.832469   0.76484818 0.77810588 0.77261146]\n",
      "Recall:  [0.92421031 0.71216881 0.65402003 0.43014184]\n",
      "f score:  [0.87594409 0.73756906 0.71068728 0.55261959]\n",
      "Support:  [38211 16871 11281  2820]\n",
      "\n"
     ]
    }
   ],
   "source": [
    "# Calculation metrics for each class using Random Forest.\n",
    "p, r, f, s = precision_recall_fscore_support(\n",
    "    y_test,\n",
    "    y_rf_pred, #for the random forest\n",
    "    labels=[0,1,2,3], # the labels for which we want the metrics determined\n",
    "    average=None, # when None, returns a metric per label\n",
    ")\n",
    "\n",
    "print('Precision: ', p)\n",
    "print('Recall: ', r)\n",
    "print('f score: ', f)\n",
    "print('Support: ', s)\n",
    "print()"
   ]
  },
  {
   "cell_type": "markdown",
   "metadata": {
    "id": "yMbYLqH0URTL"
   },
   "source": [
    "Although Database 3 has the worst f1 result it seems that"
   ]
  },
  {
   "cell_type": "markdown",
   "metadata": {
    "id": "bNLvNQ_W8edN"
   },
   "source": [
    "### 1.7.4 Importance of variables of Database 3\n",
    "\n",
    "\n",
    "\n"
   ]
  },
  {
   "cell_type": "code",
   "execution_count": null,
   "metadata": {
    "colab": {
     "base_uri": "https://localhost:8080/",
     "height": 457
    },
    "executionInfo": {
     "elapsed": 129983,
     "status": "ok",
     "timestamp": 1694263313308,
     "user": {
      "displayName": "April Itriago",
      "userId": "10552117681411633732"
     },
     "user_tz": -120
    },
    "id": "b2wQUHFm9FCF",
    "outputId": "88b712db-dcc2-4c57-ee25-3c67aa26eedb"
   },
   "outputs": [
    {
     "data": {
      "image/png": "[encoded data removed]",
      "text/plain": [
       "<Figure size 1200x800 with 1 Axes>"
      ]
     },
     "metadata": {},
     "output_type": "display_data"
    }
   ],
   "source": [
    "# Train a Random Forest model\n",
    "rf = RandomForestClassifier(n_estimators=100, random_state=0)\n",
    "rf.fit(X_train_3 , y_train)\n",
    "\n",
    "# Get feature importances\n",
    "importances = rf.feature_importances_\n",
    "\n",
    "# Create a DataFrame for visualization\n",
    "features_df = pd.DataFrame({\n",
    "    'Feature': X_train_3.columns,\n",
    "    'Importance': importances\n",
    "})\n",
    "\n",
    "# Sort the DataFrame by importance\n",
    "features_df = features_df.sort_values(by='Importance', ascending=False)\n",
    "\n",
    "# Plot feature importances\n",
    "plt.figure(figsize=(12, 8))\n",
    "plt.barh(features_df['Feature'], features_df['Importance'])\n",
    "plt.xlabel('Importance')\n",
    "plt.ylabel('Feature')\n",
    "plt.title('Feature Importance using Random Forest')\n",
    "plt.gca().invert_yaxis()  # To display the most important feature at the top\n",
    "plt.show()"
   ]
  },
  {
   "cell_type": "code",
   "execution_count": null,
   "metadata": {
    "colab": {
     "base_uri": "https://localhost:8080/",
     "height": 424
    },
    "executionInfo": {
     "elapsed": 12,
     "status": "ok",
     "timestamp": 1694263313309,
     "user": {
      "displayName": "April Itriago",
      "userId": "10552117681411633732"
     },
     "user_tz": -120
    },
    "id": "KnHOE4Bn9KxM",
    "outputId": "e9fee71f-4cfa-4e5b-bd7f-1877c54af6be"
   },
   "outputs": [
    {
     "data": {
      "text/html": [
       "\n",
       "  <div id=\"df-79102594-a084-4178-8baf-a2e49cbccafa\" class=\"colab-df-container\">\n",
       "    <div>\n",
       "<style scoped>\n",
       "    .dataframe tbody tr th:only-of-type {\n",
       "        vertical-align: middle;\n",
       "    }\n",
       "\n",
       "    .dataframe tbody tr th {\n",
       "        vertical-align: top;\n",
       "    }\n",
       "\n",
       "    .dataframe thead th {\n",
       "        text-align: right;\n",
       "    }\n",
       "</style>\n",
       "<table border=\"1\" class=\"dataframe\">\n",
       "  <thead>\n",
       "    <tr style=\"text-align: right;\">\n",
       "      <th></th>\n",
       "      <th>Feature</th>\n",
       "      <th>Importance</th>\n",
       "    </tr>\n",
       "  </thead>\n",
       "  <tbody>\n",
       "    <tr>\n",
       "      <th>48</th>\n",
       "      <td>distance_mul_cars</td>\n",
       "      <td>0.045403</td>\n",
       "    </tr>\n",
       "    <tr>\n",
       "      <th>60</th>\n",
       "      <td>distance_mul_age_tr</td>\n",
       "      <td>0.037082</td>\n",
       "    </tr>\n",
       "    <tr>\n",
       "      <th>0</th>\n",
       "      <td>distance</td>\n",
       "      <td>0.034124</td>\n",
       "    </tr>\n",
       "    <tr>\n",
       "      <th>25</th>\n",
       "      <td>distance_wins</td>\n",
       "      <td>0.032976</td>\n",
       "    </tr>\n",
       "    <tr>\n",
       "      <th>62</th>\n",
       "      <td>distance_mul_wind_tr</td>\n",
       "      <td>0.031634</td>\n",
       "    </tr>\n",
       "    <tr>\n",
       "      <th>...</th>\n",
       "      <td>...</td>\n",
       "      <td>...</td>\n",
       "    </tr>\n",
       "    <tr>\n",
       "      <th>17</th>\n",
       "      <td>precip_bin</td>\n",
       "      <td>0.002074</td>\n",
       "    </tr>\n",
       "    <tr>\n",
       "      <th>37</th>\n",
       "      <td>season_spring_autum</td>\n",
       "      <td>0.001737</td>\n",
       "    </tr>\n",
       "    <tr>\n",
       "      <th>28</th>\n",
       "      <td>distance_arb_disc</td>\n",
       "      <td>0.001721</td>\n",
       "    </tr>\n",
       "    <tr>\n",
       "      <th>36</th>\n",
       "      <td>season_summer</td>\n",
       "      <td>0.001700</td>\n",
       "    </tr>\n",
       "    <tr>\n",
       "      <th>32</th>\n",
       "      <td>density_arb_disc</td>\n",
       "      <td>0.001647</td>\n",
       "    </tr>\n",
       "  </tbody>\n",
       "</table>\n",
       "<p>66 rows × 2 columns</p>\n",
       "</div>\n",
       "    <div class=\"colab-df-buttons\">\n",
       "\n",
       "  <div class=\"colab-df-container\">\n",
       "    <button class=\"colab-df-convert\" onclick=\"convertToInteractive('df-79102594-a084-4178-8baf-a2e49cbccafa')\"\n",
       "            title=\"Convert this dataframe to an interactive table.\"\n",
       "            style=\"display:none;\">\n",
       "\n",
       "  <svg xmlns=\"http://www.w3.org/2000/svg\" height=\"24px\" viewBox=\"0 -960 960 960\">\n",
       "    <path d=\"M120-120v-720h720v720H120Zm60-500h600v-160H180v160Zm220 220h160v-160H400v160Zm0 220h160v-160H400v160ZM180-400h160v-160H180v160Zm440 0h160v-160H620v160ZM180-180h160v-160H180v160Zm440 0h160v-160H620v160Z\"/>\n",
       "  </svg>\n",
       "    </button>\n",
       "\n",
       "  <style>\n",
       "    .colab-df-container {\n",
       "      display:flex;\n",
       "      gap: 12px;\n",
       "    }\n",
       "\n",
       "    .colab-df-convert {\n",
       "      background-color: #E8F0FE;\n",
       "      border: none;\n",
       "      border-radius: 50%;\n",
       "      cursor: pointer;\n",
       "      display: none;\n",
       "      fill: #1967D2;\n",
       "      height: 32px;\n",
       "      padding: 0 0 0 0;\n",
       "      width: 32px;\n",
       "    }\n",
       "\n",
       "    .colab-df-convert:hover {\n",
       "      background-color: #E2EBFA;\n",
       "      box-shadow: 0px 1px 2px rgba(60, 64, 67, 0.3), 0px 1px 3px 1px rgba(60, 64, 67, 0.15);\n",
       "      fill: #174EA6;\n",
       "    }\n",
       "\n",
       "    .colab-df-buttons div {\n",
       "      margin-bottom: 4px;\n",
       "    }\n",
       "\n",
       "    [theme=dark] .colab-df-convert {\n",
       "      background-color: #3B4455;\n",
       "      fill: #D2E3FC;\n",
       "    }\n",
       "\n",
       "    [theme=dark] .colab-df-convert:hover {\n",
       "      background-color: #434B5C;\n",
       "      box-shadow: 0px 1px 3px 1px rgba(0, 0, 0, 0.15);\n",
       "      filter: drop-shadow(0px 1px 2px rgba(0, 0, 0, 0.3));\n",
       "      fill: #FFFFFF;\n",
       "    }\n",
       "  </style>\n",
       "\n",
       "    <script>\n",
       "      const buttonEl =\n",
       "        document.querySelector('#df-79102594-a084-4178-8baf-a2e49cbccafa button.colab-df-convert');\n",
       "      buttonEl.style.display =\n",
       "        google.colab.kernel.accessAllowed ? 'block' : 'none';\n",
       "\n",
       "      async function convertToInteractive(key) {\n",
       "        const element = document.querySelector('#df-79102594-a084-4178-8baf-a2e49cbccafa');\n",
       "        const dataTable =\n",
       "          await google.colab.kernel.invokeFunction('convertToInteractive',\n",
       "                                                    [key], {});\n",
       "        if (!dataTable) return;\n",
       "\n",
       "        const docLinkHtml = 'Like what you see? Visit the ' +\n",
       "          '<a target=\"_blank\" href=https://colab.research.google.com/notebooks/data_table.ipynb>data table notebook</a>'\n",
       "          + ' to learn more about interactive tables.';\n",
       "        element.innerHTML = '';\n",
       "        dataTable['output_type'] = 'display_data';\n",
       "        await google.colab.output.renderOutput(dataTable, element);\n",
       "        const docLink = document.createElement('div');\n",
       "        docLink.innerHTML = docLinkHtml;\n",
       "        element.appendChild(docLink);\n",
       "      }\n",
       "    </script>\n",
       "  </div>\n",
       "\n",
       "\n",
       "<div id=\"df-31bcf65a-8fb8-45a7-b3ec-c2feb135b61a\">\n",
       "  <button class=\"colab-df-quickchart\" onclick=\"quickchart('df-31bcf65a-8fb8-45a7-b3ec-c2feb135b61a')\"\n",
       "            title=\"Suggest charts.\"\n",
       "            style=\"display:none;\">\n",
       "\n",
       "<svg xmlns=\"http://www.w3.org/2000/svg\" height=\"24px\"viewBox=\"0 0 24 24\"\n",
       "     width=\"24px\">\n",
       "    <g>\n",
       "        <path d=\"M19 3H5c-1.1 0-2 .9-2 2v14c0 1.1.9 2 2 2h14c1.1 0 2-.9 2-2V5c0-1.1-.9-2-2-2zM9 17H7v-7h2v7zm4 0h-2V7h2v10zm4 0h-2v-4h2v4z\"/>\n",
       "    </g>\n",
       "</svg>\n",
       "  </button>\n",
       "\n",
       "<style>\n",
       "  .colab-df-quickchart {\n",
       "      --bg-color: #E8F0FE;\n",
       "      --fill-color: #1967D2;\n",
       "      --hover-bg-color: #E2EBFA;\n",
       "      --hover-fill-color: #174EA6;\n",
       "      --disabled-fill-color: #AAA;\n",
       "      --disabled-bg-color: #DDD;\n",
       "  }\n",
       "\n",
       "  [theme=dark] .colab-df-quickchart {\n",
       "      --bg-color: #3B4455;\n",
       "      --fill-color: #D2E3FC;\n",
       "      --hover-bg-color: #434B5C;\n",
       "      --hover-fill-color: #FFFFFF;\n",
       "      --disabled-bg-color: #3B4455;\n",
       "      --disabled-fill-color: #666;\n",
       "  }\n",
       "\n",
       "  .colab-df-quickchart {\n",
       "    background-color: var(--bg-color);\n",
       "    border: none;\n",
       "    border-radius: 50%;\n",
       "    cursor: pointer;\n",
       "    display: none;\n",
       "    fill: var(--fill-color);\n",
       "    height: 32px;\n",
       "    padding: 0;\n",
       "    width: 32px;\n",
       "  }\n",
       "\n",
       "  .colab-df-quickchart:hover {\n",
       "    background-color: var(--hover-bg-color);\n",
       "    box-shadow: 0 1px 2px rgba(60, 64, 67, 0.3), 0 1px 3px 1px rgba(60, 64, 67, 0.15);\n",
       "    fill: var(--button-hover-fill-color);\n",
       "  }\n",
       "\n",
       "  .colab-df-quickchart-complete:disabled,\n",
       "  .colab-df-quickchart-complete:disabled:hover {\n",
       "    background-color: var(--disabled-bg-color);\n",
       "    fill: var(--disabled-fill-color);\n",
       "    box-shadow: none;\n",
       "  }\n",
       "\n",
       "  .colab-df-spinner {\n",
       "    border: 2px solid var(--fill-color);\n",
       "    border-color: transparent;\n",
       "    border-bottom-color: var(--fill-color);\n",
       "    animation:\n",
       "      spin 1s steps(1) infinite;\n",
       "  }\n",
       "\n",
       "  @keyframes spin {\n",
       "    0% {\n",
       "      border-color: transparent;\n",
       "      border-bottom-color: var(--fill-color);\n",
       "      border-left-color: var(--fill-color);\n",
       "    }\n",
       "    20% {\n",
       "      border-color: transparent;\n",
       "      border-left-color: var(--fill-color);\n",
       "      border-top-color: var(--fill-color);\n",
       "    }\n",
       "    30% {\n",
       "      border-color: transparent;\n",
       "      border-left-color: var(--fill-color);\n",
       "      border-top-color: var(--fill-color);\n",
       "      border-right-color: var(--fill-color);\n",
       "    }\n",
       "    40% {\n",
       "      border-color: transparent;\n",
       "      border-right-color: var(--fill-color);\n",
       "      border-top-color: var(--fill-color);\n",
       "    }\n",
       "    60% {\n",
       "      border-color: transparent;\n",
       "      border-right-color: var(--fill-color);\n",
       "    }\n",
       "    80% {\n",
       "      border-color: transparent;\n",
       "      border-right-color: var(--fill-color);\n",
       "      border-bottom-color: var(--fill-color);\n",
       "    }\n",
       "    90% {\n",
       "      border-color: transparent;\n",
       "      border-bottom-color: var(--fill-color);\n",
       "    }\n",
       "  }\n",
       "</style>\n",
       "\n",
       "  <script>\n",
       "    async function quickchart(key) {\n",
       "      const quickchartButtonEl =\n",
       "        document.querySelector('#' + key + ' button');\n",
       "      quickchartButtonEl.disabled = true;  // To prevent multiple clicks.\n",
       "      quickchartButtonEl.classList.add('colab-df-spinner');\n",
       "      try {\n",
       "        const charts = await google.colab.kernel.invokeFunction(\n",
       "            'suggestCharts', [key], {});\n",
       "      } catch (error) {\n",
       "        console.error('Error during call to suggestCharts:', error);\n",
       "      }\n",
       "      quickchartButtonEl.classList.remove('colab-df-spinner');\n",
       "      quickchartButtonEl.classList.add('colab-df-quickchart-complete');\n",
       "    }\n",
       "    (() => {\n",
       "      let quickchartButtonEl =\n",
       "        document.querySelector('#df-31bcf65a-8fb8-45a7-b3ec-c2feb135b61a button');\n",
       "      quickchartButtonEl.style.display =\n",
       "        google.colab.kernel.accessAllowed ? 'block' : 'none';\n",
       "    })();\n",
       "  </script>\n",
       "</div>\n",
       "    </div>\n",
       "  </div>\n"
      ],
      "text/plain": [
       "                 Feature  Importance\n",
       "48     distance_mul_cars    0.045403\n",
       "60   distance_mul_age_tr    0.037082\n",
       "0               distance    0.034124\n",
       "25         distance_wins    0.032976\n",
       "62  distance_mul_wind_tr    0.031634\n",
       "..                   ...         ...\n",
       "17            precip_bin    0.002074\n",
       "37   season_spring_autum    0.001737\n",
       "28     distance_arb_disc    0.001721\n",
       "36         season_summer    0.001700\n",
       "32      density_arb_disc    0.001647\n",
       "\n",
       "[66 rows x 2 columns]"
      ]
     },
     "execution_count": 107,
     "metadata": {},
     "output_type": "execute_result"
    }
   ],
   "source": [
    "features_df"
   ]
  },
  {
   "cell_type": "markdown",
   "metadata": {
    "id": "Zwkm2LASeAo3"
   },
   "source": [
    "The model that exhibits the best performance is the baseline. It appears that as we introduce more features, performance diminishes. However, given that the baseline is such a simplistic model, there's a potential risk of overfitting the training set. Therefore, we will proceed with variable selection to achieve a more realistic performance assessment. One clear conclusion we can draw is that the data responds much more favorably to the RandomForestClassifier compared to the Logistic Regression."
   ]
  },
  {
   "cell_type": "markdown",
   "metadata": {
    "id": "AX2DQ31ioDrI"
   },
   "source": [
    "## 1.8 Feature scaling"
   ]
  },
  {
   "cell_type": "markdown",
   "metadata": {
    "id": "YlRCySSIuw7E"
   },
   "source": [
    "As we aim to evaluate the optimal performance with class balance, and considering that some models require scaled data, we will employ the \"max and min scaler\" for data scaling. However, for the remainder of our work, we will utilize unscaled data. Additionally, we will no longer be using Logistic Regression moving forward."
   ]
  },
  {
   "cell_type": "code",
   "execution_count": null,
   "metadata": {
    "id": "19m0e6XszRNg"
   },
   "outputs": [],
   "source": [
    "# set up the scaler\n",
    "scaler = MinMaxScaler().set_output(transform=\"pandas\")"
   ]
  },
  {
   "cell_type": "code",
   "execution_count": null,
   "metadata": {
    "id": "WApUWVxpzo3x"
   },
   "outputs": [],
   "source": [
    "# Now just we are going to scale the dataset with best perfomance (baseline)\n",
    "# fit the scaler to the train set, it will learn the parameters\n",
    "scaler.fit(X_train_bl)\n",
    "\n",
    "# transform train and test sets\n",
    "X_train_scaled_bl = scaler.transform(X_train_bl)\n",
    "X_test_scaled_bl = scaler.transform(X_test_bl)"
   ]
  },
  {
   "cell_type": "markdown",
   "metadata": {
    "id": "-VyAWv_bDX8c"
   },
   "source": [
    "## 1.9 Class Imbalance - Methods evaluation"
   ]
  },
  {
   "cell_type": "markdown",
   "metadata": {
    "id": "RHeDomrP7F1V"
   },
   "source": [
    "We are going to create a data to try different methods and evaluate their performace. The data that we are going to use is the original one, scaled."
   ]
  },
  {
   "cell_type": "code",
   "execution_count": null,
   "metadata": {
    "id": "_QayGfoi6yzR"
   },
   "outputs": [],
   "source": [
    "# Selecting only the original features\n",
    "\n",
    "X_train_original = X_train_scaled_bl\n",
    "X_test_original = X_test_scaled_bl\n"
   ]
  },
  {
   "cell_type": "markdown",
   "metadata": {
    "id": "zE3Yk2naA19g"
   },
   "source": [
    "#### 1.9.2 Under-sampling method"
   ]
  },
  {
   "cell_type": "code",
   "execution_count": null,
   "metadata": {
    "id": "2nPYRDVbA_Z5"
   },
   "outputs": [],
   "source": [
    "undersampler_dict = {\n",
    "\n",
    "    'random': RandomUnderSampler(\n",
    "        sampling_strategy='auto',\n",
    "        random_state=0,\n",
    "        replacement=False),\n",
    "\n",
    "\n",
    "    'tomek': TomekLinks(\n",
    "        sampling_strategy='auto',\n",
    "        n_jobs=4),\n",
    "\n",
    "    'oss': OneSidedSelection(\n",
    "        sampling_strategy='auto',\n",
    "        random_state=0,\n",
    "        n_neighbors=1,\n",
    "        n_jobs=4),\n",
    "\n",
    "    'enn': EditedNearestNeighbours(\n",
    "        sampling_strategy='auto',\n",
    "        n_neighbors=3,\n",
    "        kind_sel='all',\n",
    "        n_jobs=4),\n",
    "\n",
    "    'renn': RepeatedEditedNearestNeighbours(\n",
    "        sampling_strategy='auto',\n",
    "        n_neighbors=3,\n",
    "        kind_sel='all',\n",
    "        n_jobs=4,\n",
    "        max_iter=100),\n",
    "\n",
    "    'allknn': AllKNN(\n",
    "        sampling_strategy='auto',\n",
    "        n_neighbors=5,\n",
    "        kind_sel='all',\n",
    "        n_jobs=4),\n",
    "\n",
    "    'ncr': NeighbourhoodCleaningRule(\n",
    "        sampling_strategy='auto',\n",
    "        n_neighbors=3,\n",
    "        kind_sel='all',\n",
    "        n_jobs=4,\n",
    "        threshold_cleaning=0.5),\n",
    "\n",
    "    'nm1': NearMiss(\n",
    "        sampling_strategy='auto',\n",
    "        version=1,\n",
    "        n_neighbors=3,\n",
    "        n_jobs=4),\n",
    "\n",
    "    'nm2': NearMiss(\n",
    "        sampling_strategy='auto',\n",
    "        version=2,\n",
    "        n_neighbors=3,\n",
    "        n_jobs=4),\n",
    "\n",
    "    'iht': InstanceHardnessThreshold(\n",
    "        estimator=RandomForestClassifier(\n",
    "            n_estimators=100, random_state=39, max_depth=3, n_jobs=4,\n",
    "        ),\n",
    "        sampling_strategy='auto',\n",
    "        random_state=0,\n",
    "        n_jobs=4,\n",
    "        cv=3)\n",
    "}"
   ]
  },
  {
   "cell_type": "code",
   "execution_count": null,
   "metadata": {
    "colab": {
     "base_uri": "https://localhost:8080/"
    },
    "executionInfo": {
     "elapsed": 114046,
     "status": "ok",
     "timestamp": 1694277087889,
     "user": {
      "displayName": "April Itriago",
      "userId": "10552117681411633732"
     },
     "user_tz": -120
    },
    "id": "tpnfe-7ZvFBz",
    "outputId": "80b15d9b-55e4-4fc6-f989-ef3a6d39fe6a"
   },
   "outputs": [
    {
     "name": "stdout",
     "output_type": "stream",
     "text": [
      "Train set\n",
      "Random Forests F1 Macro for Train set: 0.2946943367400376\n",
      "Test set\n",
      "Random Forests F1 Macro for Test set: 0.2923226393783613\n",
      "random\n",
      "Train set\n",
      "Random Forests F1 Macro for Train set: 0.5935095206997416\n",
      "Test set\n",
      "Random Forests F1 Macro for Test set: 0.4734329316004346\n",
      "\n",
      "tomek\n",
      "Train set\n",
      "Random Forests F1 Macro for Train set: 0.29861335639998626\n",
      "Test set\n",
      "Random Forests F1 Macro for Test set: 0.2817261807982229\n",
      "\n",
      "oss\n",
      "Train set\n",
      "Random Forests F1 Macro for Train set: 0.30087927860235886\n",
      "Test set\n",
      "Random Forests F1 Macro for Test set: 0.28455166752367833\n",
      "\n",
      "enn\n",
      "Train set\n",
      "Random Forests F1 Macro for Train set: 0.42276215520500254\n",
      "Test set\n",
      "Random Forests F1 Macro for Test set: 0.3114398717221186\n",
      "\n",
      "renn\n",
      "Train set\n",
      "Random Forests F1 Macro for Train set: 0.42276215520500254\n",
      "Test set\n",
      "Random Forests F1 Macro for Test set: 0.3114398717221186\n",
      "\n",
      "allknn\n",
      "Train set\n",
      "Random Forests F1 Macro for Train set: 0.39292632134920846\n",
      "Test set\n",
      "Random Forests F1 Macro for Test set: 0.31306427894261546\n",
      "\n",
      "ncr\n",
      "Train set\n",
      "Random Forests F1 Macro for Train set: 0.3664439855669342\n",
      "Test set\n",
      "Random Forests F1 Macro for Test set: 0.2906475162047254\n",
      "\n",
      "nm1\n",
      "Train set\n",
      "Random Forests F1 Macro for Train set: 0.6175963894753397\n",
      "Test set\n",
      "Random Forests F1 Macro for Test set: 0.4028119803914413\n",
      "\n",
      "nm2\n",
      "Train set\n",
      "Random Forests F1 Macro for Train set: 0.6660015956746179\n",
      "Test set\n",
      "Random Forests F1 Macro for Test set: 0.27206258776902525\n",
      "\n",
      "iht\n",
      "Train set\n",
      "Random Forests F1 Macro for Train set: 0.8424396328380437\n",
      "Test set\n",
      "Random Forests F1 Macro for Test set: 0.4094088464362774\n",
      "\n",
      "Results: {'full_data': {'Train set': 0.2946943367400376, 'Test set': 0.2923226393783613}, 'random': {'Train set': 0.5935095206997416, 'Test set': 0.4734329316004346}, 'tomek': {'Train set': 0.29861335639998626, 'Test set': 0.2817261807982229}, 'oss': {'Train set': 0.30087927860235886, 'Test set': 0.28455166752367833}, 'enn': {'Train set': 0.42276215520500254, 'Test set': 0.3114398717221186}, 'renn': {'Train set': 0.42276215520500254, 'Test set': 0.3114398717221186}, 'allknn': {'Train set': 0.39292632134920846, 'Test set': 0.31306427894261546}, 'ncr': {'Train set': 0.3664439855669342, 'Test set': 0.2906475162047254}, 'nm1': {'Train set': 0.6175963894753397, 'Test set': 0.4028119803914413}, 'nm2': {'Train set': 0.6660015956746179, 'Test set': 0.27206258776902525}, 'iht': {'Train set': 0.8424396328380437, 'Test set': 0.4094088464362774}}\n",
      "Sample Sizes: {'full_data': 48427, 'random': 7776, 'tomek': 40067, 'oss': 40034, 'enn': 13261, 'renn': 13261, 'allknn': 21550, 'ncr': 28230, 'nm1': 7776, 'nm2': 7776, 'iht': 7776}\n",
      "Best Model: iht\n",
      "Best Test ROC-AUC: 0\n"
     ]
    }
   ],
   "source": [
    "def run_randomForests(X_train, X_test, y_train, y_test, n_estimators=50):\n",
    "    rf = RandomForestClassifier(n_estimators=n_estimators, random_state=39, max_depth=3, n_jobs=4)\n",
    "    rf.fit(X_train, y_train)\n",
    "\n",
    "    print('Train set')\n",
    "    pred_train = rf.predict(X_train)\n",
    "    train_f1_macro = f1_score(y_train, pred_train, average='macro')\n",
    "    print('Random Forests F1 Macro for Train set:', train_f1_macro)\n",
    "\n",
    "    print('Test set')\n",
    "    pred_test = rf.predict(X_test)\n",
    "    test_f1_macro = f1_score(y_test, pred_test, average='macro')\n",
    "    print('Random Forests F1 Macro for Test set:', test_f1_macro)\n",
    "\n",
    "    return {'Train set': train_f1_macro, 'Test set': test_f1_macro}\n",
    "\n",
    "\n",
    "# Dictionary to save the results\n",
    "results_dict = {}\n",
    "shapes_dict = {}\n",
    "\n",
    "# Subset of the data for faster computation (30% of the data)\n",
    "X_train_sample, _, y_train_sample, _ = train_test_split(X_train_original, y_train, test_size=0.7, random_state=42, stratify=y_train)\n",
    "\n",
    "# Train a model on the subset of data without under-sampling and determine model performance\n",
    "f1 = run_randomForests(X_train_sample, X_test_original, y_train_sample, y_test)\n",
    "\n",
    "# Store results\n",
    "results_dict['full_data'] = f1\n",
    "shapes_dict['full_data'] = len(X_train_sample)\n",
    "\n",
    "best_f1_macro= 0  # Initialize the best ROC-AUC score\n",
    "best_model = None  # Initialize the best model (resampling method)\n",
    "\n",
    "# Test the different under-samplers\n",
    "for undersampler in undersampler_dict.keys():\n",
    "    print(undersampler)\n",
    "\n",
    "    # Resample the train set only\n",
    "    X_resampled, y_resampled = undersampler_dict[undersampler].fit_resample(X_train_sample, y_train_sample)\n",
    "\n",
    "    # Train model and evaluate performance\n",
    "    f1 = run_randomForests(X_resampled, X_test_original, y_resampled, y_test)\n",
    "\n",
    "    # Update best model if current ROC-AUC is higher than previous best\n",
    "    if f1['Test set'] > best_f1_macro:\n",
    "        best_roc_auc = f1['Test set']\n",
    "        best_model = undersampler\n",
    "\n",
    "    # Store results\n",
    "    results_dict[undersampler] = f1\n",
    "    shapes_dict[undersampler] = len(X_resampled)\n",
    "    print()\n",
    "\n",
    "print(\"Results:\", results_dict)\n",
    "print(\"Sample Sizes:\", shapes_dict)\n",
    "print(\"Best Model:\", best_model)\n",
    "print(\"Best Test F1_macro:\", best_f1_macro)\n"
   ]
  },
  {
   "cell_type": "markdown",
   "metadata": {
    "id": "GfU_kTFe5pGu"
   },
   "source": [
    "Based on the F1 Macro scores for the test set, the model with the Random oversampling technique has the highest score of 0.4734. However, the IHT and NM1 models also have relatively high scores of 0.4094 and 0.4028, respectively.\n",
    "\n",
    "While the IHT model has the highest training score, it's essential to be cautious about models that perform significantly better on the training set than on the test set, as this could be an indication of overfitting.\n",
    "\n",
    "In conclusion, based on the provided results, **the Random oversampling model seems to be the best** in terms of F1 Macro score on the test set"
   ]
  },
  {
   "cell_type": "markdown",
   "metadata": {
    "id": "8PUGCePeQXMF"
   },
   "source": [
    "#### 1.9.3 Over-sampling method"
   ]
  },
  {
   "cell_type": "code",
   "execution_count": null,
   "metadata": {
    "id": "kqv3bspMQcZi"
   },
   "outputs": [],
   "source": [
    "oversampler_dict = {\n",
    "\n",
    "    'random': RandomOverSampler(\n",
    "        sampling_strategy='auto',\n",
    "        random_state=0),\n",
    "\n",
    "    'smote': SMOTE(\n",
    "        sampling_strategy='auto',  # samples only the minority class\n",
    "        random_state=0,  # for reproducibility\n",
    "        k_neighbors=5,\n",
    "        n_jobs=4),\n",
    "\n",
    "    'adasyn': ADASYN(\n",
    "        sampling_strategy='auto',  # samples only the minority class\n",
    "        random_state=0,  # for reproducibility\n",
    "        n_neighbors=5,\n",
    "        n_jobs=4),\n",
    "\n",
    "    'border1': BorderlineSMOTE(\n",
    "        sampling_strategy='auto',  # samples only the minority class\n",
    "        random_state=0,  # for reproducibility\n",
    "        k_neighbors=5,\n",
    "        m_neighbors=10,\n",
    "        kind='borderline-1',\n",
    "        n_jobs=4),\n",
    "\n",
    "    'border2': BorderlineSMOTE(\n",
    "        sampling_strategy='auto',  # samples only the minority class\n",
    "        random_state=0,  # for reproducibility\n",
    "        k_neighbors=5,\n",
    "        m_neighbors=10,\n",
    "        kind='borderline-2',\n",
    "        n_jobs=4),\n",
    "\n",
    "    'svm': SVMSMOTE(\n",
    "        sampling_strategy='auto',  # samples only the minority class\n",
    "        random_state=0,  # for reproducibility\n",
    "        k_neighbors=5,\n",
    "        m_neighbors=10,\n",
    "        n_jobs=4,\n",
    "        svm_estimator=SVC(kernel='linear')),\n",
    "}"
   ]
  },
  {
   "cell_type": "code",
   "execution_count": null,
   "metadata": {
    "colab": {
     "base_uri": "https://localhost:8080/"
    },
    "executionInfo": {
     "elapsed": 283050,
     "status": "ok",
     "timestamp": 1694278968974,
     "user": {
      "displayName": "April Itriago",
      "userId": "10552117681411633732"
     },
     "user_tz": -120
    },
    "id": "vAovGhB73vo3",
    "outputId": "eded7069-4c9a-490a-fe93-358c3c9ee207"
   },
   "outputs": [
    {
     "name": "stdout",
     "output_type": "stream",
     "text": [
      "Train set\n",
      "Random Forests F1 Macro for Train set: 0.2946943367400376\n",
      "Test set\n",
      "Random Forests F1 Macro for Test set: 0.2923226393783613\n",
      "random\n",
      "Train set\n",
      "Random Forests F1 Macro for Train set: 0.5855804858347146\n",
      "Test set\n",
      "Random Forests F1 Macro for Test set: 0.4747019180260379\n",
      "\n",
      "smote\n"
     ]
    },
    {
     "name": "stderr",
     "output_type": "stream",
     "text": [
      "/usr/local/lib/python3.10/dist-packages/imblearn/over_sampling/_smote/base.py:336: FutureWarning: The parameter `n_jobs` has been deprecated in 0.10 and will be removed in 0.12. You can pass an nearest neighbors estimator where `n_jobs` is already set instead.\n",
      "  warnings.warn(\n"
     ]
    },
    {
     "name": "stdout",
     "output_type": "stream",
     "text": [
      "Train set\n",
      "Random Forests F1 Macro for Train set: 0.6237134975292916\n",
      "Test set\n",
      "Random Forests F1 Macro for Test set: 0.4751136693810226\n",
      "\n",
      "adasyn\n"
     ]
    },
    {
     "name": "stderr",
     "output_type": "stream",
     "text": [
      "/usr/local/lib/python3.10/dist-packages/imblearn/over_sampling/_adasyn.py:156: FutureWarning: The parameter `n_jobs` has been deprecated in 0.10 and will be removed in 0.12. You can pass an nearest neighbors estimator where `n_jobs` is already set instead.\n",
      "  warnings.warn(\n"
     ]
    },
    {
     "name": "stdout",
     "output_type": "stream",
     "text": [
      "Train set\n",
      "Random Forests F1 Macro for Train set: 0.5970448496528792\n",
      "Test set\n",
      "Random Forests F1 Macro for Test set: 0.44841357251376057\n",
      "\n",
      "border1\n"
     ]
    },
    {
     "name": "stderr",
     "output_type": "stream",
     "text": [
      "/usr/local/lib/python3.10/dist-packages/imblearn/over_sampling/_smote/filter.py:192: FutureWarning: The parameter `n_jobs` has been deprecated in 0.10 and will be removed in 0.12. You can pass an nearest neighbors estimator where `n_jobs` is already set instead.\n",
      "  warnings.warn(\n"
     ]
    },
    {
     "name": "stdout",
     "output_type": "stream",
     "text": [
      "Train set\n",
      "Random Forests F1 Macro for Train set: 0.6273394702442276\n",
      "Test set\n",
      "Random Forests F1 Macro for Test set: 0.490545923872033\n",
      "\n",
      "border2\n"
     ]
    },
    {
     "name": "stderr",
     "output_type": "stream",
     "text": [
      "/usr/local/lib/python3.10/dist-packages/imblearn/over_sampling/_smote/filter.py:192: FutureWarning: The parameter `n_jobs` has been deprecated in 0.10 and will be removed in 0.12. You can pass an nearest neighbors estimator where `n_jobs` is already set instead.\n",
      "  warnings.warn(\n"
     ]
    },
    {
     "name": "stdout",
     "output_type": "stream",
     "text": [
      "Train set\n",
      "Random Forests F1 Macro for Train set: 0.5908484144923347\n",
      "Test set\n",
      "Random Forests F1 Macro for Test set: 0.48168039923343364\n",
      "\n",
      "svm\n"
     ]
    },
    {
     "name": "stderr",
     "output_type": "stream",
     "text": [
      "/usr/local/lib/python3.10/dist-packages/imblearn/over_sampling/_smote/filter.py:461: FutureWarning: The parameter `n_jobs` has been deprecated in 0.10 and will be removed in 0.12. You can pass an nearest neighbors estimator where `n_jobs` is already set instead.\n",
      "  warnings.warn(\n"
     ]
    },
    {
     "name": "stdout",
     "output_type": "stream",
     "text": [
      "Train set\n",
      "Random Forests F1 Macro for Train set: 0.6391255693773008\n",
      "Test set\n",
      "Random Forests F1 Macro for Test set: 0.4951653286951297\n",
      "\n",
      "Results: {'full_data': {'Train set': 0.2946943367400376, 'Test set': 0.2923226393783613}, 'random': {'Train set': 0.5855804858347146, 'Test set': 0.4747019180260379}, 'smote': {'Train set': 0.6237134975292916, 'Test set': 0.4751136693810226}, 'adasyn': {'Train set': 0.5970448496528792, 'Test set': 0.44841357251376057}, 'border1': {'Train set': 0.6273394702442276, 'Test set': 0.490545923872033}, 'border2': {'Train set': 0.5908484144923347, 'Test set': 0.48168039923343364}, 'svm': {'Train set': 0.6391255693773008, 'Test set': 0.4951653286951297}}\n",
      "Sample Sizes: {'full_data': 48427, 'random': 107072, 'smote': 107072, 'adasyn': 108044, 'border1': 107072, 'border2': 107072, 'svm': 107072}\n",
      "Best Model: svm\n",
      "Best Test F1_macro: 0\n"
     ]
    }
   ],
   "source": [
    "\n",
    "# Dictionary to save the results\n",
    "results_dict = {}\n",
    "shapes_dict = {}\n",
    "\n",
    "# Subset of the data for faster computation (30% of the data)\n",
    "X_train_sample, _, y_train_sample, _ = train_test_split(X_train_original, y_train, test_size=0.7, random_state=42, stratify=y_train)\n",
    "\n",
    "# Train a model on the subset of data without under-sampling and determine model performance\n",
    "f1 = run_randomForests(X_train_sample, X_test_original, y_train_sample, y_test)\n",
    "\n",
    "# Store results\n",
    "results_dict['full_data'] = f1\n",
    "shapes_dict['full_data'] = len(X_train_sample)\n",
    "\n",
    "best_f1_macro= 0  # Initialize the best ROC-AUC score\n",
    "best_model = None  # Initialize the best model (resampling method)\n",
    "\n",
    "# Test the different oversampler\n",
    "for oversampler in oversampler_dict.keys():\n",
    "    print(oversampler)\n",
    "\n",
    "    # Resample the train set only\n",
    "    X_resampled, y_resampled = oversampler_dict[oversampler].fit_resample(X_train_sample, y_train_sample)\n",
    "\n",
    "    # Train model and evaluate performance\n",
    "    f1 = run_randomForests(X_resampled, X_test_original, y_resampled, y_test)\n",
    "\n",
    "    # Update best model if current ROC-AUC is higher than previous best\n",
    "    if f1['Test set'] > best_f1_macro:\n",
    "        best_roc_auc = f1['Test set']\n",
    "        best_model = oversampler\n",
    "\n",
    "    # Store results\n",
    "    results_dict[oversampler] = f1\n",
    "    shapes_dict[oversampler] = len(X_resampled)\n",
    "    print()\n",
    "\n",
    "print(\"Results:\", results_dict)\n",
    "print(\"Sample Sizes:\", shapes_dict)\n",
    "print(\"Best Model:\", best_model)\n",
    "print(\"Best Test F1_macro:\", best_f1_macro)\n"
   ]
  },
  {
   "cell_type": "markdown",
   "metadata": {
    "id": "g4TyQ9q9y0xu"
   },
   "source": [
    "The SVM oversampling technique has the highest test F1 Macro score of 0.4952, followed closely by Border1 with a score of 0.4905.\n",
    "\n",
    "The difference between the training and test scores for each model indicates the degree of overfitting. For instance, the SVM model has a difference of 0.144 between its training and test scores, suggesting some overfitting. However, this difference is not as pronounced as in some other models.\n",
    "\n",
    "The Full Data model has almost identical training and test scores, indicating that it's not overfitting. However, its performance is significantly lower than the oversampled models.\n",
    "\n",
    "In conclusion, based on the F1 Macro scores, **the SVM oversampling model seems to be the best in terms of performance on the test set**. However, it's essential to be cautious about models that perform significantly better on the training set than on the test set, as this could be an indication of overfitting. The Border1 model also performs well and has a smaller gap between its training and test scores, making it a strong contender.\n",
    "\n"
   ]
  },
  {
   "cell_type": "markdown",
   "metadata": {
    "id": "M4mwTI-LcAj8"
   },
   "source": [
    "### 1.9.4 Over_under sampling"
   ]
  },
  {
   "cell_type": "code",
   "execution_count": null,
   "metadata": {
    "id": "gGo9yvhYcG2k"
   },
   "outputs": [],
   "source": [
    "oversampler_dict = {\n",
    "\n",
    "    'smote': SMOTE(\n",
    "        sampling_strategy='auto',\n",
    "        random_state=0,\n",
    "        k_neighbors=5,\n",
    "        n_jobs=4),\n",
    "\n",
    "    'border1': BorderlineSMOTE(\n",
    "        sampling_strategy='auto',\n",
    "        random_state=0,\n",
    "        k_neighbors=5,\n",
    "        m_neighbors=10,\n",
    "        kind='borderline-1',\n",
    "        n_jobs=4),\n",
    "\n",
    "    'svm': SVMSMOTE(\n",
    "        sampling_strategy='auto',\n",
    "        random_state=0,\n",
    "        k_neighbors=5,\n",
    "        m_neighbors=10,\n",
    "        n_jobs=4,\n",
    "        svm_estimator=SVC(kernel='linear')),\n",
    "\n",
    "    'smenn': SMOTEENN(\n",
    "        sampling_strategy='auto',\n",
    "        random_state=0,\n",
    "        smote=SMOTE(sampling_strategy='auto', random_state=0, k_neighbors=5),\n",
    "        enn=EditedNearestNeighbours(\n",
    "            sampling_strategy='auto', n_neighbors=3, kind_sel='all'),\n",
    "        n_jobs=4),\n",
    "\n",
    "    'smtomek': SMOTETomek(\n",
    "        sampling_strategy='auto',\n",
    "        random_state=0,\n",
    "        smote=SMOTE(sampling_strategy='auto', random_state=0, k_neighbors=5),\n",
    "        tomek=TomekLinks(sampling_strategy='all'),\n",
    "        n_jobs=4),\n",
    "\n",
    "}"
   ]
  },
  {
   "cell_type": "code",
   "execution_count": null,
   "metadata": {
    "colab": {
     "base_uri": "https://localhost:8080/"
    },
    "executionInfo": {
     "elapsed": 365901,
     "status": "ok",
     "timestamp": 1694279483539,
     "user": {
      "displayName": "April Itriago",
      "userId": "10552117681411633732"
     },
     "user_tz": -120
    },
    "id": "5ZBVWwnBdikN",
    "outputId": "46b917cf-2574-4718-b168-d1b097407fa5"
   },
   "outputs": [
    {
     "name": "stdout",
     "output_type": "stream",
     "text": [
      "Train set\n",
      "Random Forests F1 Macro for Train set: 0.2946943367400376\n",
      "Test set\n",
      "Random Forests F1 Macro for Test set: 0.2923226393783613\n",
      "smote\n"
     ]
    },
    {
     "name": "stderr",
     "output_type": "stream",
     "text": [
      "/usr/local/lib/python3.10/dist-packages/imblearn/over_sampling/_smote/base.py:336: FutureWarning: The parameter `n_jobs` has been deprecated in 0.10 and will be removed in 0.12. You can pass an nearest neighbors estimator where `n_jobs` is already set instead.\n",
      "  warnings.warn(\n"
     ]
    },
    {
     "name": "stdout",
     "output_type": "stream",
     "text": [
      "Train set\n",
      "Random Forests F1 Macro for Train set: 0.6237134975292916\n",
      "Test set\n",
      "Random Forests F1 Macro for Test set: 0.4751136693810226\n",
      "\n",
      "border1\n"
     ]
    },
    {
     "name": "stderr",
     "output_type": "stream",
     "text": [
      "/usr/local/lib/python3.10/dist-packages/imblearn/over_sampling/_smote/filter.py:192: FutureWarning: The parameter `n_jobs` has been deprecated in 0.10 and will be removed in 0.12. You can pass an nearest neighbors estimator where `n_jobs` is already set instead.\n",
      "  warnings.warn(\n"
     ]
    },
    {
     "name": "stdout",
     "output_type": "stream",
     "text": [
      "Train set\n",
      "Random Forests F1 Macro for Train set: 0.6273394702442276\n",
      "Test set\n",
      "Random Forests F1 Macro for Test set: 0.490545923872033\n",
      "\n",
      "svm\n"
     ]
    },
    {
     "name": "stderr",
     "output_type": "stream",
     "text": [
      "/usr/local/lib/python3.10/dist-packages/imblearn/over_sampling/_smote/filter.py:461: FutureWarning: The parameter `n_jobs` has been deprecated in 0.10 and will be removed in 0.12. You can pass an nearest neighbors estimator where `n_jobs` is already set instead.\n",
      "  warnings.warn(\n"
     ]
    },
    {
     "name": "stdout",
     "output_type": "stream",
     "text": [
      "Train set\n",
      "Random Forests F1 Macro for Train set: 0.6391255693773008\n",
      "Test set\n",
      "Random Forests F1 Macro for Test set: 0.4951653286951297\n",
      "\n",
      "smenn\n",
      "Train set\n",
      "Random Forests F1 Macro for Train set: 0.5359640181170381\n",
      "Test set\n",
      "Random Forests F1 Macro for Test set: 0.39940884694110895\n",
      "\n",
      "smtomek\n",
      "Train set\n",
      "Random Forests F1 Macro for Train set: 0.6062054459379791\n",
      "Test set\n",
      "Random Forests F1 Macro for Test set: 0.44171500764236793\n",
      "\n",
      "Results: {'full_data': {'Train set': 0.2946943367400376, 'Test set': 0.2923226393783613}, 'smote': {'Train set': 0.6237134975292916, 'Test set': 0.4751136693810226}, 'border1': {'Train set': 0.6273394702442276, 'Test set': 0.490545923872033}, 'svm': {'Train set': 0.6391255693773008, 'Test set': 0.4951653286951297}, 'smenn': {'Train set': 0.5359640181170381, 'Test set': 0.39940884694110895}, 'smtomek': {'Train set': 0.6062054459379791, 'Test set': 0.44171500764236793}}\n",
      "Sample Sizes: {'full_data': 48427, 'smote': 107072, 'border1': 107072, 'svm': 107072, 'smenn': 87296, 'smtomek': 103348}\n",
      "Best Model: smtomek\n",
      "Best Test F1_macro: 0\n"
     ]
    }
   ],
   "source": [
    "# Dictionary to save the results\n",
    "results_dict = {}\n",
    "shapes_dict = {}\n",
    "\n",
    "# Subset of the data for faster computation (30% of the data)\n",
    "X_train_sample, _, y_train_sample, _ = train_test_split(X_train_original, y_train, test_size=0.7, random_state=42, stratify=y_train)\n",
    "\n",
    "# Train a model on the subset of data without under-sampling and determine model performance\n",
    "f1 = run_randomForests(X_train_sample, X_test_original, y_train_sample, y_test)\n",
    "\n",
    "# Store results\n",
    "results_dict['full_data'] = f1\n",
    "shapes_dict['full_data'] = len(X_train_sample)\n",
    "\n",
    "best_f1_macro= 0  # Initialize the best ROC-AUC score\n",
    "best_model = None  # Initialize the best model (resampling method)\n",
    "\n",
    "# Test the different oversampler\n",
    "for oversampler in oversampler_dict.keys():\n",
    "    print(oversampler)\n",
    "\n",
    "    # Resample the train set only\n",
    "    X_resampled, y_resampled = oversampler_dict[oversampler].fit_resample(X_train_sample, y_train_sample)\n",
    "\n",
    "    # Train model and evaluate performance\n",
    "    f1 = run_randomForests(X_resampled, X_test_original, y_resampled, y_test)\n",
    "\n",
    "    # Update best model if current ROC-AUC is higher than previous best\n",
    "    if f1['Test set'] > best_f1_macro:\n",
    "        best_roc_auc = f1['Test set']\n",
    "        best_model = oversampler\n",
    "\n",
    "    # Store results\n",
    "    results_dict[oversampler] = f1\n",
    "    shapes_dict[oversampler] = len(X_resampled)\n",
    "    print()\n",
    "\n",
    "print(\"Results:\", results_dict)\n",
    "print(\"Sample Sizes:\", shapes_dict)\n",
    "print(\"Best Model:\", best_model)\n",
    "print(\"Best Test F1_macro:\", best_f1_macro)"
   ]
  },
  {
   "cell_type": "markdown",
   "metadata": {
    "id": "bQ2-WSeN6PpV"
   },
   "source": [
    "The SVM oversampling technique has the highest test **F1 Macro score of 0.4952**, followed closely by **Border1 with a score of 0.4905.**\n",
    "\n",
    "The difference between the training and test scores for each model indicates the degree of overfitting. For instance, the SVM model has a difference of 0.144 between its training and test scores, suggesting some overfitting. However, this difference is not as pronounced as in some other models.\n",
    "\n",
    "The Full Data model has almost identical training and test scores, indicating that it's not overfitting. However, its performance is significantly lower than the oversampled models.\n",
    "\n",
    "In conclusion, based on the F1 Macro scores, the SVM oversampling model seems to be the best in terms of performance on the test set. However, it's essential to be cautious about models that perform significantly better on the training set than on the test set, as this could be an indication of overfitting. **The Border1 model also performs well and has a smaller gap between its training and test scores,** making it a strong contender."
   ]
  },
  {
   "cell_type": "markdown",
   "metadata": {
    "id": "x8UoZTdi4P7-"
   },
   "source": [
    "## 1.10 Data balancing"
   ]
  },
  {
   "cell_type": "markdown",
   "metadata": {
    "id": "1BimNTgL-950"
   },
   "source": [
    "\n",
    "The goal is selecting a model with a smaller gap between training and test scores (to avoid overfitting), and have the best perfomance.\n",
    "\n",
    "**Random and SMENN **have similar differences between their training and test scores, and both are among the models with the smallest gaps. Additionally, their absolute test performance is reasonably good.\n",
    "\n",
    "**We are going with SMENN.**"
   ]
  },
  {
   "cell_type": "code",
   "execution_count": null,
   "metadata": {
    "colab": {
     "base_uri": "https://localhost:8080/"
    },
    "executionInfo": {
     "elapsed": 626954,
     "status": "ok",
     "timestamp": 1694281487670,
     "user": {
      "displayName": "April Itriago",
      "userId": "10552117681411633732"
     },
     "user_tz": -120
    },
    "id": "0ZrtDAXALGtg",
    "outputId": "c365ab85-1635-46d1-94cf-f6f44b381c58"
   },
   "outputs": [
    {
     "name": "stdout",
     "output_type": "stream",
     "text": [
      "Before undersampling, count of labels 0: 89228\n",
      "Before undersampling, count of labels 1: 39427\n",
      "Before undersampling, count of labels 2: 26290\n",
      "Before undersampling, count of labels 3:\n",
      " 6480\n",
      "After undersampling, count of labels 0: 89228\n",
      "After undersampling, count of labels 1: 68931\n",
      "After undersampling, count of labels 2: 73754\n",
      "After undersampling, count of labels 3: 87966\n"
     ]
    }
   ],
   "source": [
    "print('Before undersampling, count of labels 0:', sum(y_train==0))\n",
    "print('Before undersampling, count of labels 1:', sum(y_train==1))\n",
    "print('Before undersampling, count of labels 2:', sum(y_train==2))\n",
    "print('Before undersampling, count of labels 3:\\n', sum(y_train==3))\n",
    "smenn = SMOTEENN(sampling_strategy='auto',random_state=0,\n",
    "        smote=SMOTE(sampling_strategy='auto', random_state=0, k_neighbors=5),\n",
    "        enn=EditedNearestNeighbours(sampling_strategy='auto', n_neighbors=3, kind_sel='all'),n_jobs=4)\n",
    "\n",
    "X_train_bl_sc, y_train_bl_sc = smenn.fit_resample(X_train_bl, y_train)\n",
    "\n",
    "print('After undersampling, count of labels 0:', sum(y_train_bl_sc==0))\n",
    "print('After undersampling, count of labels 1:', sum(y_train_bl_sc==1))\n",
    "print('After undersampling, count of labels 2:', sum(y_train_bl_sc==2))\n",
    "print('After undersampling, count of labels 3:', sum(y_train_bl_sc==3))\n"
   ]
  },
  {
   "cell_type": "code",
   "execution_count": null,
   "metadata": {
    "colab": {
     "base_uri": "https://localhost:8080/"
    },
    "executionInfo": {
     "elapsed": 488021,
     "status": "ok",
     "timestamp": 1694281976297,
     "user": {
      "displayName": "April Itriago",
      "userId": "10552117681411633732"
     },
     "user_tz": -120
    },
    "id": "dYlogYfthrdf",
    "outputId": "b0677a30-3793-4cbc-da9d-0e8f157e27a2"
   },
   "outputs": [
    {
     "name": "stdout",
     "output_type": "stream",
     "text": [
      "Before undersampling, count of labels 0: 89228\n",
      "Before undersampling, count of labels 1: 39427\n",
      "Before undersampling, count of labels 2: 26290\n",
      "Before undersampling, count of labels 3:\n",
      " 6480\n",
      "After undersampling, count of labels 0: 89228\n",
      "After undersampling, count of labels 1: 69515\n",
      "After undersampling, count of labels 2: 74353\n",
      "After undersampling, count of labels 3: 87882\n"
     ]
    }
   ],
   "source": [
    "print('Before undersampling, count of labels 0:', sum(y_train==0))\n",
    "print('Before undersampling, count of labels 1:', sum(y_train==1))\n",
    "print('Before undersampling, count of labels 2:', sum(y_train==2))\n",
    "print('Before undersampling, count of labels 3:\\n', sum(y_train==3))\n",
    "\n",
    "\n",
    "X_train_2_sc, y_train_2_sc = smenn.fit_resample(X_train_2, y_train)\n",
    "\n",
    "print('After undersampling, count of labels 0:', sum(y_train_2_sc ==0))\n",
    "print('After undersampling, count of labels 1:', sum(y_train_2_sc ==1))\n",
    "print('After undersampling, count of labels 2:', sum(y_train_2_sc ==2))\n",
    "print('After undersampling, count of labels 3:', sum(y_train_2_sc ==3))"
   ]
  },
  {
   "cell_type": "code",
   "execution_count": null,
   "metadata": {
    "colab": {
     "base_uri": "https://localhost:8080/"
    },
    "executionInfo": {
     "elapsed": 731943,
     "status": "ok",
     "timestamp": 1694304542378,
     "user": {
      "displayName": "April Itriago",
      "userId": "10552117681411633732"
     },
     "user_tz": -120
    },
    "id": "ARNIkTRTayIA",
    "outputId": "1a6a6b70-1c25-45bb-d694-620d8d69125c"
   },
   "outputs": [
    {
     "name": "stdout",
     "output_type": "stream",
     "text": [
      "Before undersampling, count of labels 0: 89228\n",
      "Before undersampling, count of labels 1: 39427\n",
      "Before undersampling, count of labels 2: 26290\n",
      "Before undersampling, count of labels 3:\n",
      " 6480\n",
      "After undersampling, count of labels 0: 89228\n",
      "After undersampling, count of labels 1: 69815\n",
      "After undersampling, count of labels 2: 75316\n",
      "After undersampling, count of labels 3: 88115\n"
     ]
    }
   ],
   "source": [
    "print('Before undersampling, count of labels 0:', sum(y_train==0))\n",
    "print('Before undersampling, count of labels 1:', sum(y_train==1))\n",
    "print('Before undersampling, count of labels 2:', sum(y_train==2))\n",
    "print('Before undersampling, count of labels 3:\\n', sum(y_train==3))\n",
    "\n",
    "\n",
    "X_train_2a_sc, y_train_2a_sc = smenn.fit_resample(X_train_2a, y_train)\n",
    "\n",
    "print('After undersampling, count of labels 0:', sum(y_train_2a_sc ==0))\n",
    "print('After undersampling, count of labels 1:', sum(y_train_2a_sc ==1))\n",
    "print('After undersampling, count of labels 2:', sum(y_train_2a_sc ==2))\n",
    "print('After undersampling, count of labels 3:', sum(y_train_2a_sc ==3))"
   ]
  },
  {
   "cell_type": "code",
   "execution_count": null,
   "metadata": {
    "colab": {
     "base_uri": "https://localhost:8080/"
    },
    "executionInfo": {
     "elapsed": 631365,
     "status": "ok",
     "timestamp": 1694283128097,
     "user": {
      "displayName": "April Itriago",
      "userId": "10552117681411633732"
     },
     "user_tz": -120
    },
    "id": "u922yKg-ayDp",
    "outputId": "a554b1d6-dc52-4aef-f9df-d83632415b28"
   },
   "outputs": [
    {
     "name": "stdout",
     "output_type": "stream",
     "text": [
      "Before undersampling, count of labels 0: 89228\n",
      "Before undersampling, count of labels 1: 39427\n",
      "Before undersampling, count of labels 2: 26290\n",
      "Before undersampling, count of labels 3:\n",
      " 6480\n",
      "After undersampling, count of labels 0: 89228\n",
      "After undersampling, count of labels 1: 65924\n",
      "After undersampling, count of labels 2: 71025\n",
      "After undersampling, count of labels 3: 88150\n"
     ]
    }
   ],
   "source": [
    "print('Before undersampling, count of labels 0:', sum(y_train==0))\n",
    "print('Before undersampling, count of labels 1:', sum(y_train==1))\n",
    "print('Before undersampling, count of labels 2:', sum(y_train==2))\n",
    "print('Before undersampling, count of labels 3:\\n', sum(y_train==3))\n",
    "\n",
    "\n",
    "X_train_3_sc, y_train_3_sc = smenn.fit_resample(X_train_3, y_train)\n",
    "\n",
    "print('After undersampling, count of labels 0:', sum(y_train_3_sc ==0))\n",
    "print('After undersampling, count of labels 1:', sum(y_train_3_sc ==1))\n",
    "print('After undersampling, count of labels 2:', sum(y_train_3_sc ==2))\n",
    "print('After undersampling, count of labels 3:', sum(y_train_3_sc ==3))"
   ]
  },
  {
   "cell_type": "markdown",
   "metadata": {
    "id": "CSP3gRmE2o8T"
   },
   "source": [
    "## 1.11 Save the data"
   ]
  },
  {
   "cell_type": "code",
   "execution_count": null,
   "metadata": {
    "id": "iH8UmWGWBojw"
   },
   "outputs": [],
   "source": [
    "#  Dataframes for the datasets baseline scaled and balanced\n",
    "X_train_bl = pd.DataFrame(X_train_bl_sc, columns=X_train_bl.columns)\n",
    "X_test_bl = pd.DataFrame(X_test_bl, columns=X_test_bl.columns)\n",
    "y_train_bl = pd.DataFrame(y_train_bl_sc)\n",
    "y_test_bl = pd.DataFrame(y_test)\n",
    "\n",
    "#  Dataframes for the datasets dataset 2 scaled and balanced\n",
    "X_train_2 = pd.DataFrame(X_train_2_sc, columns=X_train_2_sc.columns)\n",
    "X_test_2 = pd.DataFrame(X_test_2, columns=X_test_2.columns)\n",
    "y_train_2 = pd.DataFrame(y_train_2_sc)\n",
    "y_test_2 = pd.DataFrame(y_test)\n",
    "\n",
    "#  Dataframes for the datasets dataset 2a scaled and balanced\n",
    "X_train_2a = pd.DataFrame(X_train_2a_sc, columns=X_train_2a_sc.columns)\n",
    "X_test_2a = pd.DataFrame(X_test_2a, columns=X_test_2a.columns)\n",
    "y_train_2a = pd.DataFrame(y_train_2a_sc)\n",
    "y_test_2a = pd.DataFrame(y_test)\n",
    "\n",
    "#  Dataframes for the datasets dataset 3 scaled and balanced\n",
    "X_train_3= pd.DataFrame(X_train_3_sc, columns=X_train_3_sc.columns)\n",
    "X_test_3 = pd.DataFrame(X_test_3, columns=X_test_3.columns)\n",
    "y_train_3 = pd.DataFrame(y_train_3_sc)\n",
    "y_test_3 = pd.DataFrame(y_test)"
   ]
  },
  {
   "cell_type": "code",
   "execution_count": null,
   "metadata": {
    "id": "dzLKe4q51nNm"
   },
   "outputs": [],
   "source": [
    "data_dir = ('/content/drive/MyDrive/Colab Notebooks/tfm/data_fe/')\n",
    "\n",
    "# Save dataframes baseline to CSV files in the specified directory\n",
    "X_train_bl.to_csv(data_dir + 'X_train_bl.csv', index=False)\n",
    "X_test_bl.to_csv(data_dir + 'X_test_bl.csv', index=False)\n",
    "y_train_bl.to_csv(data_dir + 'y_train_bl.csv', index=False)\n",
    "y_test_bl.to_csv(data_dir + 'y_test_bl.csv', index=False)\n",
    "\n",
    "# Save dataframes 2 to CSV files in the specified directory\n",
    "X_train_2.to_csv(data_dir + 'X_train_2.csv', index=False)\n",
    "X_test_2.to_csv(data_dir + 'X_test_2.csv', index=False)\n",
    "y_train_2.to_csv(data_dir + 'y_train_2.csv', index=False)\n",
    "y_test_2.to_csv(data_dir + 'y_test_2.csv', index=False)\n",
    "\n",
    "\n",
    "# Save dataframes 2a to CSV files in the specified directory\n",
    "X_train_2a.to_csv(data_dir + 'X_train_2a.csv', index=False)\n",
    "X_test_2a.to_csv(data_dir + 'X_test_2a.csv', index=False)\n",
    "y_train_2a.to_csv(data_dir + 'y_train_2a.csv', index=False)\n",
    "y_test_2a.to_csv(data_dir + 'y_test_2a.csv', index=False)\n",
    "\n",
    "# Save dataframes 3 to CSV files in the specified directory\n",
    "X_train_3.to_csv(data_dir + 'X_train_3.csv', index=False)\n",
    "X_test_3.to_csv(data_dir + 'X_test_3.csv', index=False)\n",
    "y_train_3.to_csv(data_dir + 'y_train_3.csv', index=False)\n",
    "y_test_3.to_csv(data_dir + 'y_test_3.csv', index=False)"
   ]
  }
 ],
 "metadata": {
  "colab": {
   "authorship_tag": "ABX9TyO6D64moWQloR7lqYx3ki1X",
   "provenance": [
    {
     "file_id": "1n6W4NVjgf77Vd8nx0ZXTO-HqQiQcufCO",
     "timestamp": 1693764352195
    },
    {
     "file_id": "1GMFm286_ZH3xFLWyiqDhsM3gyoQFeO5A",
     "timestamp": 1693672380762
    }
   ],
   "toc_visible": true
  },
  "kernelspec": {
   "display_name": "Python 3 (ipykernel)",
   "language": "python",
   "name": "python3"
  },
  "language_info": {
   "codemirror_mode": {
    "name": "ipython",
    "version": 3
   },
   "file_extension": ".py",
   "mimetype": "text/x-python",
   "name": "python",
   "nbconvert_exporter": "python",
   "pygments_lexer": "ipython3",
   "version": "3.9.16"
  }
 },
 "nbformat": 4,
 "nbformat_minor": 1
}
